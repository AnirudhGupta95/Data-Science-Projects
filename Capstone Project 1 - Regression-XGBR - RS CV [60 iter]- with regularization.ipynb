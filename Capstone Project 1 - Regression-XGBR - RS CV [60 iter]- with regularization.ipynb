{
 "cells": [
  {
   "cell_type": "code",
   "execution_count": 1011,
   "metadata": {},
   "outputs": [],
   "source": [
    "import pandas as pd\n",
    "import numpy as np\n",
    "import matplotlib.pyplot as plt\n",
    "import seaborn as sns"
   ]
  },
  {
   "cell_type": "code",
   "execution_count": 1012,
   "metadata": {},
   "outputs": [],
   "source": [
    "df = pd.read_excel(\"study1.xlsx\")"
   ]
  },
  {
   "cell_type": "markdown",
   "metadata": {},
   "source": [
    "# OVERALL STUDY OF THE DATA"
   ]
  },
  {
   "cell_type": "code",
   "execution_count": 1013,
   "metadata": {
    "scrolled": true
   },
   "outputs": [
    {
     "data": {
      "text/html": [
       "<div>\n",
       "<style scoped>\n",
       "    .dataframe tbody tr th:only-of-type {\n",
       "        vertical-align: middle;\n",
       "    }\n",
       "\n",
       "    .dataframe tbody tr th {\n",
       "        vertical-align: top;\n",
       "    }\n",
       "\n",
       "    .dataframe thead th {\n",
       "        text-align: right;\n",
       "    }\n",
       "</style>\n",
       "<table border=\"1\" class=\"dataframe\">\n",
       "  <thead>\n",
       "    <tr style=\"text-align: right;\">\n",
       "      <th></th>\n",
       "      <th>custid</th>\n",
       "      <th>region</th>\n",
       "      <th>townsize</th>\n",
       "      <th>gender</th>\n",
       "      <th>age</th>\n",
       "      <th>agecat</th>\n",
       "      <th>birthmonth</th>\n",
       "      <th>ed</th>\n",
       "      <th>edcat</th>\n",
       "      <th>jobcat</th>\n",
       "      <th>...</th>\n",
       "      <th>owncd</th>\n",
       "      <th>ownpda</th>\n",
       "      <th>ownpc</th>\n",
       "      <th>ownipod</th>\n",
       "      <th>owngame</th>\n",
       "      <th>ownfax</th>\n",
       "      <th>news</th>\n",
       "      <th>response_01</th>\n",
       "      <th>response_02</th>\n",
       "      <th>response_03</th>\n",
       "    </tr>\n",
       "  </thead>\n",
       "  <tbody>\n",
       "    <tr>\n",
       "      <th>0</th>\n",
       "      <td>3964-QJWTRG-NPN</td>\n",
       "      <td>1</td>\n",
       "      <td>2.0</td>\n",
       "      <td>1</td>\n",
       "      <td>20</td>\n",
       "      <td>2</td>\n",
       "      <td>September</td>\n",
       "      <td>15</td>\n",
       "      <td>3</td>\n",
       "      <td>1</td>\n",
       "      <td>...</td>\n",
       "      <td>0</td>\n",
       "      <td>0</td>\n",
       "      <td>0</td>\n",
       "      <td>1</td>\n",
       "      <td>1</td>\n",
       "      <td>0</td>\n",
       "      <td>0</td>\n",
       "      <td>0</td>\n",
       "      <td>1</td>\n",
       "      <td>0</td>\n",
       "    </tr>\n",
       "    <tr>\n",
       "      <th>1</th>\n",
       "      <td>0648-AIPJSP-UVM</td>\n",
       "      <td>5</td>\n",
       "      <td>5.0</td>\n",
       "      <td>0</td>\n",
       "      <td>22</td>\n",
       "      <td>2</td>\n",
       "      <td>May</td>\n",
       "      <td>17</td>\n",
       "      <td>4</td>\n",
       "      <td>2</td>\n",
       "      <td>...</td>\n",
       "      <td>1</td>\n",
       "      <td>1</td>\n",
       "      <td>1</td>\n",
       "      <td>1</td>\n",
       "      <td>1</td>\n",
       "      <td>1</td>\n",
       "      <td>1</td>\n",
       "      <td>0</td>\n",
       "      <td>0</td>\n",
       "      <td>0</td>\n",
       "    </tr>\n",
       "    <tr>\n",
       "      <th>2</th>\n",
       "      <td>5195-TLUDJE-HVO</td>\n",
       "      <td>3</td>\n",
       "      <td>4.0</td>\n",
       "      <td>1</td>\n",
       "      <td>67</td>\n",
       "      <td>6</td>\n",
       "      <td>June</td>\n",
       "      <td>14</td>\n",
       "      <td>2</td>\n",
       "      <td>2</td>\n",
       "      <td>...</td>\n",
       "      <td>1</td>\n",
       "      <td>0</td>\n",
       "      <td>0</td>\n",
       "      <td>0</td>\n",
       "      <td>0</td>\n",
       "      <td>0</td>\n",
       "      <td>1</td>\n",
       "      <td>0</td>\n",
       "      <td>0</td>\n",
       "      <td>0</td>\n",
       "    </tr>\n",
       "    <tr>\n",
       "      <th>3</th>\n",
       "      <td>4459-VLPQUH-3OL</td>\n",
       "      <td>4</td>\n",
       "      <td>3.0</td>\n",
       "      <td>0</td>\n",
       "      <td>23</td>\n",
       "      <td>2</td>\n",
       "      <td>May</td>\n",
       "      <td>16</td>\n",
       "      <td>3</td>\n",
       "      <td>2</td>\n",
       "      <td>...</td>\n",
       "      <td>1</td>\n",
       "      <td>0</td>\n",
       "      <td>1</td>\n",
       "      <td>1</td>\n",
       "      <td>1</td>\n",
       "      <td>0</td>\n",
       "      <td>1</td>\n",
       "      <td>1</td>\n",
       "      <td>0</td>\n",
       "      <td>0</td>\n",
       "    </tr>\n",
       "    <tr>\n",
       "      <th>4</th>\n",
       "      <td>8158-SMTQFB-CNO</td>\n",
       "      <td>2</td>\n",
       "      <td>2.0</td>\n",
       "      <td>0</td>\n",
       "      <td>26</td>\n",
       "      <td>3</td>\n",
       "      <td>July</td>\n",
       "      <td>16</td>\n",
       "      <td>3</td>\n",
       "      <td>2</td>\n",
       "      <td>...</td>\n",
       "      <td>1</td>\n",
       "      <td>0</td>\n",
       "      <td>1</td>\n",
       "      <td>0</td>\n",
       "      <td>1</td>\n",
       "      <td>0</td>\n",
       "      <td>0</td>\n",
       "      <td>0</td>\n",
       "      <td>1</td>\n",
       "      <td>0</td>\n",
       "    </tr>\n",
       "  </tbody>\n",
       "</table>\n",
       "<p>5 rows × 132 columns</p>\n",
       "</div>"
      ],
      "text/plain": [
       "            custid  region  townsize  gender  age  agecat birthmonth  ed  \\\n",
       "0  3964-QJWTRG-NPN       1       2.0       1   20       2  September  15   \n",
       "1  0648-AIPJSP-UVM       5       5.0       0   22       2        May  17   \n",
       "2  5195-TLUDJE-HVO       3       4.0       1   67       6       June  14   \n",
       "3  4459-VLPQUH-3OL       4       3.0       0   23       2        May  16   \n",
       "4  8158-SMTQFB-CNO       2       2.0       0   26       3       July  16   \n",
       "\n",
       "   edcat  jobcat  ...  owncd  ownpda  ownpc  ownipod  owngame  ownfax  news  \\\n",
       "0      3       1  ...      0       0      0        1        1       0     0   \n",
       "1      4       2  ...      1       1      1        1        1       1     1   \n",
       "2      2       2  ...      1       0      0        0        0       0     1   \n",
       "3      3       2  ...      1       0      1        1        1       0     1   \n",
       "4      3       2  ...      1       0      1        0        1       0     0   \n",
       "\n",
       "   response_01  response_02  response_03  \n",
       "0            0            1            0  \n",
       "1            0            0            0  \n",
       "2            0            0            0  \n",
       "3            1            0            0  \n",
       "4            0            1            0  \n",
       "\n",
       "[5 rows x 132 columns]"
      ]
     },
     "execution_count": 1013,
     "metadata": {},
     "output_type": "execute_result"
    }
   ],
   "source": [
    "df.head()"
   ]
  },
  {
   "cell_type": "code",
   "execution_count": null,
   "metadata": {},
   "outputs": [],
   "source": []
  },
  {
   "cell_type": "code",
   "execution_count": 1014,
   "metadata": {},
   "outputs": [
    {
     "data": {
      "text/plain": [
       "(5000, 132)"
      ]
     },
     "execution_count": 1014,
     "metadata": {},
     "output_type": "execute_result"
    }
   ],
   "source": [
    "df.shape"
   ]
  },
  {
   "cell_type": "code",
   "execution_count": 1015,
   "metadata": {},
   "outputs": [
    {
     "data": {
      "text/plain": [
       "0"
      ]
     },
     "execution_count": 1015,
     "metadata": {},
     "output_type": "execute_result"
    }
   ],
   "source": [
    "df.drop(columns = [\"custid\"]).duplicated().sum()"
   ]
  },
  {
   "cell_type": "code",
   "execution_count": 1016,
   "metadata": {},
   "outputs": [
    {
     "name": "stdout",
     "output_type": "stream",
     "text": [
      "<class 'pandas.core.frame.DataFrame'>\n",
      "RangeIndex: 5000 entries, 0 to 4999\n",
      "Columns: 132 entries, custid to response_03\n",
      "dtypes: float64(31), int64(99), object(2)\n",
      "memory usage: 5.0+ MB\n"
     ]
    }
   ],
   "source": [
    "df.info()"
   ]
  },
  {
   "cell_type": "code",
   "execution_count": null,
   "metadata": {},
   "outputs": [],
   "source": []
  },
  {
   "cell_type": "markdown",
   "metadata": {},
   "source": [
    "# NULL VALUES"
   ]
  },
  {
   "cell_type": "code",
   "execution_count": 1017,
   "metadata": {
    "scrolled": true
   },
   "outputs": [
    {
     "data": {
      "text/plain": [
       "lnwireten            3656\n",
       "lnwiremon            3656\n",
       "lnequipmon           3296\n",
       "lnequipten           3296\n",
       "lntollten            2622\n",
       "lntollmon            2622\n",
       "lncardten            1422\n",
       "lncardmon            1419\n",
       "lnlongten               3\n",
       "longten                 3\n",
       "townsize                2\n",
       "commutetime             2\n",
       "cardten                 2\n",
       "lnothdebt               1\n",
       "lncreddebt              1\n",
       "commutebike             0\n",
       "pets_freshfish          0\n",
       "homeown                 0\n",
       "pets_saltfish           0\n",
       "pets_small              0\n",
       "commutewalk             0\n",
       "hometype                0\n",
       "pets_reptiles           0\n",
       "address                 0\n",
       "commuterail             0\n",
       "addresscat              0\n",
       "commutebus              0\n",
       "cars                    0\n",
       "pets_birds              0\n",
       "carown                  0\n",
       "cartype                 0\n",
       "carvalue                0\n",
       "carcatvalue             0\n",
       "carbought               0\n",
       "carbuy                  0\n",
       "commute                 0\n",
       "commutecat              0\n",
       "commutecar              0\n",
       "commutemotorcycle       0\n",
       "commutecarpool          0\n",
       "commutepublic           0\n",
       "response_03             0\n",
       "pets_dogs               0\n",
       "income                  0\n",
       "region                  0\n",
       "gender                  0\n",
       "age                     0\n",
       "agecat                  0\n",
       "birthmonth              0\n",
       "ed                      0\n",
       "edcat                   0\n",
       "jobcat                  0\n",
       "union                   0\n",
       "employ                  0\n",
       "empcat                  0\n",
       "retire                  0\n",
       "lninc                   0\n",
       "pets_cats               0\n",
       "inccat                  0\n",
       "debtinc                 0\n",
       "creddebt                0\n",
       "othdebt                 0\n",
       "default                 0\n",
       "jobsat                  0\n",
       "marital                 0\n",
       "spoused                 0\n",
       "spousedcat              0\n",
       "reside                  0\n",
       "telecommute             0\n",
       "pets                    0\n",
       "commutenonmotor         0\n",
       "card                    0\n",
       "reason                  0\n",
       "polview                 0\n",
       "equipten                0\n",
       "callcard                0\n",
       "cardmon                 0\n",
       "wireless                0\n",
       "wiremon                 0\n",
       "wireten                 0\n",
       "multline                0\n",
       "voice                   0\n",
       "pager                   0\n",
       "internet                0\n",
       "callid                  0\n",
       "callwait                0\n",
       "forward                 0\n",
       "confer                  0\n",
       "ebill                   0\n",
       "owntv                   0\n",
       "hourstv                 0\n",
       "ownvcr                  0\n",
       "owndvd                  0\n",
       "owncd                   0\n",
       "ownpda                  0\n",
       "ownpc                   0\n",
       "ownipod                 0\n",
       "owngame                 0\n",
       "ownfax                  0\n",
       "news                    0\n",
       "response_01             0\n",
       "equipmon                0\n",
       "equip                   0\n",
       "tollten                 0\n",
       "card2fee                0\n",
       "polparty                0\n",
       "polcontrib              0\n",
       "vote                    0\n",
       "response_02             0\n",
       "cardtype                0\n",
       "cardbenefit             0\n",
       "cardfee                 0\n",
       "cardtenure              0\n",
       "cardtenurecat           0\n",
       "card2                   0\n",
       "card2type               0\n",
       "card2benefit            0\n",
       "card2tenure             0\n",
       "tollmon                 0\n",
       "card2tenurecat          0\n",
       "carditems               0\n",
       "cardspent               0\n",
       "card2items              0\n",
       "card2spent              0\n",
       "active                  0\n",
       "bfast                   0\n",
       "tenure                  0\n",
       "churn                   0\n",
       "longmon                 0\n",
       "lnlongmon               0\n",
       "tollfree                0\n",
       "custid                  0\n",
       "dtype: int64"
      ]
     },
     "execution_count": 1017,
     "metadata": {},
     "output_type": "execute_result"
    }
   ],
   "source": [
    "pd.set_option('display.max_rows', 10000)\n",
    "df.isnull().sum().sort_values(ascending = False)"
   ]
  },
  {
   "cell_type": "markdown",
   "metadata": {},
   "source": [
    "#### We have null values in the following columns\n",
    "1. townsize     - 2\n",
    "2. lncreddebt   - 1\n",
    "3. lnothdebt    - 1\n",
    "4. commutetime  - 2\n",
    "5. longten      - 3\n",
    "6. lnlongten    - 3\n",
    "7. lntollmon    - 2622\n",
    "8. lntollten    - 2622\n",
    "9. lnequipmon   - 3296\n",
    "10. lnequipten  - 3296\n",
    "11. lncardmon   - 1419\n",
    "12. lncardten   - 1422\n",
    "13. lnwiremon   - 3656\n",
    "14. lnwireten   - 3656\n",
    "\n",
    "\n",
    "\n"
   ]
  },
  {
   "cell_type": "markdown",
   "metadata": {},
   "source": [
    "## townsize - 2    [Size of hometown]"
   ]
  },
  {
   "cell_type": "raw",
   "metadata": {},
   "source": [
    "We see that there are two null values in the townsize column. Looking at the size of data we can remove these two rows but we will first try to see if we can impute any values."
   ]
  },
  {
   "cell_type": "code",
   "execution_count": 1018,
   "metadata": {},
   "outputs": [
    {
     "data": {
      "text/plain": [
       "1.0    1436\n",
       "2.0    1048\n",
       "3.0     907\n",
       "4.0     857\n",
       "5.0     750\n",
       "Name: townsize, dtype: int64"
      ]
     },
     "execution_count": 1018,
     "metadata": {},
     "output_type": "execute_result"
    }
   ],
   "source": [
    "df[\"townsize\"].value_counts()"
   ]
  },
  {
   "cell_type": "raw",
   "metadata": {},
   "source": [
    "We see that townsize with label 1.0 is the most frequently occurring category and since only 2 values are missing, we can either fill them by the most frequently occuring category or drop them."
   ]
  },
  {
   "cell_type": "code",
   "execution_count": 1019,
   "metadata": {},
   "outputs": [],
   "source": [
    "df.drop(df[df[\"townsize\"].isnull()].index, inplace=True)"
   ]
  },
  {
   "cell_type": "code",
   "execution_count": 1020,
   "metadata": {},
   "outputs": [
    {
     "data": {
      "text/plain": [
       "(4998, 132)"
      ]
     },
     "execution_count": 1020,
     "metadata": {},
     "output_type": "execute_result"
    }
   ],
   "source": [
    "df.shape"
   ]
  },
  {
   "cell_type": "code",
   "execution_count": null,
   "metadata": {},
   "outputs": [],
   "source": []
  },
  {
   "cell_type": "markdown",
   "metadata": {},
   "source": [
    "## lncreddebt - 1 [Log-credit card debt]"
   ]
  },
  {
   "cell_type": "code",
   "execution_count": 1021,
   "metadata": {},
   "outputs": [],
   "source": [
    "df.drop(df[df[\"lncreddebt\"].isnull()].index, inplace=True)"
   ]
  },
  {
   "cell_type": "code",
   "execution_count": 1022,
   "metadata": {},
   "outputs": [
    {
     "data": {
      "text/plain": [
       "(4997, 132)"
      ]
     },
     "execution_count": 1022,
     "metadata": {},
     "output_type": "execute_result"
    }
   ],
   "source": [
    "df.shape"
   ]
  },
  {
   "cell_type": "code",
   "execution_count": null,
   "metadata": {},
   "outputs": [],
   "source": []
  },
  {
   "cell_type": "markdown",
   "metadata": {},
   "source": [
    "## longten - 3 [Long distance over tenure]"
   ]
  },
  {
   "cell_type": "code",
   "execution_count": 1023,
   "metadata": {},
   "outputs": [],
   "source": [
    "df.drop(df[df[\"longten\"].isnull()].index, inplace=True)"
   ]
  },
  {
   "cell_type": "code",
   "execution_count": 1024,
   "metadata": {},
   "outputs": [
    {
     "data": {
      "text/plain": [
       "(4994, 132)"
      ]
     },
     "execution_count": 1024,
     "metadata": {},
     "output_type": "execute_result"
    }
   ],
   "source": [
    "df.shape"
   ]
  },
  {
   "cell_type": "code",
   "execution_count": null,
   "metadata": {},
   "outputs": [],
   "source": []
  },
  {
   "cell_type": "markdown",
   "metadata": {},
   "source": [
    "## All the remaining numerical variables with null values"
   ]
  },
  {
   "cell_type": "raw",
   "metadata": {},
   "source": [
    "-These are the float datatype variables. They are having many null values. \n",
    "-We will now have to see an efficient way of imputing this type of data.\n",
    "-One of the ways is that we can take all numerical variables with missing values in a data frame and apply KNNImputer to impute   the values.\n",
    "-We see that since all the remaining variables are numerical we will take all of them in a Data Frame and apply KNNImputer\n"
   ]
  },
  {
   "cell_type": "code",
   "execution_count": 1025,
   "metadata": {},
   "outputs": [],
   "source": [
    "df_i = df[[\"lntollmon\", \"lntollten\", \"lnequipmon\", \"lnequipten\", \"lncardmon\", \"lncardten\", \"lnwiremon\", \"lnwireten\"]]"
   ]
  },
  {
   "cell_type": "code",
   "execution_count": 1026,
   "metadata": {},
   "outputs": [
    {
     "name": "stdout",
     "output_type": "stream",
     "text": [
      "<class 'pandas.core.frame.DataFrame'>\n",
      "Int64Index: 4994 entries, 0 to 4999\n",
      "Data columns (total 8 columns):\n",
      " #   Column      Non-Null Count  Dtype  \n",
      "---  ------      --------------  -----  \n",
      " 0   lntollmon   2376 non-null   float64\n",
      " 1   lntollten   2376 non-null   float64\n",
      " 2   lnequipmon  1702 non-null   float64\n",
      " 3   lnequipten  1702 non-null   float64\n",
      " 4   lncardmon   3577 non-null   float64\n",
      " 5   lncardten   3576 non-null   float64\n",
      " 6   lnwiremon   1343 non-null   float64\n",
      " 7   lnwireten   1343 non-null   float64\n",
      "dtypes: float64(8)\n",
      "memory usage: 351.1 KB\n"
     ]
    }
   ],
   "source": [
    "df_i.info()"
   ]
  },
  {
   "cell_type": "markdown",
   "metadata": {},
   "source": [
    "#### we see that all these variables are numeric datatype so we can apply KNNImputer to fill them"
   ]
  },
  {
   "cell_type": "code",
   "execution_count": null,
   "metadata": {},
   "outputs": [],
   "source": []
  },
  {
   "cell_type": "code",
   "execution_count": 1027,
   "metadata": {},
   "outputs": [],
   "source": [
    "from sklearn.impute import KNNImputer"
   ]
  },
  {
   "cell_type": "code",
   "execution_count": 1028,
   "metadata": {},
   "outputs": [],
   "source": [
    "imputer = KNNImputer(n_neighbors=5)"
   ]
  },
  {
   "cell_type": "code",
   "execution_count": 1029,
   "metadata": {},
   "outputs": [],
   "source": [
    "df_i = pd.DataFrame(imputer.fit_transform(df_i), columns=df_i.columns)"
   ]
  },
  {
   "cell_type": "code",
   "execution_count": 1030,
   "metadata": {},
   "outputs": [
    {
     "data": {
      "text/plain": [
       "lntollmon     0\n",
       "lntollten     0\n",
       "lnequipmon    0\n",
       "lnequipten    0\n",
       "lncardmon     0\n",
       "lncardten     0\n",
       "lnwiremon     0\n",
       "lnwireten     0\n",
       "dtype: int64"
      ]
     },
     "execution_count": 1030,
     "metadata": {},
     "output_type": "execute_result"
    }
   ],
   "source": [
    "df_i.isnull().sum()"
   ]
  },
  {
   "cell_type": "code",
   "execution_count": 1031,
   "metadata": {},
   "outputs": [
    {
     "data": {
      "text/plain": [
       "(4994, 132)"
      ]
     },
     "execution_count": 1031,
     "metadata": {},
     "output_type": "execute_result"
    }
   ],
   "source": [
    "df.shape"
   ]
  },
  {
   "cell_type": "code",
   "execution_count": 1032,
   "metadata": {},
   "outputs": [],
   "source": [
    "df_m = df.drop(columns = [\"lntollmon\", \"lntollten\", \"lnequipmon\", \"lnequipten\", \"lncardmon\", \"lncardten\",\n",
    "                          \"lnwiremon\", \"lnwireten\"])"
   ]
  },
  {
   "cell_type": "code",
   "execution_count": 1033,
   "metadata": {
    "scrolled": true
   },
   "outputs": [
    {
     "name": "stdout",
     "output_type": "stream",
     "text": [
      "<class 'pandas.core.frame.DataFrame'>\n",
      "Int64Index: 4994 entries, 0 to 4999\n",
      "Columns: 124 entries, custid to response_03\n",
      "dtypes: float64(23), int64(99), object(2)\n",
      "memory usage: 4.8+ MB\n"
     ]
    }
   ],
   "source": [
    "df_m.info()"
   ]
  },
  {
   "cell_type": "code",
   "execution_count": 1034,
   "metadata": {
    "scrolled": true
   },
   "outputs": [
    {
     "data": {
      "text/plain": [
       "(4994, 124)"
      ]
     },
     "execution_count": 1034,
     "metadata": {},
     "output_type": "execute_result"
    }
   ],
   "source": [
    "df_m.shape"
   ]
  },
  {
   "cell_type": "code",
   "execution_count": 1035,
   "metadata": {},
   "outputs": [
    {
     "data": {
      "text/html": [
       "<div>\n",
       "<style scoped>\n",
       "    .dataframe tbody tr th:only-of-type {\n",
       "        vertical-align: middle;\n",
       "    }\n",
       "\n",
       "    .dataframe tbody tr th {\n",
       "        vertical-align: top;\n",
       "    }\n",
       "\n",
       "    .dataframe thead th {\n",
       "        text-align: right;\n",
       "    }\n",
       "</style>\n",
       "<table border=\"1\" class=\"dataframe\">\n",
       "  <thead>\n",
       "    <tr style=\"text-align: right;\">\n",
       "      <th></th>\n",
       "      <th>lntollmon</th>\n",
       "      <th>lntollten</th>\n",
       "      <th>lnequipmon</th>\n",
       "      <th>lnequipten</th>\n",
       "      <th>lncardmon</th>\n",
       "      <th>lncardten</th>\n",
       "      <th>lnwiremon</th>\n",
       "      <th>lnwireten</th>\n",
       "    </tr>\n",
       "  </thead>\n",
       "  <tbody>\n",
       "    <tr>\n",
       "      <th>0</th>\n",
       "      <td>3.367296</td>\n",
       "      <td>5.081715</td>\n",
       "      <td>3.384390</td>\n",
       "      <td>4.837075</td>\n",
       "      <td>2.656757</td>\n",
       "      <td>4.094345</td>\n",
       "      <td>3.253547</td>\n",
       "      <td>4.707539</td>\n",
       "    </tr>\n",
       "    <tr>\n",
       "      <th>1</th>\n",
       "      <td>3.183073</td>\n",
       "      <td>6.838770</td>\n",
       "      <td>4.004602</td>\n",
       "      <td>7.588324</td>\n",
       "      <td>2.772589</td>\n",
       "      <td>6.413459</td>\n",
       "      <td>3.821004</td>\n",
       "      <td>7.428660</td>\n",
       "    </tr>\n",
       "    <tr>\n",
       "      <th>2</th>\n",
       "      <td>2.944949</td>\n",
       "      <td>7.078572</td>\n",
       "      <td>3.687046</td>\n",
       "      <td>7.847041</td>\n",
       "      <td>3.135494</td>\n",
       "      <td>7.251345</td>\n",
       "      <td>3.678664</td>\n",
       "      <td>7.816380</td>\n",
       "    </tr>\n",
       "    <tr>\n",
       "      <th>3</th>\n",
       "      <td>3.184441</td>\n",
       "      <td>6.770874</td>\n",
       "      <td>3.595706</td>\n",
       "      <td>7.077136</td>\n",
       "      <td>3.044522</td>\n",
       "      <td>6.529419</td>\n",
       "      <td>3.650531</td>\n",
       "      <td>7.205653</td>\n",
       "    </tr>\n",
       "    <tr>\n",
       "      <th>4</th>\n",
       "      <td>2.803360</td>\n",
       "      <td>5.960232</td>\n",
       "      <td>3.491415</td>\n",
       "      <td>6.603927</td>\n",
       "      <td>2.847812</td>\n",
       "      <td>5.886104</td>\n",
       "      <td>2.947067</td>\n",
       "      <td>6.018106</td>\n",
       "    </tr>\n",
       "  </tbody>\n",
       "</table>\n",
       "</div>"
      ],
      "text/plain": [
       "   lntollmon  lntollten  lnequipmon  lnequipten  lncardmon  lncardten  \\\n",
       "0   3.367296   5.081715    3.384390    4.837075   2.656757   4.094345   \n",
       "1   3.183073   6.838770    4.004602    7.588324   2.772589   6.413459   \n",
       "2   2.944949   7.078572    3.687046    7.847041   3.135494   7.251345   \n",
       "3   3.184441   6.770874    3.595706    7.077136   3.044522   6.529419   \n",
       "4   2.803360   5.960232    3.491415    6.603927   2.847812   5.886104   \n",
       "\n",
       "   lnwiremon  lnwireten  \n",
       "0   3.253547   4.707539  \n",
       "1   3.821004   7.428660  \n",
       "2   3.678664   7.816380  \n",
       "3   3.650531   7.205653  \n",
       "4   2.947067   6.018106  "
      ]
     },
     "execution_count": 1035,
     "metadata": {},
     "output_type": "execute_result"
    }
   ],
   "source": [
    "df_i.head()"
   ]
  },
  {
   "cell_type": "code",
   "execution_count": null,
   "metadata": {},
   "outputs": [],
   "source": []
  },
  {
   "cell_type": "code",
   "execution_count": 1036,
   "metadata": {},
   "outputs": [],
   "source": [
    "df_i.reset_index(inplace = True)\n",
    "df_m.reset_index(inplace = True)\n"
   ]
  },
  {
   "cell_type": "code",
   "execution_count": 1037,
   "metadata": {},
   "outputs": [],
   "source": [
    "df_i.drop(columns=[\"index\"], inplace=True)\n",
    "df_m.drop(columns=[\"index\"],inplace=True)"
   ]
  },
  {
   "cell_type": "code",
   "execution_count": 1038,
   "metadata": {},
   "outputs": [],
   "source": [
    "dff = pd.concat([df_m, df_i], axis = 1)"
   ]
  },
  {
   "cell_type": "code",
   "execution_count": 1039,
   "metadata": {
    "scrolled": true
   },
   "outputs": [
    {
     "data": {
      "text/plain": [
       "0"
      ]
     },
     "execution_count": 1039,
     "metadata": {},
     "output_type": "execute_result"
    }
   ],
   "source": [
    "dff.isnull().sum().sum()"
   ]
  },
  {
   "cell_type": "code",
   "execution_count": 1040,
   "metadata": {},
   "outputs": [
    {
     "name": "stdout",
     "output_type": "stream",
     "text": [
      "<class 'pandas.core.frame.DataFrame'>\n",
      "RangeIndex: 4994 entries, 0 to 4993\n",
      "Columns: 132 entries, custid to lnwireten\n",
      "dtypes: float64(31), int64(99), object(2)\n",
      "memory usage: 5.0+ MB\n"
     ]
    }
   ],
   "source": [
    "dff.info()"
   ]
  },
  {
   "cell_type": "code",
   "execution_count": 1041,
   "metadata": {},
   "outputs": [
    {
     "data": {
      "text/html": [
       "<div>\n",
       "<style scoped>\n",
       "    .dataframe tbody tr th:only-of-type {\n",
       "        vertical-align: middle;\n",
       "    }\n",
       "\n",
       "    .dataframe tbody tr th {\n",
       "        vertical-align: top;\n",
       "    }\n",
       "\n",
       "    .dataframe thead th {\n",
       "        text-align: right;\n",
       "    }\n",
       "</style>\n",
       "<table border=\"1\" class=\"dataframe\">\n",
       "  <thead>\n",
       "    <tr style=\"text-align: right;\">\n",
       "      <th></th>\n",
       "      <th>custid</th>\n",
       "      <th>region</th>\n",
       "      <th>townsize</th>\n",
       "      <th>gender</th>\n",
       "      <th>age</th>\n",
       "      <th>agecat</th>\n",
       "      <th>birthmonth</th>\n",
       "      <th>ed</th>\n",
       "      <th>edcat</th>\n",
       "      <th>jobcat</th>\n",
       "      <th>...</th>\n",
       "      <th>response_02</th>\n",
       "      <th>response_03</th>\n",
       "      <th>lntollmon</th>\n",
       "      <th>lntollten</th>\n",
       "      <th>lnequipmon</th>\n",
       "      <th>lnequipten</th>\n",
       "      <th>lncardmon</th>\n",
       "      <th>lncardten</th>\n",
       "      <th>lnwiremon</th>\n",
       "      <th>lnwireten</th>\n",
       "    </tr>\n",
       "  </thead>\n",
       "  <tbody>\n",
       "    <tr>\n",
       "      <th>0</th>\n",
       "      <td>3964-QJWTRG-NPN</td>\n",
       "      <td>1</td>\n",
       "      <td>2.0</td>\n",
       "      <td>1</td>\n",
       "      <td>20</td>\n",
       "      <td>2</td>\n",
       "      <td>September</td>\n",
       "      <td>15</td>\n",
       "      <td>3</td>\n",
       "      <td>1</td>\n",
       "      <td>...</td>\n",
       "      <td>1</td>\n",
       "      <td>0</td>\n",
       "      <td>3.367296</td>\n",
       "      <td>5.081715</td>\n",
       "      <td>3.384390</td>\n",
       "      <td>4.837075</td>\n",
       "      <td>2.656757</td>\n",
       "      <td>4.094345</td>\n",
       "      <td>3.253547</td>\n",
       "      <td>4.707539</td>\n",
       "    </tr>\n",
       "    <tr>\n",
       "      <th>1</th>\n",
       "      <td>0648-AIPJSP-UVM</td>\n",
       "      <td>5</td>\n",
       "      <td>5.0</td>\n",
       "      <td>0</td>\n",
       "      <td>22</td>\n",
       "      <td>2</td>\n",
       "      <td>May</td>\n",
       "      <td>17</td>\n",
       "      <td>4</td>\n",
       "      <td>2</td>\n",
       "      <td>...</td>\n",
       "      <td>0</td>\n",
       "      <td>0</td>\n",
       "      <td>3.183073</td>\n",
       "      <td>6.838770</td>\n",
       "      <td>4.004602</td>\n",
       "      <td>7.588324</td>\n",
       "      <td>2.772589</td>\n",
       "      <td>6.413459</td>\n",
       "      <td>3.821004</td>\n",
       "      <td>7.428660</td>\n",
       "    </tr>\n",
       "    <tr>\n",
       "      <th>2</th>\n",
       "      <td>5195-TLUDJE-HVO</td>\n",
       "      <td>3</td>\n",
       "      <td>4.0</td>\n",
       "      <td>1</td>\n",
       "      <td>67</td>\n",
       "      <td>6</td>\n",
       "      <td>June</td>\n",
       "      <td>14</td>\n",
       "      <td>2</td>\n",
       "      <td>2</td>\n",
       "      <td>...</td>\n",
       "      <td>0</td>\n",
       "      <td>0</td>\n",
       "      <td>2.944949</td>\n",
       "      <td>7.078572</td>\n",
       "      <td>3.687046</td>\n",
       "      <td>7.847041</td>\n",
       "      <td>3.135494</td>\n",
       "      <td>7.251345</td>\n",
       "      <td>3.678664</td>\n",
       "      <td>7.816380</td>\n",
       "    </tr>\n",
       "    <tr>\n",
       "      <th>3</th>\n",
       "      <td>4459-VLPQUH-3OL</td>\n",
       "      <td>4</td>\n",
       "      <td>3.0</td>\n",
       "      <td>0</td>\n",
       "      <td>23</td>\n",
       "      <td>2</td>\n",
       "      <td>May</td>\n",
       "      <td>16</td>\n",
       "      <td>3</td>\n",
       "      <td>2</td>\n",
       "      <td>...</td>\n",
       "      <td>0</td>\n",
       "      <td>0</td>\n",
       "      <td>3.184441</td>\n",
       "      <td>6.770874</td>\n",
       "      <td>3.595706</td>\n",
       "      <td>7.077136</td>\n",
       "      <td>3.044522</td>\n",
       "      <td>6.529419</td>\n",
       "      <td>3.650531</td>\n",
       "      <td>7.205653</td>\n",
       "    </tr>\n",
       "    <tr>\n",
       "      <th>4</th>\n",
       "      <td>8158-SMTQFB-CNO</td>\n",
       "      <td>2</td>\n",
       "      <td>2.0</td>\n",
       "      <td>0</td>\n",
       "      <td>26</td>\n",
       "      <td>3</td>\n",
       "      <td>July</td>\n",
       "      <td>16</td>\n",
       "      <td>3</td>\n",
       "      <td>2</td>\n",
       "      <td>...</td>\n",
       "      <td>1</td>\n",
       "      <td>0</td>\n",
       "      <td>2.803360</td>\n",
       "      <td>5.960232</td>\n",
       "      <td>3.491415</td>\n",
       "      <td>6.603927</td>\n",
       "      <td>2.847812</td>\n",
       "      <td>5.886104</td>\n",
       "      <td>2.947067</td>\n",
       "      <td>6.018106</td>\n",
       "    </tr>\n",
       "  </tbody>\n",
       "</table>\n",
       "<p>5 rows × 132 columns</p>\n",
       "</div>"
      ],
      "text/plain": [
       "            custid  region  townsize  gender  age  agecat birthmonth  ed  \\\n",
       "0  3964-QJWTRG-NPN       1       2.0       1   20       2  September  15   \n",
       "1  0648-AIPJSP-UVM       5       5.0       0   22       2        May  17   \n",
       "2  5195-TLUDJE-HVO       3       4.0       1   67       6       June  14   \n",
       "3  4459-VLPQUH-3OL       4       3.0       0   23       2        May  16   \n",
       "4  8158-SMTQFB-CNO       2       2.0       0   26       3       July  16   \n",
       "\n",
       "   edcat  jobcat  ...  response_02  response_03  lntollmon  lntollten  \\\n",
       "0      3       1  ...            1            0   3.367296   5.081715   \n",
       "1      4       2  ...            0            0   3.183073   6.838770   \n",
       "2      2       2  ...            0            0   2.944949   7.078572   \n",
       "3      3       2  ...            0            0   3.184441   6.770874   \n",
       "4      3       2  ...            1            0   2.803360   5.960232   \n",
       "\n",
       "   lnequipmon  lnequipten  lncardmon  lncardten  lnwiremon  lnwireten  \n",
       "0    3.384390    4.837075   2.656757   4.094345   3.253547   4.707539  \n",
       "1    4.004602    7.588324   2.772589   6.413459   3.821004   7.428660  \n",
       "2    3.687046    7.847041   3.135494   7.251345   3.678664   7.816380  \n",
       "3    3.595706    7.077136   3.044522   6.529419   3.650531   7.205653  \n",
       "4    3.491415    6.603927   2.847812   5.886104   2.947067   6.018106  \n",
       "\n",
       "[5 rows x 132 columns]"
      ]
     },
     "execution_count": 1041,
     "metadata": {},
     "output_type": "execute_result"
    }
   ],
   "source": [
    "dff.head()"
   ]
  },
  {
   "cell_type": "markdown",
   "metadata": {},
   "source": [
    "#### We now see that all the null values have been treated"
   ]
  },
  {
   "cell_type": "code",
   "execution_count": 1042,
   "metadata": {},
   "outputs": [
    {
     "data": {
      "text/plain": [
       "0"
      ]
     },
     "execution_count": 1042,
     "metadata": {},
     "output_type": "execute_result"
    }
   ],
   "source": [
    "dff.isnull().sum().sum()"
   ]
  },
  {
   "cell_type": "markdown",
   "metadata": {},
   "source": [
    "# USING MUTUAL INFORMATION IN REGRESSION FOR FEATURE SELECTION"
   ]
  },
  {
   "cell_type": "markdown",
   "metadata": {},
   "source": [
    "#### Let us add cardspent and card2spent to get total spending on cards"
   ]
  },
  {
   "cell_type": "code",
   "execution_count": 1044,
   "metadata": {},
   "outputs": [],
   "source": [
    "dff[\"total_cardspent\"] = dff[\"cardspent\"] + dff[\"card2spent\"]"
   ]
  },
  {
   "cell_type": "code",
   "execution_count": 1045,
   "metadata": {
    "scrolled": true
   },
   "outputs": [
    {
     "data": {
      "text/html": [
       "<div>\n",
       "<style scoped>\n",
       "    .dataframe tbody tr th:only-of-type {\n",
       "        vertical-align: middle;\n",
       "    }\n",
       "\n",
       "    .dataframe tbody tr th {\n",
       "        vertical-align: top;\n",
       "    }\n",
       "\n",
       "    .dataframe thead th {\n",
       "        text-align: right;\n",
       "    }\n",
       "</style>\n",
       "<table border=\"1\" class=\"dataframe\">\n",
       "  <thead>\n",
       "    <tr style=\"text-align: right;\">\n",
       "      <th></th>\n",
       "      <th>total_cardspent</th>\n",
       "      <th>cardspent</th>\n",
       "      <th>card2spent</th>\n",
       "    </tr>\n",
       "  </thead>\n",
       "  <tbody>\n",
       "    <tr>\n",
       "      <th>0</th>\n",
       "      <td>149.46</td>\n",
       "      <td>81.66</td>\n",
       "      <td>67.80</td>\n",
       "    </tr>\n",
       "    <tr>\n",
       "      <th>1</th>\n",
       "      <td>77.54</td>\n",
       "      <td>42.60</td>\n",
       "      <td>34.94</td>\n",
       "    </tr>\n",
       "    <tr>\n",
       "      <th>2</th>\n",
       "      <td>359.97</td>\n",
       "      <td>184.22</td>\n",
       "      <td>175.75</td>\n",
       "    </tr>\n",
       "    <tr>\n",
       "      <th>3</th>\n",
       "      <td>359.41</td>\n",
       "      <td>340.99</td>\n",
       "      <td>18.42</td>\n",
       "    </tr>\n",
       "    <tr>\n",
       "      <th>4</th>\n",
       "      <td>507.83</td>\n",
       "      <td>255.10</td>\n",
       "      <td>252.73</td>\n",
       "    </tr>\n",
       "  </tbody>\n",
       "</table>\n",
       "</div>"
      ],
      "text/plain": [
       "   total_cardspent  cardspent  card2spent\n",
       "0           149.46      81.66       67.80\n",
       "1            77.54      42.60       34.94\n",
       "2           359.97     184.22      175.75\n",
       "3           359.41     340.99       18.42\n",
       "4           507.83     255.10      252.73"
      ]
     },
     "execution_count": 1045,
     "metadata": {},
     "output_type": "execute_result"
    }
   ],
   "source": [
    "dff[[\"total_cardspent\", \"cardspent\", \"card2spent\"]].head()"
   ]
  },
  {
   "cell_type": "code",
   "execution_count": null,
   "metadata": {},
   "outputs": [],
   "source": []
  },
  {
   "cell_type": "code",
   "execution_count": 1046,
   "metadata": {},
   "outputs": [],
   "source": [
    "xc = dff.drop(columns = [\"cardspent\", \"card2spent\", \"total_cardspent\", \"custid\", \"birthmonth\"])\n",
    "yc = dff[\"total_cardspent\"]"
   ]
  },
  {
   "cell_type": "code",
   "execution_count": 1047,
   "metadata": {},
   "outputs": [],
   "source": [
    "from sklearn.model_selection import train_test_split"
   ]
  },
  {
   "cell_type": "code",
   "execution_count": 1048,
   "metadata": {},
   "outputs": [],
   "source": [
    "# Doing train, test split in order to avoid overfit\n",
    "\n",
    "xtrainc, xtestc, ytrainc, ytestc = train_test_split(xc,yc, test_size=0.25, random_state=25)\n"
   ]
  },
  {
   "cell_type": "code",
   "execution_count": 1049,
   "metadata": {},
   "outputs": [],
   "source": [
    "# train_test_split?"
   ]
  },
  {
   "cell_type": "code",
   "execution_count": 1050,
   "metadata": {},
   "outputs": [],
   "source": [
    "from sklearn.feature_selection import mutual_info_regression"
   ]
  },
  {
   "cell_type": "code",
   "execution_count": 1051,
   "metadata": {},
   "outputs": [],
   "source": [
    "mutual_info = mutual_info_regression(xtrainc, ytrainc,random_state=25)"
   ]
  },
  {
   "cell_type": "code",
   "execution_count": 1052,
   "metadata": {},
   "outputs": [],
   "source": [
    "mutual_info_regression?"
   ]
  },
  {
   "cell_type": "code",
   "execution_count": 1053,
   "metadata": {
    "scrolled": false
   },
   "outputs": [
    {
     "data": {
      "text/html": [
       "<div>\n",
       "<style scoped>\n",
       "    .dataframe tbody tr th:only-of-type {\n",
       "        vertical-align: middle;\n",
       "    }\n",
       "\n",
       "    .dataframe tbody tr th {\n",
       "        vertical-align: top;\n",
       "    }\n",
       "\n",
       "    .dataframe thead th {\n",
       "        text-align: right;\n",
       "    }\n",
       "</style>\n",
       "<table border=\"1\" class=\"dataframe\">\n",
       "  <thead>\n",
       "    <tr style=\"text-align: right;\">\n",
       "      <th></th>\n",
       "      <th>Features</th>\n",
       "      <th>Mutual Information</th>\n",
       "    </tr>\n",
       "  </thead>\n",
       "  <tbody>\n",
       "    <tr>\n",
       "      <th>75</th>\n",
       "      <td>carditems</td>\n",
       "      <td>0.192171</td>\n",
       "    </tr>\n",
       "    <tr>\n",
       "      <th>76</th>\n",
       "      <td>card2items</td>\n",
       "      <td>0.182697</td>\n",
       "    </tr>\n",
       "    <tr>\n",
       "      <th>12</th>\n",
       "      <td>income</td>\n",
       "      <td>0.090903</td>\n",
       "    </tr>\n",
       "    <tr>\n",
       "      <th>13</th>\n",
       "      <td>lninc</td>\n",
       "      <td>0.087352</td>\n",
       "    </tr>\n",
       "    <tr>\n",
       "      <th>14</th>\n",
       "      <td>inccat</td>\n",
       "      <td>0.086095</td>\n",
       "    </tr>\n",
       "    <tr>\n",
       "      <th>41</th>\n",
       "      <td>carvalue</td>\n",
       "      <td>0.077484</td>\n",
       "    </tr>\n",
       "    <tr>\n",
       "      <th>17</th>\n",
       "      <td>lncreddebt</td>\n",
       "      <td>0.070954</td>\n",
       "    </tr>\n",
       "    <tr>\n",
       "      <th>63</th>\n",
       "      <td>card</td>\n",
       "      <td>0.064534</td>\n",
       "    </tr>\n",
       "    <tr>\n",
       "      <th>42</th>\n",
       "      <td>carcatvalue</td>\n",
       "      <td>0.061247</td>\n",
       "    </tr>\n",
       "    <tr>\n",
       "      <th>16</th>\n",
       "      <td>creddebt</td>\n",
       "      <td>0.056638</td>\n",
       "    </tr>\n",
       "    <tr>\n",
       "      <th>19</th>\n",
       "      <td>lnothdebt</td>\n",
       "      <td>0.048467</td>\n",
       "    </tr>\n",
       "    <tr>\n",
       "      <th>18</th>\n",
       "      <td>othdebt</td>\n",
       "      <td>0.045284</td>\n",
       "    </tr>\n",
       "    <tr>\n",
       "      <th>3</th>\n",
       "      <td>age</td>\n",
       "      <td>0.038495</td>\n",
       "    </tr>\n",
       "    <tr>\n",
       "      <th>4</th>\n",
       "      <td>agecat</td>\n",
       "      <td>0.034936</td>\n",
       "    </tr>\n",
       "    <tr>\n",
       "      <th>37</th>\n",
       "      <td>addresscat</td>\n",
       "      <td>0.028241</td>\n",
       "    </tr>\n",
       "    <tr>\n",
       "      <th>69</th>\n",
       "      <td>card2</td>\n",
       "      <td>0.025804</td>\n",
       "    </tr>\n",
       "    <tr>\n",
       "      <th>9</th>\n",
       "      <td>employ</td>\n",
       "      <td>0.024676</td>\n",
       "    </tr>\n",
       "    <tr>\n",
       "      <th>71</th>\n",
       "      <td>card2benefit</td>\n",
       "      <td>0.021181</td>\n",
       "    </tr>\n",
       "    <tr>\n",
       "      <th>1</th>\n",
       "      <td>townsize</td>\n",
       "      <td>0.021049</td>\n",
       "    </tr>\n",
       "    <tr>\n",
       "      <th>83</th>\n",
       "      <td>longten</td>\n",
       "      <td>0.020371</td>\n",
       "    </tr>\n",
       "    <tr>\n",
       "      <th>11</th>\n",
       "      <td>retire</td>\n",
       "      <td>0.020201</td>\n",
       "    </tr>\n",
       "    <tr>\n",
       "      <th>10</th>\n",
       "      <td>empcat</td>\n",
       "      <td>0.019937</td>\n",
       "    </tr>\n",
       "    <tr>\n",
       "      <th>21</th>\n",
       "      <td>jobsat</td>\n",
       "      <td>0.019043</td>\n",
       "    </tr>\n",
       "    <tr>\n",
       "      <th>108</th>\n",
       "      <td>ownvcr</td>\n",
       "      <td>0.018473</td>\n",
       "    </tr>\n",
       "    <tr>\n",
       "      <th>125</th>\n",
       "      <td>lncardten</td>\n",
       "      <td>0.018339</td>\n",
       "    </tr>\n",
       "    <tr>\n",
       "      <th>73</th>\n",
       "      <td>card2tenure</td>\n",
       "      <td>0.018135</td>\n",
       "    </tr>\n",
       "    <tr>\n",
       "      <th>110</th>\n",
       "      <td>owncd</td>\n",
       "      <td>0.017564</td>\n",
       "    </tr>\n",
       "    <tr>\n",
       "      <th>109</th>\n",
       "      <td>owndvd</td>\n",
       "      <td>0.017464</td>\n",
       "    </tr>\n",
       "    <tr>\n",
       "      <th>97</th>\n",
       "      <td>multline</td>\n",
       "      <td>0.016342</td>\n",
       "    </tr>\n",
       "    <tr>\n",
       "      <th>79</th>\n",
       "      <td>tenure</td>\n",
       "      <td>0.016144</td>\n",
       "    </tr>\n",
       "    <tr>\n",
       "      <th>36</th>\n",
       "      <td>address</td>\n",
       "      <td>0.016034</td>\n",
       "    </tr>\n",
       "    <tr>\n",
       "      <th>81</th>\n",
       "      <td>longmon</td>\n",
       "      <td>0.015609</td>\n",
       "    </tr>\n",
       "    <tr>\n",
       "      <th>39</th>\n",
       "      <td>carown</td>\n",
       "      <td>0.015302</td>\n",
       "    </tr>\n",
       "    <tr>\n",
       "      <th>24</th>\n",
       "      <td>spousedcat</td>\n",
       "      <td>0.013904</td>\n",
       "    </tr>\n",
       "    <tr>\n",
       "      <th>121</th>\n",
       "      <td>lntollten</td>\n",
       "      <td>0.013402</td>\n",
       "    </tr>\n",
       "    <tr>\n",
       "      <th>74</th>\n",
       "      <td>card2tenurecat</td>\n",
       "      <td>0.013022</td>\n",
       "    </tr>\n",
       "    <tr>\n",
       "      <th>28</th>\n",
       "      <td>pets_dogs</td>\n",
       "      <td>0.013011</td>\n",
       "    </tr>\n",
       "    <tr>\n",
       "      <th>94</th>\n",
       "      <td>wireless</td>\n",
       "      <td>0.012787</td>\n",
       "    </tr>\n",
       "    <tr>\n",
       "      <th>58</th>\n",
       "      <td>reason</td>\n",
       "      <td>0.012554</td>\n",
       "    </tr>\n",
       "    <tr>\n",
       "      <th>115</th>\n",
       "      <td>ownfax</td>\n",
       "      <td>0.012342</td>\n",
       "    </tr>\n",
       "    <tr>\n",
       "      <th>2</th>\n",
       "      <td>gender</td>\n",
       "      <td>0.011738</td>\n",
       "    </tr>\n",
       "    <tr>\n",
       "      <th>100</th>\n",
       "      <td>internet</td>\n",
       "      <td>0.011631</td>\n",
       "    </tr>\n",
       "    <tr>\n",
       "      <th>103</th>\n",
       "      <td>forward</td>\n",
       "      <td>0.011546</td>\n",
       "    </tr>\n",
       "    <tr>\n",
       "      <th>62</th>\n",
       "      <td>vote</td>\n",
       "      <td>0.011212</td>\n",
       "    </tr>\n",
       "    <tr>\n",
       "      <th>78</th>\n",
       "      <td>bfast</td>\n",
       "      <td>0.010615</td>\n",
       "    </tr>\n",
       "    <tr>\n",
       "      <th>67</th>\n",
       "      <td>cardtenure</td>\n",
       "      <td>0.010247</td>\n",
       "    </tr>\n",
       "    <tr>\n",
       "      <th>116</th>\n",
       "      <td>news</td>\n",
       "      <td>0.010199</td>\n",
       "    </tr>\n",
       "    <tr>\n",
       "      <th>68</th>\n",
       "      <td>cardtenurecat</td>\n",
       "      <td>0.010086</td>\n",
       "    </tr>\n",
       "    <tr>\n",
       "      <th>111</th>\n",
       "      <td>ownpda</td>\n",
       "      <td>0.009871</td>\n",
       "    </tr>\n",
       "    <tr>\n",
       "      <th>22</th>\n",
       "      <td>marital</td>\n",
       "      <td>0.009865</td>\n",
       "    </tr>\n",
       "    <tr>\n",
       "      <th>98</th>\n",
       "      <td>voice</td>\n",
       "      <td>0.009427</td>\n",
       "    </tr>\n",
       "    <tr>\n",
       "      <th>48</th>\n",
       "      <td>commutecar</td>\n",
       "      <td>0.008485</td>\n",
       "    </tr>\n",
       "    <tr>\n",
       "      <th>104</th>\n",
       "      <td>confer</td>\n",
       "      <td>0.008301</td>\n",
       "    </tr>\n",
       "    <tr>\n",
       "      <th>26</th>\n",
       "      <td>pets</td>\n",
       "      <td>0.008246</td>\n",
       "    </tr>\n",
       "    <tr>\n",
       "      <th>102</th>\n",
       "      <td>callwait</td>\n",
       "      <td>0.007850</td>\n",
       "    </tr>\n",
       "    <tr>\n",
       "      <th>118</th>\n",
       "      <td>response_02</td>\n",
       "      <td>0.007695</td>\n",
       "    </tr>\n",
       "    <tr>\n",
       "      <th>80</th>\n",
       "      <td>churn</td>\n",
       "      <td>0.007424</td>\n",
       "    </tr>\n",
       "    <tr>\n",
       "      <th>5</th>\n",
       "      <td>ed</td>\n",
       "      <td>0.007269</td>\n",
       "    </tr>\n",
       "    <tr>\n",
       "      <th>112</th>\n",
       "      <td>ownpc</td>\n",
       "      <td>0.007109</td>\n",
       "    </tr>\n",
       "    <tr>\n",
       "      <th>84</th>\n",
       "      <td>lnlongten</td>\n",
       "      <td>0.007036</td>\n",
       "    </tr>\n",
       "    <tr>\n",
       "      <th>85</th>\n",
       "      <td>tollfree</td>\n",
       "      <td>0.006756</td>\n",
       "    </tr>\n",
       "    <tr>\n",
       "      <th>89</th>\n",
       "      <td>equipmon</td>\n",
       "      <td>0.006351</td>\n",
       "    </tr>\n",
       "    <tr>\n",
       "      <th>99</th>\n",
       "      <td>pager</td>\n",
       "      <td>0.006214</td>\n",
       "    </tr>\n",
       "    <tr>\n",
       "      <th>20</th>\n",
       "      <td>default</td>\n",
       "      <td>0.006183</td>\n",
       "    </tr>\n",
       "    <tr>\n",
       "      <th>64</th>\n",
       "      <td>cardtype</td>\n",
       "      <td>0.006076</td>\n",
       "    </tr>\n",
       "    <tr>\n",
       "      <th>105</th>\n",
       "      <td>ebill</td>\n",
       "      <td>0.006034</td>\n",
       "    </tr>\n",
       "    <tr>\n",
       "      <th>8</th>\n",
       "      <td>union</td>\n",
       "      <td>0.005938</td>\n",
       "    </tr>\n",
       "    <tr>\n",
       "      <th>96</th>\n",
       "      <td>wireten</td>\n",
       "      <td>0.005887</td>\n",
       "    </tr>\n",
       "    <tr>\n",
       "      <th>44</th>\n",
       "      <td>carbuy</td>\n",
       "      <td>0.005450</td>\n",
       "    </tr>\n",
       "    <tr>\n",
       "      <th>6</th>\n",
       "      <td>edcat</td>\n",
       "      <td>0.005392</td>\n",
       "    </tr>\n",
       "    <tr>\n",
       "      <th>23</th>\n",
       "      <td>spoused</td>\n",
       "      <td>0.005137</td>\n",
       "    </tr>\n",
       "    <tr>\n",
       "      <th>87</th>\n",
       "      <td>tollten</td>\n",
       "      <td>0.005126</td>\n",
       "    </tr>\n",
       "    <tr>\n",
       "      <th>88</th>\n",
       "      <td>equip</td>\n",
       "      <td>0.004994</td>\n",
       "    </tr>\n",
       "    <tr>\n",
       "      <th>90</th>\n",
       "      <td>equipten</td>\n",
       "      <td>0.004672</td>\n",
       "    </tr>\n",
       "    <tr>\n",
       "      <th>82</th>\n",
       "      <td>lnlongmon</td>\n",
       "      <td>0.004265</td>\n",
       "    </tr>\n",
       "    <tr>\n",
       "      <th>119</th>\n",
       "      <td>response_03</td>\n",
       "      <td>0.004214</td>\n",
       "    </tr>\n",
       "    <tr>\n",
       "      <th>7</th>\n",
       "      <td>jobcat</td>\n",
       "      <td>0.003726</td>\n",
       "    </tr>\n",
       "    <tr>\n",
       "      <th>47</th>\n",
       "      <td>commutetime</td>\n",
       "      <td>0.003580</td>\n",
       "    </tr>\n",
       "    <tr>\n",
       "      <th>126</th>\n",
       "      <td>lnwiremon</td>\n",
       "      <td>0.003501</td>\n",
       "    </tr>\n",
       "    <tr>\n",
       "      <th>113</th>\n",
       "      <td>ownipod</td>\n",
       "      <td>0.003204</td>\n",
       "    </tr>\n",
       "    <tr>\n",
       "      <th>70</th>\n",
       "      <td>card2type</td>\n",
       "      <td>0.002956</td>\n",
       "    </tr>\n",
       "    <tr>\n",
       "      <th>101</th>\n",
       "      <td>callid</td>\n",
       "      <td>0.002947</td>\n",
       "    </tr>\n",
       "    <tr>\n",
       "      <th>91</th>\n",
       "      <td>callcard</td>\n",
       "      <td>0.002445</td>\n",
       "    </tr>\n",
       "    <tr>\n",
       "      <th>72</th>\n",
       "      <td>card2fee</td>\n",
       "      <td>0.002136</td>\n",
       "    </tr>\n",
       "    <tr>\n",
       "      <th>61</th>\n",
       "      <td>polcontrib</td>\n",
       "      <td>0.002032</td>\n",
       "    </tr>\n",
       "    <tr>\n",
       "      <th>51</th>\n",
       "      <td>commutebus</td>\n",
       "      <td>0.002031</td>\n",
       "    </tr>\n",
       "    <tr>\n",
       "      <th>123</th>\n",
       "      <td>lnequipten</td>\n",
       "      <td>0.001733</td>\n",
       "    </tr>\n",
       "    <tr>\n",
       "      <th>86</th>\n",
       "      <td>tollmon</td>\n",
       "      <td>0.001556</td>\n",
       "    </tr>\n",
       "    <tr>\n",
       "      <th>106</th>\n",
       "      <td>owntv</td>\n",
       "      <td>0.001467</td>\n",
       "    </tr>\n",
       "    <tr>\n",
       "      <th>32</th>\n",
       "      <td>pets_saltfish</td>\n",
       "      <td>0.001293</td>\n",
       "    </tr>\n",
       "    <tr>\n",
       "      <th>53</th>\n",
       "      <td>commutepublic</td>\n",
       "      <td>0.001156</td>\n",
       "    </tr>\n",
       "    <tr>\n",
       "      <th>107</th>\n",
       "      <td>hourstv</td>\n",
       "      <td>0.001128</td>\n",
       "    </tr>\n",
       "    <tr>\n",
       "      <th>29</th>\n",
       "      <td>pets_birds</td>\n",
       "      <td>0.000766</td>\n",
       "    </tr>\n",
       "    <tr>\n",
       "      <th>56</th>\n",
       "      <td>commutenonmotor</td>\n",
       "      <td>0.000672</td>\n",
       "    </tr>\n",
       "    <tr>\n",
       "      <th>31</th>\n",
       "      <td>pets_small</td>\n",
       "      <td>0.000440</td>\n",
       "    </tr>\n",
       "    <tr>\n",
       "      <th>33</th>\n",
       "      <td>pets_freshfish</td>\n",
       "      <td>0.000004</td>\n",
       "    </tr>\n",
       "    <tr>\n",
       "      <th>124</th>\n",
       "      <td>lncardmon</td>\n",
       "      <td>0.000000</td>\n",
       "    </tr>\n",
       "    <tr>\n",
       "      <th>122</th>\n",
       "      <td>lnequipmon</td>\n",
       "      <td>0.000000</td>\n",
       "    </tr>\n",
       "    <tr>\n",
       "      <th>120</th>\n",
       "      <td>lntollmon</td>\n",
       "      <td>0.000000</td>\n",
       "    </tr>\n",
       "    <tr>\n",
       "      <th>117</th>\n",
       "      <td>response_01</td>\n",
       "      <td>0.000000</td>\n",
       "    </tr>\n",
       "    <tr>\n",
       "      <th>114</th>\n",
       "      <td>owngame</td>\n",
       "      <td>0.000000</td>\n",
       "    </tr>\n",
       "    <tr>\n",
       "      <th>0</th>\n",
       "      <td>region</td>\n",
       "      <td>0.000000</td>\n",
       "    </tr>\n",
       "    <tr>\n",
       "      <th>95</th>\n",
       "      <td>wiremon</td>\n",
       "      <td>0.000000</td>\n",
       "    </tr>\n",
       "    <tr>\n",
       "      <th>93</th>\n",
       "      <td>cardten</td>\n",
       "      <td>0.000000</td>\n",
       "    </tr>\n",
       "    <tr>\n",
       "      <th>15</th>\n",
       "      <td>debtinc</td>\n",
       "      <td>0.000000</td>\n",
       "    </tr>\n",
       "    <tr>\n",
       "      <th>25</th>\n",
       "      <td>reside</td>\n",
       "      <td>0.000000</td>\n",
       "    </tr>\n",
       "    <tr>\n",
       "      <th>27</th>\n",
       "      <td>pets_cats</td>\n",
       "      <td>0.000000</td>\n",
       "    </tr>\n",
       "    <tr>\n",
       "      <th>30</th>\n",
       "      <td>pets_reptiles</td>\n",
       "      <td>0.000000</td>\n",
       "    </tr>\n",
       "    <tr>\n",
       "      <th>34</th>\n",
       "      <td>homeown</td>\n",
       "      <td>0.000000</td>\n",
       "    </tr>\n",
       "    <tr>\n",
       "      <th>35</th>\n",
       "      <td>hometype</td>\n",
       "      <td>0.000000</td>\n",
       "    </tr>\n",
       "    <tr>\n",
       "      <th>38</th>\n",
       "      <td>cars</td>\n",
       "      <td>0.000000</td>\n",
       "    </tr>\n",
       "    <tr>\n",
       "      <th>40</th>\n",
       "      <td>cartype</td>\n",
       "      <td>0.000000</td>\n",
       "    </tr>\n",
       "    <tr>\n",
       "      <th>43</th>\n",
       "      <td>carbought</td>\n",
       "      <td>0.000000</td>\n",
       "    </tr>\n",
       "    <tr>\n",
       "      <th>45</th>\n",
       "      <td>commute</td>\n",
       "      <td>0.000000</td>\n",
       "    </tr>\n",
       "    <tr>\n",
       "      <th>46</th>\n",
       "      <td>commutecat</td>\n",
       "      <td>0.000000</td>\n",
       "    </tr>\n",
       "    <tr>\n",
       "      <th>49</th>\n",
       "      <td>commutemotorcycle</td>\n",
       "      <td>0.000000</td>\n",
       "    </tr>\n",
       "    <tr>\n",
       "      <th>50</th>\n",
       "      <td>commutecarpool</td>\n",
       "      <td>0.000000</td>\n",
       "    </tr>\n",
       "    <tr>\n",
       "      <th>52</th>\n",
       "      <td>commuterail</td>\n",
       "      <td>0.000000</td>\n",
       "    </tr>\n",
       "    <tr>\n",
       "      <th>54</th>\n",
       "      <td>commutebike</td>\n",
       "      <td>0.000000</td>\n",
       "    </tr>\n",
       "    <tr>\n",
       "      <th>55</th>\n",
       "      <td>commutewalk</td>\n",
       "      <td>0.000000</td>\n",
       "    </tr>\n",
       "    <tr>\n",
       "      <th>57</th>\n",
       "      <td>telecommute</td>\n",
       "      <td>0.000000</td>\n",
       "    </tr>\n",
       "    <tr>\n",
       "      <th>59</th>\n",
       "      <td>polview</td>\n",
       "      <td>0.000000</td>\n",
       "    </tr>\n",
       "    <tr>\n",
       "      <th>60</th>\n",
       "      <td>polparty</td>\n",
       "      <td>0.000000</td>\n",
       "    </tr>\n",
       "    <tr>\n",
       "      <th>65</th>\n",
       "      <td>cardbenefit</td>\n",
       "      <td>0.000000</td>\n",
       "    </tr>\n",
       "    <tr>\n",
       "      <th>66</th>\n",
       "      <td>cardfee</td>\n",
       "      <td>0.000000</td>\n",
       "    </tr>\n",
       "    <tr>\n",
       "      <th>77</th>\n",
       "      <td>active</td>\n",
       "      <td>0.000000</td>\n",
       "    </tr>\n",
       "    <tr>\n",
       "      <th>92</th>\n",
       "      <td>cardmon</td>\n",
       "      <td>0.000000</td>\n",
       "    </tr>\n",
       "    <tr>\n",
       "      <th>127</th>\n",
       "      <td>lnwireten</td>\n",
       "      <td>0.000000</td>\n",
       "    </tr>\n",
       "  </tbody>\n",
       "</table>\n",
       "</div>"
      ],
      "text/plain": [
       "              Features  Mutual Information\n",
       "75           carditems            0.192171\n",
       "76          card2items            0.182697\n",
       "12              income            0.090903\n",
       "13               lninc            0.087352\n",
       "14              inccat            0.086095\n",
       "41            carvalue            0.077484\n",
       "17          lncreddebt            0.070954\n",
       "63                card            0.064534\n",
       "42         carcatvalue            0.061247\n",
       "16            creddebt            0.056638\n",
       "19           lnothdebt            0.048467\n",
       "18             othdebt            0.045284\n",
       "3                  age            0.038495\n",
       "4               agecat            0.034936\n",
       "37          addresscat            0.028241\n",
       "69               card2            0.025804\n",
       "9               employ            0.024676\n",
       "71        card2benefit            0.021181\n",
       "1             townsize            0.021049\n",
       "83             longten            0.020371\n",
       "11              retire            0.020201\n",
       "10              empcat            0.019937\n",
       "21              jobsat            0.019043\n",
       "108             ownvcr            0.018473\n",
       "125          lncardten            0.018339\n",
       "73         card2tenure            0.018135\n",
       "110              owncd            0.017564\n",
       "109             owndvd            0.017464\n",
       "97            multline            0.016342\n",
       "79              tenure            0.016144\n",
       "36             address            0.016034\n",
       "81             longmon            0.015609\n",
       "39              carown            0.015302\n",
       "24          spousedcat            0.013904\n",
       "121          lntollten            0.013402\n",
       "74      card2tenurecat            0.013022\n",
       "28           pets_dogs            0.013011\n",
       "94            wireless            0.012787\n",
       "58              reason            0.012554\n",
       "115             ownfax            0.012342\n",
       "2               gender            0.011738\n",
       "100           internet            0.011631\n",
       "103            forward            0.011546\n",
       "62                vote            0.011212\n",
       "78               bfast            0.010615\n",
       "67          cardtenure            0.010247\n",
       "116               news            0.010199\n",
       "68       cardtenurecat            0.010086\n",
       "111             ownpda            0.009871\n",
       "22             marital            0.009865\n",
       "98               voice            0.009427\n",
       "48          commutecar            0.008485\n",
       "104             confer            0.008301\n",
       "26                pets            0.008246\n",
       "102           callwait            0.007850\n",
       "118        response_02            0.007695\n",
       "80               churn            0.007424\n",
       "5                   ed            0.007269\n",
       "112              ownpc            0.007109\n",
       "84           lnlongten            0.007036\n",
       "85            tollfree            0.006756\n",
       "89            equipmon            0.006351\n",
       "99               pager            0.006214\n",
       "20             default            0.006183\n",
       "64            cardtype            0.006076\n",
       "105              ebill            0.006034\n",
       "8                union            0.005938\n",
       "96             wireten            0.005887\n",
       "44              carbuy            0.005450\n",
       "6                edcat            0.005392\n",
       "23             spoused            0.005137\n",
       "87             tollten            0.005126\n",
       "88               equip            0.004994\n",
       "90            equipten            0.004672\n",
       "82           lnlongmon            0.004265\n",
       "119        response_03            0.004214\n",
       "7               jobcat            0.003726\n",
       "47         commutetime            0.003580\n",
       "126          lnwiremon            0.003501\n",
       "113            ownipod            0.003204\n",
       "70           card2type            0.002956\n",
       "101             callid            0.002947\n",
       "91            callcard            0.002445\n",
       "72            card2fee            0.002136\n",
       "61          polcontrib            0.002032\n",
       "51          commutebus            0.002031\n",
       "123         lnequipten            0.001733\n",
       "86             tollmon            0.001556\n",
       "106              owntv            0.001467\n",
       "32       pets_saltfish            0.001293\n",
       "53       commutepublic            0.001156\n",
       "107            hourstv            0.001128\n",
       "29          pets_birds            0.000766\n",
       "56     commutenonmotor            0.000672\n",
       "31          pets_small            0.000440\n",
       "33      pets_freshfish            0.000004\n",
       "124          lncardmon            0.000000\n",
       "122         lnequipmon            0.000000\n",
       "120          lntollmon            0.000000\n",
       "117        response_01            0.000000\n",
       "114            owngame            0.000000\n",
       "0               region            0.000000\n",
       "95             wiremon            0.000000\n",
       "93             cardten            0.000000\n",
       "15             debtinc            0.000000\n",
       "25              reside            0.000000\n",
       "27           pets_cats            0.000000\n",
       "30       pets_reptiles            0.000000\n",
       "34             homeown            0.000000\n",
       "35            hometype            0.000000\n",
       "38                cars            0.000000\n",
       "40             cartype            0.000000\n",
       "43           carbought            0.000000\n",
       "45             commute            0.000000\n",
       "46          commutecat            0.000000\n",
       "49   commutemotorcycle            0.000000\n",
       "50      commutecarpool            0.000000\n",
       "52         commuterail            0.000000\n",
       "54         commutebike            0.000000\n",
       "55         commutewalk            0.000000\n",
       "57         telecommute            0.000000\n",
       "59             polview            0.000000\n",
       "60            polparty            0.000000\n",
       "65         cardbenefit            0.000000\n",
       "66             cardfee            0.000000\n",
       "77              active            0.000000\n",
       "92             cardmon            0.000000\n",
       "127          lnwireten            0.000000"
      ]
     },
     "execution_count": 1053,
     "metadata": {},
     "output_type": "execute_result"
    }
   ],
   "source": [
    "mi = pd.Series(mutual_info)\n",
    "mi.index = xtrainc.columns\n",
    "Mi = pd.DataFrame(mi, columns=[\"Mutual Information\"])\n",
    "Mi.reset_index(inplace = True)\n",
    "Mi = Mi.sort_values(\"Mutual Information\", ascending = False)\n",
    "Mi.rename(columns = {\"index\":\"Features\"}, inplace= True)\n",
    "Mi"
   ]
  },
  {
   "cell_type": "code",
   "execution_count": 1054,
   "metadata": {},
   "outputs": [],
   "source": [
    "# Mi.to_csv(\"Mutual_info.csv\")"
   ]
  },
  {
   "cell_type": "code",
   "execution_count": 1055,
   "metadata": {},
   "outputs": [],
   "source": [
    "Mi_n = Mi[Mi[\"Mutual Information\"]>=0.01]"
   ]
  },
  {
   "cell_type": "code",
   "execution_count": 1056,
   "metadata": {},
   "outputs": [],
   "source": [
    "selected_features = Mi_n[\"Features\"].tolist()"
   ]
  },
  {
   "cell_type": "code",
   "execution_count": 1057,
   "metadata": {},
   "outputs": [
    {
     "data": {
      "text/plain": [
       "['carditems',\n",
       " 'card2items',\n",
       " 'income',\n",
       " 'lninc',\n",
       " 'inccat',\n",
       " 'carvalue',\n",
       " 'lncreddebt',\n",
       " 'card',\n",
       " 'carcatvalue',\n",
       " 'creddebt',\n",
       " 'lnothdebt',\n",
       " 'othdebt',\n",
       " 'age',\n",
       " 'agecat',\n",
       " 'addresscat',\n",
       " 'card2',\n",
       " 'employ',\n",
       " 'card2benefit',\n",
       " 'townsize',\n",
       " 'longten',\n",
       " 'retire',\n",
       " 'empcat',\n",
       " 'jobsat',\n",
       " 'ownvcr',\n",
       " 'lncardten',\n",
       " 'card2tenure',\n",
       " 'owncd',\n",
       " 'owndvd',\n",
       " 'multline',\n",
       " 'tenure',\n",
       " 'address',\n",
       " 'longmon',\n",
       " 'carown',\n",
       " 'spousedcat',\n",
       " 'lntollten',\n",
       " 'card2tenurecat',\n",
       " 'pets_dogs',\n",
       " 'wireless',\n",
       " 'reason',\n",
       " 'ownfax',\n",
       " 'gender',\n",
       " 'internet',\n",
       " 'forward',\n",
       " 'vote',\n",
       " 'bfast',\n",
       " 'cardtenure',\n",
       " 'news',\n",
       " 'cardtenurecat']"
      ]
     },
     "execution_count": 1057,
     "metadata": {},
     "output_type": "execute_result"
    }
   ],
   "source": [
    "selected_features"
   ]
  },
  {
   "cell_type": "code",
   "execution_count": 1058,
   "metadata": {},
   "outputs": [],
   "source": [
    "dfi = dff[selected_features]"
   ]
  },
  {
   "cell_type": "code",
   "execution_count": 1059,
   "metadata": {},
   "outputs": [
    {
     "data": {
      "text/plain": [
       "Index(['carditems', 'card2items', 'income', 'lninc', 'inccat', 'carvalue',\n",
       "       'lncreddebt', 'card', 'carcatvalue', 'creddebt', 'lnothdebt', 'othdebt',\n",
       "       'age', 'agecat', 'addresscat', 'card2', 'employ', 'card2benefit',\n",
       "       'townsize', 'longten', 'retire', 'empcat', 'jobsat', 'ownvcr',\n",
       "       'lncardten', 'card2tenure', 'owncd', 'owndvd', 'multline', 'tenure',\n",
       "       'address', 'longmon', 'carown', 'spousedcat', 'lntollten',\n",
       "       'card2tenurecat', 'pets_dogs', 'wireless', 'reason', 'ownfax', 'gender',\n",
       "       'internet', 'forward', 'vote', 'bfast', 'cardtenure', 'news',\n",
       "       'cardtenurecat'],\n",
       "      dtype='object')"
      ]
     },
     "execution_count": 1059,
     "metadata": {},
     "output_type": "execute_result"
    }
   ],
   "source": [
    "dfi.columns"
   ]
  },
  {
   "cell_type": "code",
   "execution_count": 1060,
   "metadata": {},
   "outputs": [
    {
     "data": {
      "text/plain": [
       "48"
      ]
     },
     "execution_count": 1060,
     "metadata": {},
     "output_type": "execute_result"
    }
   ],
   "source": [
    "len(dfi.columns)"
   ]
  },
  {
   "cell_type": "code",
   "execution_count": 1061,
   "metadata": {},
   "outputs": [
    {
     "name": "stdout",
     "output_type": "stream",
     "text": [
      "<class 'pandas.core.frame.DataFrame'>\n",
      "RangeIndex: 4994 entries, 0 to 4993\n",
      "Data columns (total 48 columns):\n",
      " #   Column          Non-Null Count  Dtype  \n",
      "---  ------          --------------  -----  \n",
      " 0   carditems       4994 non-null   int64  \n",
      " 1   card2items      4994 non-null   int64  \n",
      " 2   income          4994 non-null   int64  \n",
      " 3   lninc           4994 non-null   float64\n",
      " 4   inccat          4994 non-null   int64  \n",
      " 5   carvalue        4994 non-null   float64\n",
      " 6   lncreddebt      4994 non-null   float64\n",
      " 7   card            4994 non-null   int64  \n",
      " 8   carcatvalue     4994 non-null   int64  \n",
      " 9   creddebt        4994 non-null   float64\n",
      " 10  lnothdebt       4994 non-null   float64\n",
      " 11  othdebt         4994 non-null   float64\n",
      " 12  age             4994 non-null   int64  \n",
      " 13  agecat          4994 non-null   int64  \n",
      " 14  addresscat      4994 non-null   int64  \n",
      " 15  card2           4994 non-null   int64  \n",
      " 16  employ          4994 non-null   int64  \n",
      " 17  card2benefit    4994 non-null   int64  \n",
      " 18  townsize        4994 non-null   float64\n",
      " 19  longten         4994 non-null   float64\n",
      " 20  retire          4994 non-null   int64  \n",
      " 21  empcat          4994 non-null   int64  \n",
      " 22  jobsat          4994 non-null   int64  \n",
      " 23  ownvcr          4994 non-null   int64  \n",
      " 24  lncardten       4994 non-null   float64\n",
      " 25  card2tenure     4994 non-null   int64  \n",
      " 26  owncd           4994 non-null   int64  \n",
      " 27  owndvd          4994 non-null   int64  \n",
      " 28  multline        4994 non-null   int64  \n",
      " 29  tenure          4994 non-null   int64  \n",
      " 30  address         4994 non-null   int64  \n",
      " 31  longmon         4994 non-null   float64\n",
      " 32  carown          4994 non-null   int64  \n",
      " 33  spousedcat      4994 non-null   int64  \n",
      " 34  lntollten       4994 non-null   float64\n",
      " 35  card2tenurecat  4994 non-null   int64  \n",
      " 36  pets_dogs       4994 non-null   int64  \n",
      " 37  wireless        4994 non-null   int64  \n",
      " 38  reason          4994 non-null   int64  \n",
      " 39  ownfax          4994 non-null   int64  \n",
      " 40  gender          4994 non-null   int64  \n",
      " 41  internet        4994 non-null   int64  \n",
      " 42  forward         4994 non-null   int64  \n",
      " 43  vote            4994 non-null   int64  \n",
      " 44  bfast           4994 non-null   int64  \n",
      " 45  cardtenure      4994 non-null   int64  \n",
      " 46  news            4994 non-null   int64  \n",
      " 47  cardtenurecat   4994 non-null   int64  \n",
      "dtypes: float64(11), int64(37)\n",
      "memory usage: 1.8 MB\n"
     ]
    }
   ],
   "source": [
    "dfi.info()"
   ]
  },
  {
   "cell_type": "code",
   "execution_count": 1062,
   "metadata": {},
   "outputs": [],
   "source": [
    "dfi = pd.concat([dfi, dff[[\"cardspent\", \"card2spent\", \"total_cardspent\", \"birthmonth\"]]], axis = 1)"
   ]
  },
  {
   "cell_type": "code",
   "execution_count": 1063,
   "metadata": {},
   "outputs": [
    {
     "name": "stdout",
     "output_type": "stream",
     "text": [
      "<class 'pandas.core.frame.DataFrame'>\n",
      "RangeIndex: 4994 entries, 0 to 4993\n",
      "Data columns (total 52 columns):\n",
      " #   Column           Non-Null Count  Dtype  \n",
      "---  ------           --------------  -----  \n",
      " 0   carditems        4994 non-null   int64  \n",
      " 1   card2items       4994 non-null   int64  \n",
      " 2   income           4994 non-null   int64  \n",
      " 3   lninc            4994 non-null   float64\n",
      " 4   inccat           4994 non-null   int64  \n",
      " 5   carvalue         4994 non-null   float64\n",
      " 6   lncreddebt       4994 non-null   float64\n",
      " 7   card             4994 non-null   int64  \n",
      " 8   carcatvalue      4994 non-null   int64  \n",
      " 9   creddebt         4994 non-null   float64\n",
      " 10  lnothdebt        4994 non-null   float64\n",
      " 11  othdebt          4994 non-null   float64\n",
      " 12  age              4994 non-null   int64  \n",
      " 13  agecat           4994 non-null   int64  \n",
      " 14  addresscat       4994 non-null   int64  \n",
      " 15  card2            4994 non-null   int64  \n",
      " 16  employ           4994 non-null   int64  \n",
      " 17  card2benefit     4994 non-null   int64  \n",
      " 18  townsize         4994 non-null   float64\n",
      " 19  longten          4994 non-null   float64\n",
      " 20  retire           4994 non-null   int64  \n",
      " 21  empcat           4994 non-null   int64  \n",
      " 22  jobsat           4994 non-null   int64  \n",
      " 23  ownvcr           4994 non-null   int64  \n",
      " 24  lncardten        4994 non-null   float64\n",
      " 25  card2tenure      4994 non-null   int64  \n",
      " 26  owncd            4994 non-null   int64  \n",
      " 27  owndvd           4994 non-null   int64  \n",
      " 28  multline         4994 non-null   int64  \n",
      " 29  tenure           4994 non-null   int64  \n",
      " 30  address          4994 non-null   int64  \n",
      " 31  longmon          4994 non-null   float64\n",
      " 32  carown           4994 non-null   int64  \n",
      " 33  spousedcat       4994 non-null   int64  \n",
      " 34  lntollten        4994 non-null   float64\n",
      " 35  card2tenurecat   4994 non-null   int64  \n",
      " 36  pets_dogs        4994 non-null   int64  \n",
      " 37  wireless         4994 non-null   int64  \n",
      " 38  reason           4994 non-null   int64  \n",
      " 39  ownfax           4994 non-null   int64  \n",
      " 40  gender           4994 non-null   int64  \n",
      " 41  internet         4994 non-null   int64  \n",
      " 42  forward          4994 non-null   int64  \n",
      " 43  vote             4994 non-null   int64  \n",
      " 44  bfast            4994 non-null   int64  \n",
      " 45  cardtenure       4994 non-null   int64  \n",
      " 46  news             4994 non-null   int64  \n",
      " 47  cardtenurecat    4994 non-null   int64  \n",
      " 48  cardspent        4994 non-null   float64\n",
      " 49  card2spent       4994 non-null   float64\n",
      " 50  total_cardspent  4994 non-null   float64\n",
      " 51  birthmonth       4994 non-null   object \n",
      "dtypes: float64(14), int64(37), object(1)\n",
      "memory usage: 2.0+ MB\n"
     ]
    }
   ],
   "source": [
    "dfi.info()"
   ]
  },
  {
   "cell_type": "markdown",
   "metadata": {},
   "source": [
    "# Variable Analysis - Univariate And Bivariate"
   ]
  },
  {
   "cell_type": "markdown",
   "metadata": {},
   "source": [
    "## townsize"
   ]
  },
  {
   "cell_type": "code",
   "execution_count": 1064,
   "metadata": {
    "scrolled": true
   },
   "outputs": [
    {
     "data": {
      "text/html": [
       "<div>\n",
       "<style scoped>\n",
       "    .dataframe tbody tr th:only-of-type {\n",
       "        vertical-align: middle;\n",
       "    }\n",
       "\n",
       "    .dataframe tbody tr th {\n",
       "        vertical-align: top;\n",
       "    }\n",
       "\n",
       "    .dataframe thead tr th {\n",
       "        text-align: left;\n",
       "    }\n",
       "\n",
       "    .dataframe thead tr:last-of-type th {\n",
       "        text-align: right;\n",
       "    }\n",
       "</style>\n",
       "<table border=\"1\" class=\"dataframe\">\n",
       "  <thead>\n",
       "    <tr>\n",
       "      <th></th>\n",
       "      <th>total_cardspent</th>\n",
       "    </tr>\n",
       "    <tr>\n",
       "      <th></th>\n",
       "      <th>mean</th>\n",
       "    </tr>\n",
       "    <tr>\n",
       "      <th>townsize</th>\n",
       "      <th></th>\n",
       "    </tr>\n",
       "  </thead>\n",
       "  <tbody>\n",
       "    <tr>\n",
       "      <th>1.0</th>\n",
       "      <td>499.508364</td>\n",
       "    </tr>\n",
       "    <tr>\n",
       "      <th>2.0</th>\n",
       "      <td>505.787471</td>\n",
       "    </tr>\n",
       "    <tr>\n",
       "      <th>3.0</th>\n",
       "      <td>491.622754</td>\n",
       "    </tr>\n",
       "    <tr>\n",
       "      <th>4.0</th>\n",
       "      <td>490.630035</td>\n",
       "    </tr>\n",
       "    <tr>\n",
       "      <th>5.0</th>\n",
       "      <td>500.961120</td>\n",
       "    </tr>\n",
       "  </tbody>\n",
       "</table>\n",
       "</div>"
      ],
      "text/plain": [
       "         total_cardspent\n",
       "                    mean\n",
       "townsize                \n",
       "1.0           499.508364\n",
       "2.0           505.787471\n",
       "3.0           491.622754\n",
       "4.0           490.630035\n",
       "5.0           500.961120"
      ]
     },
     "execution_count": 1064,
     "metadata": {},
     "output_type": "execute_result"
    }
   ],
   "source": [
    "pd.DataFrame(dfi.groupby(['townsize']).agg({\"total_cardspent\":['mean']}))\n"
   ]
  },
  {
   "cell_type": "markdown",
   "metadata": {
    "scrolled": true
   },
   "source": [
    "#### We see here that average card spending for every townsize is almost same , which gives us a picture that townsize does not indeed affect card spending. so we will drop townsize"
   ]
  },
  {
   "cell_type": "code",
   "execution_count": 1065,
   "metadata": {},
   "outputs": [],
   "source": [
    "df.drop(columns = [\"townsize\"], inplace = True)"
   ]
  },
  {
   "cell_type": "code",
   "execution_count": null,
   "metadata": {},
   "outputs": [],
   "source": []
  },
  {
   "cell_type": "markdown",
   "metadata": {},
   "source": [
    "## gender"
   ]
  },
  {
   "cell_type": "code",
   "execution_count": 1066,
   "metadata": {},
   "outputs": [
    {
     "data": {
      "text/plain": [
       "1    2515\n",
       "0    2479\n",
       "Name: gender, dtype: int64"
      ]
     },
     "execution_count": 1066,
     "metadata": {},
     "output_type": "execute_result"
    }
   ],
   "source": [
    "dfi[\"gender\"].value_counts()"
   ]
  },
  {
   "cell_type": "code",
   "execution_count": null,
   "metadata": {},
   "outputs": [],
   "source": []
  },
  {
   "cell_type": "code",
   "execution_count": 1067,
   "metadata": {},
   "outputs": [
    {
     "data": {
      "text/html": [
       "<div>\n",
       "<style scoped>\n",
       "    .dataframe tbody tr th:only-of-type {\n",
       "        vertical-align: middle;\n",
       "    }\n",
       "\n",
       "    .dataframe tbody tr th {\n",
       "        vertical-align: top;\n",
       "    }\n",
       "\n",
       "    .dataframe thead tr th {\n",
       "        text-align: left;\n",
       "    }\n",
       "\n",
       "    .dataframe thead tr:last-of-type th {\n",
       "        text-align: right;\n",
       "    }\n",
       "</style>\n",
       "<table border=\"1\" class=\"dataframe\">\n",
       "  <thead>\n",
       "    <tr>\n",
       "      <th></th>\n",
       "      <th>total_cardspent</th>\n",
       "    </tr>\n",
       "    <tr>\n",
       "      <th></th>\n",
       "      <th>mean</th>\n",
       "    </tr>\n",
       "    <tr>\n",
       "      <th>gender</th>\n",
       "      <th></th>\n",
       "    </tr>\n",
       "  </thead>\n",
       "  <tbody>\n",
       "    <tr>\n",
       "      <th>0</th>\n",
       "      <td>524.921932</td>\n",
       "    </tr>\n",
       "    <tr>\n",
       "      <th>1</th>\n",
       "      <td>471.652060</td>\n",
       "    </tr>\n",
       "  </tbody>\n",
       "</table>\n",
       "</div>"
      ],
      "text/plain": [
       "       total_cardspent\n",
       "                  mean\n",
       "gender                \n",
       "0           524.921932\n",
       "1           471.652060"
      ]
     },
     "execution_count": 1067,
     "metadata": {},
     "output_type": "execute_result"
    }
   ],
   "source": [
    "pd.DataFrame(dfi.groupby(['gender']).agg({\"total_cardspent\":['mean']}))"
   ]
  },
  {
   "cell_type": "markdown",
   "metadata": {},
   "source": [
    "## age"
   ]
  },
  {
   "cell_type": "code",
   "execution_count": 1068,
   "metadata": {},
   "outputs": [
    {
     "data": {
      "text/plain": [
       "array([18., 18., 19., 20., 20., 21., 21., 22., 23., 23., 24., 24., 25.,\n",
       "       25., 26., 26., 27., 28., 28., 29., 29., 30., 30., 31., 31., 32.,\n",
       "       33., 33., 34., 34., 35., 35., 36., 36., 37., 37., 38., 39., 39.,\n",
       "       40., 41., 42., 42., 43., 43., 44., 45., 45., 46., 47., 47., 48.,\n",
       "       48., 49., 50., 50., 51., 52., 52., 53., 53., 54., 55., 55., 56.,\n",
       "       56., 57., 58., 58., 59., 60., 60., 61., 62., 62., 63., 63., 64.,\n",
       "       65., 65., 66., 67., 67., 68., 68., 69., 70., 70., 71., 72., 73.,\n",
       "       74., 74., 75., 76., 77., 77., 78., 79., 79.])"
      ]
     },
     "execution_count": 1068,
     "metadata": {},
     "output_type": "execute_result"
    }
   ],
   "source": [
    "np.percentile(dfi[\"age\"], range(1,101))"
   ]
  },
  {
   "cell_type": "code",
   "execution_count": 1069,
   "metadata": {
    "scrolled": true
   },
   "outputs": [
    {
     "data": {
      "text/plain": [
       "100"
      ]
     },
     "execution_count": 1069,
     "metadata": {},
     "output_type": "execute_result"
    }
   ],
   "source": [
    "len(np.percentile(dfi[\"age\"], range(1,101)))"
   ]
  },
  {
   "cell_type": "code",
   "execution_count": 1070,
   "metadata": {},
   "outputs": [
    {
     "data": {
      "text/plain": [
       "Text(0, 0.5, 'total_cardspent')"
      ]
     },
     "execution_count": 1070,
     "metadata": {},
     "output_type": "execute_result"
    },
    {
     "data": {
      "image/png": "[encoded data removed]",
      "text/plain": [
       "<Figure size 432x288 with 1 Axes>"
      ]
     },
     "metadata": {
      "needs_background": "light"
     },
     "output_type": "display_data"
    }
   ],
   "source": [
    "plt.scatter(dff[\"age\"], dfi[\"total_cardspent\"])\n",
    "plt.xlabel(\"age\")\n",
    "plt.ylabel(\"total_cardspent\")"
   ]
  },
  {
   "cell_type": "code",
   "execution_count": 1071,
   "metadata": {},
   "outputs": [],
   "source": [
    "# plt.hist?\n"
   ]
  },
  {
   "cell_type": "code",
   "execution_count": null,
   "metadata": {},
   "outputs": [],
   "source": []
  },
  {
   "cell_type": "code",
   "execution_count": 1072,
   "metadata": {},
   "outputs": [
    {
     "data": {
      "text/plain": [
       "Text(0, 0.5, 'total_cardspent')"
      ]
     },
     "execution_count": 1072,
     "metadata": {},
     "output_type": "execute_result"
    },
    {
     "data": {
      "image/png": "[encoded data removed]",
      "text/plain": [
       "<Figure size 432x288 with 1 Axes>"
      ]
     },
     "metadata": {
      "needs_background": "light"
     },
     "output_type": "display_data"
    }
   ],
   "source": [
    "plt.bar(dff[\"age\"], dfi[\"total_cardspent\"])\n",
    "plt.xlabel(\"age\")\n",
    "plt.ylabel(\"total_cardspent\")\n"
   ]
  },
  {
   "cell_type": "markdown",
   "metadata": {},
   "source": [
    "#### age variable does not seem to have a clear impact on total_cardspent so we will drop it for now as we also have agecat\n"
   ]
  },
  {
   "cell_type": "code",
   "execution_count": 1073,
   "metadata": {},
   "outputs": [],
   "source": [
    "dfi.drop(columns= [\"age\"], inplace=True)"
   ]
  },
  {
   "cell_type": "code",
   "execution_count": null,
   "metadata": {},
   "outputs": [],
   "source": []
  },
  {
   "cell_type": "markdown",
   "metadata": {},
   "source": [
    "## agecat"
   ]
  },
  {
   "cell_type": "raw",
   "metadata": {},
   "source": [
    "agecat\n",
    "\n",
    "1\t<18\n",
    "2\t18-24\n",
    "3\t25-34\n",
    "4\t35-49\n",
    "5\t50-64\n",
    "6\t>65\n",
    "9\tNo response\n"
   ]
  },
  {
   "cell_type": "code",
   "execution_count": 1074,
   "metadata": {},
   "outputs": [
    {
     "data": {
      "text/plain": [
       "4    1220\n",
       "5    1195\n",
       "6    1067\n",
       "3     893\n",
       "2     619\n",
       "Name: agecat, dtype: int64"
      ]
     },
     "execution_count": 1074,
     "metadata": {},
     "output_type": "execute_result"
    }
   ],
   "source": [
    "dfi[\"agecat\"].value_counts()"
   ]
  },
  {
   "cell_type": "code",
   "execution_count": null,
   "metadata": {},
   "outputs": [],
   "source": []
  },
  {
   "cell_type": "code",
   "execution_count": 1075,
   "metadata": {},
   "outputs": [
    {
     "data": {
      "text/html": [
       "<div>\n",
       "<style scoped>\n",
       "    .dataframe tbody tr th:only-of-type {\n",
       "        vertical-align: middle;\n",
       "    }\n",
       "\n",
       "    .dataframe tbody tr th {\n",
       "        vertical-align: top;\n",
       "    }\n",
       "\n",
       "    .dataframe thead tr th {\n",
       "        text-align: left;\n",
       "    }\n",
       "\n",
       "    .dataframe thead tr:last-of-type th {\n",
       "        text-align: right;\n",
       "    }\n",
       "</style>\n",
       "<table border=\"1\" class=\"dataframe\">\n",
       "  <thead>\n",
       "    <tr>\n",
       "      <th></th>\n",
       "      <th>total_cardspent</th>\n",
       "    </tr>\n",
       "    <tr>\n",
       "      <th></th>\n",
       "      <th>mean</th>\n",
       "    </tr>\n",
       "    <tr>\n",
       "      <th>agecat</th>\n",
       "      <th></th>\n",
       "    </tr>\n",
       "  </thead>\n",
       "  <tbody>\n",
       "    <tr>\n",
       "      <th>2</th>\n",
       "      <td>410.266995</td>\n",
       "    </tr>\n",
       "    <tr>\n",
       "      <th>3</th>\n",
       "      <td>470.829552</td>\n",
       "    </tr>\n",
       "    <tr>\n",
       "      <th>4</th>\n",
       "      <td>531.990615</td>\n",
       "    </tr>\n",
       "    <tr>\n",
       "      <th>5</th>\n",
       "      <td>575.215858</td>\n",
       "    </tr>\n",
       "    <tr>\n",
       "      <th>6</th>\n",
       "      <td>446.737432</td>\n",
       "    </tr>\n",
       "  </tbody>\n",
       "</table>\n",
       "</div>"
      ],
      "text/plain": [
       "       total_cardspent\n",
       "                  mean\n",
       "agecat                \n",
       "2           410.266995\n",
       "3           470.829552\n",
       "4           531.990615\n",
       "5           575.215858\n",
       "6           446.737432"
      ]
     },
     "execution_count": 1075,
     "metadata": {},
     "output_type": "execute_result"
    }
   ],
   "source": [
    "pd.DataFrame(dfi.groupby(['agecat']).agg({\"total_cardspent\":['mean']}))"
   ]
  },
  {
   "cell_type": "markdown",
   "metadata": {},
   "source": [
    "# birthmonth"
   ]
  },
  {
   "cell_type": "markdown",
   "metadata": {},
   "source": [
    "#### we think that birthmonth would not affect overall credit card spending so we are dropping it for now\n"
   ]
  },
  {
   "cell_type": "code",
   "execution_count": 1076,
   "metadata": {},
   "outputs": [],
   "source": [
    "dfi.drop(columns=['birthmonth'], inplace = True)"
   ]
  },
  {
   "cell_type": "code",
   "execution_count": null,
   "metadata": {},
   "outputs": [],
   "source": []
  },
  {
   "cell_type": "markdown",
   "metadata": {},
   "source": [
    "## employ and empcat -- [years with current employer]"
   ]
  },
  {
   "cell_type": "markdown",
   "metadata": {},
   "source": [
    "#### We think when there is empcat there is no need of employ"
   ]
  },
  {
   "cell_type": "code",
   "execution_count": 1077,
   "metadata": {},
   "outputs": [],
   "source": [
    "dfi.drop(columns= [\"employ\"], inplace= True)"
   ]
  },
  {
   "cell_type": "code",
   "execution_count": 1078,
   "metadata": {},
   "outputs": [
    {
     "data": {
      "text/html": [
       "<div>\n",
       "<style scoped>\n",
       "    .dataframe tbody tr th:only-of-type {\n",
       "        vertical-align: middle;\n",
       "    }\n",
       "\n",
       "    .dataframe tbody tr th {\n",
       "        vertical-align: top;\n",
       "    }\n",
       "\n",
       "    .dataframe thead tr th {\n",
       "        text-align: left;\n",
       "    }\n",
       "\n",
       "    .dataframe thead tr:last-of-type th {\n",
       "        text-align: right;\n",
       "    }\n",
       "</style>\n",
       "<table border=\"1\" class=\"dataframe\">\n",
       "  <thead>\n",
       "    <tr>\n",
       "      <th></th>\n",
       "      <th>total_cardspent</th>\n",
       "    </tr>\n",
       "    <tr>\n",
       "      <th></th>\n",
       "      <th>mean</th>\n",
       "    </tr>\n",
       "    <tr>\n",
       "      <th>empcat</th>\n",
       "      <th></th>\n",
       "    </tr>\n",
       "  </thead>\n",
       "  <tbody>\n",
       "    <tr>\n",
       "      <th>1</th>\n",
       "      <td>433.734823</td>\n",
       "    </tr>\n",
       "    <tr>\n",
       "      <th>2</th>\n",
       "      <td>482.499771</td>\n",
       "    </tr>\n",
       "    <tr>\n",
       "      <th>3</th>\n",
       "      <td>509.394938</td>\n",
       "    </tr>\n",
       "    <tr>\n",
       "      <th>4</th>\n",
       "      <td>526.317560</td>\n",
       "    </tr>\n",
       "    <tr>\n",
       "      <th>5</th>\n",
       "      <td>547.404545</td>\n",
       "    </tr>\n",
       "  </tbody>\n",
       "</table>\n",
       "</div>"
      ],
      "text/plain": [
       "       total_cardspent\n",
       "                  mean\n",
       "empcat                \n",
       "1           433.734823\n",
       "2           482.499771\n",
       "3           509.394938\n",
       "4           526.317560\n",
       "5           547.404545"
      ]
     },
     "execution_count": 1078,
     "metadata": {},
     "output_type": "execute_result"
    }
   ],
   "source": [
    "pd.DataFrame(dfi.groupby(['empcat']).agg({\"total_cardspent\":['mean']}))"
   ]
  },
  {
   "cell_type": "code",
   "execution_count": null,
   "metadata": {},
   "outputs": [],
   "source": []
  },
  {
   "cell_type": "markdown",
   "metadata": {},
   "source": [
    "## retire"
   ]
  },
  {
   "cell_type": "code",
   "execution_count": 1079,
   "metadata": {},
   "outputs": [
    {
     "data": {
      "text/plain": [
       "0    4257\n",
       "1     737\n",
       "Name: retire, dtype: int64"
      ]
     },
     "execution_count": 1079,
     "metadata": {},
     "output_type": "execute_result"
    }
   ],
   "source": [
    "dfi[\"retire\"].value_counts()"
   ]
  },
  {
   "cell_type": "code",
   "execution_count": 1080,
   "metadata": {},
   "outputs": [
    {
     "data": {
      "text/html": [
       "<div>\n",
       "<style scoped>\n",
       "    .dataframe tbody tr th:only-of-type {\n",
       "        vertical-align: middle;\n",
       "    }\n",
       "\n",
       "    .dataframe tbody tr th {\n",
       "        vertical-align: top;\n",
       "    }\n",
       "\n",
       "    .dataframe thead tr th {\n",
       "        text-align: left;\n",
       "    }\n",
       "\n",
       "    .dataframe thead tr:last-of-type th {\n",
       "        text-align: right;\n",
       "    }\n",
       "</style>\n",
       "<table border=\"1\" class=\"dataframe\">\n",
       "  <thead>\n",
       "    <tr>\n",
       "      <th></th>\n",
       "      <th>total_cardspent</th>\n",
       "    </tr>\n",
       "    <tr>\n",
       "      <th></th>\n",
       "      <th>mean</th>\n",
       "    </tr>\n",
       "    <tr>\n",
       "      <th>retire</th>\n",
       "      <th></th>\n",
       "    </tr>\n",
       "  </thead>\n",
       "  <tbody>\n",
       "    <tr>\n",
       "      <th>0</th>\n",
       "      <td>521.649063</td>\n",
       "    </tr>\n",
       "    <tr>\n",
       "      <th>1</th>\n",
       "      <td>362.043881</td>\n",
       "    </tr>\n",
       "  </tbody>\n",
       "</table>\n",
       "</div>"
      ],
      "text/plain": [
       "       total_cardspent\n",
       "                  mean\n",
       "retire                \n",
       "0           521.649063\n",
       "1           362.043881"
      ]
     },
     "execution_count": 1080,
     "metadata": {},
     "output_type": "execute_result"
    }
   ],
   "source": [
    "pd.DataFrame(dfi.groupby(['retire']).agg({\"total_cardspent\":['mean']}))"
   ]
  },
  {
   "cell_type": "code",
   "execution_count": null,
   "metadata": {},
   "outputs": [],
   "source": []
  },
  {
   "cell_type": "markdown",
   "metadata": {},
   "source": [
    "# income, lninc, inccat"
   ]
  },
  {
   "cell_type": "code",
   "execution_count": 1081,
   "metadata": {},
   "outputs": [
    {
     "name": "stderr",
     "output_type": "stream",
     "text": [
      "C:\\Users\\Anirudh Gupta\\Anaconda3\\lib\\site-packages\\seaborn\\distributions.py:2551: FutureWarning: `distplot` is a deprecated function and will be removed in a future version. Please adapt your code to use either `displot` (a figure-level function with similar flexibility) or `histplot` (an axes-level function for histograms).\n",
      "  warnings.warn(msg, FutureWarning)\n"
     ]
    },
    {
     "data": {
      "text/plain": [
       "<AxesSubplot:xlabel='income', ylabel='Density'>"
      ]
     },
     "execution_count": 1081,
     "metadata": {},
     "output_type": "execute_result"
    },
    {
     "data": {
      "image/png": "[encoded data removed]",
      "text/plain": [
       "<Figure size 432x288 with 1 Axes>"
      ]
     },
     "metadata": {
      "needs_background": "light"
     },
     "output_type": "display_data"
    }
   ],
   "source": [
    "sns.distplot(dfi[\"income\"])"
   ]
  },
  {
   "cell_type": "code",
   "execution_count": 1082,
   "metadata": {},
   "outputs": [
    {
     "name": "stderr",
     "output_type": "stream",
     "text": [
      "C:\\Users\\Anirudh Gupta\\Anaconda3\\lib\\site-packages\\seaborn\\distributions.py:2551: FutureWarning: `distplot` is a deprecated function and will be removed in a future version. Please adapt your code to use either `displot` (a figure-level function with similar flexibility) or `histplot` (an axes-level function for histograms).\n",
      "  warnings.warn(msg, FutureWarning)\n"
     ]
    },
    {
     "data": {
      "text/plain": [
       "<AxesSubplot:xlabel='lninc', ylabel='Density'>"
      ]
     },
     "execution_count": 1082,
     "metadata": {},
     "output_type": "execute_result"
    },
    {
     "data": {
      "image/png": "[encoded data removed]",
      "text/plain": [
       "<Figure size 432x288 with 1 Axes>"
      ]
     },
     "metadata": {
      "needs_background": "light"
     },
     "output_type": "display_data"
    }
   ],
   "source": [
    "sns.distplot(dfi[\"lninc\"])"
   ]
  },
  {
   "cell_type": "markdown",
   "metadata": {},
   "source": [
    "#### Since lninc is more close to normal distribution, we will remove income"
   ]
  },
  {
   "cell_type": "code",
   "execution_count": 1083,
   "metadata": {},
   "outputs": [],
   "source": [
    "dfi.drop(columns = [\"income\"], inplace = True)"
   ]
  },
  {
   "cell_type": "code",
   "execution_count": null,
   "metadata": {},
   "outputs": [],
   "source": []
  },
  {
   "cell_type": "code",
   "execution_count": 1084,
   "metadata": {},
   "outputs": [
    {
     "data": {
      "text/plain": [
       "<matplotlib.collections.PathCollection at 0x158ca9f1ac0>"
      ]
     },
     "execution_count": 1084,
     "metadata": {},
     "output_type": "execute_result"
    },
    {
     "data": {
      "image/png": "[encoded data removed]",
      "text/plain": [
       "<Figure size 432x288 with 1 Axes>"
      ]
     },
     "metadata": {
      "needs_background": "light"
     },
     "output_type": "display_data"
    }
   ],
   "source": [
    "plt.scatter(dfi[\"lninc\"], dfi[\"total_cardspent\"])"
   ]
  },
  {
   "cell_type": "code",
   "execution_count": null,
   "metadata": {},
   "outputs": [],
   "source": []
  },
  {
   "cell_type": "code",
   "execution_count": 1085,
   "metadata": {},
   "outputs": [
    {
     "data": {
      "text/html": [
       "<div>\n",
       "<style scoped>\n",
       "    .dataframe tbody tr th:only-of-type {\n",
       "        vertical-align: middle;\n",
       "    }\n",
       "\n",
       "    .dataframe tbody tr th {\n",
       "        vertical-align: top;\n",
       "    }\n",
       "\n",
       "    .dataframe thead tr th {\n",
       "        text-align: left;\n",
       "    }\n",
       "\n",
       "    .dataframe thead tr:last-of-type th {\n",
       "        text-align: right;\n",
       "    }\n",
       "</style>\n",
       "<table border=\"1\" class=\"dataframe\">\n",
       "  <thead>\n",
       "    <tr>\n",
       "      <th></th>\n",
       "      <th>total_cardspent</th>\n",
       "    </tr>\n",
       "    <tr>\n",
       "      <th></th>\n",
       "      <th>mean</th>\n",
       "    </tr>\n",
       "    <tr>\n",
       "      <th>inccat</th>\n",
       "      <th></th>\n",
       "    </tr>\n",
       "  </thead>\n",
       "  <tbody>\n",
       "    <tr>\n",
       "      <th>1</th>\n",
       "      <td>354.649751</td>\n",
       "    </tr>\n",
       "    <tr>\n",
       "      <th>2</th>\n",
       "      <td>453.133094</td>\n",
       "    </tr>\n",
       "    <tr>\n",
       "      <th>3</th>\n",
       "      <td>561.117986</td>\n",
       "    </tr>\n",
       "    <tr>\n",
       "      <th>4</th>\n",
       "      <td>649.103035</td>\n",
       "    </tr>\n",
       "    <tr>\n",
       "      <th>5</th>\n",
       "      <td>811.735770</td>\n",
       "    </tr>\n",
       "  </tbody>\n",
       "</table>\n",
       "</div>"
      ],
      "text/plain": [
       "       total_cardspent\n",
       "                  mean\n",
       "inccat                \n",
       "1           354.649751\n",
       "2           453.133094\n",
       "3           561.117986\n",
       "4           649.103035\n",
       "5           811.735770"
      ]
     },
     "execution_count": 1085,
     "metadata": {},
     "output_type": "execute_result"
    }
   ],
   "source": [
    "pd.DataFrame(dfi.groupby(['inccat']).agg({\"total_cardspent\":['mean']}))"
   ]
  },
  {
   "cell_type": "markdown",
   "metadata": {},
   "source": [
    "#### We think that inccat is a good representation of household income so we can remove lninc as well"
   ]
  },
  {
   "cell_type": "code",
   "execution_count": 1086,
   "metadata": {},
   "outputs": [],
   "source": [
    "dfi.drop(columns = [\"lninc\"], inplace = True)"
   ]
  },
  {
   "cell_type": "markdown",
   "metadata": {},
   "source": [
    "## creddebt and lncreddebt"
   ]
  },
  {
   "cell_type": "code",
   "execution_count": 1087,
   "metadata": {},
   "outputs": [
    {
     "name": "stderr",
     "output_type": "stream",
     "text": [
      "C:\\Users\\Anirudh Gupta\\Anaconda3\\lib\\site-packages\\seaborn\\distributions.py:2551: FutureWarning: `distplot` is a deprecated function and will be removed in a future version. Please adapt your code to use either `displot` (a figure-level function with similar flexibility) or `histplot` (an axes-level function for histograms).\n",
      "  warnings.warn(msg, FutureWarning)\n"
     ]
    },
    {
     "data": {
      "text/plain": [
       "<AxesSubplot:xlabel='creddebt', ylabel='Density'>"
      ]
     },
     "execution_count": 1087,
     "metadata": {},
     "output_type": "execute_result"
    },
    {
     "data": {
      "image/png": "[encoded data removed]",
      "text/plain": [
       "<Figure size 432x288 with 1 Axes>"
      ]
     },
     "metadata": {
      "needs_background": "light"
     },
     "output_type": "display_data"
    }
   ],
   "source": [
    "sns.distplot(dfi[\"creddebt\"])"
   ]
  },
  {
   "cell_type": "code",
   "execution_count": 1088,
   "metadata": {
    "scrolled": true
   },
   "outputs": [
    {
     "name": "stderr",
     "output_type": "stream",
     "text": [
      "C:\\Users\\Anirudh Gupta\\Anaconda3\\lib\\site-packages\\seaborn\\distributions.py:2551: FutureWarning: `distplot` is a deprecated function and will be removed in a future version. Please adapt your code to use either `displot` (a figure-level function with similar flexibility) or `histplot` (an axes-level function for histograms).\n",
      "  warnings.warn(msg, FutureWarning)\n"
     ]
    },
    {
     "data": {
      "text/plain": [
       "<AxesSubplot:xlabel='lncreddebt', ylabel='Density'>"
      ]
     },
     "execution_count": 1088,
     "metadata": {},
     "output_type": "execute_result"
    },
    {
     "data": {
      "image/png": "[encoded data removed]",
      "text/plain": [
       "<Figure size 432x288 with 1 Axes>"
      ]
     },
     "metadata": {
      "needs_background": "light"
     },
     "output_type": "display_data"
    }
   ],
   "source": [
    "sns.distplot(dfi[\"lncreddebt\"])"
   ]
  },
  {
   "cell_type": "markdown",
   "metadata": {},
   "source": [
    "#### We see that lncreddebt is more closer to the normal distribution so we will keep it and drop creddebt"
   ]
  },
  {
   "cell_type": "code",
   "execution_count": 1089,
   "metadata": {},
   "outputs": [],
   "source": [
    "dfi.drop(columns = [\"creddebt\"], inplace=True)"
   ]
  },
  {
   "cell_type": "code",
   "execution_count": 1090,
   "metadata": {
    "scrolled": true
   },
   "outputs": [
    {
     "data": {
      "text/plain": [
       "<matplotlib.collections.PathCollection at 0x158cb241bb0>"
      ]
     },
     "execution_count": 1090,
     "metadata": {},
     "output_type": "execute_result"
    },
    {
     "data": {
      "image/png": "[encoded data removed]",
      "text/plain": [
       "<Figure size 432x288 with 1 Axes>"
      ]
     },
     "metadata": {
      "needs_background": "light"
     },
     "output_type": "display_data"
    }
   ],
   "source": [
    "plt.scatter(dfi[\"lncreddebt\"], dfi[\"total_cardspent\"])"
   ]
  },
  {
   "cell_type": "code",
   "execution_count": null,
   "metadata": {},
   "outputs": [],
   "source": []
  },
  {
   "cell_type": "code",
   "execution_count": 1091,
   "metadata": {},
   "outputs": [
    {
     "data": {
      "text/plain": [
       "array([-3.40192174, -2.98531046, -2.69305664, -2.46662814, -2.29164812,\n",
       "       -2.15709282, -2.04439798, -1.92027135, -1.82733837, -1.73747018,\n",
       "       -1.67262461, -1.6030055 , -1.5331512 , -1.47439855, -1.42290649,\n",
       "       -1.36329684, -1.31718406, -1.26352073, -1.19920282, -1.14982773,\n",
       "       -1.1087364 , -1.06545591, -1.01710898, -0.98453105, -0.95287178,\n",
       "       -0.90608746, -0.86414259, -0.80950738, -0.77040382, -0.74115032,\n",
       "       -0.70349396, -0.66201664, -0.62239062, -0.58055307, -0.53628738,\n",
       "       -0.50514461, -0.47253729, -0.43336842, -0.39723189, -0.36241603,\n",
       "       -0.32930952, -0.29954174, -0.27248722, -0.24614343, -0.22128216,\n",
       "       -0.19782769, -0.16287965, -0.12892233, -0.10858997, -0.07602019,\n",
       "       -0.04275768, -0.01518362,  0.01936152,  0.0475081 ,  0.07391887,\n",
       "        0.09926467,  0.13278199,  0.16614032,  0.19493018,  0.2285408 ,\n",
       "        0.26521846,  0.29565024,  0.31588445,  0.34307076,  0.37143522,\n",
       "        0.40533703,  0.44363797,  0.47616458,  0.51106133,  0.54276486,\n",
       "        0.58251171,  0.62218723,  0.65241381,  0.68809283,  0.72477179,\n",
       "        0.76456384,  0.80217549,  0.83324782,  0.87537715,  0.91712157,\n",
       "        0.9565329 ,  1.00388608,  1.05707487,  1.10883461,  1.15541147,\n",
       "        1.20753676,  1.25512027,  1.31134155,  1.3784654 ,  1.45929293,\n",
       "        1.51405385,  1.59297519,  1.6678013 ,  1.75396823,  1.85342668,\n",
       "        1.99165825,  2.13829674,  2.32173306,  2.65903542,  4.69201368])"
      ]
     },
     "execution_count": 1091,
     "metadata": {},
     "output_type": "execute_result"
    }
   ],
   "source": [
    "np.percentile(dfi[\"lncreddebt\"], range(1,101))"
   ]
  },
  {
   "cell_type": "code",
   "execution_count": 1092,
   "metadata": {},
   "outputs": [
    {
     "name": "stderr",
     "output_type": "stream",
     "text": [
      "<ipython-input-1092-3052131cd343>:1: SettingWithCopyWarning: \n",
      "A value is trying to be set on a copy of a slice from a DataFrame\n",
      "\n",
      "See the caveats in the documentation: https://pandas.pydata.org/pandas-docs/stable/user_guide/indexing.html#returning-a-view-versus-a-copy\n",
      "  dfi[\"lncreddebt\"][dfi[\"lncreddebt\"]>= 2.65] = 2.65\n"
     ]
    }
   ],
   "source": [
    "dfi[\"lncreddebt\"][dfi[\"lncreddebt\"]>= 2.65] = 2.65"
   ]
  },
  {
   "cell_type": "code",
   "execution_count": 1093,
   "metadata": {},
   "outputs": [
    {
     "data": {
      "text/plain": [
       "array([-3.40192174, -2.98531046, -2.69305664, -2.46662814, -2.29164812,\n",
       "       -2.15709282, -2.04439798, -1.92027135, -1.82733837, -1.73747018,\n",
       "       -1.67262461, -1.6030055 , -1.5331512 , -1.47439855, -1.42290649,\n",
       "       -1.36329684, -1.31718406, -1.26352073, -1.19920282, -1.14982773,\n",
       "       -1.1087364 , -1.06545591, -1.01710898, -0.98453105, -0.95287178,\n",
       "       -0.90608746, -0.86414259, -0.80950738, -0.77040382, -0.74115032,\n",
       "       -0.70349396, -0.66201664, -0.62239062, -0.58055307, -0.53628738,\n",
       "       -0.50514461, -0.47253729, -0.43336842, -0.39723189, -0.36241603,\n",
       "       -0.32930952, -0.29954174, -0.27248722, -0.24614343, -0.22128216,\n",
       "       -0.19782769, -0.16287965, -0.12892233, -0.10858997, -0.07602019,\n",
       "       -0.04275768, -0.01518362,  0.01936152,  0.0475081 ,  0.07391887,\n",
       "        0.09926467,  0.13278199,  0.16614032,  0.19493018,  0.2285408 ,\n",
       "        0.26521846,  0.29565024,  0.31588445,  0.34307076,  0.37143522,\n",
       "        0.40533703,  0.44363797,  0.47616458,  0.51106133,  0.54276486,\n",
       "        0.58251171,  0.62218723,  0.65241381,  0.68809283,  0.72477179,\n",
       "        0.76456384,  0.80217549,  0.83324782,  0.87537715,  0.91712157,\n",
       "        0.9565329 ,  1.00388608,  1.05707487,  1.10883461,  1.15541147,\n",
       "        1.20753676,  1.25512027,  1.31134155,  1.3784654 ,  1.45929293,\n",
       "        1.51405385,  1.59297519,  1.6678013 ,  1.75396823,  1.85342668,\n",
       "        1.99165825,  2.13829674,  2.32173306,  2.65      ,  2.65      ])"
      ]
     },
     "execution_count": 1093,
     "metadata": {},
     "output_type": "execute_result"
    }
   ],
   "source": [
    "np.percentile(dfi[\"lncreddebt\"], range(1,101))"
   ]
  },
  {
   "cell_type": "code",
   "execution_count": null,
   "metadata": {},
   "outputs": [],
   "source": []
  },
  {
   "cell_type": "markdown",
   "metadata": {},
   "source": [
    "## othdebt and lnothdebt"
   ]
  },
  {
   "cell_type": "code",
   "execution_count": 1094,
   "metadata": {},
   "outputs": [
    {
     "name": "stderr",
     "output_type": "stream",
     "text": [
      "C:\\Users\\Anirudh Gupta\\Anaconda3\\lib\\site-packages\\seaborn\\distributions.py:2551: FutureWarning: `distplot` is a deprecated function and will be removed in a future version. Please adapt your code to use either `displot` (a figure-level function with similar flexibility) or `histplot` (an axes-level function for histograms).\n",
      "  warnings.warn(msg, FutureWarning)\n"
     ]
    },
    {
     "data": {
      "text/plain": [
       "<AxesSubplot:xlabel='othdebt', ylabel='Density'>"
      ]
     },
     "execution_count": 1094,
     "metadata": {},
     "output_type": "execute_result"
    },
    {
     "data": {
      "image/png": "[encoded data removed]",
      "text/plain": [
       "<Figure size 432x288 with 1 Axes>"
      ]
     },
     "metadata": {
      "needs_background": "light"
     },
     "output_type": "display_data"
    }
   ],
   "source": [
    "sns.distplot(dfi[\"othdebt\"])"
   ]
  },
  {
   "cell_type": "code",
   "execution_count": 1095,
   "metadata": {},
   "outputs": [
    {
     "name": "stderr",
     "output_type": "stream",
     "text": [
      "C:\\Users\\Anirudh Gupta\\Anaconda3\\lib\\site-packages\\seaborn\\distributions.py:2551: FutureWarning: `distplot` is a deprecated function and will be removed in a future version. Please adapt your code to use either `displot` (a figure-level function with similar flexibility) or `histplot` (an axes-level function for histograms).\n",
      "  warnings.warn(msg, FutureWarning)\n"
     ]
    },
    {
     "data": {
      "text/plain": [
       "<AxesSubplot:xlabel='lnothdebt', ylabel='Density'>"
      ]
     },
     "execution_count": 1095,
     "metadata": {},
     "output_type": "execute_result"
    },
    {
     "data": {
      "image/png": "[encoded data removed]",
      "text/plain": [
       "<Figure size 432x288 with 1 Axes>"
      ]
     },
     "metadata": {
      "needs_background": "light"
     },
     "output_type": "display_data"
    }
   ],
   "source": [
    "sns.distplot(dfi[\"lnothdebt\"])"
   ]
  },
  {
   "cell_type": "markdown",
   "metadata": {},
   "source": [
    "#### We see that since lnothdebt is more closer to the normal distribution, we will keep it and drop othdebt"
   ]
  },
  {
   "cell_type": "code",
   "execution_count": 1096,
   "metadata": {},
   "outputs": [],
   "source": [
    "dfi.drop(columns = [\"othdebt\"], inplace = True)"
   ]
  },
  {
   "cell_type": "code",
   "execution_count": 1097,
   "metadata": {},
   "outputs": [
    {
     "data": {
      "text/plain": [
       "array([-2.16827067, -1.73936393, -1.53813577, -1.38372494, -1.24410825,\n",
       "       -1.13590153, -1.0398837 , -0.94872727, -0.87086677, -0.77997062,\n",
       "       -0.69298285, -0.62170098, -0.54498034, -0.4973891 , -0.43398916,\n",
       "       -0.37135907, -0.32370705, -0.28496832, -0.24594174, -0.20370717,\n",
       "       -0.15696022, -0.12056594, -0.0876684 , -0.04581807, -0.01943851,\n",
       "        0.02844132,  0.06102448,  0.08919521,  0.11982542,  0.15659133,\n",
       "        0.18972223,  0.22064568,  0.25107433,  0.27967028,  0.3058692 ,\n",
       "        0.33248748,  0.36341489,  0.39500402,  0.42149072,  0.4529331 ,\n",
       "        0.47776699,  0.5142218 ,  0.54272171,  0.56432273,  0.59109806,\n",
       "        0.62106869,  0.65959292,  0.68324051,  0.71387546,  0.74124182,\n",
       "        0.77403516,  0.80100572,  0.827534  ,  0.85149948,  0.88032081,\n",
       "        0.91460694,  0.94664049,  0.97343465,  1.0055954 ,  1.02560334,\n",
       "        1.04935775,  1.07550037,  1.10275594,  1.12502989,  1.15102274,\n",
       "        1.18078063,  1.21102334,  1.24537698,  1.27318589,  1.29948674,\n",
       "        1.32707163,  1.35459562,  1.38911336,  1.42137556,  1.46206024,\n",
       "        1.49512191,  1.52975703,  1.55883446,  1.59305868,  1.62566133,\n",
       "        1.66369159,  1.69673225,  1.73391061,  1.77661507,  1.81196044,\n",
       "        1.85648878,  1.91580156,  1.98414157,  2.02395864,  2.08723146,\n",
       "        2.14529407,  2.20967633,  2.30894583,  2.38788201,  2.4702545 ,\n",
       "        2.6135587 ,  2.75694216,  2.94622206,  3.1811776 ,  4.95201098])"
      ]
     },
     "execution_count": 1097,
     "metadata": {},
     "output_type": "execute_result"
    }
   ],
   "source": [
    "np.percentile(dfi[\"lnothdebt\"], range(1,101))"
   ]
  },
  {
   "cell_type": "code",
   "execution_count": 1098,
   "metadata": {},
   "outputs": [
    {
     "name": "stderr",
     "output_type": "stream",
     "text": [
      "<ipython-input-1098-487561bcefc2>:1: SettingWithCopyWarning: \n",
      "A value is trying to be set on a copy of a slice from a DataFrame\n",
      "\n",
      "See the caveats in the documentation: https://pandas.pydata.org/pandas-docs/stable/user_guide/indexing.html#returning-a-view-versus-a-copy\n",
      "  dfi['lnothdebt'][dfi[\"lnothdebt\"]<= -1.73]= -1.73\n",
      "<ipython-input-1098-487561bcefc2>:2: SettingWithCopyWarning: \n",
      "A value is trying to be set on a copy of a slice from a DataFrame\n",
      "\n",
      "See the caveats in the documentation: https://pandas.pydata.org/pandas-docs/stable/user_guide/indexing.html#returning-a-view-versus-a-copy\n",
      "  dfi['lnothdebt'][dfi[\"lnothdebt\"]>=3.18]= 3.18\n"
     ]
    }
   ],
   "source": [
    "dfi['lnothdebt'][dfi[\"lnothdebt\"]<= -1.73]= -1.73\n",
    "dfi['lnothdebt'][dfi[\"lnothdebt\"]>=3.18]= 3.18"
   ]
  },
  {
   "cell_type": "code",
   "execution_count": 1099,
   "metadata": {},
   "outputs": [
    {
     "data": {
      "text/plain": [
       "array([-1.73      , -1.73      , -1.53813577, -1.38372494, -1.24410825,\n",
       "       -1.13590153, -1.0398837 , -0.94872727, -0.87086677, -0.77997062,\n",
       "       -0.69298285, -0.62170098, -0.54498034, -0.4973891 , -0.43398916,\n",
       "       -0.37135907, -0.32370705, -0.28496832, -0.24594174, -0.20370717,\n",
       "       -0.15696022, -0.12056594, -0.0876684 , -0.04581807, -0.01943851,\n",
       "        0.02844132,  0.06102448,  0.08919521,  0.11982542,  0.15659133,\n",
       "        0.18972223,  0.22064568,  0.25107433,  0.27967028,  0.3058692 ,\n",
       "        0.33248748,  0.36341489,  0.39500402,  0.42149072,  0.4529331 ,\n",
       "        0.47776699,  0.5142218 ,  0.54272171,  0.56432273,  0.59109806,\n",
       "        0.62106869,  0.65959292,  0.68324051,  0.71387546,  0.74124182,\n",
       "        0.77403516,  0.80100572,  0.827534  ,  0.85149948,  0.88032081,\n",
       "        0.91460694,  0.94664049,  0.97343465,  1.0055954 ,  1.02560334,\n",
       "        1.04935775,  1.07550037,  1.10275594,  1.12502989,  1.15102274,\n",
       "        1.18078063,  1.21102334,  1.24537698,  1.27318589,  1.29948674,\n",
       "        1.32707163,  1.35459562,  1.38911336,  1.42137556,  1.46206024,\n",
       "        1.49512191,  1.52975703,  1.55883446,  1.59305868,  1.62566133,\n",
       "        1.66369159,  1.69673225,  1.73391061,  1.77661507,  1.81196044,\n",
       "        1.85648878,  1.91580156,  1.98414157,  2.02395864,  2.08723146,\n",
       "        2.14529407,  2.20967633,  2.30894583,  2.38788201,  2.4702545 ,\n",
       "        2.6135587 ,  2.75694216,  2.94622206,  3.18      ,  3.18      ])"
      ]
     },
     "execution_count": 1099,
     "metadata": {},
     "output_type": "execute_result"
    }
   ],
   "source": [
    "np.percentile(dfi[\"lnothdebt\"], range(1,101))"
   ]
  },
  {
   "cell_type": "code",
   "execution_count": null,
   "metadata": {},
   "outputs": [],
   "source": []
  },
  {
   "cell_type": "markdown",
   "metadata": {},
   "source": [
    "## jobsat"
   ]
  },
  {
   "cell_type": "code",
   "execution_count": 1100,
   "metadata": {},
   "outputs": [
    {
     "data": {
      "text/plain": [
       "3    1083\n",
       "2    1031\n",
       "4    1016\n",
       "1     972\n",
       "5     892\n",
       "Name: jobsat, dtype: int64"
      ]
     },
     "execution_count": 1100,
     "metadata": {},
     "output_type": "execute_result"
    }
   ],
   "source": [
    "dfi[\"jobsat\"].value_counts()"
   ]
  },
  {
   "cell_type": "code",
   "execution_count": 1101,
   "metadata": {},
   "outputs": [
    {
     "data": {
      "text/html": [
       "<div>\n",
       "<style scoped>\n",
       "    .dataframe tbody tr th:only-of-type {\n",
       "        vertical-align: middle;\n",
       "    }\n",
       "\n",
       "    .dataframe tbody tr th {\n",
       "        vertical-align: top;\n",
       "    }\n",
       "\n",
       "    .dataframe thead tr th {\n",
       "        text-align: left;\n",
       "    }\n",
       "\n",
       "    .dataframe thead tr:last-of-type th {\n",
       "        text-align: right;\n",
       "    }\n",
       "</style>\n",
       "<table border=\"1\" class=\"dataframe\">\n",
       "  <thead>\n",
       "    <tr>\n",
       "      <th></th>\n",
       "      <th>total_cardspent</th>\n",
       "    </tr>\n",
       "    <tr>\n",
       "      <th></th>\n",
       "      <th>mean</th>\n",
       "    </tr>\n",
       "    <tr>\n",
       "      <th>jobsat</th>\n",
       "      <th></th>\n",
       "    </tr>\n",
       "  </thead>\n",
       "  <tbody>\n",
       "    <tr>\n",
       "      <th>1</th>\n",
       "      <td>460.692037</td>\n",
       "    </tr>\n",
       "    <tr>\n",
       "      <th>2</th>\n",
       "      <td>493.344035</td>\n",
       "    </tr>\n",
       "    <tr>\n",
       "      <th>3</th>\n",
       "      <td>479.272530</td>\n",
       "    </tr>\n",
       "    <tr>\n",
       "      <th>4</th>\n",
       "      <td>528.265650</td>\n",
       "    </tr>\n",
       "    <tr>\n",
       "      <th>5</th>\n",
       "      <td>532.831827</td>\n",
       "    </tr>\n",
       "  </tbody>\n",
       "</table>\n",
       "</div>"
      ],
      "text/plain": [
       "       total_cardspent\n",
       "                  mean\n",
       "jobsat                \n",
       "1           460.692037\n",
       "2           493.344035\n",
       "3           479.272530\n",
       "4           528.265650\n",
       "5           532.831827"
      ]
     },
     "execution_count": 1101,
     "metadata": {},
     "output_type": "execute_result"
    }
   ],
   "source": [
    "pd.DataFrame(dff.groupby(['jobsat']).agg({\"total_cardspent\":['mean']}))"
   ]
  },
  {
   "cell_type": "code",
   "execution_count": null,
   "metadata": {},
   "outputs": [],
   "source": []
  },
  {
   "cell_type": "markdown",
   "metadata": {},
   "source": [
    "## spousedcat"
   ]
  },
  {
   "cell_type": "code",
   "execution_count": 1102,
   "metadata": {},
   "outputs": [
    {
     "data": {
      "text/html": [
       "<div>\n",
       "<style scoped>\n",
       "    .dataframe tbody tr th:only-of-type {\n",
       "        vertical-align: middle;\n",
       "    }\n",
       "\n",
       "    .dataframe tbody tr th {\n",
       "        vertical-align: top;\n",
       "    }\n",
       "\n",
       "    .dataframe thead tr th {\n",
       "        text-align: left;\n",
       "    }\n",
       "\n",
       "    .dataframe thead tr:last-of-type th {\n",
       "        text-align: right;\n",
       "    }\n",
       "</style>\n",
       "<table border=\"1\" class=\"dataframe\">\n",
       "  <thead>\n",
       "    <tr>\n",
       "      <th></th>\n",
       "      <th>total_cardspent</th>\n",
       "    </tr>\n",
       "    <tr>\n",
       "      <th></th>\n",
       "      <th>mean</th>\n",
       "    </tr>\n",
       "    <tr>\n",
       "      <th>spousedcat</th>\n",
       "      <th></th>\n",
       "    </tr>\n",
       "  </thead>\n",
       "  <tbody>\n",
       "    <tr>\n",
       "      <th>-1</th>\n",
       "      <td>492.549792</td>\n",
       "    </tr>\n",
       "    <tr>\n",
       "      <th>1</th>\n",
       "      <td>467.811752</td>\n",
       "    </tr>\n",
       "    <tr>\n",
       "      <th>2</th>\n",
       "      <td>498.359873</td>\n",
       "    </tr>\n",
       "    <tr>\n",
       "      <th>3</th>\n",
       "      <td>517.901045</td>\n",
       "    </tr>\n",
       "    <tr>\n",
       "      <th>4</th>\n",
       "      <td>540.364340</td>\n",
       "    </tr>\n",
       "    <tr>\n",
       "      <th>5</th>\n",
       "      <td>553.451714</td>\n",
       "    </tr>\n",
       "  </tbody>\n",
       "</table>\n",
       "</div>"
      ],
      "text/plain": [
       "           total_cardspent\n",
       "                      mean\n",
       "spousedcat                \n",
       "-1              492.549792\n",
       " 1              467.811752\n",
       " 2              498.359873\n",
       " 3              517.901045\n",
       " 4              540.364340\n",
       " 5              553.451714"
      ]
     },
     "execution_count": 1102,
     "metadata": {},
     "output_type": "execute_result"
    }
   ],
   "source": [
    "pd.DataFrame(dfi.groupby(['spousedcat']).agg({\"total_cardspent\":['mean']}))"
   ]
  },
  {
   "cell_type": "code",
   "execution_count": null,
   "metadata": {},
   "outputs": [],
   "source": []
  },
  {
   "cell_type": "code",
   "execution_count": null,
   "metadata": {},
   "outputs": [],
   "source": []
  },
  {
   "cell_type": "markdown",
   "metadata": {},
   "source": [
    "# pet_dogs"
   ]
  },
  {
   "cell_type": "code",
   "execution_count": 1103,
   "metadata": {
    "scrolled": true
   },
   "outputs": [
    {
     "data": {
      "text/plain": [
       "<matplotlib.collections.PathCollection at 0x158cb8072e0>"
      ]
     },
     "execution_count": 1103,
     "metadata": {},
     "output_type": "execute_result"
    },
    {
     "data": {
      "image/png": "[encoded data removed]",
      "text/plain": [
       "<Figure size 432x288 with 1 Axes>"
      ]
     },
     "metadata": {
      "needs_background": "light"
     },
     "output_type": "display_data"
    }
   ],
   "source": [
    "plt.scatter(dfi[\"pets_dogs\"], dff[\"total_cardspent\"])"
   ]
  },
  {
   "cell_type": "code",
   "execution_count": 1104,
   "metadata": {},
   "outputs": [
    {
     "data": {
      "text/html": [
       "<div>\n",
       "<style scoped>\n",
       "    .dataframe tbody tr th:only-of-type {\n",
       "        vertical-align: middle;\n",
       "    }\n",
       "\n",
       "    .dataframe tbody tr th {\n",
       "        vertical-align: top;\n",
       "    }\n",
       "\n",
       "    .dataframe thead tr th {\n",
       "        text-align: left;\n",
       "    }\n",
       "\n",
       "    .dataframe thead tr:last-of-type th {\n",
       "        text-align: right;\n",
       "    }\n",
       "</style>\n",
       "<table border=\"1\" class=\"dataframe\">\n",
       "  <thead>\n",
       "    <tr>\n",
       "      <th></th>\n",
       "      <th>total_cardspent</th>\n",
       "    </tr>\n",
       "    <tr>\n",
       "      <th></th>\n",
       "      <th>mean</th>\n",
       "    </tr>\n",
       "    <tr>\n",
       "      <th>pets_dogs</th>\n",
       "      <th></th>\n",
       "    </tr>\n",
       "  </thead>\n",
       "  <tbody>\n",
       "    <tr>\n",
       "      <th>0</th>\n",
       "      <td>494.304293</td>\n",
       "    </tr>\n",
       "    <tr>\n",
       "      <th>1</th>\n",
       "      <td>492.300194</td>\n",
       "    </tr>\n",
       "    <tr>\n",
       "      <th>2</th>\n",
       "      <td>549.302702</td>\n",
       "    </tr>\n",
       "    <tr>\n",
       "      <th>3</th>\n",
       "      <td>523.102991</td>\n",
       "    </tr>\n",
       "    <tr>\n",
       "      <th>4</th>\n",
       "      <td>427.516944</td>\n",
       "    </tr>\n",
       "    <tr>\n",
       "      <th>5</th>\n",
       "      <td>438.727500</td>\n",
       "    </tr>\n",
       "    <tr>\n",
       "      <th>7</th>\n",
       "      <td>380.790000</td>\n",
       "    </tr>\n",
       "  </tbody>\n",
       "</table>\n",
       "</div>"
      ],
      "text/plain": [
       "          total_cardspent\n",
       "                     mean\n",
       "pets_dogs                \n",
       "0              494.304293\n",
       "1              492.300194\n",
       "2              549.302702\n",
       "3              523.102991\n",
       "4              427.516944\n",
       "5              438.727500\n",
       "7              380.790000"
      ]
     },
     "execution_count": 1104,
     "metadata": {},
     "output_type": "execute_result"
    }
   ],
   "source": [
    "pd.DataFrame(dfi.groupby(['pets_dogs']).agg({\"total_cardspent\":['mean']}))"
   ]
  },
  {
   "cell_type": "code",
   "execution_count": null,
   "metadata": {},
   "outputs": [],
   "source": []
  },
  {
   "cell_type": "markdown",
   "metadata": {},
   "source": [
    "# carditems and card2items"
   ]
  },
  {
   "cell_type": "code",
   "execution_count": null,
   "metadata": {},
   "outputs": [],
   "source": []
  },
  {
   "cell_type": "code",
   "execution_count": 1105,
   "metadata": {},
   "outputs": [
    {
     "name": "stderr",
     "output_type": "stream",
     "text": [
      "C:\\Users\\Anirudh Gupta\\Anaconda3\\lib\\site-packages\\seaborn\\_decorators.py:36: FutureWarning: Pass the following variables as keyword args: x, y. From version 0.12, the only valid positional argument will be `data`, and passing other arguments without an explicit keyword will result in an error or misinterpretation.\n",
      "  warnings.warn(\n"
     ]
    },
    {
     "data": {
      "text/plain": [
       "<AxesSubplot:xlabel='carditems', ylabel='total_cardspent'>"
      ]
     },
     "execution_count": 1105,
     "metadata": {},
     "output_type": "execute_result"
    },
    {
     "data": {
      "image/png": "[encoded data removed]",
      "text/plain": [
       "<Figure size 432x288 with 1 Axes>"
      ]
     },
     "metadata": {
      "needs_background": "light"
     },
     "output_type": "display_data"
    }
   ],
   "source": [
    "sns.regplot(dfi[\"carditems\"], dfi[\"total_cardspent\"])"
   ]
  },
  {
   "cell_type": "code",
   "execution_count": 1106,
   "metadata": {},
   "outputs": [
    {
     "name": "stderr",
     "output_type": "stream",
     "text": [
      "C:\\Users\\Anirudh Gupta\\Anaconda3\\lib\\site-packages\\seaborn\\_decorators.py:36: FutureWarning: Pass the following variables as keyword args: x, y. From version 0.12, the only valid positional argument will be `data`, and passing other arguments without an explicit keyword will result in an error or misinterpretation.\n",
      "  warnings.warn(\n"
     ]
    },
    {
     "data": {
      "text/plain": [
       "<AxesSubplot:xlabel='card2items', ylabel='total_cardspent'>"
      ]
     },
     "execution_count": 1106,
     "metadata": {},
     "output_type": "execute_result"
    },
    {
     "data": {
      "image/png": "[encoded data removed]",
      "text/plain": [
       "<Figure size 432x288 with 1 Axes>"
      ]
     },
     "metadata": {
      "needs_background": "light"
     },
     "output_type": "display_data"
    }
   ],
   "source": [
    "sns.regplot(dfi[\"card2items\"], dfi[\"total_cardspent\"])"
   ]
  },
  {
   "cell_type": "code",
   "execution_count": 1107,
   "metadata": {},
   "outputs": [
    {
     "data": {
      "text/plain": [
       "array([ 2.  ,  4.  ,  4.  ,  5.  ,  5.  ,  5.  ,  5.  ,  6.  ,  6.  ,\n",
       "        6.  ,  6.  ,  6.  ,  6.  ,  7.  ,  7.  ,  7.  ,  7.  ,  7.  ,\n",
       "        7.  ,  7.  ,  7.  ,  8.  ,  8.  ,  8.  ,  8.  ,  8.  ,  8.  ,\n",
       "        8.  ,  8.  ,  8.  ,  8.  ,  9.  ,  9.  ,  9.  ,  9.  ,  9.  ,\n",
       "        9.  ,  9.  ,  9.  ,  9.  ,  9.  ,  9.  ,  9.  , 10.  , 10.  ,\n",
       "       10.  , 10.  , 10.  , 10.  , 10.  , 10.  , 10.  , 10.  , 10.  ,\n",
       "       10.15, 11.  , 11.  , 11.  , 11.  , 11.  , 11.  , 11.  , 11.  ,\n",
       "       11.  , 11.  , 11.  , 11.  , 12.  , 12.  , 12.  , 12.  , 12.  ,\n",
       "       12.  , 12.  , 12.  , 12.  , 13.  , 13.  , 13.  , 13.  , 13.  ,\n",
       "       13.  , 13.  , 13.  , 14.  , 14.  , 14.  , 14.  , 14.  , 15.  ,\n",
       "       15.  , 15.  , 15.  , 16.  , 16.  , 16.  , 17.  , 18.  , 19.  ,\n",
       "       23.  ])"
      ]
     },
     "execution_count": 1107,
     "metadata": {},
     "output_type": "execute_result"
    }
   ],
   "source": [
    "np.percentile(dfi[\"carditems\"], range(1,101))"
   ]
  },
  {
   "cell_type": "code",
   "execution_count": 1108,
   "metadata": {},
   "outputs": [
    {
     "name": "stderr",
     "output_type": "stream",
     "text": [
      "<ipython-input-1108-85e712180bd1>:1: SettingWithCopyWarning: \n",
      "A value is trying to be set on a copy of a slice from a DataFrame\n",
      "\n",
      "See the caveats in the documentation: https://pandas.pydata.org/pandas-docs/stable/user_guide/indexing.html#returning-a-view-versus-a-copy\n",
      "  dfi[\"carditems\"][dfi[\"carditems\"]>=19] = 19\n"
     ]
    }
   ],
   "source": [
    "dfi[\"carditems\"][dfi[\"carditems\"]>=19] = 19"
   ]
  },
  {
   "cell_type": "code",
   "execution_count": 1109,
   "metadata": {},
   "outputs": [
    {
     "data": {
      "text/plain": [
       "array([ 0.,  0.,  0.,  1.,  1.,  1.,  1.,  1.,  1.,  1.,  2.,  2.,  2.,\n",
       "        2.,  2.,  2.,  2.,  2.,  2.,  2.,  3.,  3.,  3.,  3.,  3.,  3.,\n",
       "        3.,  3.,  3.,  3.,  3.,  3.,  3.,  4.,  4.,  4.,  4.,  4.,  4.,\n",
       "        4.,  4.,  4.,  4.,  4.,  4.,  4.,  4.,  4.,  4.,  5.,  5.,  5.,\n",
       "        5.,  5.,  5.,  5.,  5.,  5.,  5.,  5.,  5.,  5.,  5.,  5.,  6.,\n",
       "        6.,  6.,  6.,  6.,  6.,  6.,  6.,  6.,  6.,  6.,  6.,  7.,  7.,\n",
       "        7.,  7.,  7.,  7.,  7.,  7.,  7.,  7.,  7.,  8.,  8.,  8.,  8.,\n",
       "        8.,  8.,  9.,  9.,  9., 10., 10., 11., 15.])"
      ]
     },
     "execution_count": 1109,
     "metadata": {},
     "output_type": "execute_result"
    }
   ],
   "source": [
    "np.percentile(dfi[\"card2items\"], range(1,101))"
   ]
  },
  {
   "cell_type": "code",
   "execution_count": 1110,
   "metadata": {},
   "outputs": [
    {
     "name": "stderr",
     "output_type": "stream",
     "text": [
      "<ipython-input-1110-f559583e443f>:1: SettingWithCopyWarning: \n",
      "A value is trying to be set on a copy of a slice from a DataFrame\n",
      "\n",
      "See the caveats in the documentation: https://pandas.pydata.org/pandas-docs/stable/user_guide/indexing.html#returning-a-view-versus-a-copy\n",
      "  dfi[\"card2items\"][dfi[\"card2items\"]>=11] = 11\n"
     ]
    }
   ],
   "source": [
    "dfi[\"card2items\"][dfi[\"card2items\"]>=11] = 11"
   ]
  },
  {
   "cell_type": "markdown",
   "metadata": {},
   "source": [
    "# carvalue - Primary vehicle sticker price"
   ]
  },
  {
   "cell_type": "code",
   "execution_count": 1111,
   "metadata": {},
   "outputs": [
    {
     "name": "stderr",
     "output_type": "stream",
     "text": [
      "C:\\Users\\Anirudh Gupta\\Anaconda3\\lib\\site-packages\\seaborn\\distributions.py:2551: FutureWarning: `distplot` is a deprecated function and will be removed in a future version. Please adapt your code to use either `displot` (a figure-level function with similar flexibility) or `histplot` (an axes-level function for histograms).\n",
      "  warnings.warn(msg, FutureWarning)\n"
     ]
    },
    {
     "data": {
      "text/plain": [
       "<AxesSubplot:xlabel='carvalue', ylabel='Density'>"
      ]
     },
     "execution_count": 1111,
     "metadata": {},
     "output_type": "execute_result"
    },
    {
     "data": {
      "image/png": "[encoded data removed]",
      "text/plain": [
       "<Figure size 432x288 with 1 Axes>"
      ]
     },
     "metadata": {
      "needs_background": "light"
     },
     "output_type": "display_data"
    }
   ],
   "source": [
    "sns.distplot(dfi[\"carvalue\"])"
   ]
  },
  {
   "cell_type": "code",
   "execution_count": 1112,
   "metadata": {
    "scrolled": true
   },
   "outputs": [
    {
     "name": "stderr",
     "output_type": "stream",
     "text": [
      "C:\\Users\\Anirudh Gupta\\Anaconda3\\lib\\site-packages\\seaborn\\_decorators.py:36: FutureWarning: Pass the following variables as keyword args: x, y. From version 0.12, the only valid positional argument will be `data`, and passing other arguments without an explicit keyword will result in an error or misinterpretation.\n",
      "  warnings.warn(\n"
     ]
    },
    {
     "data": {
      "text/plain": [
       "<AxesSubplot:xlabel='carvalue', ylabel='total_cardspent'>"
      ]
     },
     "execution_count": 1112,
     "metadata": {},
     "output_type": "execute_result"
    },
    {
     "data": {
      "image/png": "[encoded data removed]",
      "text/plain": [
       "<Figure size 432x288 with 1 Axes>"
      ]
     },
     "metadata": {
      "needs_background": "light"
     },
     "output_type": "display_data"
    }
   ],
   "source": [
    "sns.regplot(dfi[\"carvalue\"], dfi[\"total_cardspent\"], color = \"green\")"
   ]
  },
  {
   "cell_type": "code",
   "execution_count": 1113,
   "metadata": {},
   "outputs": [],
   "source": [
    "# sns.regplot?"
   ]
  },
  {
   "cell_type": "code",
   "execution_count": 1114,
   "metadata": {},
   "outputs": [
    {
     "data": {
      "text/plain": [
       "array([-1.   , -1.   , -1.   , -1.   , -1.   , -1.   , -1.   , -1.   ,\n",
       "       -1.   ,  2.53 ,  4.2  ,  4.7  ,  5.109,  5.6  ,  5.9  ,  6.3  ,\n",
       "        6.6  ,  7.   ,  7.4  ,  7.6  ,  8.053,  8.346,  8.7  ,  9.   ,\n",
       "        9.3  ,  9.5  ,  9.8  , 10.   , 10.3  , 10.5  , 10.9  , 11.2  ,\n",
       "       11.5  , 11.8  , 12.1  , 12.4  , 12.8  , 13.   , 13.327, 13.6  ,\n",
       "       13.813, 14.2  , 14.5  , 14.9  , 15.3  , 15.6  , 16.   , 16.3  ,\n",
       "       16.7  , 17.   , 17.4  , 17.736, 18.1  , 18.5  , 18.8  , 19.2  ,\n",
       "       19.601, 20.   , 20.5  , 21.1  , 21.7  , 22.4  , 23.   , 23.6  ,\n",
       "       24.1  , 24.638, 25.3  , 26.   , 26.6  , 27.31 , 28.   , 28.6  ,\n",
       "       29.5  , 30.282, 31.1  , 31.968, 33.1  , 33.9  , 35.1  , 36.1  ,\n",
       "       37.2  , 38.4  , 39.6  , 40.812, 42.405, 44.2  , 45.991, 48.   ,\n",
       "       50.277, 52.9  , 55.763, 58.6  , 62.649, 67.6  , 71.935, 79.028,\n",
       "       83.621, 88.114, 92.007, 99.6  ])"
      ]
     },
     "execution_count": 1114,
     "metadata": {},
     "output_type": "execute_result"
    }
   ],
   "source": [
    "np.percentile(dfi[\"carvalue\"], range(1,101))"
   ]
  },
  {
   "cell_type": "code",
   "execution_count": null,
   "metadata": {},
   "outputs": [],
   "source": []
  },
  {
   "cell_type": "markdown",
   "metadata": {},
   "source": [
    "# carcatvalue"
   ]
  },
  {
   "cell_type": "code",
   "execution_count": 1115,
   "metadata": {},
   "outputs": [
    {
     "data": {
      "text/plain": [
       " 1    2395\n",
       " 2    1267\n",
       " 3     836\n",
       "-1     496\n",
       "Name: carcatvalue, dtype: int64"
      ]
     },
     "execution_count": 1115,
     "metadata": {},
     "output_type": "execute_result"
    }
   ],
   "source": [
    "dfi[\"carcatvalue\"].value_counts()"
   ]
  },
  {
   "cell_type": "code",
   "execution_count": 1116,
   "metadata": {},
   "outputs": [
    {
     "data": {
      "text/html": [
       "<div>\n",
       "<style scoped>\n",
       "    .dataframe tbody tr th:only-of-type {\n",
       "        vertical-align: middle;\n",
       "    }\n",
       "\n",
       "    .dataframe tbody tr th {\n",
       "        vertical-align: top;\n",
       "    }\n",
       "\n",
       "    .dataframe thead tr th {\n",
       "        text-align: left;\n",
       "    }\n",
       "\n",
       "    .dataframe thead tr:last-of-type th {\n",
       "        text-align: right;\n",
       "    }\n",
       "</style>\n",
       "<table border=\"1\" class=\"dataframe\">\n",
       "  <thead>\n",
       "    <tr>\n",
       "      <th></th>\n",
       "      <th>total_cardspent</th>\n",
       "    </tr>\n",
       "    <tr>\n",
       "      <th></th>\n",
       "      <th>mean</th>\n",
       "    </tr>\n",
       "    <tr>\n",
       "      <th>carcatvalue</th>\n",
       "      <th></th>\n",
       "    </tr>\n",
       "  </thead>\n",
       "  <tbody>\n",
       "    <tr>\n",
       "      <th>-1</th>\n",
       "      <td>517.296149</td>\n",
       "    </tr>\n",
       "    <tr>\n",
       "      <th>1</th>\n",
       "      <td>396.908747</td>\n",
       "    </tr>\n",
       "    <tr>\n",
       "      <th>2</th>\n",
       "      <td>541.279471</td>\n",
       "    </tr>\n",
       "    <tr>\n",
       "      <th>3</th>\n",
       "      <td>711.136328</td>\n",
       "    </tr>\n",
       "  </tbody>\n",
       "</table>\n",
       "</div>"
      ],
      "text/plain": [
       "            total_cardspent\n",
       "                       mean\n",
       "carcatvalue                \n",
       "-1               517.296149\n",
       " 1               396.908747\n",
       " 2               541.279471\n",
       " 3               711.136328"
      ]
     },
     "execution_count": 1116,
     "metadata": {},
     "output_type": "execute_result"
    }
   ],
   "source": [
    "pd.DataFrame(dfi.groupby(['carcatvalue']).agg({\"total_cardspent\":['mean']}))"
   ]
  },
  {
   "cell_type": "code",
   "execution_count": null,
   "metadata": {},
   "outputs": [],
   "source": []
  },
  {
   "cell_type": "markdown",
   "metadata": {},
   "source": [
    "# card and card2"
   ]
  },
  {
   "cell_type": "code",
   "execution_count": 1117,
   "metadata": {},
   "outputs": [
    {
     "data": {
      "text/html": [
       "<div>\n",
       "<style scoped>\n",
       "    .dataframe tbody tr th:only-of-type {\n",
       "        vertical-align: middle;\n",
       "    }\n",
       "\n",
       "    .dataframe tbody tr th {\n",
       "        vertical-align: top;\n",
       "    }\n",
       "\n",
       "    .dataframe thead tr th {\n",
       "        text-align: left;\n",
       "    }\n",
       "\n",
       "    .dataframe thead tr:last-of-type th {\n",
       "        text-align: right;\n",
       "    }\n",
       "</style>\n",
       "<table border=\"1\" class=\"dataframe\">\n",
       "  <thead>\n",
       "    <tr>\n",
       "      <th></th>\n",
       "      <th>total_cardspent</th>\n",
       "    </tr>\n",
       "    <tr>\n",
       "      <th></th>\n",
       "      <th>mean</th>\n",
       "    </tr>\n",
       "    <tr>\n",
       "      <th>card</th>\n",
       "      <th></th>\n",
       "    </tr>\n",
       "  </thead>\n",
       "  <tbody>\n",
       "    <tr>\n",
       "      <th>1</th>\n",
       "      <td>753.906914</td>\n",
       "    </tr>\n",
       "    <tr>\n",
       "      <th>2</th>\n",
       "      <td>426.230981</td>\n",
       "    </tr>\n",
       "    <tr>\n",
       "      <th>3</th>\n",
       "      <td>426.112200</td>\n",
       "    </tr>\n",
       "    <tr>\n",
       "      <th>4</th>\n",
       "      <td>452.028019</td>\n",
       "    </tr>\n",
       "    <tr>\n",
       "      <th>5</th>\n",
       "      <td>433.551712</td>\n",
       "    </tr>\n",
       "  </tbody>\n",
       "</table>\n",
       "</div>"
      ],
      "text/plain": [
       "     total_cardspent\n",
       "                mean\n",
       "card                \n",
       "1         753.906914\n",
       "2         426.230981\n",
       "3         426.112200\n",
       "4         452.028019\n",
       "5         433.551712"
      ]
     },
     "execution_count": 1117,
     "metadata": {},
     "output_type": "execute_result"
    }
   ],
   "source": [
    "pd.DataFrame(dfi.groupby(['card']).agg({\"total_cardspent\":['mean']}))"
   ]
  },
  {
   "cell_type": "markdown",
   "metadata": {},
   "source": [
    "#### Here we can try to make 2,3 and 5 as one category but since it will taken as numeric variable there is no need to do so."
   ]
  },
  {
   "cell_type": "code",
   "execution_count": 1118,
   "metadata": {},
   "outputs": [
    {
     "data": {
      "text/html": [
       "<div>\n",
       "<style scoped>\n",
       "    .dataframe tbody tr th:only-of-type {\n",
       "        vertical-align: middle;\n",
       "    }\n",
       "\n",
       "    .dataframe tbody tr th {\n",
       "        vertical-align: top;\n",
       "    }\n",
       "\n",
       "    .dataframe thead tr th {\n",
       "        text-align: left;\n",
       "    }\n",
       "\n",
       "    .dataframe thead tr:last-of-type th {\n",
       "        text-align: right;\n",
       "    }\n",
       "</style>\n",
       "<table border=\"1\" class=\"dataframe\">\n",
       "  <thead>\n",
       "    <tr>\n",
       "      <th></th>\n",
       "      <th>total_cardspent</th>\n",
       "    </tr>\n",
       "    <tr>\n",
       "      <th></th>\n",
       "      <th>mean</th>\n",
       "    </tr>\n",
       "    <tr>\n",
       "      <th>card2</th>\n",
       "      <th></th>\n",
       "    </tr>\n",
       "  </thead>\n",
       "  <tbody>\n",
       "    <tr>\n",
       "      <th>1</th>\n",
       "      <td>598.573088</td>\n",
       "    </tr>\n",
       "    <tr>\n",
       "      <th>2</th>\n",
       "      <td>457.902685</td>\n",
       "    </tr>\n",
       "    <tr>\n",
       "      <th>3</th>\n",
       "      <td>463.286213</td>\n",
       "    </tr>\n",
       "    <tr>\n",
       "      <th>4</th>\n",
       "      <td>538.281868</td>\n",
       "    </tr>\n",
       "    <tr>\n",
       "      <th>5</th>\n",
       "      <td>414.407645</td>\n",
       "    </tr>\n",
       "  </tbody>\n",
       "</table>\n",
       "</div>"
      ],
      "text/plain": [
       "      total_cardspent\n",
       "                 mean\n",
       "card2                \n",
       "1          598.573088\n",
       "2          457.902685\n",
       "3          463.286213\n",
       "4          538.281868\n",
       "5          414.407645"
      ]
     },
     "execution_count": 1118,
     "metadata": {},
     "output_type": "execute_result"
    }
   ],
   "source": [
    "pd.DataFrame(dfi.groupby(['card2']).agg({\"total_cardspent\":['mean']}))"
   ]
  },
  {
   "cell_type": "code",
   "execution_count": null,
   "metadata": {},
   "outputs": [],
   "source": []
  },
  {
   "cell_type": "markdown",
   "metadata": {},
   "source": [
    "# address and addresscat"
   ]
  },
  {
   "cell_type": "markdown",
   "metadata": {},
   "source": [
    "#### Since we have addresscat we do not need address"
   ]
  },
  {
   "cell_type": "code",
   "execution_count": 1119,
   "metadata": {},
   "outputs": [],
   "source": [
    "dfi.drop(columns = [\"address\"], inplace = True)"
   ]
  },
  {
   "cell_type": "raw",
   "metadata": {},
   "source": []
  },
  {
   "cell_type": "raw",
   "metadata": {},
   "source": [
    "addresscat\n",
    "\n",
    "1\tLess than 3\n",
    "2\t4 to 7\n",
    "3\t8 to 15\n",
    "4\t16 to 25\n",
    "5\tMore than 25\n"
   ]
  },
  {
   "cell_type": "code",
   "execution_count": 1120,
   "metadata": {},
   "outputs": [
    {
     "data": {
      "text/plain": [
       "3    1220\n",
       "5    1156\n",
       "4    1138\n",
       "2     873\n",
       "1     607\n",
       "Name: addresscat, dtype: int64"
      ]
     },
     "execution_count": 1120,
     "metadata": {},
     "output_type": "execute_result"
    }
   ],
   "source": [
    "dfi[\"addresscat\"].value_counts()"
   ]
  },
  {
   "cell_type": "code",
   "execution_count": 1121,
   "metadata": {},
   "outputs": [
    {
     "data": {
      "text/html": [
       "<div>\n",
       "<style scoped>\n",
       "    .dataframe tbody tr th:only-of-type {\n",
       "        vertical-align: middle;\n",
       "    }\n",
       "\n",
       "    .dataframe tbody tr th {\n",
       "        vertical-align: top;\n",
       "    }\n",
       "\n",
       "    .dataframe thead tr th {\n",
       "        text-align: left;\n",
       "    }\n",
       "\n",
       "    .dataframe thead tr:last-of-type th {\n",
       "        text-align: right;\n",
       "    }\n",
       "</style>\n",
       "<table border=\"1\" class=\"dataframe\">\n",
       "  <thead>\n",
       "    <tr>\n",
       "      <th></th>\n",
       "      <th>total_cardspent</th>\n",
       "    </tr>\n",
       "    <tr>\n",
       "      <th></th>\n",
       "      <th>mean</th>\n",
       "    </tr>\n",
       "    <tr>\n",
       "      <th>addresscat</th>\n",
       "      <th></th>\n",
       "    </tr>\n",
       "  </thead>\n",
       "  <tbody>\n",
       "    <tr>\n",
       "      <th>1</th>\n",
       "      <td>411.991269</td>\n",
       "    </tr>\n",
       "    <tr>\n",
       "      <th>2</th>\n",
       "      <td>465.346987</td>\n",
       "    </tr>\n",
       "    <tr>\n",
       "      <th>3</th>\n",
       "      <td>510.236205</td>\n",
       "    </tr>\n",
       "    <tr>\n",
       "      <th>4</th>\n",
       "      <td>538.326995</td>\n",
       "    </tr>\n",
       "    <tr>\n",
       "      <th>5</th>\n",
       "      <td>515.618936</td>\n",
       "    </tr>\n",
       "  </tbody>\n",
       "</table>\n",
       "</div>"
      ],
      "text/plain": [
       "           total_cardspent\n",
       "                      mean\n",
       "addresscat                \n",
       "1               411.991269\n",
       "2               465.346987\n",
       "3               510.236205\n",
       "4               538.326995\n",
       "5               515.618936"
      ]
     },
     "execution_count": 1121,
     "metadata": {},
     "output_type": "execute_result"
    }
   ],
   "source": [
    "pd.DataFrame(dfi.groupby(['addresscat']).agg({\"total_cardspent\":['mean']}))"
   ]
  },
  {
   "cell_type": "code",
   "execution_count": null,
   "metadata": {},
   "outputs": [],
   "source": []
  },
  {
   "cell_type": "markdown",
   "metadata": {},
   "source": [
    "# tenure"
   ]
  },
  {
   "cell_type": "code",
   "execution_count": 1122,
   "metadata": {},
   "outputs": [
    {
     "name": "stderr",
     "output_type": "stream",
     "text": [
      "C:\\Users\\Anirudh Gupta\\Anaconda3\\lib\\site-packages\\seaborn\\_decorators.py:36: FutureWarning: Pass the following variables as keyword args: x, y. From version 0.12, the only valid positional argument will be `data`, and passing other arguments without an explicit keyword will result in an error or misinterpretation.\n",
      "  warnings.warn(\n"
     ]
    },
    {
     "data": {
      "text/plain": [
       "<AxesSubplot:xlabel='tenure', ylabel='total_cardspent'>"
      ]
     },
     "execution_count": 1122,
     "metadata": {},
     "output_type": "execute_result"
    },
    {
     "data": {
      "image/png": "[encoded data removed]",
      "text/plain": [
       "<Figure size 432x288 with 1 Axes>"
      ]
     },
     "metadata": {
      "needs_background": "light"
     },
     "output_type": "display_data"
    }
   ],
   "source": [
    "sns.regplot(dfi[\"tenure\"], dfi[\"total_cardspent\"])"
   ]
  },
  {
   "cell_type": "code",
   "execution_count": 1123,
   "metadata": {},
   "outputs": [
    {
     "data": {
      "text/plain": [
       "array([ 1.,  2.,  2.,  3.,  4.,  5.,  5.,  6.,  6.,  7.,  7.,  8.,  9.,\n",
       "        9., 10., 11., 11., 12., 13., 14., 14., 15., 16., 17., 18., 18.,\n",
       "       19., 20., 21., 22., 23., 24., 25., 25., 26., 27., 28., 29., 29.,\n",
       "       30., 31., 32., 32., 33., 34., 35., 36., 36., 37., 38., 39., 40.,\n",
       "       41., 42., 43., 44., 44., 45., 46., 47., 48., 48., 49., 50., 52.,\n",
       "       52., 53., 54., 54., 55., 56., 57., 58., 59., 59., 60., 61., 61.,\n",
       "       62., 63., 64., 64., 65., 66., 66., 67., 68., 68., 69., 69., 70.,\n",
       "       70., 71., 71., 72., 72., 72., 72., 72., 72.])"
      ]
     },
     "execution_count": 1123,
     "metadata": {},
     "output_type": "execute_result"
    }
   ],
   "source": [
    "np.percentile(dfi[\"tenure\"], range(1,101))"
   ]
  },
  {
   "cell_type": "code",
   "execution_count": null,
   "metadata": {},
   "outputs": [],
   "source": []
  },
  {
   "cell_type": "code",
   "execution_count": null,
   "metadata": {},
   "outputs": [],
   "source": []
  },
  {
   "cell_type": "markdown",
   "metadata": {},
   "source": [
    "# card2benefit"
   ]
  },
  {
   "cell_type": "code",
   "execution_count": 1124,
   "metadata": {},
   "outputs": [
    {
     "data": {
      "text/plain": [
       "4    1291\n",
       "3    1284\n",
       "2    1216\n",
       "1    1203\n",
       "Name: card2benefit, dtype: int64"
      ]
     },
     "execution_count": 1124,
     "metadata": {},
     "output_type": "execute_result"
    }
   ],
   "source": [
    "dfi[\"card2benefit\"].value_counts()"
   ]
  },
  {
   "cell_type": "code",
   "execution_count": 1125,
   "metadata": {},
   "outputs": [
    {
     "data": {
      "text/html": [
       "<div>\n",
       "<style scoped>\n",
       "    .dataframe tbody tr th:only-of-type {\n",
       "        vertical-align: middle;\n",
       "    }\n",
       "\n",
       "    .dataframe tbody tr th {\n",
       "        vertical-align: top;\n",
       "    }\n",
       "\n",
       "    .dataframe thead tr th {\n",
       "        text-align: left;\n",
       "    }\n",
       "\n",
       "    .dataframe thead tr:last-of-type th {\n",
       "        text-align: right;\n",
       "    }\n",
       "</style>\n",
       "<table border=\"1\" class=\"dataframe\">\n",
       "  <thead>\n",
       "    <tr>\n",
       "      <th></th>\n",
       "      <th>total_cardspent</th>\n",
       "    </tr>\n",
       "    <tr>\n",
       "      <th></th>\n",
       "      <th>mean</th>\n",
       "    </tr>\n",
       "    <tr>\n",
       "      <th>card2benefit</th>\n",
       "      <th></th>\n",
       "    </tr>\n",
       "  </thead>\n",
       "  <tbody>\n",
       "    <tr>\n",
       "      <th>1</th>\n",
       "      <td>502.588712</td>\n",
       "    </tr>\n",
       "    <tr>\n",
       "      <th>2</th>\n",
       "      <td>504.329737</td>\n",
       "    </tr>\n",
       "    <tr>\n",
       "      <th>3</th>\n",
       "      <td>484.950732</td>\n",
       "    </tr>\n",
       "    <tr>\n",
       "      <th>4</th>\n",
       "      <td>501.108040</td>\n",
       "    </tr>\n",
       "  </tbody>\n",
       "</table>\n",
       "</div>"
      ],
      "text/plain": [
       "             total_cardspent\n",
       "                        mean\n",
       "card2benefit                \n",
       "1                 502.588712\n",
       "2                 504.329737\n",
       "3                 484.950732\n",
       "4                 501.108040"
      ]
     },
     "execution_count": 1125,
     "metadata": {},
     "output_type": "execute_result"
    }
   ],
   "source": [
    "pd.DataFrame(dfi.groupby(['card2benefit']).agg({\"total_cardspent\":['mean']}))"
   ]
  },
  {
   "cell_type": "code",
   "execution_count": null,
   "metadata": {},
   "outputs": [],
   "source": []
  },
  {
   "cell_type": "markdown",
   "metadata": {},
   "source": [
    "## longten"
   ]
  },
  {
   "cell_type": "code",
   "execution_count": 1126,
   "metadata": {},
   "outputs": [
    {
     "name": "stderr",
     "output_type": "stream",
     "text": [
      "C:\\Users\\Anirudh Gupta\\Anaconda3\\lib\\site-packages\\seaborn\\_decorators.py:36: FutureWarning: Pass the following variables as keyword args: x, y. From version 0.12, the only valid positional argument will be `data`, and passing other arguments without an explicit keyword will result in an error or misinterpretation.\n",
      "  warnings.warn(\n"
     ]
    },
    {
     "data": {
      "text/plain": [
       "<AxesSubplot:xlabel='longten', ylabel='total_cardspent'>"
      ]
     },
     "execution_count": 1126,
     "metadata": {},
     "output_type": "execute_result"
    },
    {
     "data": {
      "image/png": "[encoded data removed]",
      "text/plain": [
       "<Figure size 432x288 with 1 Axes>"
      ]
     },
     "metadata": {
      "needs_background": "light"
     },
     "output_type": "display_data"
    }
   ],
   "source": [
    "sns.regplot(dfi[\"longten\"], dfi[\"total_cardspent\"])"
   ]
  },
  {
   "cell_type": "code",
   "execution_count": 1127,
   "metadata": {},
   "outputs": [
    {
     "data": {
      "text/plain": [
       "array([2.4000000e+00, 4.2930000e+00, 6.5500000e+00, 9.3000000e+00,\n",
       "       1.2597500e+01, 1.4929000e+01, 1.7901000e+01, 2.0872000e+01,\n",
       "       2.4587000e+01, 2.8245000e+01, 3.0911500e+01, 3.4566000e+01,\n",
       "       3.8359000e+01, 4.2051000e+01, 4.6535000e+01, 5.0032000e+01,\n",
       "       5.4950000e+01, 5.8800000e+01, 6.5683500e+01, 7.0780000e+01,\n",
       "       7.5926500e+01, 8.2500000e+01, 8.8019500e+01, 9.6766000e+01,\n",
       "       1.0468750e+02, 1.1132700e+02, 1.1831650e+02, 1.2485400e+02,\n",
       "       1.3174550e+02, 1.4019500e+02, 1.4933300e+02, 1.5796600e+02,\n",
       "       1.6617250e+02, 1.7557400e+02, 1.8461500e+02, 1.9572000e+02,\n",
       "       2.0395250e+02, 2.1500200e+02, 2.2624050e+02, 2.3480000e+02,\n",
       "       2.4473250e+02, 2.5470900e+02, 2.6534900e+02, 2.7703400e+02,\n",
       "       2.8602750e+02, 2.9912800e+02, 3.1230650e+02, 3.2447800e+02,\n",
       "       3.3505600e+02, 3.5002500e+02, 3.6665000e+02, 3.8336600e+02,\n",
       "       4.0002250e+02, 4.1994800e+02, 4.3886750e+02, 4.5296600e+02,\n",
       "       4.6710200e+02, 4.8488500e+02, 5.0444350e+02, 5.2464000e+02,\n",
       "       5.4630550e+02, 5.6434100e+02, 5.8297700e+02, 6.0417600e+02,\n",
       "       6.2531250e+02, 6.4484500e+02, 6.6757050e+02, 6.9043800e+02,\n",
       "       7.1720900e+02, 7.5067000e+02, 7.7191350e+02, 8.0574200e+02,\n",
       "       8.4359050e+02, 8.7888200e+02, 9.1373750e+02, 9.4928600e+02,\n",
       "       9.9363300e+02, 1.0461030e+03, 1.0973905e+03, 1.1579200e+03,\n",
       "       1.2109270e+03, 1.2630140e+03, 1.3185190e+03, 1.3782500e+03,\n",
       "       1.4326100e+03, 1.4936150e+03, 1.5586190e+03, 1.6411320e+03,\n",
       "       1.7043005e+03, 1.8088700e+03, 1.8907395e+03, 2.0185840e+03,\n",
       "       2.1633185e+03, 2.3548880e+03, 2.5693750e+03, 2.8198140e+03,\n",
       "       3.2132525e+03, 3.7227410e+03, 4.6900905e+03, 1.3046500e+04])"
      ]
     },
     "execution_count": 1127,
     "metadata": {},
     "output_type": "execute_result"
    }
   ],
   "source": [
    "np.percentile(dfi[\"longten\"], range(1,101))\n",
    "     "
   ]
  },
  {
   "cell_type": "code",
   "execution_count": 1128,
   "metadata": {},
   "outputs": [
    {
     "name": "stderr",
     "output_type": "stream",
     "text": [
      "<ipython-input-1128-28c8d5055b10>:1: SettingWithCopyWarning: \n",
      "A value is trying to be set on a copy of a slice from a DataFrame\n",
      "\n",
      "See the caveats in the documentation: https://pandas.pydata.org/pandas-docs/stable/user_guide/indexing.html#returning-a-view-versus-a-copy\n",
      "  dfi[\"longten\"][dfi[\"longten\"]>=4.6900905e+03] = 4.6900905e+03\n"
     ]
    }
   ],
   "source": [
    "dfi[\"longten\"][dfi[\"longten\"]>=4.6900905e+03] = 4.6900905e+03"
   ]
  },
  {
   "cell_type": "code",
   "execution_count": null,
   "metadata": {},
   "outputs": [],
   "source": []
  },
  {
   "cell_type": "code",
   "execution_count": 1129,
   "metadata": {
    "scrolled": false
   },
   "outputs": [
    {
     "data": {
      "text/plain": [
       "array(['2.4000', '4.2930', '6.5500', '9.3000', '12.5975', '14.9290',\n",
       "       '17.9010', '20.8720', '24.5870', '28.2450', '30.9115', '34.5660',\n",
       "       '38.3590', '42.0510', '46.5350', '50.0320', '54.9500', '58.8000',\n",
       "       '65.6835', '70.7800', '75.9265', '82.5000', '88.0195', '96.7660',\n",
       "       '104.6875', '111.3270', '118.3165', '124.8540', '131.7455',\n",
       "       '140.1950', '149.3330', '157.9660', '166.1725', '175.5740',\n",
       "       '184.6150', '195.7200', '203.9525', '215.0020', '226.2405',\n",
       "       '234.8000', '244.7325', '254.7090', '265.3490', '277.0340',\n",
       "       '286.0275', '299.1280', '312.3065', '324.4780', '335.0560',\n",
       "       '350.0250', '366.6500', '383.3660', '400.0225', '419.9480',\n",
       "       '438.8675', '452.9660', '467.1020', '484.8850', '504.4435',\n",
       "       '524.6400', '546.3055', '564.3410', '582.9770', '604.1760',\n",
       "       '625.3125', '644.8450', '667.5705', '690.4380', '717.2090',\n",
       "       '750.6700', '771.9135', '805.7420', '843.5905', '878.8820',\n",
       "       '913.7375', '949.2860', '993.6330', '1046.1030', '1097.3905',\n",
       "       '1157.9200', '1210.9270', '1263.0140', '1318.5190', '1378.2500',\n",
       "       '1432.6100', '1493.6150', '1558.6190', '1641.1320', '1704.3005',\n",
       "       '1808.8700', '1890.7395', '2018.5840', '2163.3185', '2354.8880',\n",
       "       '2569.3750', '2819.8140', '3213.2525', '3722.7410', '4687.8673',\n",
       "       '4690.0905'], dtype='<U9')"
      ]
     },
     "execution_count": 1129,
     "metadata": {},
     "output_type": "execute_result"
    }
   ],
   "source": [
    "perc = np.percentile(dfi[\"longten\"], range(1,101))\n",
    "     \n",
    "norm_perc = []\n",
    "for i in perc:\n",
    "    n = '{0:.4f}'.format(i) \n",
    "    norm_perc.append(n)\n",
    "        \n",
    "np.array(norm_perc)"
   ]
  },
  {
   "cell_type": "code",
   "execution_count": 1130,
   "metadata": {},
   "outputs": [
    {
     "data": {
      "text/plain": [
       "array([2.40000000e+00, 4.29300000e+00, 6.55000000e+00, 9.30000000e+00,\n",
       "       1.25975000e+01, 1.49290000e+01, 1.79010000e+01, 2.08720000e+01,\n",
       "       2.45870000e+01, 2.82450000e+01, 3.09115000e+01, 3.45660000e+01,\n",
       "       3.83590000e+01, 4.20510000e+01, 4.65350000e+01, 5.00320000e+01,\n",
       "       5.49500000e+01, 5.88000000e+01, 6.56835000e+01, 7.07800000e+01,\n",
       "       7.59265000e+01, 8.25000000e+01, 8.80195000e+01, 9.67660000e+01,\n",
       "       1.04687500e+02, 1.11327000e+02, 1.18316500e+02, 1.24854000e+02,\n",
       "       1.31745500e+02, 1.40195000e+02, 1.49333000e+02, 1.57966000e+02,\n",
       "       1.66172500e+02, 1.75574000e+02, 1.84615000e+02, 1.95720000e+02,\n",
       "       2.03952500e+02, 2.15002000e+02, 2.26240500e+02, 2.34800000e+02,\n",
       "       2.44732500e+02, 2.54709000e+02, 2.65349000e+02, 2.77034000e+02,\n",
       "       2.86027500e+02, 2.99128000e+02, 3.12306500e+02, 3.24478000e+02,\n",
       "       3.35056000e+02, 3.50025000e+02, 3.66650000e+02, 3.83366000e+02,\n",
       "       4.00022500e+02, 4.19948000e+02, 4.38867500e+02, 4.52966000e+02,\n",
       "       4.67102000e+02, 4.84885000e+02, 5.04443500e+02, 5.24640000e+02,\n",
       "       5.46305500e+02, 5.64341000e+02, 5.82977000e+02, 6.04176000e+02,\n",
       "       6.25312500e+02, 6.44845000e+02, 6.67570500e+02, 6.90438000e+02,\n",
       "       7.17209000e+02, 7.50670000e+02, 7.71913500e+02, 8.05742000e+02,\n",
       "       8.43590500e+02, 8.78882000e+02, 9.13737500e+02, 9.49286000e+02,\n",
       "       9.93633000e+02, 1.04610300e+03, 1.09739050e+03, 1.15792000e+03,\n",
       "       1.21092700e+03, 1.26301400e+03, 1.31851900e+03, 1.37825000e+03,\n",
       "       1.43261000e+03, 1.49361500e+03, 1.55861900e+03, 1.64113200e+03,\n",
       "       1.70430050e+03, 1.80887000e+03, 1.89073950e+03, 2.01858400e+03,\n",
       "       2.16331850e+03, 2.35488800e+03, 2.56937500e+03, 2.81981400e+03,\n",
       "       3.21325250e+03, 3.72274100e+03, 4.68786733e+03, 4.69009050e+03])"
      ]
     },
     "execution_count": 1130,
     "metadata": {},
     "output_type": "execute_result"
    }
   ],
   "source": [
    "np.percentile(dfi[\"longten\"], range(1,101))"
   ]
  },
  {
   "cell_type": "code",
   "execution_count": null,
   "metadata": {},
   "outputs": [],
   "source": []
  },
  {
   "cell_type": "code",
   "execution_count": null,
   "metadata": {},
   "outputs": [],
   "source": []
  },
  {
   "cell_type": "markdown",
   "metadata": {},
   "source": [
    "# card2tenure and card2tenurecat"
   ]
  },
  {
   "cell_type": "markdown",
   "metadata": {},
   "source": [
    "#### Since we have card2tenurecat we dont need card2tenure"
   ]
  },
  {
   "cell_type": "code",
   "execution_count": 1131,
   "metadata": {},
   "outputs": [],
   "source": [
    "dfi.drop(columns = [\"card2tenure\"], inplace = True)"
   ]
  },
  {
   "cell_type": "code",
   "execution_count": null,
   "metadata": {},
   "outputs": [],
   "source": []
  },
  {
   "cell_type": "code",
   "execution_count": 1132,
   "metadata": {},
   "outputs": [
    {
     "data": {
      "text/html": [
       "<div>\n",
       "<style scoped>\n",
       "    .dataframe tbody tr th:only-of-type {\n",
       "        vertical-align: middle;\n",
       "    }\n",
       "\n",
       "    .dataframe tbody tr th {\n",
       "        vertical-align: top;\n",
       "    }\n",
       "\n",
       "    .dataframe thead tr th {\n",
       "        text-align: left;\n",
       "    }\n",
       "\n",
       "    .dataframe thead tr:last-of-type th {\n",
       "        text-align: right;\n",
       "    }\n",
       "</style>\n",
       "<table border=\"1\" class=\"dataframe\">\n",
       "  <thead>\n",
       "    <tr>\n",
       "      <th></th>\n",
       "      <th>total_cardspent</th>\n",
       "    </tr>\n",
       "    <tr>\n",
       "      <th></th>\n",
       "      <th>mean</th>\n",
       "    </tr>\n",
       "    <tr>\n",
       "      <th>card2tenurecat</th>\n",
       "      <th></th>\n",
       "    </tr>\n",
       "  </thead>\n",
       "  <tbody>\n",
       "    <tr>\n",
       "      <th>1</th>\n",
       "      <td>438.653536</td>\n",
       "    </tr>\n",
       "    <tr>\n",
       "      <th>2</th>\n",
       "      <td>459.753851</td>\n",
       "    </tr>\n",
       "    <tr>\n",
       "      <th>3</th>\n",
       "      <td>487.763015</td>\n",
       "    </tr>\n",
       "    <tr>\n",
       "      <th>4</th>\n",
       "      <td>526.540605</td>\n",
       "    </tr>\n",
       "    <tr>\n",
       "      <th>5</th>\n",
       "      <td>523.360255</td>\n",
       "    </tr>\n",
       "  </tbody>\n",
       "</table>\n",
       "</div>"
      ],
      "text/plain": [
       "               total_cardspent\n",
       "                          mean\n",
       "card2tenurecat                \n",
       "1                   438.653536\n",
       "2                   459.753851\n",
       "3                   487.763015\n",
       "4                   526.540605\n",
       "5                   523.360255"
      ]
     },
     "execution_count": 1132,
     "metadata": {},
     "output_type": "execute_result"
    }
   ],
   "source": [
    "pd.DataFrame(dfi.groupby(['card2tenurecat']).agg({\"total_cardspent\":['mean']}))"
   ]
  },
  {
   "cell_type": "code",
   "execution_count": null,
   "metadata": {},
   "outputs": [],
   "source": []
  },
  {
   "cell_type": "markdown",
   "metadata": {},
   "source": [
    "# ownvcr"
   ]
  },
  {
   "cell_type": "code",
   "execution_count": 1133,
   "metadata": {},
   "outputs": [
    {
     "data": {
      "text/plain": [
       "1    4573\n",
       "0     421\n",
       "Name: ownvcr, dtype: int64"
      ]
     },
     "execution_count": 1133,
     "metadata": {},
     "output_type": "execute_result"
    }
   ],
   "source": [
    "dfi[\"ownvcr\"].value_counts()"
   ]
  },
  {
   "cell_type": "code",
   "execution_count": 1134,
   "metadata": {
    "scrolled": true
   },
   "outputs": [
    {
     "data": {
      "text/html": [
       "<div>\n",
       "<style scoped>\n",
       "    .dataframe tbody tr th:only-of-type {\n",
       "        vertical-align: middle;\n",
       "    }\n",
       "\n",
       "    .dataframe tbody tr th {\n",
       "        vertical-align: top;\n",
       "    }\n",
       "\n",
       "    .dataframe thead tr th {\n",
       "        text-align: left;\n",
       "    }\n",
       "\n",
       "    .dataframe thead tr:last-of-type th {\n",
       "        text-align: right;\n",
       "    }\n",
       "</style>\n",
       "<table border=\"1\" class=\"dataframe\">\n",
       "  <thead>\n",
       "    <tr>\n",
       "      <th></th>\n",
       "      <th>total_cardspent</th>\n",
       "    </tr>\n",
       "    <tr>\n",
       "      <th></th>\n",
       "      <th>mean</th>\n",
       "    </tr>\n",
       "    <tr>\n",
       "      <th>ownvcr</th>\n",
       "      <th></th>\n",
       "    </tr>\n",
       "  </thead>\n",
       "  <tbody>\n",
       "    <tr>\n",
       "      <th>0</th>\n",
       "      <td>349.464774</td>\n",
       "    </tr>\n",
       "    <tr>\n",
       "      <th>1</th>\n",
       "      <td>511.778205</td>\n",
       "    </tr>\n",
       "  </tbody>\n",
       "</table>\n",
       "</div>"
      ],
      "text/plain": [
       "       total_cardspent\n",
       "                  mean\n",
       "ownvcr                \n",
       "0           349.464774\n",
       "1           511.778205"
      ]
     },
     "execution_count": 1134,
     "metadata": {},
     "output_type": "execute_result"
    }
   ],
   "source": [
    "pd.DataFrame(dfi.groupby(['ownvcr']).agg({\"total_cardspent\":['mean']}))"
   ]
  },
  {
   "cell_type": "code",
   "execution_count": null,
   "metadata": {},
   "outputs": [],
   "source": []
  },
  {
   "cell_type": "markdown",
   "metadata": {},
   "source": [
    "# lncardten"
   ]
  },
  {
   "cell_type": "code",
   "execution_count": 1135,
   "metadata": {},
   "outputs": [
    {
     "name": "stderr",
     "output_type": "stream",
     "text": [
      "C:\\Users\\Anirudh Gupta\\Anaconda3\\lib\\site-packages\\seaborn\\_decorators.py:36: FutureWarning: Pass the following variables as keyword args: x, y. From version 0.12, the only valid positional argument will be `data`, and passing other arguments without an explicit keyword will result in an error or misinterpretation.\n",
      "  warnings.warn(\n"
     ]
    },
    {
     "data": {
      "text/plain": [
       "<AxesSubplot:xlabel='lncardten', ylabel='total_cardspent'>"
      ]
     },
     "execution_count": 1135,
     "metadata": {},
     "output_type": "execute_result"
    },
    {
     "data": {
      "image/png": "[encoded data removed]",
      "text/plain": [
       "<Figure size 432x288 with 1 Axes>"
      ]
     },
     "metadata": {
      "needs_background": "light"
     },
     "output_type": "display_data"
    }
   ],
   "source": [
    "sns.regplot(dfi[\"lncardten\"], dfi[\"total_cardspent\"])"
   ]
  },
  {
   "cell_type": "code",
   "execution_count": 1136,
   "metadata": {},
   "outputs": [
    {
     "data": {
      "text/plain": [
       "array([2.45104509, 2.94987027, 3.4000142 , 3.7844724 , 4.00733319,\n",
       "       4.17438727, 4.31748811, 4.51296299, 4.63378272, 4.74493213,\n",
       "       4.86753445, 4.95058647, 5.04342512, 5.13579844, 5.19295685,\n",
       "       5.27299956, 5.34478481, 5.39362755, 5.45958551, 5.52360459,\n",
       "       5.57972983, 5.6347896 , 5.67122892, 5.72031178, 5.78382518,\n",
       "       5.81471631, 5.85793315, 5.89989735, 5.93700337, 5.96614674,\n",
       "       6.00388707, 6.04663553, 6.07739043, 6.13390399, 6.18315166,\n",
       "       6.2146081 , 6.25382881, 6.28542956, 6.31896811, 6.3630281 ,\n",
       "       6.38856141, 6.41345896, 6.42655901, 6.42655901, 6.42655901,\n",
       "       6.42655901, 6.42655901, 6.42655901, 6.42655901, 6.42655901,\n",
       "       6.42655901, 6.42655901, 6.42655901, 6.42655901, 6.42655901,\n",
       "       6.42655901, 6.44571982, 6.48463524, 6.51471269, 6.54469856,\n",
       "       6.57925121, 6.61338422, 6.65065288, 6.68458275, 6.70594042,\n",
       "       6.72970039, 6.75846827, 6.79122146, 6.81892407, 6.84587988,\n",
       "       6.8721281 , 6.91274282, 6.94215671, 6.96602419, 6.99393298,\n",
       "       7.02108396, 7.05617528, 7.09007684, 7.12286666, 7.15461536,\n",
       "       7.18538702, 7.21890971, 7.25134498, 7.28961052, 7.32662982,\n",
       "       7.36201055, 7.40162456, 7.44961378, 7.4899709 , 7.53556287,\n",
       "       7.58324752, 7.63046126, 7.67899645, 7.75147532, 7.80659415,\n",
       "       7.88472674, 7.96032363, 8.09754746, 8.29724132, 9.52551601])"
      ]
     },
     "execution_count": 1136,
     "metadata": {},
     "output_type": "execute_result"
    }
   ],
   "source": [
    "np.percentile(dfi[\"lncardten\"], range(1,101))"
   ]
  },
  {
   "cell_type": "code",
   "execution_count": 1137,
   "metadata": {
    "scrolled": true
   },
   "outputs": [
    {
     "name": "stderr",
     "output_type": "stream",
     "text": [
      "<ipython-input-1137-b36ec2325b9e>:1: SettingWithCopyWarning: \n",
      "A value is trying to be set on a copy of a slice from a DataFrame\n",
      "\n",
      "See the caveats in the documentation: https://pandas.pydata.org/pandas-docs/stable/user_guide/indexing.html#returning-a-view-versus-a-copy\n",
      "  dfi[\"lncardten\"][dfi[\"lncardten\"]>=8.29]= 8.29\n"
     ]
    }
   ],
   "source": [
    "dfi[\"lncardten\"][dfi[\"lncardten\"]>=8.29]= 8.29"
   ]
  },
  {
   "cell_type": "code",
   "execution_count": 1138,
   "metadata": {},
   "outputs": [
    {
     "data": {
      "text/plain": [
       "array([2.45104509, 2.94987027, 3.4000142 , 3.7844724 , 4.00733319,\n",
       "       4.17438727, 4.31748811, 4.51296299, 4.63378272, 4.74493213,\n",
       "       4.86753445, 4.95058647, 5.04342512, 5.13579844, 5.19295685,\n",
       "       5.27299956, 5.34478481, 5.39362755, 5.45958551, 5.52360459,\n",
       "       5.57972983, 5.6347896 , 5.67122892, 5.72031178, 5.78382518,\n",
       "       5.81471631, 5.85793315, 5.89989735, 5.93700337, 5.96614674,\n",
       "       6.00388707, 6.04663553, 6.07739043, 6.13390399, 6.18315166,\n",
       "       6.2146081 , 6.25382881, 6.28542956, 6.31896811, 6.3630281 ,\n",
       "       6.38856141, 6.41345896, 6.42655901, 6.42655901, 6.42655901,\n",
       "       6.42655901, 6.42655901, 6.42655901, 6.42655901, 6.42655901,\n",
       "       6.42655901, 6.42655901, 6.42655901, 6.42655901, 6.42655901,\n",
       "       6.42655901, 6.44571982, 6.48463524, 6.51471269, 6.54469856,\n",
       "       6.57925121, 6.61338422, 6.65065288, 6.68458275, 6.70594042,\n",
       "       6.72970039, 6.75846827, 6.79122146, 6.81892407, 6.84587988,\n",
       "       6.8721281 , 6.91274282, 6.94215671, 6.96602419, 6.99393298,\n",
       "       7.02108396, 7.05617528, 7.09007684, 7.12286666, 7.15461536,\n",
       "       7.18538702, 7.21890971, 7.25134498, 7.28961052, 7.32662982,\n",
       "       7.36201055, 7.40162456, 7.44961378, 7.4899709 , 7.53556287,\n",
       "       7.58324752, 7.63046126, 7.67899645, 7.75147532, 7.80659415,\n",
       "       7.88472674, 7.96032363, 8.09754746, 8.29      , 8.29      ])"
      ]
     },
     "execution_count": 1138,
     "metadata": {},
     "output_type": "execute_result"
    }
   ],
   "source": [
    "np.percentile(dfi[\"lncardten\"], range(1,101))"
   ]
  },
  {
   "cell_type": "markdown",
   "metadata": {},
   "source": [
    "# owncd"
   ]
  },
  {
   "cell_type": "code",
   "execution_count": 1139,
   "metadata": {},
   "outputs": [
    {
     "data": {
      "text/plain": [
       "1    4659\n",
       "0     335\n",
       "Name: owncd, dtype: int64"
      ]
     },
     "execution_count": 1139,
     "metadata": {},
     "output_type": "execute_result"
    }
   ],
   "source": [
    "dfi[\"owncd\"].value_counts()"
   ]
  },
  {
   "cell_type": "code",
   "execution_count": 1140,
   "metadata": {},
   "outputs": [
    {
     "data": {
      "text/html": [
       "<div>\n",
       "<style scoped>\n",
       "    .dataframe tbody tr th:only-of-type {\n",
       "        vertical-align: middle;\n",
       "    }\n",
       "\n",
       "    .dataframe tbody tr th {\n",
       "        vertical-align: top;\n",
       "    }\n",
       "\n",
       "    .dataframe thead tr th {\n",
       "        text-align: left;\n",
       "    }\n",
       "\n",
       "    .dataframe thead tr:last-of-type th {\n",
       "        text-align: right;\n",
       "    }\n",
       "</style>\n",
       "<table border=\"1\" class=\"dataframe\">\n",
       "  <thead>\n",
       "    <tr>\n",
       "      <th></th>\n",
       "      <th>total_cardspent</th>\n",
       "    </tr>\n",
       "    <tr>\n",
       "      <th></th>\n",
       "      <th>mean</th>\n",
       "    </tr>\n",
       "    <tr>\n",
       "      <th>owncd</th>\n",
       "      <th></th>\n",
       "    </tr>\n",
       "  </thead>\n",
       "  <tbody>\n",
       "    <tr>\n",
       "      <th>0</th>\n",
       "      <td>345.710687</td>\n",
       "    </tr>\n",
       "    <tr>\n",
       "      <th>1</th>\n",
       "      <td>509.052011</td>\n",
       "    </tr>\n",
       "  </tbody>\n",
       "</table>\n",
       "</div>"
      ],
      "text/plain": [
       "      total_cardspent\n",
       "                 mean\n",
       "owncd                \n",
       "0          345.710687\n",
       "1          509.052011"
      ]
     },
     "execution_count": 1140,
     "metadata": {},
     "output_type": "execute_result"
    }
   ],
   "source": [
    "pd.DataFrame(dfi.groupby(['owncd']).agg({\"total_cardspent\":['mean']}))"
   ]
  },
  {
   "cell_type": "code",
   "execution_count": null,
   "metadata": {},
   "outputs": [],
   "source": []
  },
  {
   "cell_type": "markdown",
   "metadata": {},
   "source": [
    "# owndvd"
   ]
  },
  {
   "cell_type": "code",
   "execution_count": 1141,
   "metadata": {},
   "outputs": [
    {
     "data": {
      "text/plain": [
       "1    4562\n",
       "0     432\n",
       "Name: owndvd, dtype: int64"
      ]
     },
     "execution_count": 1141,
     "metadata": {},
     "output_type": "execute_result"
    }
   ],
   "source": [
    "dfi[\"owndvd\"].value_counts()"
   ]
  },
  {
   "cell_type": "code",
   "execution_count": 1142,
   "metadata": {},
   "outputs": [
    {
     "data": {
      "text/html": [
       "<div>\n",
       "<style scoped>\n",
       "    .dataframe tbody tr th:only-of-type {\n",
       "        vertical-align: middle;\n",
       "    }\n",
       "\n",
       "    .dataframe tbody tr th {\n",
       "        vertical-align: top;\n",
       "    }\n",
       "\n",
       "    .dataframe thead tr th {\n",
       "        text-align: left;\n",
       "    }\n",
       "\n",
       "    .dataframe thead tr:last-of-type th {\n",
       "        text-align: right;\n",
       "    }\n",
       "</style>\n",
       "<table border=\"1\" class=\"dataframe\">\n",
       "  <thead>\n",
       "    <tr>\n",
       "      <th></th>\n",
       "      <th>total_cardspent</th>\n",
       "    </tr>\n",
       "    <tr>\n",
       "      <th></th>\n",
       "      <th>mean</th>\n",
       "    </tr>\n",
       "    <tr>\n",
       "      <th>owndvd</th>\n",
       "      <th></th>\n",
       "    </tr>\n",
       "  </thead>\n",
       "  <tbody>\n",
       "    <tr>\n",
       "      <th>0</th>\n",
       "      <td>347.249051</td>\n",
       "    </tr>\n",
       "    <tr>\n",
       "      <th>1</th>\n",
       "      <td>512.379397</td>\n",
       "    </tr>\n",
       "  </tbody>\n",
       "</table>\n",
       "</div>"
      ],
      "text/plain": [
       "       total_cardspent\n",
       "                  mean\n",
       "owndvd                \n",
       "0           347.249051\n",
       "1           512.379397"
      ]
     },
     "execution_count": 1142,
     "metadata": {},
     "output_type": "execute_result"
    }
   ],
   "source": [
    "pd.DataFrame(dfi.groupby(['owndvd']).agg({\"total_cardspent\":['mean']}))"
   ]
  },
  {
   "cell_type": "code",
   "execution_count": null,
   "metadata": {},
   "outputs": [],
   "source": []
  },
  {
   "cell_type": "markdown",
   "metadata": {},
   "source": [
    "# multline"
   ]
  },
  {
   "cell_type": "code",
   "execution_count": 1143,
   "metadata": {},
   "outputs": [
    {
     "data": {
      "text/plain": [
       "0    2555\n",
       "1    2439\n",
       "Name: multline, dtype: int64"
      ]
     },
     "execution_count": 1143,
     "metadata": {},
     "output_type": "execute_result"
    }
   ],
   "source": [
    "dfi[\"multline\"].value_counts()"
   ]
  },
  {
   "cell_type": "code",
   "execution_count": 1144,
   "metadata": {},
   "outputs": [
    {
     "data": {
      "text/html": [
       "<div>\n",
       "<style scoped>\n",
       "    .dataframe tbody tr th:only-of-type {\n",
       "        vertical-align: middle;\n",
       "    }\n",
       "\n",
       "    .dataframe tbody tr th {\n",
       "        vertical-align: top;\n",
       "    }\n",
       "\n",
       "    .dataframe thead tr th {\n",
       "        text-align: left;\n",
       "    }\n",
       "\n",
       "    .dataframe thead tr:last-of-type th {\n",
       "        text-align: right;\n",
       "    }\n",
       "</style>\n",
       "<table border=\"1\" class=\"dataframe\">\n",
       "  <thead>\n",
       "    <tr>\n",
       "      <th></th>\n",
       "      <th>total_cardspent</th>\n",
       "    </tr>\n",
       "    <tr>\n",
       "      <th></th>\n",
       "      <th>mean</th>\n",
       "    </tr>\n",
       "    <tr>\n",
       "      <th>multline</th>\n",
       "      <th></th>\n",
       "    </tr>\n",
       "  </thead>\n",
       "  <tbody>\n",
       "    <tr>\n",
       "      <th>0</th>\n",
       "      <td>480.791401</td>\n",
       "    </tr>\n",
       "    <tr>\n",
       "      <th>1</th>\n",
       "      <td>516.221554</td>\n",
       "    </tr>\n",
       "  </tbody>\n",
       "</table>\n",
       "</div>"
      ],
      "text/plain": [
       "         total_cardspent\n",
       "                    mean\n",
       "multline                \n",
       "0             480.791401\n",
       "1             516.221554"
      ]
     },
     "execution_count": 1144,
     "metadata": {},
     "output_type": "execute_result"
    }
   ],
   "source": [
    "pd.DataFrame(dfi.groupby(['multline']).agg({\"total_cardspent\":['mean']}))"
   ]
  },
  {
   "cell_type": "code",
   "execution_count": null,
   "metadata": {},
   "outputs": [],
   "source": []
  },
  {
   "cell_type": "markdown",
   "metadata": {},
   "source": [
    "# carown"
   ]
  },
  {
   "cell_type": "code",
   "execution_count": 1145,
   "metadata": {},
   "outputs": [
    {
     "data": {
      "text/plain": [
       " 1    3699\n",
       " 0     799\n",
       "-1     496\n",
       "Name: carown, dtype: int64"
      ]
     },
     "execution_count": 1145,
     "metadata": {},
     "output_type": "execute_result"
    }
   ],
   "source": [
    "dfi[\"carown\"].value_counts()"
   ]
  },
  {
   "cell_type": "code",
   "execution_count": 1146,
   "metadata": {},
   "outputs": [
    {
     "data": {
      "text/html": [
       "<div>\n",
       "<style scoped>\n",
       "    .dataframe tbody tr th:only-of-type {\n",
       "        vertical-align: middle;\n",
       "    }\n",
       "\n",
       "    .dataframe tbody tr th {\n",
       "        vertical-align: top;\n",
       "    }\n",
       "\n",
       "    .dataframe thead tr th {\n",
       "        text-align: left;\n",
       "    }\n",
       "\n",
       "    .dataframe thead tr:last-of-type th {\n",
       "        text-align: right;\n",
       "    }\n",
       "</style>\n",
       "<table border=\"1\" class=\"dataframe\">\n",
       "  <thead>\n",
       "    <tr>\n",
       "      <th></th>\n",
       "      <th>total_cardspent</th>\n",
       "    </tr>\n",
       "    <tr>\n",
       "      <th></th>\n",
       "      <th>mean</th>\n",
       "    </tr>\n",
       "    <tr>\n",
       "      <th>carown</th>\n",
       "      <th></th>\n",
       "    </tr>\n",
       "  </thead>\n",
       "  <tbody>\n",
       "    <tr>\n",
       "      <th>-1</th>\n",
       "      <td>517.296149</td>\n",
       "    </tr>\n",
       "    <tr>\n",
       "      <th>0</th>\n",
       "      <td>389.405720</td>\n",
       "    </tr>\n",
       "    <tr>\n",
       "      <th>1</th>\n",
       "      <td>518.997659</td>\n",
       "    </tr>\n",
       "  </tbody>\n",
       "</table>\n",
       "</div>"
      ],
      "text/plain": [
       "       total_cardspent\n",
       "                  mean\n",
       "carown                \n",
       "-1          517.296149\n",
       " 0          389.405720\n",
       " 1          518.997659"
      ]
     },
     "execution_count": 1146,
     "metadata": {},
     "output_type": "execute_result"
    }
   ],
   "source": [
    "pd.DataFrame(dfi.groupby(['carown']).agg({\"total_cardspent\":['mean']}))"
   ]
  },
  {
   "cell_type": "code",
   "execution_count": null,
   "metadata": {},
   "outputs": [],
   "source": []
  },
  {
   "cell_type": "markdown",
   "metadata": {},
   "source": [
    "# longmon"
   ]
  },
  {
   "cell_type": "code",
   "execution_count": 1147,
   "metadata": {},
   "outputs": [
    {
     "name": "stderr",
     "output_type": "stream",
     "text": [
      "C:\\Users\\Anirudh Gupta\\Anaconda3\\lib\\site-packages\\seaborn\\_decorators.py:36: FutureWarning: Pass the following variables as keyword args: x, y. From version 0.12, the only valid positional argument will be `data`, and passing other arguments without an explicit keyword will result in an error or misinterpretation.\n",
      "  warnings.warn(\n"
     ]
    },
    {
     "data": {
      "text/plain": [
       "<AxesSubplot:xlabel='longmon', ylabel='total_cardspent'>"
      ]
     },
     "execution_count": 1147,
     "metadata": {},
     "output_type": "execute_result"
    },
    {
     "data": {
      "image/png": "[encoded data removed]",
      "text/plain": [
       "<Figure size 432x288 with 1 Axes>"
      ]
     },
     "metadata": {
      "needs_background": "light"
     },
     "output_type": "display_data"
    }
   ],
   "source": [
    "sns.regplot(dfi[\"longmon\"], dfi[\"total_cardspent\"])"
   ]
  },
  {
   "cell_type": "code",
   "execution_count": 1148,
   "metadata": {},
   "outputs": [
    {
     "data": {
      "text/plain": [
       "array([  1.85  ,   2.2   ,   2.45  ,   2.686 ,   2.9   ,   3.05  ,\n",
       "         3.25  ,   3.45  ,   3.6   ,   3.7   ,   3.9   ,   4.05  ,\n",
       "         4.15  ,   4.25  ,   4.4   ,   4.55  ,   4.65  ,   4.8   ,\n",
       "         4.95  ,   5.05  ,   5.2   ,   5.35  ,   5.45  ,   5.6   ,\n",
       "         5.7125,   5.85  ,   6.0055,   6.15  ,   6.3   ,   6.445 ,\n",
       "         6.55  ,   6.7   ,   6.85  ,   7.    ,   7.15  ,   7.3   ,\n",
       "         7.45  ,   7.6   ,   7.75  ,   7.9   ,   8.    ,   8.2   ,\n",
       "         8.35  ,   8.5   ,   8.65  ,   8.8   ,   8.95  ,   9.2   ,\n",
       "         9.35  ,   9.55  ,   9.75  ,  10.    ,  10.25  ,  10.45  ,\n",
       "        10.65  ,  10.85  ,  11.05  ,  11.25  ,  11.5435,  11.8   ,\n",
       "        12.    ,  12.25  ,  12.55  ,  12.75  ,  13.05  ,  13.3   ,\n",
       "        13.6   ,  13.95  ,  14.25  ,  14.55  ,  14.85  ,  15.25  ,\n",
       "        15.7   ,  16.05  ,  16.55  ,  16.95  ,  17.45  ,  17.9   ,\n",
       "        18.4   ,  19.    ,  19.633 ,  20.413 ,  21.05  ,  21.8   ,\n",
       "        22.5025,  23.3   ,  24.05  ,  24.892 ,  25.8885,  26.985 ,\n",
       "        28.4315,  30.028 ,  31.949 ,  34.35  ,  36.8025,  40.17  ,\n",
       "        45.442 ,  52.257 ,  65.207 , 179.85  ])"
      ]
     },
     "execution_count": 1148,
     "metadata": {},
     "output_type": "execute_result"
    }
   ],
   "source": [
    "np.percentile(dfi[\"longmon\"], range(1,101))"
   ]
  },
  {
   "cell_type": "code",
   "execution_count": 1149,
   "metadata": {
    "scrolled": true
   },
   "outputs": [
    {
     "name": "stderr",
     "output_type": "stream",
     "text": [
      "<ipython-input-1149-e461454e9d87>:1: SettingWithCopyWarning: \n",
      "A value is trying to be set on a copy of a slice from a DataFrame\n",
      "\n",
      "See the caveats in the documentation: https://pandas.pydata.org/pandas-docs/stable/user_guide/indexing.html#returning-a-view-versus-a-copy\n",
      "  dfi[\"longmon\"][dfi[\"longmon\"]>= 65.2] = 65.2\n"
     ]
    }
   ],
   "source": [
    "dfi[\"longmon\"][dfi[\"longmon\"]>= 65.2] = 65.2"
   ]
  },
  {
   "cell_type": "code",
   "execution_count": 1150,
   "metadata": {},
   "outputs": [
    {
     "data": {
      "text/plain": [
       "array([ 1.85  ,  2.2   ,  2.45  ,  2.686 ,  2.9   ,  3.05  ,  3.25  ,\n",
       "        3.45  ,  3.6   ,  3.7   ,  3.9   ,  4.05  ,  4.15  ,  4.25  ,\n",
       "        4.4   ,  4.55  ,  4.65  ,  4.8   ,  4.95  ,  5.05  ,  5.2   ,\n",
       "        5.35  ,  5.45  ,  5.6   ,  5.7125,  5.85  ,  6.0055,  6.15  ,\n",
       "        6.3   ,  6.445 ,  6.55  ,  6.7   ,  6.85  ,  7.    ,  7.15  ,\n",
       "        7.3   ,  7.45  ,  7.6   ,  7.75  ,  7.9   ,  8.    ,  8.2   ,\n",
       "        8.35  ,  8.5   ,  8.65  ,  8.8   ,  8.95  ,  9.2   ,  9.35  ,\n",
       "        9.55  ,  9.75  , 10.    , 10.25  , 10.45  , 10.65  , 10.85  ,\n",
       "       11.05  , 11.25  , 11.5435, 11.8   , 12.    , 12.25  , 12.55  ,\n",
       "       12.75  , 13.05  , 13.3   , 13.6   , 13.95  , 14.25  , 14.55  ,\n",
       "       14.85  , 15.25  , 15.7   , 16.05  , 16.55  , 16.95  , 17.45  ,\n",
       "       17.9   , 18.4   , 19.    , 19.633 , 20.413 , 21.05  , 21.8   ,\n",
       "       22.5025, 23.3   , 24.05  , 24.892 , 25.8885, 26.985 , 28.4315,\n",
       "       30.028 , 31.949 , 34.35  , 36.8025, 40.17  , 45.442 , 52.257 ,\n",
       "       65.2   , 65.2   ])"
      ]
     },
     "execution_count": 1150,
     "metadata": {},
     "output_type": "execute_result"
    }
   ],
   "source": [
    "np.percentile(dfi[\"longmon\"], range(1,101))"
   ]
  },
  {
   "cell_type": "markdown",
   "metadata": {},
   "source": [
    "## vote"
   ]
  },
  {
   "cell_type": "code",
   "execution_count": 1151,
   "metadata": {},
   "outputs": [
    {
     "data": {
      "text/plain": [
       "1    2588\n",
       "0    2406\n",
       "Name: vote, dtype: int64"
      ]
     },
     "execution_count": 1151,
     "metadata": {},
     "output_type": "execute_result"
    }
   ],
   "source": [
    "dfi[\"vote\"].value_counts()"
   ]
  },
  {
   "cell_type": "code",
   "execution_count": 1152,
   "metadata": {},
   "outputs": [
    {
     "data": {
      "text/html": [
       "<div>\n",
       "<style scoped>\n",
       "    .dataframe tbody tr th:only-of-type {\n",
       "        vertical-align: middle;\n",
       "    }\n",
       "\n",
       "    .dataframe tbody tr th {\n",
       "        vertical-align: top;\n",
       "    }\n",
       "\n",
       "    .dataframe thead tr th {\n",
       "        text-align: left;\n",
       "    }\n",
       "\n",
       "    .dataframe thead tr:last-of-type th {\n",
       "        text-align: right;\n",
       "    }\n",
       "</style>\n",
       "<table border=\"1\" class=\"dataframe\">\n",
       "  <thead>\n",
       "    <tr>\n",
       "      <th></th>\n",
       "      <th>total_cardspent</th>\n",
       "    </tr>\n",
       "    <tr>\n",
       "      <th></th>\n",
       "      <th>mean</th>\n",
       "    </tr>\n",
       "    <tr>\n",
       "      <th>vote</th>\n",
       "      <th></th>\n",
       "    </tr>\n",
       "  </thead>\n",
       "  <tbody>\n",
       "    <tr>\n",
       "      <th>0</th>\n",
       "      <td>473.602423</td>\n",
       "    </tr>\n",
       "    <tr>\n",
       "      <th>1</th>\n",
       "      <td>520.865135</td>\n",
       "    </tr>\n",
       "  </tbody>\n",
       "</table>\n",
       "</div>"
      ],
      "text/plain": [
       "     total_cardspent\n",
       "                mean\n",
       "vote                \n",
       "0         473.602423\n",
       "1         520.865135"
      ]
     },
     "execution_count": 1152,
     "metadata": {},
     "output_type": "execute_result"
    }
   ],
   "source": [
    "pd.DataFrame(dfi.groupby(['vote']).agg({\"total_cardspent\":['mean']}))"
   ]
  },
  {
   "cell_type": "code",
   "execution_count": null,
   "metadata": {},
   "outputs": [],
   "source": []
  },
  {
   "cell_type": "markdown",
   "metadata": {},
   "source": [
    "## wireless"
   ]
  },
  {
   "cell_type": "code",
   "execution_count": 1153,
   "metadata": {},
   "outputs": [
    {
     "data": {
      "text/plain": [
       "0    3651\n",
       "1    1343\n",
       "Name: wireless, dtype: int64"
      ]
     },
     "execution_count": 1153,
     "metadata": {},
     "output_type": "execute_result"
    }
   ],
   "source": [
    "dfi[\"wireless\"].value_counts()"
   ]
  },
  {
   "cell_type": "code",
   "execution_count": null,
   "metadata": {},
   "outputs": [],
   "source": []
  },
  {
   "cell_type": "code",
   "execution_count": 1154,
   "metadata": {},
   "outputs": [
    {
     "data": {
      "text/html": [
       "<div>\n",
       "<style scoped>\n",
       "    .dataframe tbody tr th:only-of-type {\n",
       "        vertical-align: middle;\n",
       "    }\n",
       "\n",
       "    .dataframe tbody tr th {\n",
       "        vertical-align: top;\n",
       "    }\n",
       "\n",
       "    .dataframe thead tr th {\n",
       "        text-align: left;\n",
       "    }\n",
       "\n",
       "    .dataframe thead tr:last-of-type th {\n",
       "        text-align: right;\n",
       "    }\n",
       "</style>\n",
       "<table border=\"1\" class=\"dataframe\">\n",
       "  <thead>\n",
       "    <tr>\n",
       "      <th></th>\n",
       "      <th>total_cardspent</th>\n",
       "    </tr>\n",
       "    <tr>\n",
       "      <th></th>\n",
       "      <th>mean</th>\n",
       "    </tr>\n",
       "    <tr>\n",
       "      <th>wireless</th>\n",
       "      <th></th>\n",
       "    </tr>\n",
       "  </thead>\n",
       "  <tbody>\n",
       "    <tr>\n",
       "      <th>0</th>\n",
       "      <td>483.892673</td>\n",
       "    </tr>\n",
       "    <tr>\n",
       "      <th>1</th>\n",
       "      <td>536.704579</td>\n",
       "    </tr>\n",
       "  </tbody>\n",
       "</table>\n",
       "</div>"
      ],
      "text/plain": [
       "         total_cardspent\n",
       "                    mean\n",
       "wireless                \n",
       "0             483.892673\n",
       "1             536.704579"
      ]
     },
     "execution_count": 1154,
     "metadata": {},
     "output_type": "execute_result"
    }
   ],
   "source": [
    "pd.DataFrame(dfi.groupby(['wireless']).agg({\"total_cardspent\":['mean']}))"
   ]
  },
  {
   "cell_type": "code",
   "execution_count": null,
   "metadata": {},
   "outputs": [],
   "source": []
  },
  {
   "cell_type": "markdown",
   "metadata": {},
   "source": [
    "# reason"
   ]
  },
  {
   "cell_type": "code",
   "execution_count": 1155,
   "metadata": {},
   "outputs": [
    {
     "data": {
      "text/plain": [
       "9    4046\n",
       "1     447\n",
       "2     339\n",
       "4     105\n",
       "3      57\n",
       "Name: reason, dtype: int64"
      ]
     },
     "execution_count": 1155,
     "metadata": {},
     "output_type": "execute_result"
    }
   ],
   "source": [
    "dfi[\"reason\"].value_counts()"
   ]
  },
  {
   "cell_type": "code",
   "execution_count": 1156,
   "metadata": {},
   "outputs": [
    {
     "data": {
      "text/html": [
       "<div>\n",
       "<style scoped>\n",
       "    .dataframe tbody tr th:only-of-type {\n",
       "        vertical-align: middle;\n",
       "    }\n",
       "\n",
       "    .dataframe tbody tr th {\n",
       "        vertical-align: top;\n",
       "    }\n",
       "\n",
       "    .dataframe thead tr th {\n",
       "        text-align: left;\n",
       "    }\n",
       "\n",
       "    .dataframe thead tr:last-of-type th {\n",
       "        text-align: right;\n",
       "    }\n",
       "</style>\n",
       "<table border=\"1\" class=\"dataframe\">\n",
       "  <thead>\n",
       "    <tr>\n",
       "      <th></th>\n",
       "      <th>total_cardspent</th>\n",
       "    </tr>\n",
       "    <tr>\n",
       "      <th></th>\n",
       "      <th>mean</th>\n",
       "    </tr>\n",
       "    <tr>\n",
       "      <th>reason</th>\n",
       "      <th></th>\n",
       "    </tr>\n",
       "  </thead>\n",
       "  <tbody>\n",
       "    <tr>\n",
       "      <th>1</th>\n",
       "      <td>418.903647</td>\n",
       "    </tr>\n",
       "    <tr>\n",
       "      <th>2</th>\n",
       "      <td>677.101711</td>\n",
       "    </tr>\n",
       "    <tr>\n",
       "      <th>3</th>\n",
       "      <td>392.458246</td>\n",
       "    </tr>\n",
       "    <tr>\n",
       "      <th>4</th>\n",
       "      <td>383.596286</td>\n",
       "    </tr>\n",
       "    <tr>\n",
       "      <th>9</th>\n",
       "      <td>496.305304</td>\n",
       "    </tr>\n",
       "  </tbody>\n",
       "</table>\n",
       "</div>"
      ],
      "text/plain": [
       "       total_cardspent\n",
       "                  mean\n",
       "reason                \n",
       "1           418.903647\n",
       "2           677.101711\n",
       "3           392.458246\n",
       "4           383.596286\n",
       "9           496.305304"
      ]
     },
     "execution_count": 1156,
     "metadata": {},
     "output_type": "execute_result"
    }
   ],
   "source": [
    "pd.DataFrame(dfi.groupby(['reason']).agg({\"total_cardspent\":['mean']}))"
   ]
  },
  {
   "cell_type": "code",
   "execution_count": null,
   "metadata": {},
   "outputs": [],
   "source": []
  },
  {
   "cell_type": "markdown",
   "metadata": {},
   "source": [
    "# cardtenure and cardtenurecat"
   ]
  },
  {
   "cell_type": "code",
   "execution_count": 1157,
   "metadata": {},
   "outputs": [
    {
     "name": "stderr",
     "output_type": "stream",
     "text": [
      "C:\\Users\\Anirudh Gupta\\Anaconda3\\lib\\site-packages\\seaborn\\_decorators.py:36: FutureWarning: Pass the following variables as keyword args: x, y. From version 0.12, the only valid positional argument will be `data`, and passing other arguments without an explicit keyword will result in an error or misinterpretation.\n",
      "  warnings.warn(\n"
     ]
    },
    {
     "data": {
      "text/plain": [
       "<AxesSubplot:xlabel='cardtenure', ylabel='total_cardspent'>"
      ]
     },
     "execution_count": 1157,
     "metadata": {},
     "output_type": "execute_result"
    },
    {
     "data": {
      "image/png": "[encoded data removed]",
      "text/plain": [
       "<Figure size 432x288 with 1 Axes>"
      ]
     },
     "metadata": {
      "needs_background": "light"
     },
     "output_type": "display_data"
    }
   ],
   "source": [
    "sns.regplot(dfi[\"cardtenure\"], dfi[\"total_cardspent\"])"
   ]
  },
  {
   "cell_type": "markdown",
   "metadata": {},
   "source": [
    "#### cardtenure does not seem to have an effect on total_cardspent so we will drop this"
   ]
  },
  {
   "cell_type": "code",
   "execution_count": 1158,
   "metadata": {},
   "outputs": [
    {
     "data": {
      "text/plain": [
       "array([ 0.,  1.,  1.,  1.,  1.,  1.,  2.,  2.,  2.,  2.,  3.,  3.,  3.,\n",
       "        3.,  3.,  4.,  4.,  4.,  4.,  5.,  5.,  5.,  5.,  6.,  6.,  6.,\n",
       "        7.,  7.,  7.,  7.,  8.,  8.,  8.,  9.,  9.,  9., 10., 10., 10.,\n",
       "       11., 11., 11., 12., 12., 13., 13., 13., 14., 14., 14., 15., 15.,\n",
       "       16., 16., 16., 17., 17., 18., 18., 18., 19., 19., 20., 21., 21.,\n",
       "       22., 22., 23., 23., 24., 24., 25., 25., 26., 26., 27., 28., 28.,\n",
       "       29., 29., 30., 30., 31., 32., 32., 33., 34., 34., 35., 35., 36.,\n",
       "       37., 37., 38., 38., 39., 39., 40., 40., 40.])"
      ]
     },
     "execution_count": 1158,
     "metadata": {},
     "output_type": "execute_result"
    }
   ],
   "source": [
    "np.percentile(dfi[\"cardtenure\"], range(1,101))"
   ]
  },
  {
   "cell_type": "code",
   "execution_count": 1159,
   "metadata": {},
   "outputs": [
    {
     "data": {
      "text/html": [
       "<div>\n",
       "<style scoped>\n",
       "    .dataframe tbody tr th:only-of-type {\n",
       "        vertical-align: middle;\n",
       "    }\n",
       "\n",
       "    .dataframe tbody tr th {\n",
       "        vertical-align: top;\n",
       "    }\n",
       "\n",
       "    .dataframe thead tr th {\n",
       "        text-align: left;\n",
       "    }\n",
       "\n",
       "    .dataframe thead tr:last-of-type th {\n",
       "        text-align: right;\n",
       "    }\n",
       "</style>\n",
       "<table border=\"1\" class=\"dataframe\">\n",
       "  <thead>\n",
       "    <tr>\n",
       "      <th></th>\n",
       "      <th>total_cardspent</th>\n",
       "    </tr>\n",
       "    <tr>\n",
       "      <th></th>\n",
       "      <th>mean</th>\n",
       "    </tr>\n",
       "    <tr>\n",
       "      <th>cardtenurecat</th>\n",
       "      <th></th>\n",
       "    </tr>\n",
       "  </thead>\n",
       "  <tbody>\n",
       "    <tr>\n",
       "      <th>1</th>\n",
       "      <td>427.127595</td>\n",
       "    </tr>\n",
       "    <tr>\n",
       "      <th>2</th>\n",
       "      <td>464.953463</td>\n",
       "    </tr>\n",
       "    <tr>\n",
       "      <th>3</th>\n",
       "      <td>466.752081</td>\n",
       "    </tr>\n",
       "    <tr>\n",
       "      <th>4</th>\n",
       "      <td>514.483055</td>\n",
       "    </tr>\n",
       "    <tr>\n",
       "      <th>5</th>\n",
       "      <td>525.238966</td>\n",
       "    </tr>\n",
       "  </tbody>\n",
       "</table>\n",
       "</div>"
      ],
      "text/plain": [
       "              total_cardspent\n",
       "                         mean\n",
       "cardtenurecat                \n",
       "1                  427.127595\n",
       "2                  464.953463\n",
       "3                  466.752081\n",
       "4                  514.483055\n",
       "5                  525.238966"
      ]
     },
     "execution_count": 1159,
     "metadata": {},
     "output_type": "execute_result"
    }
   ],
   "source": [
    "pd.DataFrame(dfi.groupby(['cardtenurecat']).agg({\"total_cardspent\":['mean']}))"
   ]
  },
  {
   "cell_type": "markdown",
   "metadata": {},
   "source": [
    "#### since we have cardtenurecat we dont need cardtenure"
   ]
  },
  {
   "cell_type": "code",
   "execution_count": 1160,
   "metadata": {},
   "outputs": [],
   "source": [
    "dfi.drop(columns = [\"cardtenure\"], inplace = True)"
   ]
  },
  {
   "cell_type": "markdown",
   "metadata": {},
   "source": [
    "# ownfax"
   ]
  },
  {
   "cell_type": "code",
   "execution_count": 1161,
   "metadata": {},
   "outputs": [
    {
     "data": {
      "text/plain": [
       "0    4102\n",
       "1     892\n",
       "Name: ownfax, dtype: int64"
      ]
     },
     "execution_count": 1161,
     "metadata": {},
     "output_type": "execute_result"
    }
   ],
   "source": [
    "dfi[\"ownfax\"].value_counts()"
   ]
  },
  {
   "cell_type": "code",
   "execution_count": 1162,
   "metadata": {},
   "outputs": [
    {
     "data": {
      "text/html": [
       "<div>\n",
       "<style scoped>\n",
       "    .dataframe tbody tr th:only-of-type {\n",
       "        vertical-align: middle;\n",
       "    }\n",
       "\n",
       "    .dataframe tbody tr th {\n",
       "        vertical-align: top;\n",
       "    }\n",
       "\n",
       "    .dataframe thead tr th {\n",
       "        text-align: left;\n",
       "    }\n",
       "\n",
       "    .dataframe thead tr:last-of-type th {\n",
       "        text-align: right;\n",
       "    }\n",
       "</style>\n",
       "<table border=\"1\" class=\"dataframe\">\n",
       "  <thead>\n",
       "    <tr>\n",
       "      <th></th>\n",
       "      <th>total_cardspent</th>\n",
       "    </tr>\n",
       "    <tr>\n",
       "      <th></th>\n",
       "      <th>mean</th>\n",
       "    </tr>\n",
       "    <tr>\n",
       "      <th>ownfax</th>\n",
       "      <th></th>\n",
       "    </tr>\n",
       "  </thead>\n",
       "  <tbody>\n",
       "    <tr>\n",
       "      <th>0</th>\n",
       "      <td>488.381431</td>\n",
       "    </tr>\n",
       "    <tr>\n",
       "      <th>1</th>\n",
       "      <td>542.764316</td>\n",
       "    </tr>\n",
       "  </tbody>\n",
       "</table>\n",
       "</div>"
      ],
      "text/plain": [
       "       total_cardspent\n",
       "                  mean\n",
       "ownfax                \n",
       "0           488.381431\n",
       "1           542.764316"
      ]
     },
     "execution_count": 1162,
     "metadata": {},
     "output_type": "execute_result"
    }
   ],
   "source": [
    "pd.DataFrame(dfi.groupby(['ownfax']).agg({\"total_cardspent\":['mean']}))"
   ]
  },
  {
   "cell_type": "code",
   "execution_count": null,
   "metadata": {},
   "outputs": [],
   "source": []
  },
  {
   "cell_type": "markdown",
   "metadata": {},
   "source": [
    "# forward"
   ]
  },
  {
   "cell_type": "code",
   "execution_count": 1163,
   "metadata": {},
   "outputs": [
    {
     "data": {
      "text/plain": [
       "0    2592\n",
       "1    2402\n",
       "Name: forward, dtype: int64"
      ]
     },
     "execution_count": 1163,
     "metadata": {},
     "output_type": "execute_result"
    }
   ],
   "source": [
    "dfi[\"forward\"].value_counts()"
   ]
  },
  {
   "cell_type": "code",
   "execution_count": 1164,
   "metadata": {},
   "outputs": [
    {
     "data": {
      "text/html": [
       "<div>\n",
       "<style scoped>\n",
       "    .dataframe tbody tr th:only-of-type {\n",
       "        vertical-align: middle;\n",
       "    }\n",
       "\n",
       "    .dataframe tbody tr th {\n",
       "        vertical-align: top;\n",
       "    }\n",
       "\n",
       "    .dataframe thead tr th {\n",
       "        text-align: left;\n",
       "    }\n",
       "\n",
       "    .dataframe thead tr:last-of-type th {\n",
       "        text-align: right;\n",
       "    }\n",
       "</style>\n",
       "<table border=\"1\" class=\"dataframe\">\n",
       "  <thead>\n",
       "    <tr>\n",
       "      <th></th>\n",
       "      <th>total_cardspent</th>\n",
       "    </tr>\n",
       "    <tr>\n",
       "      <th></th>\n",
       "      <th>mean</th>\n",
       "    </tr>\n",
       "    <tr>\n",
       "      <th>forward</th>\n",
       "      <th></th>\n",
       "    </tr>\n",
       "  </thead>\n",
       "  <tbody>\n",
       "    <tr>\n",
       "      <th>0</th>\n",
       "      <td>479.381856</td>\n",
       "    </tr>\n",
       "    <tr>\n",
       "      <th>1</th>\n",
       "      <td>518.288356</td>\n",
       "    </tr>\n",
       "  </tbody>\n",
       "</table>\n",
       "</div>"
      ],
      "text/plain": [
       "        total_cardspent\n",
       "                   mean\n",
       "forward                \n",
       "0            479.381856\n",
       "1            518.288356"
      ]
     },
     "execution_count": 1164,
     "metadata": {},
     "output_type": "execute_result"
    }
   ],
   "source": [
    "pd.DataFrame(dfi.groupby(['forward']).agg({\"total_cardspent\":['mean']}))"
   ]
  },
  {
   "cell_type": "code",
   "execution_count": null,
   "metadata": {},
   "outputs": [],
   "source": []
  },
  {
   "cell_type": "markdown",
   "metadata": {},
   "source": [
    "## news\n"
   ]
  },
  {
   "cell_type": "code",
   "execution_count": 1165,
   "metadata": {},
   "outputs": [
    {
     "data": {
      "text/plain": [
       "Index(['carditems', 'card2items', 'inccat', 'carvalue', 'lncreddebt', 'card',\n",
       "       'carcatvalue', 'lnothdebt', 'agecat', 'addresscat', 'card2',\n",
       "       'card2benefit', 'townsize', 'longten', 'retire', 'empcat', 'jobsat',\n",
       "       'ownvcr', 'lncardten', 'owncd', 'owndvd', 'multline', 'tenure',\n",
       "       'longmon', 'carown', 'spousedcat', 'lntollten', 'card2tenurecat',\n",
       "       'pets_dogs', 'wireless', 'reason', 'ownfax', 'gender', 'internet',\n",
       "       'forward', 'vote', 'bfast', 'news', 'cardtenurecat', 'cardspent',\n",
       "       'card2spent', 'total_cardspent'],\n",
       "      dtype='object')"
      ]
     },
     "execution_count": 1165,
     "metadata": {},
     "output_type": "execute_result"
    }
   ],
   "source": [
    "dfi.columns"
   ]
  },
  {
   "cell_type": "code",
   "execution_count": 1166,
   "metadata": {},
   "outputs": [
    {
     "data": {
      "text/plain": [
       "0    2632\n",
       "1    2362\n",
       "Name: news, dtype: int64"
      ]
     },
     "execution_count": 1166,
     "metadata": {},
     "output_type": "execute_result"
    }
   ],
   "source": [
    "dfi[\"news\"].value_counts()"
   ]
  },
  {
   "cell_type": "code",
   "execution_count": 1167,
   "metadata": {},
   "outputs": [
    {
     "data": {
      "text/html": [
       "<div>\n",
       "<style scoped>\n",
       "    .dataframe tbody tr th:only-of-type {\n",
       "        vertical-align: middle;\n",
       "    }\n",
       "\n",
       "    .dataframe tbody tr th {\n",
       "        vertical-align: top;\n",
       "    }\n",
       "\n",
       "    .dataframe thead tr th {\n",
       "        text-align: left;\n",
       "    }\n",
       "\n",
       "    .dataframe thead tr:last-of-type th {\n",
       "        text-align: right;\n",
       "    }\n",
       "</style>\n",
       "<table border=\"1\" class=\"dataframe\">\n",
       "  <thead>\n",
       "    <tr>\n",
       "      <th></th>\n",
       "      <th>total_cardspent</th>\n",
       "    </tr>\n",
       "    <tr>\n",
       "      <th></th>\n",
       "      <th>mean</th>\n",
       "    </tr>\n",
       "    <tr>\n",
       "      <th>news</th>\n",
       "      <th></th>\n",
       "    </tr>\n",
       "  </thead>\n",
       "  <tbody>\n",
       "    <tr>\n",
       "      <th>0</th>\n",
       "      <td>485.177724</td>\n",
       "    </tr>\n",
       "    <tr>\n",
       "      <th>1</th>\n",
       "      <td>512.488836</td>\n",
       "    </tr>\n",
       "  </tbody>\n",
       "</table>\n",
       "</div>"
      ],
      "text/plain": [
       "     total_cardspent\n",
       "                mean\n",
       "news                \n",
       "0         485.177724\n",
       "1         512.488836"
      ]
     },
     "execution_count": 1167,
     "metadata": {},
     "output_type": "execute_result"
    }
   ],
   "source": [
    "pd.DataFrame(dfi.groupby(['news']).agg({\"total_cardspent\":['mean']}))"
   ]
  },
  {
   "cell_type": "code",
   "execution_count": null,
   "metadata": {},
   "outputs": [],
   "source": []
  },
  {
   "cell_type": "markdown",
   "metadata": {},
   "source": [
    "# internet"
   ]
  },
  {
   "cell_type": "code",
   "execution_count": 1168,
   "metadata": {},
   "outputs": [
    {
     "data": {
      "text/plain": [
       "0    2494\n",
       "1     773\n",
       "3     598\n",
       "4     584\n",
       "2     545\n",
       "Name: internet, dtype: int64"
      ]
     },
     "execution_count": 1168,
     "metadata": {},
     "output_type": "execute_result"
    }
   ],
   "source": [
    "dfi[\"internet\"].value_counts()"
   ]
  },
  {
   "cell_type": "code",
   "execution_count": null,
   "metadata": {},
   "outputs": [],
   "source": []
  },
  {
   "cell_type": "code",
   "execution_count": 1169,
   "metadata": {},
   "outputs": [
    {
     "data": {
      "text/html": [
       "<div>\n",
       "<style scoped>\n",
       "    .dataframe tbody tr th:only-of-type {\n",
       "        vertical-align: middle;\n",
       "    }\n",
       "\n",
       "    .dataframe tbody tr th {\n",
       "        vertical-align: top;\n",
       "    }\n",
       "\n",
       "    .dataframe thead tr th {\n",
       "        text-align: left;\n",
       "    }\n",
       "\n",
       "    .dataframe thead tr:last-of-type th {\n",
       "        text-align: right;\n",
       "    }\n",
       "</style>\n",
       "<table border=\"1\" class=\"dataframe\">\n",
       "  <thead>\n",
       "    <tr>\n",
       "      <th></th>\n",
       "      <th>total_cardspent</th>\n",
       "    </tr>\n",
       "    <tr>\n",
       "      <th></th>\n",
       "      <th>mean</th>\n",
       "    </tr>\n",
       "    <tr>\n",
       "      <th>internet</th>\n",
       "      <th></th>\n",
       "    </tr>\n",
       "  </thead>\n",
       "  <tbody>\n",
       "    <tr>\n",
       "      <th>0</th>\n",
       "      <td>480.380589</td>\n",
       "    </tr>\n",
       "    <tr>\n",
       "      <th>1</th>\n",
       "      <td>483.993001</td>\n",
       "    </tr>\n",
       "    <tr>\n",
       "      <th>2</th>\n",
       "      <td>492.320991</td>\n",
       "    </tr>\n",
       "    <tr>\n",
       "      <th>3</th>\n",
       "      <td>550.753562</td>\n",
       "    </tr>\n",
       "    <tr>\n",
       "      <th>4</th>\n",
       "      <td>543.878510</td>\n",
       "    </tr>\n",
       "  </tbody>\n",
       "</table>\n",
       "</div>"
      ],
      "text/plain": [
       "         total_cardspent\n",
       "                    mean\n",
       "internet                \n",
       "0             480.380589\n",
       "1             483.993001\n",
       "2             492.320991\n",
       "3             550.753562\n",
       "4             543.878510"
      ]
     },
     "execution_count": 1169,
     "metadata": {},
     "output_type": "execute_result"
    }
   ],
   "source": [
    "pd.DataFrame(dfi.groupby(['internet']).agg({\"total_cardspent\":['mean']}))"
   ]
  },
  {
   "cell_type": "code",
   "execution_count": null,
   "metadata": {},
   "outputs": [],
   "source": []
  },
  {
   "cell_type": "markdown",
   "metadata": {},
   "source": [
    "## lntollten"
   ]
  },
  {
   "cell_type": "code",
   "execution_count": 1170,
   "metadata": {},
   "outputs": [
    {
     "name": "stderr",
     "output_type": "stream",
     "text": [
      "C:\\Users\\Anirudh Gupta\\Anaconda3\\lib\\site-packages\\seaborn\\_decorators.py:36: FutureWarning: Pass the following variables as keyword args: x, y. From version 0.12, the only valid positional argument will be `data`, and passing other arguments without an explicit keyword will result in an error or misinterpretation.\n",
      "  warnings.warn(\n"
     ]
    },
    {
     "data": {
      "text/plain": [
       "<AxesSubplot:xlabel='lntollten', ylabel='total_cardspent'>"
      ]
     },
     "execution_count": 1170,
     "metadata": {},
     "output_type": "execute_result"
    },
    {
     "data": {
      "image/png": "[encoded data removed]",
      "text/plain": [
       "<Figure size 432x288 with 1 Axes>"
      ]
     },
     "metadata": {
      "needs_background": "light"
     },
     "output_type": "display_data"
    }
   ],
   "source": [
    "sns.regplot(dfi[\"lntollten\"], dfi[\"total_cardspent\"])"
   ]
  },
  {
   "cell_type": "markdown",
   "metadata": {},
   "source": [
    "#### lntollten does not seem to have much impact on total_cardspent so we will drop this"
   ]
  },
  {
   "cell_type": "code",
   "execution_count": 1171,
   "metadata": {},
   "outputs": [
    {
     "data": {
      "text/plain": [
       "array([2.83217629, 3.53288226, 3.97464087, 4.22902113, 4.40452537,\n",
       "       4.57397872, 4.71836537, 4.86597321, 5.00816941, 5.16429636,\n",
       "       5.2525883 , 5.35720866, 5.43865079, 5.53616823, 5.61601567,\n",
       "       5.68555712, 5.7618527 , 5.82626472, 5.8863373 , 5.96660903,\n",
       "       6.0417169 , 6.10474843, 6.17188373, 6.22261142, 6.28224337,\n",
       "       6.32907184, 6.39042073, 6.44748495, 6.49010423, 6.52829285,\n",
       "       6.56798684, 6.58451953, 6.58451953, 6.58451953, 6.58451953,\n",
       "       6.58451953, 6.58451953, 6.58451953, 6.58451953, 6.58451953,\n",
       "       6.58451953, 6.58451953, 6.58451953, 6.58451953, 6.58451953,\n",
       "       6.60774449, 6.6379936 , 6.67980482, 6.71292876, 6.74804702,\n",
       "       6.77694755, 6.81580574, 6.84903327, 6.88008488, 6.93231863,\n",
       "       6.96447015, 6.99289786, 7.02830904, 7.05861799, 7.09269622,\n",
       "       7.12071849, 7.15042695, 7.17583523, 7.19962246, 7.22414846,\n",
       "       7.24727563, 7.27338144, 7.29488289, 7.3149917 , 7.33816986,\n",
       "       7.36416994, 7.38976529, 7.41486253, 7.43874464, 7.45827266,\n",
       "       7.47950434, 7.49883047, 7.52864193, 7.55042609, 7.57351838,\n",
       "       7.60065517, 7.62813393, 7.65097905, 7.68663732, 7.7119117 ,\n",
       "       7.73635608, 7.76617831, 7.7952527 , 7.817919  , 7.84439359,\n",
       "       7.87135802, 7.90131616, 7.9390531 , 7.97897757, 8.01931008,\n",
       "       8.0576679 , 8.10718149, 8.18532253, 8.29541682, 8.84266948])"
      ]
     },
     "execution_count": 1171,
     "metadata": {},
     "output_type": "execute_result"
    }
   ],
   "source": [
    "np.percentile(dfi[\"lntollten\"], range(1,101))"
   ]
  },
  {
   "cell_type": "code",
   "execution_count": 1172,
   "metadata": {
    "scrolled": true
   },
   "outputs": [
    {
     "name": "stderr",
     "output_type": "stream",
     "text": [
      "<ipython-input-1172-0bb819804147>:1: SettingWithCopyWarning: \n",
      "A value is trying to be set on a copy of a slice from a DataFrame\n",
      "\n",
      "See the caveats in the documentation: https://pandas.pydata.org/pandas-docs/stable/user_guide/indexing.html#returning-a-view-versus-a-copy\n",
      "  dfi[\"lntollten\"][dfi[\"lntollten\"]<= 3.97] = 3.97\n",
      "<ipython-input-1172-0bb819804147>:2: SettingWithCopyWarning: \n",
      "A value is trying to be set on a copy of a slice from a DataFrame\n",
      "\n",
      "See the caveats in the documentation: https://pandas.pydata.org/pandas-docs/stable/user_guide/indexing.html#returning-a-view-versus-a-copy\n",
      "  dfi[\"lntollten\"][dfi[\"lntollten\"]>= 8.29] = 8.29\n"
     ]
    }
   ],
   "source": [
    "dfi[\"lntollten\"][dfi[\"lntollten\"]<= 3.97] = 3.97\n",
    "dfi[\"lntollten\"][dfi[\"lntollten\"]>= 8.29] = 8.29"
   ]
  },
  {
   "cell_type": "code",
   "execution_count": 1173,
   "metadata": {},
   "outputs": [
    {
     "data": {
      "text/plain": [
       "array([3.97      , 3.97      , 3.97617049, 4.22902113, 4.40452537,\n",
       "       4.57397872, 4.71836537, 4.86597321, 5.00816941, 5.16429636,\n",
       "       5.2525883 , 5.35720866, 5.43865079, 5.53616823, 5.61601567,\n",
       "       5.68555712, 5.7618527 , 5.82626472, 5.8863373 , 5.96660903,\n",
       "       6.0417169 , 6.10474843, 6.17188373, 6.22261142, 6.28224337,\n",
       "       6.32907184, 6.39042073, 6.44748495, 6.49010423, 6.52829285,\n",
       "       6.56798684, 6.58451953, 6.58451953, 6.58451953, 6.58451953,\n",
       "       6.58451953, 6.58451953, 6.58451953, 6.58451953, 6.58451953,\n",
       "       6.58451953, 6.58451953, 6.58451953, 6.58451953, 6.58451953,\n",
       "       6.60774449, 6.6379936 , 6.67980482, 6.71292876, 6.74804702,\n",
       "       6.77694755, 6.81580574, 6.84903327, 6.88008488, 6.93231863,\n",
       "       6.96447015, 6.99289786, 7.02830904, 7.05861799, 7.09269622,\n",
       "       7.12071849, 7.15042695, 7.17583523, 7.19962246, 7.22414846,\n",
       "       7.24727563, 7.27338144, 7.29488289, 7.3149917 , 7.33816986,\n",
       "       7.36416994, 7.38976529, 7.41486253, 7.43874464, 7.45827266,\n",
       "       7.47950434, 7.49883047, 7.52864193, 7.55042609, 7.57351838,\n",
       "       7.60065517, 7.62813393, 7.65097905, 7.68663732, 7.7119117 ,\n",
       "       7.73635608, 7.76617831, 7.7952527 , 7.817919  , 7.84439359,\n",
       "       7.87135802, 7.90131616, 7.9390531 , 7.97897757, 8.01931008,\n",
       "       8.0576679 , 8.10718149, 8.18532253, 8.29      , 8.29      ])"
      ]
     },
     "execution_count": 1173,
     "metadata": {},
     "output_type": "execute_result"
    }
   ],
   "source": [
    "np.percentile(dfi[\"lntollten\"], range(1,101))"
   ]
  },
  {
   "cell_type": "code",
   "execution_count": null,
   "metadata": {},
   "outputs": [],
   "source": []
  },
  {
   "cell_type": "markdown",
   "metadata": {},
   "source": [
    "## bfast"
   ]
  },
  {
   "cell_type": "code",
   "execution_count": 1174,
   "metadata": {},
   "outputs": [
    {
     "data": {
      "text/plain": [
       "3    1871\n",
       "1    1581\n",
       "2    1542\n",
       "Name: bfast, dtype: int64"
      ]
     },
     "execution_count": 1174,
     "metadata": {},
     "output_type": "execute_result"
    }
   ],
   "source": [
    "dfi[\"bfast\"].value_counts()"
   ]
  },
  {
   "cell_type": "code",
   "execution_count": 1175,
   "metadata": {},
   "outputs": [
    {
     "data": {
      "text/html": [
       "<div>\n",
       "<style scoped>\n",
       "    .dataframe tbody tr th:only-of-type {\n",
       "        vertical-align: middle;\n",
       "    }\n",
       "\n",
       "    .dataframe tbody tr th {\n",
       "        vertical-align: top;\n",
       "    }\n",
       "\n",
       "    .dataframe thead tr th {\n",
       "        text-align: left;\n",
       "    }\n",
       "\n",
       "    .dataframe thead tr:last-of-type th {\n",
       "        text-align: right;\n",
       "    }\n",
       "</style>\n",
       "<table border=\"1\" class=\"dataframe\">\n",
       "  <thead>\n",
       "    <tr>\n",
       "      <th></th>\n",
       "      <th>total_cardspent</th>\n",
       "    </tr>\n",
       "    <tr>\n",
       "      <th></th>\n",
       "      <th>mean</th>\n",
       "    </tr>\n",
       "    <tr>\n",
       "      <th>bfast</th>\n",
       "      <th></th>\n",
       "    </tr>\n",
       "  </thead>\n",
       "  <tbody>\n",
       "    <tr>\n",
       "      <th>1</th>\n",
       "      <td>489.129760</td>\n",
       "    </tr>\n",
       "    <tr>\n",
       "      <th>2</th>\n",
       "      <td>489.813171</td>\n",
       "    </tr>\n",
       "    <tr>\n",
       "      <th>3</th>\n",
       "      <td>512.496173</td>\n",
       "    </tr>\n",
       "  </tbody>\n",
       "</table>\n",
       "</div>"
      ],
      "text/plain": [
       "      total_cardspent\n",
       "                 mean\n",
       "bfast                \n",
       "1          489.129760\n",
       "2          489.813171\n",
       "3          512.496173"
      ]
     },
     "execution_count": 1175,
     "metadata": {},
     "output_type": "execute_result"
    }
   ],
   "source": [
    "pd.DataFrame(dfi.groupby(['bfast']).agg({\"total_cardspent\":['mean']}))"
   ]
  },
  {
   "cell_type": "code",
   "execution_count": null,
   "metadata": {},
   "outputs": [],
   "source": []
  },
  {
   "cell_type": "markdown",
   "metadata": {},
   "source": [
    "## total_cardspent"
   ]
  },
  {
   "cell_type": "code",
   "execution_count": 1176,
   "metadata": {},
   "outputs": [
    {
     "data": {
      "text/plain": [
       "array([  58.1832,   88.3202,  105.7895,  120.916 ,  133.082 ,  144.9174,\n",
       "        153.9177,  161.4556,  172.5213,  183.931 ,  190.99  ,  196.9008,\n",
       "        202.4463,  210.1134,  216.413 ,  222.5416,  228.27  ,  234.8958,\n",
       "        241.1938,  247.328 ,  253.3112,  259.6892,  265.0346,  270.7068,\n",
       "        276.325 ,  282.0008,  286.7088,  292.424 ,  297.71  ,  302.589 ,\n",
       "        307.6828,  311.9932,  316.8697,  322.2924,  326.7785,  332.322 ,\n",
       "        337.041 ,  342.8468,  348.5232,  354.6   ,  360.0626,  365.8844,\n",
       "        372.8498,  378.3996,  385.112 ,  391.1456,  397.3236,  404.322 ,\n",
       "        409.9556,  414.25  ,  422.7361,  428.45  ,  434.3676,  440.6042,\n",
       "        446.2065,  452.3864,  458.8502,  465.6076,  472.0661,  479.138 ,\n",
       "        486.7184,  492.48  ,  501.77  ,  509.072 ,  516.653 ,  524.8614,\n",
       "        533.9044,  544.114 ,  552.3036,  562.423 ,  571.1   ,  582.6464,\n",
       "        593.8981,  605.1628,  615.8675,  628.8288,  641.2576,  656.7268,\n",
       "        671.1662,  686.74  ,  700.1665,  715.838 ,  736.0976,  752.9572,\n",
       "        774.656 ,  801.9632,  824.1866,  843.756 ,  872.2091,  907.755 ,\n",
       "        944.2327,  979.8224, 1021.6631, 1082.7632, 1145.3655, 1246.7168,\n",
       "       1345.112 , 1537.799 , 1760.6568, 4881.05  ])"
      ]
     },
     "execution_count": 1176,
     "metadata": {},
     "output_type": "execute_result"
    }
   ],
   "source": [
    "np.percentile(dfi[\"total_cardspent\"], range(1,101))"
   ]
  },
  {
   "cell_type": "code",
   "execution_count": 1177,
   "metadata": {},
   "outputs": [
    {
     "name": "stderr",
     "output_type": "stream",
     "text": [
      "<ipython-input-1177-c9b22ce82b80>:1: SettingWithCopyWarning: \n",
      "A value is trying to be set on a copy of a slice from a DataFrame\n",
      "\n",
      "See the caveats in the documentation: https://pandas.pydata.org/pandas-docs/stable/user_guide/indexing.html#returning-a-view-versus-a-copy\n",
      "  dfi[\"total_cardspent\"][dfi[\"total_cardspent\"]<= 88]= 88\n",
      "<ipython-input-1177-c9b22ce82b80>:2: SettingWithCopyWarning: \n",
      "A value is trying to be set on a copy of a slice from a DataFrame\n",
      "\n",
      "See the caveats in the documentation: https://pandas.pydata.org/pandas-docs/stable/user_guide/indexing.html#returning-a-view-versus-a-copy\n",
      "  dfi[\"total_cardspent\"][dfi[\"total_cardspent\"]>= 1760]= 1760\n"
     ]
    }
   ],
   "source": [
    "dfi[\"total_cardspent\"][dfi[\"total_cardspent\"]<= 88]= 88\n",
    "dfi[\"total_cardspent\"][dfi[\"total_cardspent\"]>= 1760]= 1760"
   ]
  },
  {
   "cell_type": "code",
   "execution_count": 1178,
   "metadata": {},
   "outputs": [
    {
     "data": {
      "text/plain": [
       "array([  88.    ,   88.3202,  105.7895,  120.916 ,  133.082 ,  144.9174,\n",
       "        153.9177,  161.4556,  172.5213,  183.931 ,  190.99  ,  196.9008,\n",
       "        202.4463,  210.1134,  216.413 ,  222.5416,  228.27  ,  234.8958,\n",
       "        241.1938,  247.328 ,  253.3112,  259.6892,  265.0346,  270.7068,\n",
       "        276.325 ,  282.0008,  286.7088,  292.424 ,  297.71  ,  302.589 ,\n",
       "        307.6828,  311.9932,  316.8697,  322.2924,  326.7785,  332.322 ,\n",
       "        337.041 ,  342.8468,  348.5232,  354.6   ,  360.0626,  365.8844,\n",
       "        372.8498,  378.3996,  385.112 ,  391.1456,  397.3236,  404.322 ,\n",
       "        409.9556,  414.25  ,  422.7361,  428.45  ,  434.3676,  440.6042,\n",
       "        446.2065,  452.3864,  458.8502,  465.6076,  472.0661,  479.138 ,\n",
       "        486.7184,  492.48  ,  501.77  ,  509.072 ,  516.653 ,  524.8614,\n",
       "        533.9044,  544.114 ,  552.3036,  562.423 ,  571.1   ,  582.6464,\n",
       "        593.8981,  605.1628,  615.8675,  628.8288,  641.2576,  656.7268,\n",
       "        671.1662,  686.74  ,  700.1665,  715.838 ,  736.0976,  752.9572,\n",
       "        774.656 ,  801.9632,  824.1866,  843.756 ,  872.2091,  907.755 ,\n",
       "        944.2327,  979.8224, 1021.6631, 1082.7632, 1145.3655, 1246.7168,\n",
       "       1345.112 , 1537.799 , 1760.    , 1760.    ])"
      ]
     },
     "execution_count": 1178,
     "metadata": {},
     "output_type": "execute_result"
    }
   ],
   "source": [
    "np.percentile(dfi[\"total_cardspent\"], range(1,101))"
   ]
  },
  {
   "cell_type": "markdown",
   "metadata": {},
   "source": [
    "# CONVERTING NOMINAL CATEGORICAL VARIABLES TO OBJECT DATATYPE WITH THERE RESPECTIVE NAMES"
   ]
  },
  {
   "cell_type": "markdown",
   "metadata": {},
   "source": [
    "# card"
   ]
  },
  {
   "cell_type": "raw",
   "metadata": {},
   "source": [
    "1\tAmerican Express\n",
    "2\tVisa\n",
    "3\tMastercard\n",
    "4\tDiscover\n",
    "5\tOther\n"
   ]
  },
  {
   "cell_type": "code",
   "execution_count": 1179,
   "metadata": {},
   "outputs": [
    {
     "data": {
      "text/plain": [
       "4    1343\n",
       "2    1244\n",
       "3    1200\n",
       "1     985\n",
       "5     222\n",
       "Name: card, dtype: int64"
      ]
     },
     "execution_count": 1179,
     "metadata": {},
     "output_type": "execute_result"
    }
   ],
   "source": [
    "dfi[\"card\"].value_counts()"
   ]
  },
  {
   "cell_type": "code",
   "execution_count": 1180,
   "metadata": {
    "scrolled": true
   },
   "outputs": [
    {
     "data": {
      "text/html": [
       "<div>\n",
       "<style scoped>\n",
       "    .dataframe tbody tr th:only-of-type {\n",
       "        vertical-align: middle;\n",
       "    }\n",
       "\n",
       "    .dataframe tbody tr th {\n",
       "        vertical-align: top;\n",
       "    }\n",
       "\n",
       "    .dataframe thead tr th {\n",
       "        text-align: left;\n",
       "    }\n",
       "\n",
       "    .dataframe thead tr:last-of-type th {\n",
       "        text-align: right;\n",
       "    }\n",
       "</style>\n",
       "<table border=\"1\" class=\"dataframe\">\n",
       "  <thead>\n",
       "    <tr>\n",
       "      <th></th>\n",
       "      <th>total_cardspent</th>\n",
       "    </tr>\n",
       "    <tr>\n",
       "      <th></th>\n",
       "      <th>mean</th>\n",
       "    </tr>\n",
       "    <tr>\n",
       "      <th>card</th>\n",
       "      <th></th>\n",
       "    </tr>\n",
       "  </thead>\n",
       "  <tbody>\n",
       "    <tr>\n",
       "      <th>1</th>\n",
       "      <td>737.956467</td>\n",
       "    </tr>\n",
       "    <tr>\n",
       "      <th>2</th>\n",
       "      <td>424.593328</td>\n",
       "    </tr>\n",
       "    <tr>\n",
       "      <th>3</th>\n",
       "      <td>426.274975</td>\n",
       "    </tr>\n",
       "    <tr>\n",
       "      <th>4</th>\n",
       "      <td>449.867029</td>\n",
       "    </tr>\n",
       "    <tr>\n",
       "      <th>5</th>\n",
       "      <td>430.832883</td>\n",
       "    </tr>\n",
       "  </tbody>\n",
       "</table>\n",
       "</div>"
      ],
      "text/plain": [
       "     total_cardspent\n",
       "                mean\n",
       "card                \n",
       "1         737.956467\n",
       "2         424.593328\n",
       "3         426.274975\n",
       "4         449.867029\n",
       "5         430.832883"
      ]
     },
     "execution_count": 1180,
     "metadata": {},
     "output_type": "execute_result"
    }
   ],
   "source": [
    "pd.DataFrame(dfi.groupby(['card']).agg({\"total_cardspent\":['mean']}))"
   ]
  },
  {
   "cell_type": "code",
   "execution_count": 1181,
   "metadata": {},
   "outputs": [],
   "source": [
    "dfi[\"card\"] = dfi[\"card\"].replace([2,3,5], \"other\")\n",
    "dfi[\"card\"] = dfi[\"card\"].replace([1], \"American Express\")\n",
    "dfi[\"card\"] = dfi[\"card\"].replace([4], \"Discover\")\n"
   ]
  },
  {
   "cell_type": "code",
   "execution_count": 1182,
   "metadata": {},
   "outputs": [
    {
     "data": {
      "text/plain": [
       "other               2666\n",
       "Discover            1343\n",
       "American Express     985\n",
       "Name: card, dtype: int64"
      ]
     },
     "execution_count": 1182,
     "metadata": {},
     "output_type": "execute_result"
    }
   ],
   "source": [
    "dfi[\"card\"].value_counts()"
   ]
  },
  {
   "cell_type": "code",
   "execution_count": null,
   "metadata": {},
   "outputs": [],
   "source": []
  },
  {
   "cell_type": "markdown",
   "metadata": {},
   "source": [
    "## card2"
   ]
  },
  {
   "cell_type": "raw",
   "metadata": {},
   "source": [
    "1\tAmerican Express\n",
    "2\tVisa\n",
    "3\tMastercard\n",
    "4\tDiscover\n",
    "5\tOther\n",
    "     "
   ]
  },
  {
   "cell_type": "code",
   "execution_count": 1183,
   "metadata": {},
   "outputs": [
    {
     "data": {
      "text/plain": [
       "3    1381\n",
       "2    1300\n",
       "4    1140\n",
       "1     829\n",
       "5     344\n",
       "Name: card2, dtype: int64"
      ]
     },
     "execution_count": 1183,
     "metadata": {},
     "output_type": "execute_result"
    }
   ],
   "source": [
    "dfi[\"card2\"].value_counts()"
   ]
  },
  {
   "cell_type": "code",
   "execution_count": 1184,
   "metadata": {},
   "outputs": [
    {
     "data": {
      "text/html": [
       "<div>\n",
       "<style scoped>\n",
       "    .dataframe tbody tr th:only-of-type {\n",
       "        vertical-align: middle;\n",
       "    }\n",
       "\n",
       "    .dataframe tbody tr th {\n",
       "        vertical-align: top;\n",
       "    }\n",
       "\n",
       "    .dataframe thead tr th {\n",
       "        text-align: left;\n",
       "    }\n",
       "\n",
       "    .dataframe thead tr:last-of-type th {\n",
       "        text-align: right;\n",
       "    }\n",
       "</style>\n",
       "<table border=\"1\" class=\"dataframe\">\n",
       "  <thead>\n",
       "    <tr>\n",
       "      <th></th>\n",
       "      <th>total_cardspent</th>\n",
       "    </tr>\n",
       "    <tr>\n",
       "      <th></th>\n",
       "      <th>mean</th>\n",
       "    </tr>\n",
       "    <tr>\n",
       "      <th>card2</th>\n",
       "      <th></th>\n",
       "    </tr>\n",
       "  </thead>\n",
       "  <tbody>\n",
       "    <tr>\n",
       "      <th>1</th>\n",
       "      <td>591.670676</td>\n",
       "    </tr>\n",
       "    <tr>\n",
       "      <th>2</th>\n",
       "      <td>457.596038</td>\n",
       "    </tr>\n",
       "    <tr>\n",
       "      <th>3</th>\n",
       "      <td>456.979464</td>\n",
       "    </tr>\n",
       "    <tr>\n",
       "      <th>4</th>\n",
       "      <td>532.771351</td>\n",
       "    </tr>\n",
       "    <tr>\n",
       "      <th>5</th>\n",
       "      <td>414.563052</td>\n",
       "    </tr>\n",
       "  </tbody>\n",
       "</table>\n",
       "</div>"
      ],
      "text/plain": [
       "      total_cardspent\n",
       "                 mean\n",
       "card2                \n",
       "1          591.670676\n",
       "2          457.596038\n",
       "3          456.979464\n",
       "4          532.771351\n",
       "5          414.563052"
      ]
     },
     "execution_count": 1184,
     "metadata": {},
     "output_type": "execute_result"
    }
   ],
   "source": [
    "pd.DataFrame(dfi.groupby(['card2']).agg({\"total_cardspent\":['mean']}))"
   ]
  },
  {
   "cell_type": "code",
   "execution_count": 1185,
   "metadata": {},
   "outputs": [],
   "source": [
    "dfi[\"card2\"] = dfi[\"card2\"].replace([1], \"American Express\")\n",
    "dfi[\"card2\"] = dfi[\"card2\"].replace([2], \"Visa\")\n",
    "dfi[\"card2\"] = dfi[\"card2\"].replace([3], \"Mastercard\")\n",
    "dfi[\"card2\"] = dfi[\"card2\"].replace([4], \"Discover\")\n",
    "dfi[\"card2\"] = dfi[\"card2\"].replace([5], \"other\")"
   ]
  },
  {
   "cell_type": "code",
   "execution_count": 1186,
   "metadata": {},
   "outputs": [
    {
     "data": {
      "text/plain": [
       "Mastercard          1381\n",
       "Visa                1300\n",
       "Discover            1140\n",
       "American Express     829\n",
       "other                344\n",
       "Name: card2, dtype: int64"
      ]
     },
     "execution_count": 1186,
     "metadata": {},
     "output_type": "execute_result"
    }
   ],
   "source": [
    "dfi[\"card2\"].value_counts()"
   ]
  },
  {
   "cell_type": "code",
   "execution_count": null,
   "metadata": {},
   "outputs": [],
   "source": []
  },
  {
   "cell_type": "markdown",
   "metadata": {},
   "source": [
    "## card2benefit"
   ]
  },
  {
   "cell_type": "raw",
   "metadata": {},
   "source": [
    "1\tNone\n",
    "2\tCash back\n",
    "3\tAirline miles\n",
    "4\tOther\n"
   ]
  },
  {
   "cell_type": "code",
   "execution_count": 1187,
   "metadata": {},
   "outputs": [
    {
     "data": {
      "text/plain": [
       "4    1291\n",
       "3    1284\n",
       "2    1216\n",
       "1    1203\n",
       "Name: card2benefit, dtype: int64"
      ]
     },
     "execution_count": 1187,
     "metadata": {},
     "output_type": "execute_result"
    }
   ],
   "source": [
    "dfi[\"card2benefit\"].value_counts()"
   ]
  },
  {
   "cell_type": "code",
   "execution_count": 1188,
   "metadata": {},
   "outputs": [
    {
     "data": {
      "text/html": [
       "<div>\n",
       "<style scoped>\n",
       "    .dataframe tbody tr th:only-of-type {\n",
       "        vertical-align: middle;\n",
       "    }\n",
       "\n",
       "    .dataframe tbody tr th {\n",
       "        vertical-align: top;\n",
       "    }\n",
       "\n",
       "    .dataframe thead tr th {\n",
       "        text-align: left;\n",
       "    }\n",
       "\n",
       "    .dataframe thead tr:last-of-type th {\n",
       "        text-align: right;\n",
       "    }\n",
       "</style>\n",
       "<table border=\"1\" class=\"dataframe\">\n",
       "  <thead>\n",
       "    <tr>\n",
       "      <th></th>\n",
       "      <th>total_cardspent</th>\n",
       "    </tr>\n",
       "    <tr>\n",
       "      <th></th>\n",
       "      <th>mean</th>\n",
       "    </tr>\n",
       "    <tr>\n",
       "      <th>card2benefit</th>\n",
       "      <th></th>\n",
       "    </tr>\n",
       "  </thead>\n",
       "  <tbody>\n",
       "    <tr>\n",
       "      <th>1</th>\n",
       "      <td>493.702943</td>\n",
       "    </tr>\n",
       "    <tr>\n",
       "      <th>2</th>\n",
       "      <td>501.173503</td>\n",
       "    </tr>\n",
       "    <tr>\n",
       "      <th>3</th>\n",
       "      <td>483.642726</td>\n",
       "    </tr>\n",
       "    <tr>\n",
       "      <th>4</th>\n",
       "      <td>497.349830</td>\n",
       "    </tr>\n",
       "  </tbody>\n",
       "</table>\n",
       "</div>"
      ],
      "text/plain": [
       "             total_cardspent\n",
       "                        mean\n",
       "card2benefit                \n",
       "1                 493.702943\n",
       "2                 501.173503\n",
       "3                 483.642726\n",
       "4                 497.349830"
      ]
     },
     "execution_count": 1188,
     "metadata": {},
     "output_type": "execute_result"
    }
   ],
   "source": [
    "pd.DataFrame(dfi.groupby(['card2benefit']).agg({\"total_cardspent\":['mean']}))"
   ]
  },
  {
   "cell_type": "code",
   "execution_count": 1189,
   "metadata": {},
   "outputs": [],
   "source": [
    "dfi[\"card2benefit\"] = dfi[\"card2benefit\"].replace([1], \"None\")\n",
    "dfi[\"card2benefit\"] = dfi[\"card2benefit\"].replace([2,4], \"other\")\n",
    "dfi[\"card2benefit\"] = dfi[\"card2benefit\"].replace([3], \"Airline miles\")"
   ]
  },
  {
   "cell_type": "code",
   "execution_count": 1190,
   "metadata": {},
   "outputs": [
    {
     "data": {
      "text/plain": [
       "other            2507\n",
       "Airline miles    1284\n",
       "None             1203\n",
       "Name: card2benefit, dtype: int64"
      ]
     },
     "execution_count": 1190,
     "metadata": {},
     "output_type": "execute_result"
    }
   ],
   "source": [
    "dfi[\"card2benefit\"].value_counts()"
   ]
  },
  {
   "cell_type": "code",
   "execution_count": null,
   "metadata": {},
   "outputs": [],
   "source": []
  },
  {
   "cell_type": "markdown",
   "metadata": {},
   "source": [
    "# retire"
   ]
  },
  {
   "cell_type": "raw",
   "metadata": {},
   "source": [
    "0\tNo\n",
    "1\tYes\n"
   ]
  },
  {
   "cell_type": "code",
   "execution_count": 1191,
   "metadata": {},
   "outputs": [
    {
     "data": {
      "text/html": [
       "<div>\n",
       "<style scoped>\n",
       "    .dataframe tbody tr th:only-of-type {\n",
       "        vertical-align: middle;\n",
       "    }\n",
       "\n",
       "    .dataframe tbody tr th {\n",
       "        vertical-align: top;\n",
       "    }\n",
       "\n",
       "    .dataframe thead tr th {\n",
       "        text-align: left;\n",
       "    }\n",
       "\n",
       "    .dataframe thead tr:last-of-type th {\n",
       "        text-align: right;\n",
       "    }\n",
       "</style>\n",
       "<table border=\"1\" class=\"dataframe\">\n",
       "  <thead>\n",
       "    <tr>\n",
       "      <th></th>\n",
       "      <th>total_cardspent</th>\n",
       "    </tr>\n",
       "    <tr>\n",
       "      <th></th>\n",
       "      <th>mean</th>\n",
       "    </tr>\n",
       "    <tr>\n",
       "      <th>retire</th>\n",
       "      <th></th>\n",
       "    </tr>\n",
       "  </thead>\n",
       "  <tbody>\n",
       "    <tr>\n",
       "      <th>0</th>\n",
       "      <td>516.437437</td>\n",
       "    </tr>\n",
       "    <tr>\n",
       "      <th>1</th>\n",
       "      <td>363.573053</td>\n",
       "    </tr>\n",
       "  </tbody>\n",
       "</table>\n",
       "</div>"
      ],
      "text/plain": [
       "       total_cardspent\n",
       "                  mean\n",
       "retire                \n",
       "0           516.437437\n",
       "1           363.573053"
      ]
     },
     "execution_count": 1191,
     "metadata": {},
     "output_type": "execute_result"
    }
   ],
   "source": [
    "pd.DataFrame(dfi.groupby(['retire']).agg({\"total_cardspent\":['mean']}))"
   ]
  },
  {
   "cell_type": "code",
   "execution_count": 1192,
   "metadata": {},
   "outputs": [],
   "source": [
    "dfi[\"retire\"] = dfi[\"retire\"].replace([0], \"No\")\n",
    "dfi[\"retire\"] = dfi[\"retire\"].replace([1], \"Yes\")"
   ]
  },
  {
   "cell_type": "code",
   "execution_count": 1193,
   "metadata": {},
   "outputs": [
    {
     "data": {
      "text/plain": [
       "No     4257\n",
       "Yes     737\n",
       "Name: retire, dtype: int64"
      ]
     },
     "execution_count": 1193,
     "metadata": {},
     "output_type": "execute_result"
    }
   ],
   "source": [
    "dfi[\"retire\"].value_counts()"
   ]
  },
  {
   "cell_type": "code",
   "execution_count": null,
   "metadata": {},
   "outputs": [],
   "source": []
  },
  {
   "cell_type": "markdown",
   "metadata": {},
   "source": [
    "## ownvcr"
   ]
  },
  {
   "cell_type": "raw",
   "metadata": {},
   "source": [
    "0\tNo\n",
    "1\tYes\n"
   ]
  },
  {
   "cell_type": "code",
   "execution_count": 1194,
   "metadata": {},
   "outputs": [
    {
     "data": {
      "text/plain": [
       "1    4573\n",
       "0     421\n",
       "Name: ownvcr, dtype: int64"
      ]
     },
     "execution_count": 1194,
     "metadata": {},
     "output_type": "execute_result"
    }
   ],
   "source": [
    "dfi[\"ownvcr\"].value_counts()"
   ]
  },
  {
   "cell_type": "code",
   "execution_count": 1195,
   "metadata": {},
   "outputs": [
    {
     "data": {
      "text/html": [
       "<div>\n",
       "<style scoped>\n",
       "    .dataframe tbody tr th:only-of-type {\n",
       "        vertical-align: middle;\n",
       "    }\n",
       "\n",
       "    .dataframe tbody tr th {\n",
       "        vertical-align: top;\n",
       "    }\n",
       "\n",
       "    .dataframe thead tr th {\n",
       "        text-align: left;\n",
       "    }\n",
       "\n",
       "    .dataframe thead tr:last-of-type th {\n",
       "        text-align: right;\n",
       "    }\n",
       "</style>\n",
       "<table border=\"1\" class=\"dataframe\">\n",
       "  <thead>\n",
       "    <tr>\n",
       "      <th></th>\n",
       "      <th>total_cardspent</th>\n",
       "    </tr>\n",
       "    <tr>\n",
       "      <th></th>\n",
       "      <th>mean</th>\n",
       "    </tr>\n",
       "    <tr>\n",
       "      <th>ownvcr</th>\n",
       "      <th></th>\n",
       "    </tr>\n",
       "  </thead>\n",
       "  <tbody>\n",
       "    <tr>\n",
       "      <th>0</th>\n",
       "      <td>351.753872</td>\n",
       "    </tr>\n",
       "    <tr>\n",
       "      <th>1</th>\n",
       "      <td>506.962416</td>\n",
       "    </tr>\n",
       "  </tbody>\n",
       "</table>\n",
       "</div>"
      ],
      "text/plain": [
       "       total_cardspent\n",
       "                  mean\n",
       "ownvcr                \n",
       "0           351.753872\n",
       "1           506.962416"
      ]
     },
     "execution_count": 1195,
     "metadata": {},
     "output_type": "execute_result"
    }
   ],
   "source": [
    "pd.DataFrame(dfi.groupby(['ownvcr']).agg({\"total_cardspent\":['mean']}))"
   ]
  },
  {
   "cell_type": "code",
   "execution_count": 1196,
   "metadata": {},
   "outputs": [],
   "source": [
    "dfi[\"ownvcr\"] = dfi[\"ownvcr\"].replace([0], \"No\")\n",
    "dfi[\"ownvcr\"] = dfi[\"ownvcr\"].replace([1], \"Yes\")"
   ]
  },
  {
   "cell_type": "code",
   "execution_count": 1197,
   "metadata": {},
   "outputs": [
    {
     "data": {
      "text/plain": [
       "Yes    4573\n",
       "No      421\n",
       "Name: ownvcr, dtype: int64"
      ]
     },
     "execution_count": 1197,
     "metadata": {},
     "output_type": "execute_result"
    }
   ],
   "source": [
    "dfi[\"ownvcr\"].value_counts()"
   ]
  },
  {
   "cell_type": "markdown",
   "metadata": {},
   "source": []
  },
  {
   "cell_type": "markdown",
   "metadata": {},
   "source": [
    "## owncd"
   ]
  },
  {
   "cell_type": "raw",
   "metadata": {},
   "source": [
    "0\tNo\n",
    "1\tYes"
   ]
  },
  {
   "cell_type": "code",
   "execution_count": 1198,
   "metadata": {},
   "outputs": [
    {
     "data": {
      "text/plain": [
       "1    4659\n",
       "0     335\n",
       "Name: owncd, dtype: int64"
      ]
     },
     "execution_count": 1198,
     "metadata": {},
     "output_type": "execute_result"
    }
   ],
   "source": [
    "dfi[\"owncd\"].value_counts()"
   ]
  },
  {
   "cell_type": "code",
   "execution_count": 1199,
   "metadata": {},
   "outputs": [
    {
     "data": {
      "text/html": [
       "<div>\n",
       "<style scoped>\n",
       "    .dataframe tbody tr th:only-of-type {\n",
       "        vertical-align: middle;\n",
       "    }\n",
       "\n",
       "    .dataframe tbody tr th {\n",
       "        vertical-align: top;\n",
       "    }\n",
       "\n",
       "    .dataframe thead tr th {\n",
       "        text-align: left;\n",
       "    }\n",
       "\n",
       "    .dataframe thead tr:last-of-type th {\n",
       "        text-align: right;\n",
       "    }\n",
       "</style>\n",
       "<table border=\"1\" class=\"dataframe\">\n",
       "  <thead>\n",
       "    <tr>\n",
       "      <th></th>\n",
       "      <th>total_cardspent</th>\n",
       "    </tr>\n",
       "    <tr>\n",
       "      <th></th>\n",
       "      <th>mean</th>\n",
       "    </tr>\n",
       "    <tr>\n",
       "      <th>owncd</th>\n",
       "      <th></th>\n",
       "    </tr>\n",
       "  </thead>\n",
       "  <tbody>\n",
       "    <tr>\n",
       "      <th>0</th>\n",
       "      <td>348.125104</td>\n",
       "    </tr>\n",
       "    <tr>\n",
       "      <th>1</th>\n",
       "      <td>504.358360</td>\n",
       "    </tr>\n",
       "  </tbody>\n",
       "</table>\n",
       "</div>"
      ],
      "text/plain": [
       "      total_cardspent\n",
       "                 mean\n",
       "owncd                \n",
       "0          348.125104\n",
       "1          504.358360"
      ]
     },
     "execution_count": 1199,
     "metadata": {},
     "output_type": "execute_result"
    }
   ],
   "source": [
    "pd.DataFrame(dfi.groupby(['owncd']).agg({\"total_cardspent\":['mean']}))"
   ]
  },
  {
   "cell_type": "code",
   "execution_count": 1200,
   "metadata": {},
   "outputs": [],
   "source": [
    "dfi[\"owncd\"] = dfi[\"owncd\"].replace([0], \"No\")\n",
    "dfi[\"owncd\"] = dfi[\"owncd\"].replace([1], \"Yes\")"
   ]
  },
  {
   "cell_type": "code",
   "execution_count": 1201,
   "metadata": {},
   "outputs": [
    {
     "data": {
      "text/plain": [
       "Yes    4659\n",
       "No      335\n",
       "Name: owncd, dtype: int64"
      ]
     },
     "execution_count": 1201,
     "metadata": {},
     "output_type": "execute_result"
    }
   ],
   "source": [
    "dfi[\"owncd\"].value_counts()"
   ]
  },
  {
   "cell_type": "code",
   "execution_count": null,
   "metadata": {},
   "outputs": [],
   "source": []
  },
  {
   "cell_type": "markdown",
   "metadata": {},
   "source": [
    "# owndvd\n"
   ]
  },
  {
   "cell_type": "raw",
   "metadata": {},
   "source": [
    "0\tNo\n",
    "1\tYes\n"
   ]
  },
  {
   "cell_type": "code",
   "execution_count": 1202,
   "metadata": {},
   "outputs": [
    {
     "data": {
      "text/plain": [
       "1    4562\n",
       "0     432\n",
       "Name: owndvd, dtype: int64"
      ]
     },
     "execution_count": 1202,
     "metadata": {},
     "output_type": "execute_result"
    }
   ],
   "source": [
    "dfi[\"owndvd\"].value_counts()"
   ]
  },
  {
   "cell_type": "code",
   "execution_count": 1203,
   "metadata": {},
   "outputs": [
    {
     "data": {
      "text/html": [
       "<div>\n",
       "<style scoped>\n",
       "    .dataframe tbody tr th:only-of-type {\n",
       "        vertical-align: middle;\n",
       "    }\n",
       "\n",
       "    .dataframe tbody tr th {\n",
       "        vertical-align: top;\n",
       "    }\n",
       "\n",
       "    .dataframe thead tr th {\n",
       "        text-align: left;\n",
       "    }\n",
       "\n",
       "    .dataframe thead tr:last-of-type th {\n",
       "        text-align: right;\n",
       "    }\n",
       "</style>\n",
       "<table border=\"1\" class=\"dataframe\">\n",
       "  <thead>\n",
       "    <tr>\n",
       "      <th></th>\n",
       "      <th>total_cardspent</th>\n",
       "    </tr>\n",
       "    <tr>\n",
       "      <th></th>\n",
       "      <th>mean</th>\n",
       "    </tr>\n",
       "    <tr>\n",
       "      <th>owndvd</th>\n",
       "      <th></th>\n",
       "    </tr>\n",
       "  </thead>\n",
       "  <tbody>\n",
       "    <tr>\n",
       "      <th>0</th>\n",
       "      <td>349.018843</td>\n",
       "    </tr>\n",
       "    <tr>\n",
       "      <th>1</th>\n",
       "      <td>507.595653</td>\n",
       "    </tr>\n",
       "  </tbody>\n",
       "</table>\n",
       "</div>"
      ],
      "text/plain": [
       "       total_cardspent\n",
       "                  mean\n",
       "owndvd                \n",
       "0           349.018843\n",
       "1           507.595653"
      ]
     },
     "execution_count": 1203,
     "metadata": {},
     "output_type": "execute_result"
    }
   ],
   "source": [
    "pd.DataFrame(dfi.groupby(['owndvd']).agg({\"total_cardspent\":['mean']}))"
   ]
  },
  {
   "cell_type": "code",
   "execution_count": 1204,
   "metadata": {},
   "outputs": [],
   "source": [
    "dfi[\"owndvd\"] = dfi[\"owndvd\"].replace([0], \"No\")\n",
    "dfi[\"owndvd\"] = dfi[\"owndvd\"].replace([1], \"Yes\")"
   ]
  },
  {
   "cell_type": "code",
   "execution_count": 1205,
   "metadata": {},
   "outputs": [
    {
     "data": {
      "text/plain": [
       "Yes    4562\n",
       "No      432\n",
       "Name: owndvd, dtype: int64"
      ]
     },
     "execution_count": 1205,
     "metadata": {},
     "output_type": "execute_result"
    }
   ],
   "source": [
    "dfi[\"owndvd\"].value_counts()"
   ]
  },
  {
   "cell_type": "code",
   "execution_count": null,
   "metadata": {},
   "outputs": [],
   "source": []
  },
  {
   "cell_type": "markdown",
   "metadata": {},
   "source": [
    "## multline"
   ]
  },
  {
   "cell_type": "raw",
   "metadata": {},
   "source": [
    "0\tNo\n",
    "1\tYes\n"
   ]
  },
  {
   "cell_type": "code",
   "execution_count": 1206,
   "metadata": {},
   "outputs": [
    {
     "data": {
      "text/plain": [
       "0    2555\n",
       "1    2439\n",
       "Name: multline, dtype: int64"
      ]
     },
     "execution_count": 1206,
     "metadata": {},
     "output_type": "execute_result"
    }
   ],
   "source": [
    "dfi[\"multline\"].value_counts()"
   ]
  },
  {
   "cell_type": "code",
   "execution_count": 1207,
   "metadata": {},
   "outputs": [
    {
     "data": {
      "text/html": [
       "<div>\n",
       "<style scoped>\n",
       "    .dataframe tbody tr th:only-of-type {\n",
       "        vertical-align: middle;\n",
       "    }\n",
       "\n",
       "    .dataframe tbody tr th {\n",
       "        vertical-align: top;\n",
       "    }\n",
       "\n",
       "    .dataframe thead tr th {\n",
       "        text-align: left;\n",
       "    }\n",
       "\n",
       "    .dataframe thead tr:last-of-type th {\n",
       "        text-align: right;\n",
       "    }\n",
       "</style>\n",
       "<table border=\"1\" class=\"dataframe\">\n",
       "  <thead>\n",
       "    <tr>\n",
       "      <th></th>\n",
       "      <th>total_cardspent</th>\n",
       "    </tr>\n",
       "    <tr>\n",
       "      <th></th>\n",
       "      <th>mean</th>\n",
       "    </tr>\n",
       "    <tr>\n",
       "      <th>multline</th>\n",
       "      <th></th>\n",
       "    </tr>\n",
       "  </thead>\n",
       "  <tbody>\n",
       "    <tr>\n",
       "      <th>0</th>\n",
       "      <td>478.301221</td>\n",
       "    </tr>\n",
       "    <tr>\n",
       "      <th>1</th>\n",
       "      <td>510.195937</td>\n",
       "    </tr>\n",
       "  </tbody>\n",
       "</table>\n",
       "</div>"
      ],
      "text/plain": [
       "         total_cardspent\n",
       "                    mean\n",
       "multline                \n",
       "0             478.301221\n",
       "1             510.195937"
      ]
     },
     "execution_count": 1207,
     "metadata": {},
     "output_type": "execute_result"
    }
   ],
   "source": [
    "pd.DataFrame(dfi.groupby(['multline']).agg({\"total_cardspent\":['mean']}))"
   ]
  },
  {
   "cell_type": "code",
   "execution_count": 1208,
   "metadata": {},
   "outputs": [],
   "source": [
    "dfi[\"multline\"] = dfi[\"multline\"].replace([0], \"No\")\n",
    "dfi[\"multline\"] = dfi[\"multline\"].replace([1], \"Yes\")"
   ]
  },
  {
   "cell_type": "code",
   "execution_count": 1209,
   "metadata": {},
   "outputs": [
    {
     "data": {
      "text/plain": [
       "No     2555\n",
       "Yes    2439\n",
       "Name: multline, dtype: int64"
      ]
     },
     "execution_count": 1209,
     "metadata": {},
     "output_type": "execute_result"
    }
   ],
   "source": [
    "dfi[\"multline\"].value_counts()"
   ]
  },
  {
   "cell_type": "code",
   "execution_count": null,
   "metadata": {},
   "outputs": [],
   "source": []
  },
  {
   "cell_type": "markdown",
   "metadata": {},
   "source": [
    "# carown"
   ]
  },
  {
   "cell_type": "raw",
   "metadata": {},
   "source": [
    "-1\tN/A\n",
    "0\tLease\n",
    "1\tOwn\n"
   ]
  },
  {
   "cell_type": "code",
   "execution_count": 1210,
   "metadata": {},
   "outputs": [
    {
     "data": {
      "text/plain": [
       " 1    3699\n",
       " 0     799\n",
       "-1     496\n",
       "Name: carown, dtype: int64"
      ]
     },
     "execution_count": 1210,
     "metadata": {},
     "output_type": "execute_result"
    }
   ],
   "source": [
    "dfi[\"carown\"].value_counts()"
   ]
  },
  {
   "cell_type": "code",
   "execution_count": 1211,
   "metadata": {},
   "outputs": [
    {
     "data": {
      "text/html": [
       "<div>\n",
       "<style scoped>\n",
       "    .dataframe tbody tr th:only-of-type {\n",
       "        vertical-align: middle;\n",
       "    }\n",
       "\n",
       "    .dataframe tbody tr th {\n",
       "        vertical-align: top;\n",
       "    }\n",
       "\n",
       "    .dataframe thead tr th {\n",
       "        text-align: left;\n",
       "    }\n",
       "\n",
       "    .dataframe thead tr:last-of-type th {\n",
       "        text-align: right;\n",
       "    }\n",
       "</style>\n",
       "<table border=\"1\" class=\"dataframe\">\n",
       "  <thead>\n",
       "    <tr>\n",
       "      <th></th>\n",
       "      <th>total_cardspent</th>\n",
       "    </tr>\n",
       "    <tr>\n",
       "      <th></th>\n",
       "      <th>mean</th>\n",
       "    </tr>\n",
       "    <tr>\n",
       "      <th>carown</th>\n",
       "      <th></th>\n",
       "    </tr>\n",
       "  </thead>\n",
       "  <tbody>\n",
       "    <tr>\n",
       "      <th>-1</th>\n",
       "      <td>513.249536</td>\n",
       "    </tr>\n",
       "    <tr>\n",
       "      <th>0</th>\n",
       "      <td>390.950288</td>\n",
       "    </tr>\n",
       "    <tr>\n",
       "      <th>1</th>\n",
       "      <td>513.513506</td>\n",
       "    </tr>\n",
       "  </tbody>\n",
       "</table>\n",
       "</div>"
      ],
      "text/plain": [
       "       total_cardspent\n",
       "                  mean\n",
       "carown                \n",
       "-1          513.249536\n",
       " 0          390.950288\n",
       " 1          513.513506"
      ]
     },
     "execution_count": 1211,
     "metadata": {},
     "output_type": "execute_result"
    }
   ],
   "source": [
    "pd.DataFrame(dfi.groupby(['carown']).agg({\"total_cardspent\":['mean']}))"
   ]
  },
  {
   "cell_type": "code",
   "execution_count": 1212,
   "metadata": {},
   "outputs": [],
   "source": [
    "dfi[\"carown\"] = dfi[\"carown\"].replace([-1], \"NA\")\n",
    "dfi[\"carown\"] = dfi[\"carown\"].replace([0], \"Lease\")\n",
    "dfi[\"carown\"] = dfi[\"carown\"].replace([1], \"Own\")"
   ]
  },
  {
   "cell_type": "code",
   "execution_count": 1213,
   "metadata": {},
   "outputs": [
    {
     "data": {
      "text/plain": [
       "Own      3699\n",
       "Lease     799\n",
       "NA        496\n",
       "Name: carown, dtype: int64"
      ]
     },
     "execution_count": 1213,
     "metadata": {},
     "output_type": "execute_result"
    }
   ],
   "source": [
    "dfi[\"carown\"].value_counts()"
   ]
  },
  {
   "cell_type": "code",
   "execution_count": null,
   "metadata": {},
   "outputs": [],
   "source": []
  },
  {
   "cell_type": "markdown",
   "metadata": {},
   "source": [
    "# vote"
   ]
  },
  {
   "cell_type": "raw",
   "metadata": {},
   "source": [
    "0\tNo\n",
    "1\tYes\n"
   ]
  },
  {
   "cell_type": "code",
   "execution_count": 1214,
   "metadata": {},
   "outputs": [
    {
     "data": {
      "text/plain": [
       "1    2588\n",
       "0    2406\n",
       "Name: vote, dtype: int64"
      ]
     },
     "execution_count": 1214,
     "metadata": {},
     "output_type": "execute_result"
    }
   ],
   "source": [
    "dfi[\"vote\"].value_counts()"
   ]
  },
  {
   "cell_type": "code",
   "execution_count": 1215,
   "metadata": {},
   "outputs": [
    {
     "data": {
      "text/html": [
       "<div>\n",
       "<style scoped>\n",
       "    .dataframe tbody tr th:only-of-type {\n",
       "        vertical-align: middle;\n",
       "    }\n",
       "\n",
       "    .dataframe tbody tr th {\n",
       "        vertical-align: top;\n",
       "    }\n",
       "\n",
       "    .dataframe thead tr th {\n",
       "        text-align: left;\n",
       "    }\n",
       "\n",
       "    .dataframe thead tr:last-of-type th {\n",
       "        text-align: right;\n",
       "    }\n",
       "</style>\n",
       "<table border=\"1\" class=\"dataframe\">\n",
       "  <thead>\n",
       "    <tr>\n",
       "      <th></th>\n",
       "      <th>total_cardspent</th>\n",
       "    </tr>\n",
       "    <tr>\n",
       "      <th></th>\n",
       "      <th>mean</th>\n",
       "    </tr>\n",
       "    <tr>\n",
       "      <th>vote</th>\n",
       "      <th></th>\n",
       "    </tr>\n",
       "  </thead>\n",
       "  <tbody>\n",
       "    <tr>\n",
       "      <th>0</th>\n",
       "      <td>472.735993</td>\n",
       "    </tr>\n",
       "    <tr>\n",
       "      <th>1</th>\n",
       "      <td>513.533505</td>\n",
       "    </tr>\n",
       "  </tbody>\n",
       "</table>\n",
       "</div>"
      ],
      "text/plain": [
       "     total_cardspent\n",
       "                mean\n",
       "vote                \n",
       "0         472.735993\n",
       "1         513.533505"
      ]
     },
     "execution_count": 1215,
     "metadata": {},
     "output_type": "execute_result"
    }
   ],
   "source": [
    "pd.DataFrame(dfi.groupby(['vote']).agg({\"total_cardspent\":['mean']}))"
   ]
  },
  {
   "cell_type": "code",
   "execution_count": 1216,
   "metadata": {},
   "outputs": [],
   "source": [
    "dfi[\"vote\"] = dfi[\"vote\"].replace([0], \"No\")\n",
    "dfi[\"vote\"] = dfi[\"vote\"].replace([1], \"Yes\")"
   ]
  },
  {
   "cell_type": "code",
   "execution_count": 1217,
   "metadata": {},
   "outputs": [
    {
     "data": {
      "text/plain": [
       "Yes    2588\n",
       "No     2406\n",
       "Name: vote, dtype: int64"
      ]
     },
     "execution_count": 1217,
     "metadata": {},
     "output_type": "execute_result"
    }
   ],
   "source": [
    "dfi[\"vote\"].value_counts()"
   ]
  },
  {
   "cell_type": "code",
   "execution_count": null,
   "metadata": {},
   "outputs": [],
   "source": []
  },
  {
   "cell_type": "markdown",
   "metadata": {},
   "source": [
    "# wireless"
   ]
  },
  {
   "cell_type": "raw",
   "metadata": {},
   "source": [
    "0\tNo\n",
    "1\tYes\n"
   ]
  },
  {
   "cell_type": "code",
   "execution_count": 1218,
   "metadata": {},
   "outputs": [
    {
     "data": {
      "text/plain": [
       "0    3651\n",
       "1    1343\n",
       "Name: wireless, dtype: int64"
      ]
     },
     "execution_count": 1218,
     "metadata": {},
     "output_type": "execute_result"
    }
   ],
   "source": [
    "dfi[\"wireless\"].value_counts()"
   ]
  },
  {
   "cell_type": "code",
   "execution_count": 1219,
   "metadata": {},
   "outputs": [
    {
     "data": {
      "text/html": [
       "<div>\n",
       "<style scoped>\n",
       "    .dataframe tbody tr th:only-of-type {\n",
       "        vertical-align: middle;\n",
       "    }\n",
       "\n",
       "    .dataframe tbody tr th {\n",
       "        vertical-align: top;\n",
       "    }\n",
       "\n",
       "    .dataframe thead tr th {\n",
       "        text-align: left;\n",
       "    }\n",
       "\n",
       "    .dataframe thead tr:last-of-type th {\n",
       "        text-align: right;\n",
       "    }\n",
       "</style>\n",
       "<table border=\"1\" class=\"dataframe\">\n",
       "  <thead>\n",
       "    <tr>\n",
       "      <th></th>\n",
       "      <th>total_cardspent</th>\n",
       "    </tr>\n",
       "    <tr>\n",
       "      <th></th>\n",
       "      <th>mean</th>\n",
       "    </tr>\n",
       "    <tr>\n",
       "      <th>wireless</th>\n",
       "      <th></th>\n",
       "    </tr>\n",
       "  </thead>\n",
       "  <tbody>\n",
       "    <tr>\n",
       "      <th>0</th>\n",
       "      <td>480.677294</td>\n",
       "    </tr>\n",
       "    <tr>\n",
       "      <th>1</th>\n",
       "      <td>529.765235</td>\n",
       "    </tr>\n",
       "  </tbody>\n",
       "</table>\n",
       "</div>"
      ],
      "text/plain": [
       "         total_cardspent\n",
       "                    mean\n",
       "wireless                \n",
       "0             480.677294\n",
       "1             529.765235"
      ]
     },
     "execution_count": 1219,
     "metadata": {},
     "output_type": "execute_result"
    }
   ],
   "source": [
    "pd.DataFrame(dfi.groupby(['wireless']).agg({\"total_cardspent\":['mean']}))"
   ]
  },
  {
   "cell_type": "code",
   "execution_count": 1220,
   "metadata": {},
   "outputs": [],
   "source": [
    "dfi[\"wireless\"] = dfi[\"wireless\"].replace([0], \"No\")\n",
    "dfi[\"wireless\"] = dfi[\"wireless\"].replace([1], \"Yes\")"
   ]
  },
  {
   "cell_type": "code",
   "execution_count": 1221,
   "metadata": {},
   "outputs": [
    {
     "data": {
      "text/plain": [
       "No     3651\n",
       "Yes    1343\n",
       "Name: wireless, dtype: int64"
      ]
     },
     "execution_count": 1221,
     "metadata": {},
     "output_type": "execute_result"
    }
   ],
   "source": [
    "dfi[\"wireless\"].value_counts()"
   ]
  },
  {
   "cell_type": "code",
   "execution_count": null,
   "metadata": {},
   "outputs": [],
   "source": []
  },
  {
   "cell_type": "markdown",
   "metadata": {},
   "source": [
    "# reason"
   ]
  },
  {
   "cell_type": "raw",
   "metadata": {},
   "source": [
    "1\tPrices\n",
    "2\tConvenience\n",
    "3\tService\n",
    "4\tOther\n",
    "8\tN/A\n",
    "9\tNo response\n"
   ]
  },
  {
   "cell_type": "code",
   "execution_count": 1222,
   "metadata": {},
   "outputs": [
    {
     "data": {
      "text/plain": [
       "9    4046\n",
       "1     447\n",
       "2     339\n",
       "4     105\n",
       "3      57\n",
       "Name: reason, dtype: int64"
      ]
     },
     "execution_count": 1222,
     "metadata": {},
     "output_type": "execute_result"
    }
   ],
   "source": [
    "dfi[\"reason\"].value_counts()"
   ]
  },
  {
   "cell_type": "code",
   "execution_count": 1223,
   "metadata": {},
   "outputs": [
    {
     "data": {
      "text/html": [
       "<div>\n",
       "<style scoped>\n",
       "    .dataframe tbody tr th:only-of-type {\n",
       "        vertical-align: middle;\n",
       "    }\n",
       "\n",
       "    .dataframe tbody tr th {\n",
       "        vertical-align: top;\n",
       "    }\n",
       "\n",
       "    .dataframe thead tr th {\n",
       "        text-align: left;\n",
       "    }\n",
       "\n",
       "    .dataframe thead tr:last-of-type th {\n",
       "        text-align: right;\n",
       "    }\n",
       "</style>\n",
       "<table border=\"1\" class=\"dataframe\">\n",
       "  <thead>\n",
       "    <tr>\n",
       "      <th></th>\n",
       "      <th>total_cardspent</th>\n",
       "    </tr>\n",
       "    <tr>\n",
       "      <th></th>\n",
       "      <th>mean</th>\n",
       "    </tr>\n",
       "    <tr>\n",
       "      <th>reason</th>\n",
       "      <th></th>\n",
       "    </tr>\n",
       "  </thead>\n",
       "  <tbody>\n",
       "    <tr>\n",
       "      <th>1</th>\n",
       "      <td>418.884899</td>\n",
       "    </tr>\n",
       "    <tr>\n",
       "      <th>2</th>\n",
       "      <td>670.026785</td>\n",
       "    </tr>\n",
       "    <tr>\n",
       "      <th>3</th>\n",
       "      <td>393.102281</td>\n",
       "    </tr>\n",
       "    <tr>\n",
       "      <th>4</th>\n",
       "      <td>384.405619</td>\n",
       "    </tr>\n",
       "    <tr>\n",
       "      <th>9</th>\n",
       "      <td>491.665215</td>\n",
       "    </tr>\n",
       "  </tbody>\n",
       "</table>\n",
       "</div>"
      ],
      "text/plain": [
       "       total_cardspent\n",
       "                  mean\n",
       "reason                \n",
       "1           418.884899\n",
       "2           670.026785\n",
       "3           393.102281\n",
       "4           384.405619\n",
       "9           491.665215"
      ]
     },
     "execution_count": 1223,
     "metadata": {},
     "output_type": "execute_result"
    }
   ],
   "source": [
    "pd.DataFrame(dfi.groupby(['reason']).agg({\"total_cardspent\":['mean']}))"
   ]
  },
  {
   "cell_type": "code",
   "execution_count": 1224,
   "metadata": {},
   "outputs": [],
   "source": [
    "dfi[\"reason\"] = dfi[\"reason\"].replace([1], \"Prices\")\n",
    "dfi[\"reason\"] = dfi[\"reason\"].replace([2], \"Convenience\")\n",
    "dfi[\"reason\"] = dfi[\"reason\"].replace([3], \"Service\")\n",
    "dfi[\"reason\"] = dfi[\"reason\"].replace([4], \"Other\")\n",
    "dfi[\"reason\"] = dfi[\"reason\"].replace([9], \"No response\")"
   ]
  },
  {
   "cell_type": "code",
   "execution_count": 1225,
   "metadata": {},
   "outputs": [
    {
     "data": {
      "text/plain": [
       "No response    4046\n",
       "Prices          447\n",
       "Convenience     339\n",
       "Other           105\n",
       "Service          57\n",
       "Name: reason, dtype: int64"
      ]
     },
     "execution_count": 1225,
     "metadata": {},
     "output_type": "execute_result"
    }
   ],
   "source": [
    "dfi[\"reason\"].value_counts()"
   ]
  },
  {
   "cell_type": "code",
   "execution_count": null,
   "metadata": {},
   "outputs": [],
   "source": []
  },
  {
   "cell_type": "markdown",
   "metadata": {},
   "source": [
    "##  ownfax"
   ]
  },
  {
   "cell_type": "raw",
   "metadata": {},
   "source": [
    "0\tNo\n",
    "1\tYes\n"
   ]
  },
  {
   "cell_type": "code",
   "execution_count": 1226,
   "metadata": {},
   "outputs": [
    {
     "data": {
      "text/plain": [
       "0    4102\n",
       "1     892\n",
       "Name: ownfax, dtype: int64"
      ]
     },
     "execution_count": 1226,
     "metadata": {},
     "output_type": "execute_result"
    }
   ],
   "source": [
    "dfi[\"ownfax\"].value_counts()"
   ]
  },
  {
   "cell_type": "code",
   "execution_count": 1227,
   "metadata": {},
   "outputs": [
    {
     "data": {
      "text/html": [
       "<div>\n",
       "<style scoped>\n",
       "    .dataframe tbody tr th:only-of-type {\n",
       "        vertical-align: middle;\n",
       "    }\n",
       "\n",
       "    .dataframe tbody tr th {\n",
       "        vertical-align: top;\n",
       "    }\n",
       "\n",
       "    .dataframe thead tr th {\n",
       "        text-align: left;\n",
       "    }\n",
       "\n",
       "    .dataframe thead tr:last-of-type th {\n",
       "        text-align: right;\n",
       "    }\n",
       "</style>\n",
       "<table border=\"1\" class=\"dataframe\">\n",
       "  <thead>\n",
       "    <tr>\n",
       "      <th></th>\n",
       "      <th>total_cardspent</th>\n",
       "    </tr>\n",
       "    <tr>\n",
       "      <th></th>\n",
       "      <th>mean</th>\n",
       "    </tr>\n",
       "    <tr>\n",
       "      <th>ownfax</th>\n",
       "      <th></th>\n",
       "    </tr>\n",
       "  </thead>\n",
       "  <tbody>\n",
       "    <tr>\n",
       "      <th>0</th>\n",
       "      <td>484.959388</td>\n",
       "    </tr>\n",
       "    <tr>\n",
       "      <th>1</th>\n",
       "      <td>534.892489</td>\n",
       "    </tr>\n",
       "  </tbody>\n",
       "</table>\n",
       "</div>"
      ],
      "text/plain": [
       "       total_cardspent\n",
       "                  mean\n",
       "ownfax                \n",
       "0           484.959388\n",
       "1           534.892489"
      ]
     },
     "execution_count": 1227,
     "metadata": {},
     "output_type": "execute_result"
    }
   ],
   "source": [
    "pd.DataFrame(dfi.groupby(['ownfax']).agg({\"total_cardspent\":['mean']}))"
   ]
  },
  {
   "cell_type": "code",
   "execution_count": 1228,
   "metadata": {},
   "outputs": [],
   "source": [
    "dfi[\"ownfax\"] = dfi[\"ownfax\"].replace([0], \"No\")\n",
    "dfi[\"ownfax\"] = dfi[\"ownfax\"].replace([1], \"Yes\")"
   ]
  },
  {
   "cell_type": "code",
   "execution_count": 1229,
   "metadata": {},
   "outputs": [
    {
     "data": {
      "text/plain": [
       "No     4102\n",
       "Yes     892\n",
       "Name: ownfax, dtype: int64"
      ]
     },
     "execution_count": 1229,
     "metadata": {},
     "output_type": "execute_result"
    }
   ],
   "source": [
    "dfi[\"ownfax\"].value_counts()"
   ]
  },
  {
   "cell_type": "code",
   "execution_count": null,
   "metadata": {},
   "outputs": [],
   "source": []
  },
  {
   "cell_type": "markdown",
   "metadata": {},
   "source": [
    "## gender"
   ]
  },
  {
   "cell_type": "raw",
   "metadata": {},
   "source": [
    "0\tMale\n",
    "1\tFemale\n"
   ]
  },
  {
   "cell_type": "code",
   "execution_count": 1230,
   "metadata": {},
   "outputs": [
    {
     "data": {
      "text/plain": [
       "1    2515\n",
       "0    2479\n",
       "Name: gender, dtype: int64"
      ]
     },
     "execution_count": 1230,
     "metadata": {},
     "output_type": "execute_result"
    }
   ],
   "source": [
    "dfi[\"gender\"].value_counts()"
   ]
  },
  {
   "cell_type": "code",
   "execution_count": 1231,
   "metadata": {},
   "outputs": [
    {
     "data": {
      "text/html": [
       "<div>\n",
       "<style scoped>\n",
       "    .dataframe tbody tr th:only-of-type {\n",
       "        vertical-align: middle;\n",
       "    }\n",
       "\n",
       "    .dataframe tbody tr th {\n",
       "        vertical-align: top;\n",
       "    }\n",
       "\n",
       "    .dataframe thead tr th {\n",
       "        text-align: left;\n",
       "    }\n",
       "\n",
       "    .dataframe thead tr:last-of-type th {\n",
       "        text-align: right;\n",
       "    }\n",
       "</style>\n",
       "<table border=\"1\" class=\"dataframe\">\n",
       "  <thead>\n",
       "    <tr>\n",
       "      <th></th>\n",
       "      <th>total_cardspent</th>\n",
       "    </tr>\n",
       "    <tr>\n",
       "      <th></th>\n",
       "      <th>mean</th>\n",
       "    </tr>\n",
       "    <tr>\n",
       "      <th>gender</th>\n",
       "      <th></th>\n",
       "    </tr>\n",
       "  </thead>\n",
       "  <tbody>\n",
       "    <tr>\n",
       "      <th>0</th>\n",
       "      <td>518.885127</td>\n",
       "    </tr>\n",
       "    <tr>\n",
       "      <th>1</th>\n",
       "      <td>469.229137</td>\n",
       "    </tr>\n",
       "  </tbody>\n",
       "</table>\n",
       "</div>"
      ],
      "text/plain": [
       "       total_cardspent\n",
       "                  mean\n",
       "gender                \n",
       "0           518.885127\n",
       "1           469.229137"
      ]
     },
     "execution_count": 1231,
     "metadata": {},
     "output_type": "execute_result"
    }
   ],
   "source": [
    "pd.DataFrame(dfi.groupby(['gender']).agg({\"total_cardspent\":['mean']}))"
   ]
  },
  {
   "cell_type": "code",
   "execution_count": 1232,
   "metadata": {},
   "outputs": [],
   "source": [
    "dfi[\"gender\"] = dfi[\"gender\"].replace([0], \"Male\")\n",
    "dfi[\"gender\"] = dfi[\"gender\"].replace([1], \"Female\")"
   ]
  },
  {
   "cell_type": "code",
   "execution_count": 1233,
   "metadata": {},
   "outputs": [
    {
     "data": {
      "text/plain": [
       "Female    2515\n",
       "Male      2479\n",
       "Name: gender, dtype: int64"
      ]
     },
     "execution_count": 1233,
     "metadata": {},
     "output_type": "execute_result"
    }
   ],
   "source": [
    "dfi[\"gender\"].value_counts()"
   ]
  },
  {
   "cell_type": "code",
   "execution_count": null,
   "metadata": {},
   "outputs": [],
   "source": []
  },
  {
   "cell_type": "markdown",
   "metadata": {},
   "source": [
    "## forward"
   ]
  },
  {
   "cell_type": "raw",
   "metadata": {},
   "source": [
    "0\tNo\n",
    "1\tYes\n"
   ]
  },
  {
   "cell_type": "code",
   "execution_count": 1234,
   "metadata": {},
   "outputs": [
    {
     "data": {
      "text/plain": [
       "0    2592\n",
       "1    2402\n",
       "Name: forward, dtype: int64"
      ]
     },
     "execution_count": 1234,
     "metadata": {},
     "output_type": "execute_result"
    }
   ],
   "source": [
    "dfi[\"forward\"].value_counts()"
   ]
  },
  {
   "cell_type": "code",
   "execution_count": 1235,
   "metadata": {},
   "outputs": [
    {
     "data": {
      "text/html": [
       "<div>\n",
       "<style scoped>\n",
       "    .dataframe tbody tr th:only-of-type {\n",
       "        vertical-align: middle;\n",
       "    }\n",
       "\n",
       "    .dataframe tbody tr th {\n",
       "        vertical-align: top;\n",
       "    }\n",
       "\n",
       "    .dataframe thead tr th {\n",
       "        text-align: left;\n",
       "    }\n",
       "\n",
       "    .dataframe thead tr:last-of-type th {\n",
       "        text-align: right;\n",
       "    }\n",
       "</style>\n",
       "<table border=\"1\" class=\"dataframe\">\n",
       "  <thead>\n",
       "    <tr>\n",
       "      <th></th>\n",
       "      <th>total_cardspent</th>\n",
       "    </tr>\n",
       "    <tr>\n",
       "      <th></th>\n",
       "      <th>mean</th>\n",
       "    </tr>\n",
       "    <tr>\n",
       "      <th>forward</th>\n",
       "      <th></th>\n",
       "    </tr>\n",
       "  </thead>\n",
       "  <tbody>\n",
       "    <tr>\n",
       "      <th>0</th>\n",
       "      <td>476.356763</td>\n",
       "    </tr>\n",
       "    <tr>\n",
       "      <th>1</th>\n",
       "      <td>512.785504</td>\n",
       "    </tr>\n",
       "  </tbody>\n",
       "</table>\n",
       "</div>"
      ],
      "text/plain": [
       "        total_cardspent\n",
       "                   mean\n",
       "forward                \n",
       "0            476.356763\n",
       "1            512.785504"
      ]
     },
     "execution_count": 1235,
     "metadata": {},
     "output_type": "execute_result"
    }
   ],
   "source": [
    "pd.DataFrame(dfi.groupby(['forward']).agg({\"total_cardspent\":['mean']}))"
   ]
  },
  {
   "cell_type": "code",
   "execution_count": 1236,
   "metadata": {},
   "outputs": [],
   "source": [
    "dfi[\"forward\"] = dfi[\"forward\"].replace([0], \"No\")\n",
    "dfi[\"forward\"] = dfi[\"forward\"].replace([1], \"Yes\")"
   ]
  },
  {
   "cell_type": "code",
   "execution_count": 1237,
   "metadata": {},
   "outputs": [
    {
     "data": {
      "text/plain": [
       "No     2592\n",
       "Yes    2402\n",
       "Name: forward, dtype: int64"
      ]
     },
     "execution_count": 1237,
     "metadata": {},
     "output_type": "execute_result"
    }
   ],
   "source": [
    "dfi[\"forward\"].value_counts()"
   ]
  },
  {
   "cell_type": "code",
   "execution_count": null,
   "metadata": {},
   "outputs": [],
   "source": []
  },
  {
   "cell_type": "markdown",
   "metadata": {},
   "source": [
    "## news"
   ]
  },
  {
   "cell_type": "raw",
   "metadata": {},
   "source": [
    "0\tNo\n",
    "1\tYes\n"
   ]
  },
  {
   "cell_type": "code",
   "execution_count": 1238,
   "metadata": {},
   "outputs": [
    {
     "data": {
      "text/plain": [
       "0    2632\n",
       "1    2362\n",
       "Name: news, dtype: int64"
      ]
     },
     "execution_count": 1238,
     "metadata": {},
     "output_type": "execute_result"
    }
   ],
   "source": [
    "dfi[\"news\"].value_counts()"
   ]
  },
  {
   "cell_type": "code",
   "execution_count": 1239,
   "metadata": {},
   "outputs": [
    {
     "data": {
      "text/html": [
       "<div>\n",
       "<style scoped>\n",
       "    .dataframe tbody tr th:only-of-type {\n",
       "        vertical-align: middle;\n",
       "    }\n",
       "\n",
       "    .dataframe tbody tr th {\n",
       "        vertical-align: top;\n",
       "    }\n",
       "\n",
       "    .dataframe thead tr th {\n",
       "        text-align: left;\n",
       "    }\n",
       "\n",
       "    .dataframe thead tr:last-of-type th {\n",
       "        text-align: right;\n",
       "    }\n",
       "</style>\n",
       "<table border=\"1\" class=\"dataframe\">\n",
       "  <thead>\n",
       "    <tr>\n",
       "      <th></th>\n",
       "      <th>total_cardspent</th>\n",
       "    </tr>\n",
       "    <tr>\n",
       "      <th></th>\n",
       "      <th>mean</th>\n",
       "    </tr>\n",
       "    <tr>\n",
       "      <th>news</th>\n",
       "      <th></th>\n",
       "    </tr>\n",
       "  </thead>\n",
       "  <tbody>\n",
       "    <tr>\n",
       "      <th>0</th>\n",
       "      <td>480.923457</td>\n",
       "    </tr>\n",
       "    <tr>\n",
       "      <th>1</th>\n",
       "      <td>508.313704</td>\n",
       "    </tr>\n",
       "  </tbody>\n",
       "</table>\n",
       "</div>"
      ],
      "text/plain": [
       "     total_cardspent\n",
       "                mean\n",
       "news                \n",
       "0         480.923457\n",
       "1         508.313704"
      ]
     },
     "execution_count": 1239,
     "metadata": {},
     "output_type": "execute_result"
    }
   ],
   "source": [
    "pd.DataFrame(dfi.groupby(['news']).agg({\"total_cardspent\":['mean']}))"
   ]
  },
  {
   "cell_type": "code",
   "execution_count": 1240,
   "metadata": {},
   "outputs": [],
   "source": [
    "dfi[\"news\"] = dfi[\"news\"].replace([0], \"No\")\n",
    "dfi[\"news\"] = dfi[\"news\"].replace([1], \"Yes\")"
   ]
  },
  {
   "cell_type": "code",
   "execution_count": 1241,
   "metadata": {},
   "outputs": [
    {
     "data": {
      "text/plain": [
       "No     2632\n",
       "Yes    2362\n",
       "Name: news, dtype: int64"
      ]
     },
     "execution_count": 1241,
     "metadata": {},
     "output_type": "execute_result"
    }
   ],
   "source": [
    "dfi[\"news\"].value_counts()"
   ]
  },
  {
   "cell_type": "code",
   "execution_count": null,
   "metadata": {},
   "outputs": [],
   "source": []
  },
  {
   "cell_type": "markdown",
   "metadata": {},
   "source": [
    "## internet "
   ]
  },
  {
   "cell_type": "raw",
   "metadata": {},
   "source": [
    "0\tNone\n",
    "1\tDial-up\n",
    "2\tDSL\n",
    "3\tCable modem\n",
    "4\tOther\n"
   ]
  },
  {
   "cell_type": "code",
   "execution_count": 1242,
   "metadata": {},
   "outputs": [
    {
     "data": {
      "text/plain": [
       "0    2494\n",
       "1     773\n",
       "3     598\n",
       "4     584\n",
       "2     545\n",
       "Name: internet, dtype: int64"
      ]
     },
     "execution_count": 1242,
     "metadata": {},
     "output_type": "execute_result"
    }
   ],
   "source": [
    "dfi[\"internet\"].value_counts()"
   ]
  },
  {
   "cell_type": "code",
   "execution_count": 1243,
   "metadata": {},
   "outputs": [
    {
     "data": {
      "text/html": [
       "<div>\n",
       "<style scoped>\n",
       "    .dataframe tbody tr th:only-of-type {\n",
       "        vertical-align: middle;\n",
       "    }\n",
       "\n",
       "    .dataframe tbody tr th {\n",
       "        vertical-align: top;\n",
       "    }\n",
       "\n",
       "    .dataframe thead tr th {\n",
       "        text-align: left;\n",
       "    }\n",
       "\n",
       "    .dataframe thead tr:last-of-type th {\n",
       "        text-align: right;\n",
       "    }\n",
       "</style>\n",
       "<table border=\"1\" class=\"dataframe\">\n",
       "  <thead>\n",
       "    <tr>\n",
       "      <th></th>\n",
       "      <th>total_cardspent</th>\n",
       "    </tr>\n",
       "    <tr>\n",
       "      <th></th>\n",
       "      <th>mean</th>\n",
       "    </tr>\n",
       "    <tr>\n",
       "      <th>internet</th>\n",
       "      <th></th>\n",
       "    </tr>\n",
       "  </thead>\n",
       "  <tbody>\n",
       "    <tr>\n",
       "      <th>0</th>\n",
       "      <td>477.392598</td>\n",
       "    </tr>\n",
       "    <tr>\n",
       "      <th>1</th>\n",
       "      <td>483.405886</td>\n",
       "    </tr>\n",
       "    <tr>\n",
       "      <th>2</th>\n",
       "      <td>491.197761</td>\n",
       "    </tr>\n",
       "    <tr>\n",
       "      <th>3</th>\n",
       "      <td>539.050017</td>\n",
       "    </tr>\n",
       "    <tr>\n",
       "      <th>4</th>\n",
       "      <td>534.388579</td>\n",
       "    </tr>\n",
       "  </tbody>\n",
       "</table>\n",
       "</div>"
      ],
      "text/plain": [
       "         total_cardspent\n",
       "                    mean\n",
       "internet                \n",
       "0             477.392598\n",
       "1             483.405886\n",
       "2             491.197761\n",
       "3             539.050017\n",
       "4             534.388579"
      ]
     },
     "execution_count": 1243,
     "metadata": {},
     "output_type": "execute_result"
    }
   ],
   "source": [
    "pd.DataFrame(dfi.groupby(['internet']).agg({\"total_cardspent\":['mean']}))"
   ]
  },
  {
   "cell_type": "code",
   "execution_count": 1244,
   "metadata": {},
   "outputs": [],
   "source": [
    "dfi[\"internet\"]= dfi[\"internet\"].replace([0], \"None\")\n",
    "dfi[\"internet\"]= dfi[\"internet\"].replace([1], \"Dial- up\")\n",
    "dfi[\"internet\"]= dfi[\"internet\"].replace([2], \"DSL\")\n",
    "dfi[\"internet\"]= dfi[\"internet\"].replace([3], \"Cabel modem\")\n",
    "dfi[\"internet\"]= dfi[\"internet\"].replace([4], \"Other\")"
   ]
  },
  {
   "cell_type": "code",
   "execution_count": null,
   "metadata": {},
   "outputs": [],
   "source": []
  },
  {
   "cell_type": "code",
   "execution_count": 1245,
   "metadata": {
    "scrolled": false
   },
   "outputs": [
    {
     "data": {
      "text/plain": [
       "None           2494\n",
       "Dial- up        773\n",
       "Cabel modem     598\n",
       "Other           584\n",
       "DSL             545\n",
       "Name: internet, dtype: int64"
      ]
     },
     "execution_count": 1245,
     "metadata": {},
     "output_type": "execute_result"
    }
   ],
   "source": [
    "dfi[\"internet\"].value_counts()"
   ]
  },
  {
   "cell_type": "code",
   "execution_count": null,
   "metadata": {},
   "outputs": [],
   "source": []
  },
  {
   "cell_type": "markdown",
   "metadata": {},
   "source": [
    "## bfast"
   ]
  },
  {
   "cell_type": "raw",
   "metadata": {},
   "source": [
    "1\tEnergy bar\n",
    "2\tOatmeal\n",
    "3\tCereal\n"
   ]
  },
  {
   "cell_type": "code",
   "execution_count": 1246,
   "metadata": {},
   "outputs": [
    {
     "data": {
      "text/plain": [
       "3    1871\n",
       "1    1581\n",
       "2    1542\n",
       "Name: bfast, dtype: int64"
      ]
     },
     "execution_count": 1246,
     "metadata": {},
     "output_type": "execute_result"
    }
   ],
   "source": [
    "dfi[\"bfast\"].value_counts()"
   ]
  },
  {
   "cell_type": "code",
   "execution_count": 1247,
   "metadata": {},
   "outputs": [
    {
     "data": {
      "text/html": [
       "<div>\n",
       "<style scoped>\n",
       "    .dataframe tbody tr th:only-of-type {\n",
       "        vertical-align: middle;\n",
       "    }\n",
       "\n",
       "    .dataframe tbody tr th {\n",
       "        vertical-align: top;\n",
       "    }\n",
       "\n",
       "    .dataframe thead tr th {\n",
       "        text-align: left;\n",
       "    }\n",
       "\n",
       "    .dataframe thead tr:last-of-type th {\n",
       "        text-align: right;\n",
       "    }\n",
       "</style>\n",
       "<table border=\"1\" class=\"dataframe\">\n",
       "  <thead>\n",
       "    <tr>\n",
       "      <th></th>\n",
       "      <th>total_cardspent</th>\n",
       "    </tr>\n",
       "    <tr>\n",
       "      <th></th>\n",
       "      <th>mean</th>\n",
       "    </tr>\n",
       "    <tr>\n",
       "      <th>bfast</th>\n",
       "      <th></th>\n",
       "    </tr>\n",
       "  </thead>\n",
       "  <tbody>\n",
       "    <tr>\n",
       "      <th>1</th>\n",
       "      <td>486.443498</td>\n",
       "    </tr>\n",
       "    <tr>\n",
       "      <th>2</th>\n",
       "      <td>484.766770</td>\n",
       "    </tr>\n",
       "    <tr>\n",
       "      <th>3</th>\n",
       "      <td>507.669685</td>\n",
       "    </tr>\n",
       "  </tbody>\n",
       "</table>\n",
       "</div>"
      ],
      "text/plain": [
       "      total_cardspent\n",
       "                 mean\n",
       "bfast                \n",
       "1          486.443498\n",
       "2          484.766770\n",
       "3          507.669685"
      ]
     },
     "execution_count": 1247,
     "metadata": {},
     "output_type": "execute_result"
    }
   ],
   "source": [
    "pd.DataFrame(dfi.groupby(['bfast']).agg({\"total_cardspent\":['mean']}))"
   ]
  },
  {
   "cell_type": "code",
   "execution_count": 1248,
   "metadata": {},
   "outputs": [],
   "source": [
    "dfi[\"bfast\"] = dfi[\"bfast\"].replace([1,2], \"Others\")\n",
    "dfi[\"bfast\"] = dfi[\"bfast\"].replace([3], \"Cereal\")"
   ]
  },
  {
   "cell_type": "code",
   "execution_count": 1249,
   "metadata": {},
   "outputs": [
    {
     "data": {
      "text/plain": [
       "Others    3123\n",
       "Cereal    1871\n",
       "Name: bfast, dtype: int64"
      ]
     },
     "execution_count": 1249,
     "metadata": {},
     "output_type": "execute_result"
    }
   ],
   "source": [
    "dfi[\"bfast\"].value_counts()"
   ]
  },
  {
   "cell_type": "code",
   "execution_count": null,
   "metadata": {},
   "outputs": [],
   "source": []
  },
  {
   "cell_type": "markdown",
   "metadata": {},
   "source": [
    "# MULTIVARIATE ANALYSIS"
   ]
  },
  {
   "cell_type": "code",
   "execution_count": 1250,
   "metadata": {},
   "outputs": [],
   "source": [
    "corr1 = dfi.corr()"
   ]
  },
  {
   "cell_type": "code",
   "execution_count": 1251,
   "metadata": {},
   "outputs": [
    {
     "data": {
      "text/html": [
       "<div>\n",
       "<style scoped>\n",
       "    .dataframe tbody tr th:only-of-type {\n",
       "        vertical-align: middle;\n",
       "    }\n",
       "\n",
       "    .dataframe tbody tr th {\n",
       "        vertical-align: top;\n",
       "    }\n",
       "\n",
       "    .dataframe thead th {\n",
       "        text-align: right;\n",
       "    }\n",
       "</style>\n",
       "<table border=\"1\" class=\"dataframe\">\n",
       "  <thead>\n",
       "    <tr style=\"text-align: right;\">\n",
       "      <th></th>\n",
       "      <th>carditems</th>\n",
       "      <th>card2items</th>\n",
       "      <th>inccat</th>\n",
       "      <th>carvalue</th>\n",
       "      <th>lncreddebt</th>\n",
       "      <th>carcatvalue</th>\n",
       "      <th>lnothdebt</th>\n",
       "      <th>agecat</th>\n",
       "      <th>addresscat</th>\n",
       "      <th>townsize</th>\n",
       "      <th>...</th>\n",
       "      <th>tenure</th>\n",
       "      <th>longmon</th>\n",
       "      <th>spousedcat</th>\n",
       "      <th>lntollten</th>\n",
       "      <th>card2tenurecat</th>\n",
       "      <th>pets_dogs</th>\n",
       "      <th>cardtenurecat</th>\n",
       "      <th>cardspent</th>\n",
       "      <th>card2spent</th>\n",
       "      <th>total_cardspent</th>\n",
       "    </tr>\n",
       "  </thead>\n",
       "  <tbody>\n",
       "    <tr>\n",
       "      <th>carditems</th>\n",
       "      <td>1.000000</td>\n",
       "      <td>0.096577</td>\n",
       "      <td>0.058581</td>\n",
       "      <td>0.031349</td>\n",
       "      <td>0.045638</td>\n",
       "      <td>0.024106</td>\n",
       "      <td>0.057913</td>\n",
       "      <td>-0.021172</td>\n",
       "      <td>0.003329</td>\n",
       "      <td>0.031483</td>\n",
       "      <td>...</td>\n",
       "      <td>0.009808</td>\n",
       "      <td>0.003501</td>\n",
       "      <td>0.011458</td>\n",
       "      <td>0.002548</td>\n",
       "      <td>0.004754</td>\n",
       "      <td>0.001786</td>\n",
       "      <td>0.009169</td>\n",
       "      <td>0.507218</td>\n",
       "      <td>0.092513</td>\n",
       "      <td>0.405579</td>\n",
       "    </tr>\n",
       "    <tr>\n",
       "      <th>card2items</th>\n",
       "      <td>0.096577</td>\n",
       "      <td>1.000000</td>\n",
       "      <td>0.069087</td>\n",
       "      <td>0.057397</td>\n",
       "      <td>0.058940</td>\n",
       "      <td>0.026462</td>\n",
       "      <td>0.054947</td>\n",
       "      <td>-0.006658</td>\n",
       "      <td>0.001615</td>\n",
       "      <td>0.015071</td>\n",
       "      <td>...</td>\n",
       "      <td>0.013337</td>\n",
       "      <td>0.017497</td>\n",
       "      <td>0.006396</td>\n",
       "      <td>0.014495</td>\n",
       "      <td>0.006321</td>\n",
       "      <td>-0.002048</td>\n",
       "      <td>0.004588</td>\n",
       "      <td>0.189957</td>\n",
       "      <td>0.655051</td>\n",
       "      <td>0.428871</td>\n",
       "    </tr>\n",
       "    <tr>\n",
       "      <th>inccat</th>\n",
       "      <td>0.058581</td>\n",
       "      <td>0.069087</td>\n",
       "      <td>1.000000</td>\n",
       "      <td>0.806856</td>\n",
       "      <td>0.549416</td>\n",
       "      <td>0.576261</td>\n",
       "      <td>0.640212</td>\n",
       "      <td>0.249208</td>\n",
       "      <td>0.340781</td>\n",
       "      <td>-0.007383</td>\n",
       "      <td>...</td>\n",
       "      <td>0.229329</td>\n",
       "      <td>0.162667</td>\n",
       "      <td>0.056611</td>\n",
       "      <td>0.212505</td>\n",
       "      <td>0.285193</td>\n",
       "      <td>0.011285</td>\n",
       "      <td>0.309257</td>\n",
       "      <td>0.354815</td>\n",
       "      <td>0.301874</td>\n",
       "      <td>0.383855</td>\n",
       "    </tr>\n",
       "    <tr>\n",
       "      <th>carvalue</th>\n",
       "      <td>0.031349</td>\n",
       "      <td>0.057397</td>\n",
       "      <td>0.806856</td>\n",
       "      <td>1.000000</td>\n",
       "      <td>0.460076</td>\n",
       "      <td>0.837116</td>\n",
       "      <td>0.542465</td>\n",
       "      <td>0.200355</td>\n",
       "      <td>0.275930</td>\n",
       "      <td>0.002294</td>\n",
       "      <td>...</td>\n",
       "      <td>0.201033</td>\n",
       "      <td>0.159424</td>\n",
       "      <td>0.040707</td>\n",
       "      <td>0.184697</td>\n",
       "      <td>0.236113</td>\n",
       "      <td>0.017503</td>\n",
       "      <td>0.244716</td>\n",
       "      <td>0.298482</td>\n",
       "      <td>0.260057</td>\n",
       "      <td>0.319081</td>\n",
       "    </tr>\n",
       "    <tr>\n",
       "      <th>lncreddebt</th>\n",
       "      <td>0.045638</td>\n",
       "      <td>0.058940</td>\n",
       "      <td>0.549416</td>\n",
       "      <td>0.460076</td>\n",
       "      <td>1.000000</td>\n",
       "      <td>0.320055</td>\n",
       "      <td>0.672966</td>\n",
       "      <td>0.134369</td>\n",
       "      <td>0.182710</td>\n",
       "      <td>-0.029411</td>\n",
       "      <td>...</td>\n",
       "      <td>0.117074</td>\n",
       "      <td>0.082246</td>\n",
       "      <td>0.013142</td>\n",
       "      <td>0.115511</td>\n",
       "      <td>0.155712</td>\n",
       "      <td>0.000800</td>\n",
       "      <td>0.171616</td>\n",
       "      <td>0.225115</td>\n",
       "      <td>0.199820</td>\n",
       "      <td>0.245055</td>\n",
       "    </tr>\n",
       "    <tr>\n",
       "      <th>carcatvalue</th>\n",
       "      <td>0.024106</td>\n",
       "      <td>0.026462</td>\n",
       "      <td>0.576261</td>\n",
       "      <td>0.837116</td>\n",
       "      <td>0.320055</td>\n",
       "      <td>1.000000</td>\n",
       "      <td>0.381918</td>\n",
       "      <td>0.160579</td>\n",
       "      <td>0.212251</td>\n",
       "      <td>0.001007</td>\n",
       "      <td>...</td>\n",
       "      <td>0.140810</td>\n",
       "      <td>0.108706</td>\n",
       "      <td>0.029298</td>\n",
       "      <td>0.125972</td>\n",
       "      <td>0.168852</td>\n",
       "      <td>0.012532</td>\n",
       "      <td>0.178512</td>\n",
       "      <td>0.201062</td>\n",
       "      <td>0.159167</td>\n",
       "      <td>0.210981</td>\n",
       "    </tr>\n",
       "    <tr>\n",
       "      <th>lnothdebt</th>\n",
       "      <td>0.057913</td>\n",
       "      <td>0.054947</td>\n",
       "      <td>0.640212</td>\n",
       "      <td>0.542465</td>\n",
       "      <td>0.672966</td>\n",
       "      <td>0.381918</td>\n",
       "      <td>1.000000</td>\n",
       "      <td>0.160869</td>\n",
       "      <td>0.232379</td>\n",
       "      <td>-0.003296</td>\n",
       "      <td>...</td>\n",
       "      <td>0.145542</td>\n",
       "      <td>0.096491</td>\n",
       "      <td>0.013847</td>\n",
       "      <td>0.145172</td>\n",
       "      <td>0.194387</td>\n",
       "      <td>0.004046</td>\n",
       "      <td>0.206677</td>\n",
       "      <td>0.245025</td>\n",
       "      <td>0.212039</td>\n",
       "      <td>0.268428</td>\n",
       "    </tr>\n",
       "    <tr>\n",
       "      <th>agecat</th>\n",
       "      <td>-0.021172</td>\n",
       "      <td>-0.006658</td>\n",
       "      <td>0.249208</td>\n",
       "      <td>0.200355</td>\n",
       "      <td>0.134369</td>\n",
       "      <td>0.160579</td>\n",
       "      <td>0.160869</td>\n",
       "      <td>1.000000</td>\n",
       "      <td>0.828783</td>\n",
       "      <td>-0.068675</td>\n",
       "      <td>...</td>\n",
       "      <td>0.596265</td>\n",
       "      <td>0.444835</td>\n",
       "      <td>0.000256</td>\n",
       "      <td>0.520597</td>\n",
       "      <td>0.668345</td>\n",
       "      <td>0.012850</td>\n",
       "      <td>0.687861</td>\n",
       "      <td>0.049851</td>\n",
       "      <td>0.037450</td>\n",
       "      <td>0.052245</td>\n",
       "    </tr>\n",
       "    <tr>\n",
       "      <th>addresscat</th>\n",
       "      <td>0.003329</td>\n",
       "      <td>0.001615</td>\n",
       "      <td>0.340781</td>\n",
       "      <td>0.275930</td>\n",
       "      <td>0.182710</td>\n",
       "      <td>0.212251</td>\n",
       "      <td>0.232379</td>\n",
       "      <td>0.828783</td>\n",
       "      <td>1.000000</td>\n",
       "      <td>-0.042906</td>\n",
       "      <td>...</td>\n",
       "      <td>0.630349</td>\n",
       "      <td>0.474100</td>\n",
       "      <td>0.050455</td>\n",
       "      <td>0.554859</td>\n",
       "      <td>0.688472</td>\n",
       "      <td>0.015838</td>\n",
       "      <td>0.700969</td>\n",
       "      <td>0.093891</td>\n",
       "      <td>0.070284</td>\n",
       "      <td>0.097498</td>\n",
       "    </tr>\n",
       "    <tr>\n",
       "      <th>townsize</th>\n",
       "      <td>0.031483</td>\n",
       "      <td>0.015071</td>\n",
       "      <td>-0.007383</td>\n",
       "      <td>0.002294</td>\n",
       "      <td>-0.029411</td>\n",
       "      <td>0.001007</td>\n",
       "      <td>-0.003296</td>\n",
       "      <td>-0.068675</td>\n",
       "      <td>-0.042906</td>\n",
       "      <td>1.000000</td>\n",
       "      <td>...</td>\n",
       "      <td>-0.029506</td>\n",
       "      <td>-0.017070</td>\n",
       "      <td>0.023416</td>\n",
       "      <td>-0.023413</td>\n",
       "      <td>-0.032216</td>\n",
       "      <td>0.031892</td>\n",
       "      <td>-0.033285</td>\n",
       "      <td>-0.006738</td>\n",
       "      <td>-0.002344</td>\n",
       "      <td>-0.009025</td>\n",
       "    </tr>\n",
       "    <tr>\n",
       "      <th>longten</th>\n",
       "      <td>0.002361</td>\n",
       "      <td>0.018599</td>\n",
       "      <td>0.168461</td>\n",
       "      <td>0.163522</td>\n",
       "      <td>0.085968</td>\n",
       "      <td>0.112543</td>\n",
       "      <td>0.101512</td>\n",
       "      <td>0.475081</td>\n",
       "      <td>0.504273</td>\n",
       "      <td>-0.021861</td>\n",
       "      <td>...</td>\n",
       "      <td>0.758485</td>\n",
       "      <td>0.982823</td>\n",
       "      <td>0.118163</td>\n",
       "      <td>0.629564</td>\n",
       "      <td>0.620498</td>\n",
       "      <td>0.024187</td>\n",
       "      <td>0.555804</td>\n",
       "      <td>0.050168</td>\n",
       "      <td>0.048788</td>\n",
       "      <td>0.057548</td>\n",
       "    </tr>\n",
       "    <tr>\n",
       "      <th>empcat</th>\n",
       "      <td>-0.012685</td>\n",
       "      <td>0.022674</td>\n",
       "      <td>0.384239</td>\n",
       "      <td>0.332475</td>\n",
       "      <td>0.206687</td>\n",
       "      <td>0.246113</td>\n",
       "      <td>0.241377</td>\n",
       "      <td>0.732082</td>\n",
       "      <td>0.663621</td>\n",
       "      <td>-0.057918</td>\n",
       "      <td>...</td>\n",
       "      <td>0.603262</td>\n",
       "      <td>0.476774</td>\n",
       "      <td>-0.025156</td>\n",
       "      <td>0.532562</td>\n",
       "      <td>0.636143</td>\n",
       "      <td>0.008809</td>\n",
       "      <td>0.630816</td>\n",
       "      <td>0.099236</td>\n",
       "      <td>0.100807</td>\n",
       "      <td>0.115389</td>\n",
       "    </tr>\n",
       "    <tr>\n",
       "      <th>jobsat</th>\n",
       "      <td>-0.007924</td>\n",
       "      <td>-0.000353</td>\n",
       "      <td>0.282411</td>\n",
       "      <td>0.241082</td>\n",
       "      <td>0.161296</td>\n",
       "      <td>0.180025</td>\n",
       "      <td>0.181353</td>\n",
       "      <td>0.421948</td>\n",
       "      <td>0.400084</td>\n",
       "      <td>-0.030829</td>\n",
       "      <td>...</td>\n",
       "      <td>0.331117</td>\n",
       "      <td>0.252183</td>\n",
       "      <td>-0.022060</td>\n",
       "      <td>0.299073</td>\n",
       "      <td>0.365733</td>\n",
       "      <td>0.008515</td>\n",
       "      <td>0.383561</td>\n",
       "      <td>0.069579</td>\n",
       "      <td>0.052342</td>\n",
       "      <td>0.076836</td>\n",
       "    </tr>\n",
       "    <tr>\n",
       "      <th>lncardten</th>\n",
       "      <td>-0.007654</td>\n",
       "      <td>0.008192</td>\n",
       "      <td>0.188234</td>\n",
       "      <td>0.159819</td>\n",
       "      <td>0.096676</td>\n",
       "      <td>0.113819</td>\n",
       "      <td>0.134439</td>\n",
       "      <td>0.469405</td>\n",
       "      <td>0.495867</td>\n",
       "      <td>-0.014691</td>\n",
       "      <td>...</td>\n",
       "      <td>0.762269</td>\n",
       "      <td>0.542051</td>\n",
       "      <td>0.120420</td>\n",
       "      <td>0.896621</td>\n",
       "      <td>0.699525</td>\n",
       "      <td>0.019632</td>\n",
       "      <td>0.681077</td>\n",
       "      <td>0.047182</td>\n",
       "      <td>0.040953</td>\n",
       "      <td>0.051823</td>\n",
       "    </tr>\n",
       "    <tr>\n",
       "      <th>tenure</th>\n",
       "      <td>0.009808</td>\n",
       "      <td>0.013337</td>\n",
       "      <td>0.229329</td>\n",
       "      <td>0.201033</td>\n",
       "      <td>0.117074</td>\n",
       "      <td>0.140810</td>\n",
       "      <td>0.145542</td>\n",
       "      <td>0.596265</td>\n",
       "      <td>0.630349</td>\n",
       "      <td>-0.029506</td>\n",
       "      <td>...</td>\n",
       "      <td>1.000000</td>\n",
       "      <td>0.716446</td>\n",
       "      <td>0.145708</td>\n",
       "      <td>0.865735</td>\n",
       "      <td>0.893294</td>\n",
       "      <td>0.023105</td>\n",
       "      <td>0.848262</td>\n",
       "      <td>0.064130</td>\n",
       "      <td>0.059687</td>\n",
       "      <td>0.072385</td>\n",
       "    </tr>\n",
       "    <tr>\n",
       "      <th>longmon</th>\n",
       "      <td>0.003501</td>\n",
       "      <td>0.017497</td>\n",
       "      <td>0.162667</td>\n",
       "      <td>0.159424</td>\n",
       "      <td>0.082246</td>\n",
       "      <td>0.108706</td>\n",
       "      <td>0.096491</td>\n",
       "      <td>0.444835</td>\n",
       "      <td>0.474100</td>\n",
       "      <td>-0.017070</td>\n",
       "      <td>...</td>\n",
       "      <td>0.716446</td>\n",
       "      <td>1.000000</td>\n",
       "      <td>0.118283</td>\n",
       "      <td>0.603777</td>\n",
       "      <td>0.592474</td>\n",
       "      <td>0.024179</td>\n",
       "      <td>0.535069</td>\n",
       "      <td>0.049232</td>\n",
       "      <td>0.045190</td>\n",
       "      <td>0.055460</td>\n",
       "    </tr>\n",
       "    <tr>\n",
       "      <th>spousedcat</th>\n",
       "      <td>0.011458</td>\n",
       "      <td>0.006396</td>\n",
       "      <td>0.056611</td>\n",
       "      <td>0.040707</td>\n",
       "      <td>0.013142</td>\n",
       "      <td>0.029298</td>\n",
       "      <td>0.013847</td>\n",
       "      <td>0.000256</td>\n",
       "      <td>0.050455</td>\n",
       "      <td>0.023416</td>\n",
       "      <td>...</td>\n",
       "      <td>0.145708</td>\n",
       "      <td>0.118283</td>\n",
       "      <td>1.000000</td>\n",
       "      <td>0.129627</td>\n",
       "      <td>0.124296</td>\n",
       "      <td>-0.007447</td>\n",
       "      <td>0.113995</td>\n",
       "      <td>0.038911</td>\n",
       "      <td>0.023482</td>\n",
       "      <td>0.035052</td>\n",
       "    </tr>\n",
       "    <tr>\n",
       "      <th>lntollten</th>\n",
       "      <td>0.002548</td>\n",
       "      <td>0.014495</td>\n",
       "      <td>0.212505</td>\n",
       "      <td>0.184697</td>\n",
       "      <td>0.115511</td>\n",
       "      <td>0.125972</td>\n",
       "      <td>0.145172</td>\n",
       "      <td>0.520597</td>\n",
       "      <td>0.554859</td>\n",
       "      <td>-0.023413</td>\n",
       "      <td>...</td>\n",
       "      <td>0.865735</td>\n",
       "      <td>0.603777</td>\n",
       "      <td>0.129627</td>\n",
       "      <td>1.000000</td>\n",
       "      <td>0.795146</td>\n",
       "      <td>0.014460</td>\n",
       "      <td>0.769953</td>\n",
       "      <td>0.058284</td>\n",
       "      <td>0.048438</td>\n",
       "      <td>0.062796</td>\n",
       "    </tr>\n",
       "    <tr>\n",
       "      <th>card2tenurecat</th>\n",
       "      <td>0.004754</td>\n",
       "      <td>0.006321</td>\n",
       "      <td>0.285193</td>\n",
       "      <td>0.236113</td>\n",
       "      <td>0.155712</td>\n",
       "      <td>0.168852</td>\n",
       "      <td>0.194387</td>\n",
       "      <td>0.668345</td>\n",
       "      <td>0.688472</td>\n",
       "      <td>-0.032216</td>\n",
       "      <td>...</td>\n",
       "      <td>0.893294</td>\n",
       "      <td>0.592474</td>\n",
       "      <td>0.124296</td>\n",
       "      <td>0.795146</td>\n",
       "      <td>1.000000</td>\n",
       "      <td>0.025057</td>\n",
       "      <td>0.924103</td>\n",
       "      <td>0.080753</td>\n",
       "      <td>0.066339</td>\n",
       "      <td>0.085544</td>\n",
       "    </tr>\n",
       "    <tr>\n",
       "      <th>pets_dogs</th>\n",
       "      <td>0.001786</td>\n",
       "      <td>-0.002048</td>\n",
       "      <td>0.011285</td>\n",
       "      <td>0.017503</td>\n",
       "      <td>0.000800</td>\n",
       "      <td>0.012532</td>\n",
       "      <td>0.004046</td>\n",
       "      <td>0.012850</td>\n",
       "      <td>0.015838</td>\n",
       "      <td>0.031892</td>\n",
       "      <td>...</td>\n",
       "      <td>0.023105</td>\n",
       "      <td>0.024179</td>\n",
       "      <td>-0.007447</td>\n",
       "      <td>0.014460</td>\n",
       "      <td>0.025057</td>\n",
       "      <td>1.000000</td>\n",
       "      <td>0.020104</td>\n",
       "      <td>0.019705</td>\n",
       "      <td>0.017179</td>\n",
       "      <td>0.021097</td>\n",
       "    </tr>\n",
       "    <tr>\n",
       "      <th>cardtenurecat</th>\n",
       "      <td>0.009169</td>\n",
       "      <td>0.004588</td>\n",
       "      <td>0.309257</td>\n",
       "      <td>0.244716</td>\n",
       "      <td>0.171616</td>\n",
       "      <td>0.178512</td>\n",
       "      <td>0.206677</td>\n",
       "      <td>0.687861</td>\n",
       "      <td>0.700969</td>\n",
       "      <td>-0.033285</td>\n",
       "      <td>...</td>\n",
       "      <td>0.848262</td>\n",
       "      <td>0.535069</td>\n",
       "      <td>0.113995</td>\n",
       "      <td>0.769953</td>\n",
       "      <td>0.924103</td>\n",
       "      <td>0.020104</td>\n",
       "      <td>1.000000</td>\n",
       "      <td>0.085505</td>\n",
       "      <td>0.071088</td>\n",
       "      <td>0.092179</td>\n",
       "    </tr>\n",
       "    <tr>\n",
       "      <th>cardspent</th>\n",
       "      <td>0.507218</td>\n",
       "      <td>0.189957</td>\n",
       "      <td>0.354815</td>\n",
       "      <td>0.298482</td>\n",
       "      <td>0.225115</td>\n",
       "      <td>0.201062</td>\n",
       "      <td>0.245025</td>\n",
       "      <td>0.049851</td>\n",
       "      <td>0.093891</td>\n",
       "      <td>-0.006738</td>\n",
       "      <td>...</td>\n",
       "      <td>0.064130</td>\n",
       "      <td>0.049232</td>\n",
       "      <td>0.038911</td>\n",
       "      <td>0.058284</td>\n",
       "      <td>0.080753</td>\n",
       "      <td>0.019705</td>\n",
       "      <td>0.085505</td>\n",
       "      <td>1.000000</td>\n",
       "      <td>0.586484</td>\n",
       "      <td>0.910214</td>\n",
       "    </tr>\n",
       "    <tr>\n",
       "      <th>card2spent</th>\n",
       "      <td>0.092513</td>\n",
       "      <td>0.655051</td>\n",
       "      <td>0.301874</td>\n",
       "      <td>0.260057</td>\n",
       "      <td>0.199820</td>\n",
       "      <td>0.159167</td>\n",
       "      <td>0.212039</td>\n",
       "      <td>0.037450</td>\n",
       "      <td>0.070284</td>\n",
       "      <td>-0.002344</td>\n",
       "      <td>...</td>\n",
       "      <td>0.059687</td>\n",
       "      <td>0.045190</td>\n",
       "      <td>0.023482</td>\n",
       "      <td>0.048438</td>\n",
       "      <td>0.066339</td>\n",
       "      <td>0.017179</td>\n",
       "      <td>0.071088</td>\n",
       "      <td>0.586484</td>\n",
       "      <td>1.000000</td>\n",
       "      <td>0.813100</td>\n",
       "    </tr>\n",
       "    <tr>\n",
       "      <th>total_cardspent</th>\n",
       "      <td>0.405579</td>\n",
       "      <td>0.428871</td>\n",
       "      <td>0.383855</td>\n",
       "      <td>0.319081</td>\n",
       "      <td>0.245055</td>\n",
       "      <td>0.210981</td>\n",
       "      <td>0.268428</td>\n",
       "      <td>0.052245</td>\n",
       "      <td>0.097498</td>\n",
       "      <td>-0.009025</td>\n",
       "      <td>...</td>\n",
       "      <td>0.072385</td>\n",
       "      <td>0.055460</td>\n",
       "      <td>0.035052</td>\n",
       "      <td>0.062796</td>\n",
       "      <td>0.085544</td>\n",
       "      <td>0.021097</td>\n",
       "      <td>0.092179</td>\n",
       "      <td>0.910214</td>\n",
       "      <td>0.813100</td>\n",
       "      <td>1.000000</td>\n",
       "    </tr>\n",
       "  </tbody>\n",
       "</table>\n",
       "<p>24 rows × 24 columns</p>\n",
       "</div>"
      ],
      "text/plain": [
       "                 carditems  card2items    inccat  carvalue  lncreddebt  \\\n",
       "carditems         1.000000    0.096577  0.058581  0.031349    0.045638   \n",
       "card2items        0.096577    1.000000  0.069087  0.057397    0.058940   \n",
       "inccat            0.058581    0.069087  1.000000  0.806856    0.549416   \n",
       "carvalue          0.031349    0.057397  0.806856  1.000000    0.460076   \n",
       "lncreddebt        0.045638    0.058940  0.549416  0.460076    1.000000   \n",
       "carcatvalue       0.024106    0.026462  0.576261  0.837116    0.320055   \n",
       "lnothdebt         0.057913    0.054947  0.640212  0.542465    0.672966   \n",
       "agecat           -0.021172   -0.006658  0.249208  0.200355    0.134369   \n",
       "addresscat        0.003329    0.001615  0.340781  0.275930    0.182710   \n",
       "townsize          0.031483    0.015071 -0.007383  0.002294   -0.029411   \n",
       "longten           0.002361    0.018599  0.168461  0.163522    0.085968   \n",
       "empcat           -0.012685    0.022674  0.384239  0.332475    0.206687   \n",
       "jobsat           -0.007924   -0.000353  0.282411  0.241082    0.161296   \n",
       "lncardten        -0.007654    0.008192  0.188234  0.159819    0.096676   \n",
       "tenure            0.009808    0.013337  0.229329  0.201033    0.117074   \n",
       "longmon           0.003501    0.017497  0.162667  0.159424    0.082246   \n",
       "spousedcat        0.011458    0.006396  0.056611  0.040707    0.013142   \n",
       "lntollten         0.002548    0.014495  0.212505  0.184697    0.115511   \n",
       "card2tenurecat    0.004754    0.006321  0.285193  0.236113    0.155712   \n",
       "pets_dogs         0.001786   -0.002048  0.011285  0.017503    0.000800   \n",
       "cardtenurecat     0.009169    0.004588  0.309257  0.244716    0.171616   \n",
       "cardspent         0.507218    0.189957  0.354815  0.298482    0.225115   \n",
       "card2spent        0.092513    0.655051  0.301874  0.260057    0.199820   \n",
       "total_cardspent   0.405579    0.428871  0.383855  0.319081    0.245055   \n",
       "\n",
       "                 carcatvalue  lnothdebt    agecat  addresscat  townsize  ...  \\\n",
       "carditems           0.024106   0.057913 -0.021172    0.003329  0.031483  ...   \n",
       "card2items          0.026462   0.054947 -0.006658    0.001615  0.015071  ...   \n",
       "inccat              0.576261   0.640212  0.249208    0.340781 -0.007383  ...   \n",
       "carvalue            0.837116   0.542465  0.200355    0.275930  0.002294  ...   \n",
       "lncreddebt          0.320055   0.672966  0.134369    0.182710 -0.029411  ...   \n",
       "carcatvalue         1.000000   0.381918  0.160579    0.212251  0.001007  ...   \n",
       "lnothdebt           0.381918   1.000000  0.160869    0.232379 -0.003296  ...   \n",
       "agecat              0.160579   0.160869  1.000000    0.828783 -0.068675  ...   \n",
       "addresscat          0.212251   0.232379  0.828783    1.000000 -0.042906  ...   \n",
       "townsize            0.001007  -0.003296 -0.068675   -0.042906  1.000000  ...   \n",
       "longten             0.112543   0.101512  0.475081    0.504273 -0.021861  ...   \n",
       "empcat              0.246113   0.241377  0.732082    0.663621 -0.057918  ...   \n",
       "jobsat              0.180025   0.181353  0.421948    0.400084 -0.030829  ...   \n",
       "lncardten           0.113819   0.134439  0.469405    0.495867 -0.014691  ...   \n",
       "tenure              0.140810   0.145542  0.596265    0.630349 -0.029506  ...   \n",
       "longmon             0.108706   0.096491  0.444835    0.474100 -0.017070  ...   \n",
       "spousedcat          0.029298   0.013847  0.000256    0.050455  0.023416  ...   \n",
       "lntollten           0.125972   0.145172  0.520597    0.554859 -0.023413  ...   \n",
       "card2tenurecat      0.168852   0.194387  0.668345    0.688472 -0.032216  ...   \n",
       "pets_dogs           0.012532   0.004046  0.012850    0.015838  0.031892  ...   \n",
       "cardtenurecat       0.178512   0.206677  0.687861    0.700969 -0.033285  ...   \n",
       "cardspent           0.201062   0.245025  0.049851    0.093891 -0.006738  ...   \n",
       "card2spent          0.159167   0.212039  0.037450    0.070284 -0.002344  ...   \n",
       "total_cardspent     0.210981   0.268428  0.052245    0.097498 -0.009025  ...   \n",
       "\n",
       "                   tenure   longmon  spousedcat  lntollten  card2tenurecat  \\\n",
       "carditems        0.009808  0.003501    0.011458   0.002548        0.004754   \n",
       "card2items       0.013337  0.017497    0.006396   0.014495        0.006321   \n",
       "inccat           0.229329  0.162667    0.056611   0.212505        0.285193   \n",
       "carvalue         0.201033  0.159424    0.040707   0.184697        0.236113   \n",
       "lncreddebt       0.117074  0.082246    0.013142   0.115511        0.155712   \n",
       "carcatvalue      0.140810  0.108706    0.029298   0.125972        0.168852   \n",
       "lnothdebt        0.145542  0.096491    0.013847   0.145172        0.194387   \n",
       "agecat           0.596265  0.444835    0.000256   0.520597        0.668345   \n",
       "addresscat       0.630349  0.474100    0.050455   0.554859        0.688472   \n",
       "townsize        -0.029506 -0.017070    0.023416  -0.023413       -0.032216   \n",
       "longten          0.758485  0.982823    0.118163   0.629564        0.620498   \n",
       "empcat           0.603262  0.476774   -0.025156   0.532562        0.636143   \n",
       "jobsat           0.331117  0.252183   -0.022060   0.299073        0.365733   \n",
       "lncardten        0.762269  0.542051    0.120420   0.896621        0.699525   \n",
       "tenure           1.000000  0.716446    0.145708   0.865735        0.893294   \n",
       "longmon          0.716446  1.000000    0.118283   0.603777        0.592474   \n",
       "spousedcat       0.145708  0.118283    1.000000   0.129627        0.124296   \n",
       "lntollten        0.865735  0.603777    0.129627   1.000000        0.795146   \n",
       "card2tenurecat   0.893294  0.592474    0.124296   0.795146        1.000000   \n",
       "pets_dogs        0.023105  0.024179   -0.007447   0.014460        0.025057   \n",
       "cardtenurecat    0.848262  0.535069    0.113995   0.769953        0.924103   \n",
       "cardspent        0.064130  0.049232    0.038911   0.058284        0.080753   \n",
       "card2spent       0.059687  0.045190    0.023482   0.048438        0.066339   \n",
       "total_cardspent  0.072385  0.055460    0.035052   0.062796        0.085544   \n",
       "\n",
       "                 pets_dogs  cardtenurecat  cardspent  card2spent  \\\n",
       "carditems         0.001786       0.009169   0.507218    0.092513   \n",
       "card2items       -0.002048       0.004588   0.189957    0.655051   \n",
       "inccat            0.011285       0.309257   0.354815    0.301874   \n",
       "carvalue          0.017503       0.244716   0.298482    0.260057   \n",
       "lncreddebt        0.000800       0.171616   0.225115    0.199820   \n",
       "carcatvalue       0.012532       0.178512   0.201062    0.159167   \n",
       "lnothdebt         0.004046       0.206677   0.245025    0.212039   \n",
       "agecat            0.012850       0.687861   0.049851    0.037450   \n",
       "addresscat        0.015838       0.700969   0.093891    0.070284   \n",
       "townsize          0.031892      -0.033285  -0.006738   -0.002344   \n",
       "longten           0.024187       0.555804   0.050168    0.048788   \n",
       "empcat            0.008809       0.630816   0.099236    0.100807   \n",
       "jobsat            0.008515       0.383561   0.069579    0.052342   \n",
       "lncardten         0.019632       0.681077   0.047182    0.040953   \n",
       "tenure            0.023105       0.848262   0.064130    0.059687   \n",
       "longmon           0.024179       0.535069   0.049232    0.045190   \n",
       "spousedcat       -0.007447       0.113995   0.038911    0.023482   \n",
       "lntollten         0.014460       0.769953   0.058284    0.048438   \n",
       "card2tenurecat    0.025057       0.924103   0.080753    0.066339   \n",
       "pets_dogs         1.000000       0.020104   0.019705    0.017179   \n",
       "cardtenurecat     0.020104       1.000000   0.085505    0.071088   \n",
       "cardspent         0.019705       0.085505   1.000000    0.586484   \n",
       "card2spent        0.017179       0.071088   0.586484    1.000000   \n",
       "total_cardspent   0.021097       0.092179   0.910214    0.813100   \n",
       "\n",
       "                 total_cardspent  \n",
       "carditems               0.405579  \n",
       "card2items              0.428871  \n",
       "inccat                  0.383855  \n",
       "carvalue                0.319081  \n",
       "lncreddebt              0.245055  \n",
       "carcatvalue             0.210981  \n",
       "lnothdebt               0.268428  \n",
       "agecat                  0.052245  \n",
       "addresscat              0.097498  \n",
       "townsize               -0.009025  \n",
       "longten                 0.057548  \n",
       "empcat                  0.115389  \n",
       "jobsat                  0.076836  \n",
       "lncardten               0.051823  \n",
       "tenure                  0.072385  \n",
       "longmon                 0.055460  \n",
       "spousedcat              0.035052  \n",
       "lntollten               0.062796  \n",
       "card2tenurecat          0.085544  \n",
       "pets_dogs               0.021097  \n",
       "cardtenurecat           0.092179  \n",
       "cardspent               0.910214  \n",
       "card2spent              0.813100  \n",
       "total_cardspent         1.000000  \n",
       "\n",
       "[24 rows x 24 columns]"
      ]
     },
     "execution_count": 1251,
     "metadata": {},
     "output_type": "execute_result"
    }
   ],
   "source": [
    "corr1"
   ]
  },
  {
   "cell_type": "code",
   "execution_count": 1252,
   "metadata": {},
   "outputs": [],
   "source": [
    "\n",
    "corr1.to_excel(\"corr3.xlsx\")"
   ]
  },
  {
   "cell_type": "code",
   "execution_count": 1253,
   "metadata": {},
   "outputs": [
    {
     "data": {
      "text/plain": [
       "<AxesSubplot:>"
      ]
     },
     "execution_count": 1253,
     "metadata": {},
     "output_type": "execute_result"
    },
    {
     "data": {
      "image/png": "[encoded data removed]",
      "text/plain": [
       "<Figure size 720x720 with 2 Axes>"
      ]
     },
     "metadata": {
      "needs_background": "light"
     },
     "output_type": "display_data"
    }
   ],
   "source": [
    "plt.figure(figsize = (10,10))\n",
    "sns.heatmap(corr1)"
   ]
  },
  {
   "cell_type": "code",
   "execution_count": 1254,
   "metadata": {},
   "outputs": [],
   "source": [
    "# Dropping the autocorrelated variables\n",
    "dfi.drop(columns = [\"carvalue\", \"agecat\", \"longmon\", \"cardtenurecat\", \"longten\", \"lncardten\", \"lntollten\", \"tenure\"], \n",
    "         inplace = True)"
   ]
  },
  {
   "cell_type": "code",
   "execution_count": null,
   "metadata": {},
   "outputs": [],
   "source": []
  },
  {
   "cell_type": "markdown",
   "metadata": {},
   "source": [
    "# CHECKING THE DISTRIBUTION OF TARGET VARIABLE"
   ]
  },
  {
   "cell_type": "code",
   "execution_count": 1255,
   "metadata": {},
   "outputs": [
    {
     "name": "stderr",
     "output_type": "stream",
     "text": [
      "C:\\Users\\Anirudh Gupta\\Anaconda3\\lib\\site-packages\\seaborn\\distributions.py:2551: FutureWarning: `distplot` is a deprecated function and will be removed in a future version. Please adapt your code to use either `displot` (a figure-level function with similar flexibility) or `histplot` (an axes-level function for histograms).\n",
      "  warnings.warn(msg, FutureWarning)\n"
     ]
    },
    {
     "data": {
      "text/plain": [
       "<AxesSubplot:xlabel='total_cardspent', ylabel='Density'>"
      ]
     },
     "execution_count": 1255,
     "metadata": {},
     "output_type": "execute_result"
    },
    {
     "data": {
      "image/png": "[encoded data removed]",
      "text/plain": [
       "<Figure size 432x288 with 1 Axes>"
      ]
     },
     "metadata": {
      "needs_background": "light"
     },
     "output_type": "display_data"
    }
   ],
   "source": [
    "sns.distplot(dfi[\"total_cardspent\"])"
   ]
  },
  {
   "cell_type": "code",
   "execution_count": 1256,
   "metadata": {},
   "outputs": [
    {
     "name": "stderr",
     "output_type": "stream",
     "text": [
      "C:\\Users\\Anirudh Gupta\\Anaconda3\\lib\\site-packages\\seaborn\\distributions.py:2551: FutureWarning: `distplot` is a deprecated function and will be removed in a future version. Please adapt your code to use either `displot` (a figure-level function with similar flexibility) or `histplot` (an axes-level function for histograms).\n",
      "  warnings.warn(msg, FutureWarning)\n"
     ]
    },
    {
     "data": {
      "text/plain": [
       "<AxesSubplot:xlabel='total_cardspent', ylabel='Density'>"
      ]
     },
     "execution_count": 1256,
     "metadata": {},
     "output_type": "execute_result"
    },
    {
     "data": {
      "image/png": "[encoded data removed]",
      "text/plain": [
       "<Figure size 432x288 with 1 Axes>"
      ]
     },
     "metadata": {
      "needs_background": "light"
     },
     "output_type": "display_data"
    }
   ],
   "source": [
    "sqrt_cardspent = np.sqrt(dfi[\"total_cardspent\"])\n",
    "sns.distplot(sqrt_cardspent)"
   ]
  },
  {
   "cell_type": "code",
   "execution_count": 1257,
   "metadata": {},
   "outputs": [
    {
     "name": "stderr",
     "output_type": "stream",
     "text": [
      "C:\\Users\\Anirudh Gupta\\Anaconda3\\lib\\site-packages\\seaborn\\distributions.py:2551: FutureWarning: `distplot` is a deprecated function and will be removed in a future version. Please adapt your code to use either `displot` (a figure-level function with similar flexibility) or `histplot` (an axes-level function for histograms).\n",
      "  warnings.warn(msg, FutureWarning)\n"
     ]
    },
    {
     "data": {
      "text/plain": [
       "<AxesSubplot:xlabel='total_cardspent', ylabel='Density'>"
      ]
     },
     "execution_count": 1257,
     "metadata": {},
     "output_type": "execute_result"
    },
    {
     "data": {
      "image/png": "[encoded data removed]",
      "text/plain": [
       "<Figure size 432x288 with 1 Axes>"
      ]
     },
     "metadata": {
      "needs_background": "light"
     },
     "output_type": "display_data"
    }
   ],
   "source": [
    "log_cardspent = np.log1p(dfi[\"total_cardspent\"])\n",
    "sns.distplot(log_cardspent)"
   ]
  },
  {
   "cell_type": "code",
   "execution_count": 1258,
   "metadata": {},
   "outputs": [],
   "source": [
    "dfi[\"log_TotalCardspent\"] = log_cardspent"
   ]
  },
  {
   "cell_type": "markdown",
   "metadata": {},
   "source": [
    "# FORMING THE DUMMY VARIABLES FOR THE NOMINAL CATEGORICAL VARIABLES"
   ]
  },
  {
   "cell_type": "code",
   "execution_count": 1259,
   "metadata": {},
   "outputs": [
    {
     "name": "stdout",
     "output_type": "stream",
     "text": [
      "<class 'pandas.core.frame.DataFrame'>\n",
      "RangeIndex: 4994 entries, 0 to 4993\n",
      "Data columns (total 35 columns):\n",
      " #   Column              Non-Null Count  Dtype  \n",
      "---  ------              --------------  -----  \n",
      " 0   carditems           4994 non-null   int64  \n",
      " 1   card2items          4994 non-null   int64  \n",
      " 2   inccat              4994 non-null   int64  \n",
      " 3   lncreddebt          4994 non-null   float64\n",
      " 4   card                4994 non-null   object \n",
      " 5   carcatvalue         4994 non-null   int64  \n",
      " 6   lnothdebt           4994 non-null   float64\n",
      " 7   addresscat          4994 non-null   int64  \n",
      " 8   card2               4994 non-null   object \n",
      " 9   card2benefit        4994 non-null   object \n",
      " 10  townsize            4994 non-null   float64\n",
      " 11  retire              4994 non-null   object \n",
      " 12  empcat              4994 non-null   int64  \n",
      " 13  jobsat              4994 non-null   int64  \n",
      " 14  ownvcr              4994 non-null   object \n",
      " 15  owncd               4994 non-null   object \n",
      " 16  owndvd              4994 non-null   object \n",
      " 17  multline            4994 non-null   object \n",
      " 18  carown              4994 non-null   object \n",
      " 19  spousedcat          4994 non-null   int64  \n",
      " 20  card2tenurecat      4994 non-null   int64  \n",
      " 21  pets_dogs           4994 non-null   int64  \n",
      " 22  wireless            4994 non-null   object \n",
      " 23  reason              4994 non-null   object \n",
      " 24  ownfax              4994 non-null   object \n",
      " 25  gender              4994 non-null   object \n",
      " 26  internet            4994 non-null   object \n",
      " 27  forward             4994 non-null   object \n",
      " 28  vote                4994 non-null   object \n",
      " 29  bfast               4994 non-null   object \n",
      " 30  news                4994 non-null   object \n",
      " 31  cardspent           4994 non-null   float64\n",
      " 32  card2spent          4994 non-null   float64\n",
      " 33  total_cardspent     4994 non-null   float64\n",
      " 34  log_TotalCardspent  4994 non-null   float64\n",
      "dtypes: float64(7), int64(10), object(18)\n",
      "memory usage: 1.3+ MB\n"
     ]
    }
   ],
   "source": [
    "dfi.info()"
   ]
  },
  {
   "cell_type": "code",
   "execution_count": 1260,
   "metadata": {},
   "outputs": [],
   "source": [
    "df_d = dfi.select_dtypes(include = \"object\")"
   ]
  },
  {
   "cell_type": "code",
   "execution_count": 1261,
   "metadata": {},
   "outputs": [
    {
     "data": {
      "text/plain": [
       "Index(['card', 'card2', 'card2benefit', 'retire', 'ownvcr', 'owncd', 'owndvd',\n",
       "       'multline', 'carown', 'wireless', 'reason', 'ownfax', 'gender',\n",
       "       'internet', 'forward', 'vote', 'bfast', 'news'],\n",
       "      dtype='object')"
      ]
     },
     "execution_count": 1261,
     "metadata": {},
     "output_type": "execute_result"
    }
   ],
   "source": [
    "df_d.columns"
   ]
  },
  {
   "cell_type": "code",
   "execution_count": 1262,
   "metadata": {},
   "outputs": [],
   "source": [
    "df_d = pd.get_dummies(df_d, drop_first=True)"
   ]
  },
  {
   "cell_type": "code",
   "execution_count": 1263,
   "metadata": {},
   "outputs": [
    {
     "data": {
      "text/html": [
       "<div>\n",
       "<style scoped>\n",
       "    .dataframe tbody tr th:only-of-type {\n",
       "        vertical-align: middle;\n",
       "    }\n",
       "\n",
       "    .dataframe tbody tr th {\n",
       "        vertical-align: top;\n",
       "    }\n",
       "\n",
       "    .dataframe thead th {\n",
       "        text-align: right;\n",
       "    }\n",
       "</style>\n",
       "<table border=\"1\" class=\"dataframe\">\n",
       "  <thead>\n",
       "    <tr style=\"text-align: right;\">\n",
       "      <th></th>\n",
       "      <th>card_Discover</th>\n",
       "      <th>card_other</th>\n",
       "      <th>card2_Discover</th>\n",
       "      <th>card2_Mastercard</th>\n",
       "      <th>card2_Visa</th>\n",
       "      <th>card2_other</th>\n",
       "      <th>card2benefit_None</th>\n",
       "      <th>card2benefit_other</th>\n",
       "      <th>retire_Yes</th>\n",
       "      <th>ownvcr_Yes</th>\n",
       "      <th>...</th>\n",
       "      <th>ownfax_Yes</th>\n",
       "      <th>gender_Male</th>\n",
       "      <th>internet_DSL</th>\n",
       "      <th>internet_Dial- up</th>\n",
       "      <th>internet_None</th>\n",
       "      <th>internet_Other</th>\n",
       "      <th>forward_Yes</th>\n",
       "      <th>vote_Yes</th>\n",
       "      <th>bfast_Others</th>\n",
       "      <th>news_Yes</th>\n",
       "    </tr>\n",
       "  </thead>\n",
       "  <tbody>\n",
       "    <tr>\n",
       "      <th>0</th>\n",
       "      <td>0</td>\n",
       "      <td>1</td>\n",
       "      <td>0</td>\n",
       "      <td>0</td>\n",
       "      <td>0</td>\n",
       "      <td>1</td>\n",
       "      <td>1</td>\n",
       "      <td>0</td>\n",
       "      <td>0</td>\n",
       "      <td>1</td>\n",
       "      <td>...</td>\n",
       "      <td>0</td>\n",
       "      <td>0</td>\n",
       "      <td>0</td>\n",
       "      <td>0</td>\n",
       "      <td>1</td>\n",
       "      <td>0</td>\n",
       "      <td>1</td>\n",
       "      <td>1</td>\n",
       "      <td>0</td>\n",
       "      <td>0</td>\n",
       "    </tr>\n",
       "    <tr>\n",
       "      <th>1</th>\n",
       "      <td>0</td>\n",
       "      <td>1</td>\n",
       "      <td>1</td>\n",
       "      <td>0</td>\n",
       "      <td>0</td>\n",
       "      <td>0</td>\n",
       "      <td>0</td>\n",
       "      <td>0</td>\n",
       "      <td>0</td>\n",
       "      <td>1</td>\n",
       "      <td>...</td>\n",
       "      <td>1</td>\n",
       "      <td>1</td>\n",
       "      <td>0</td>\n",
       "      <td>0</td>\n",
       "      <td>0</td>\n",
       "      <td>1</td>\n",
       "      <td>1</td>\n",
       "      <td>0</td>\n",
       "      <td>1</td>\n",
       "      <td>1</td>\n",
       "    </tr>\n",
       "    <tr>\n",
       "      <th>2</th>\n",
       "      <td>0</td>\n",
       "      <td>1</td>\n",
       "      <td>1</td>\n",
       "      <td>0</td>\n",
       "      <td>0</td>\n",
       "      <td>0</td>\n",
       "      <td>0</td>\n",
       "      <td>0</td>\n",
       "      <td>0</td>\n",
       "      <td>1</td>\n",
       "      <td>...</td>\n",
       "      <td>0</td>\n",
       "      <td>0</td>\n",
       "      <td>0</td>\n",
       "      <td>0</td>\n",
       "      <td>1</td>\n",
       "      <td>0</td>\n",
       "      <td>0</td>\n",
       "      <td>0</td>\n",
       "      <td>0</td>\n",
       "      <td>1</td>\n",
       "    </tr>\n",
       "    <tr>\n",
       "      <th>3</th>\n",
       "      <td>0</td>\n",
       "      <td>1</td>\n",
       "      <td>0</td>\n",
       "      <td>1</td>\n",
       "      <td>0</td>\n",
       "      <td>0</td>\n",
       "      <td>0</td>\n",
       "      <td>1</td>\n",
       "      <td>0</td>\n",
       "      <td>1</td>\n",
       "      <td>...</td>\n",
       "      <td>0</td>\n",
       "      <td>1</td>\n",
       "      <td>1</td>\n",
       "      <td>0</td>\n",
       "      <td>0</td>\n",
       "      <td>0</td>\n",
       "      <td>0</td>\n",
       "      <td>0</td>\n",
       "      <td>1</td>\n",
       "      <td>1</td>\n",
       "    </tr>\n",
       "    <tr>\n",
       "      <th>4</th>\n",
       "      <td>1</td>\n",
       "      <td>0</td>\n",
       "      <td>0</td>\n",
       "      <td>0</td>\n",
       "      <td>0</td>\n",
       "      <td>0</td>\n",
       "      <td>0</td>\n",
       "      <td>1</td>\n",
       "      <td>0</td>\n",
       "      <td>1</td>\n",
       "      <td>...</td>\n",
       "      <td>0</td>\n",
       "      <td>1</td>\n",
       "      <td>0</td>\n",
       "      <td>0</td>\n",
       "      <td>0</td>\n",
       "      <td>0</td>\n",
       "      <td>1</td>\n",
       "      <td>0</td>\n",
       "      <td>0</td>\n",
       "      <td>0</td>\n",
       "    </tr>\n",
       "  </tbody>\n",
       "</table>\n",
       "<p>5 rows × 30 columns</p>\n",
       "</div>"
      ],
      "text/plain": [
       "   card_Discover  card_other  card2_Discover  card2_Mastercard  card2_Visa  \\\n",
       "0              0           1               0                 0           0   \n",
       "1              0           1               1                 0           0   \n",
       "2              0           1               1                 0           0   \n",
       "3              0           1               0                 1           0   \n",
       "4              1           0               0                 0           0   \n",
       "\n",
       "   card2_other  card2benefit_None  card2benefit_other  retire_Yes  ownvcr_Yes  \\\n",
       "0            1                  1                   0           0           1   \n",
       "1            0                  0                   0           0           1   \n",
       "2            0                  0                   0           0           1   \n",
       "3            0                  0                   1           0           1   \n",
       "4            0                  0                   1           0           1   \n",
       "\n",
       "   ...  ownfax_Yes  gender_Male  internet_DSL  internet_Dial- up  \\\n",
       "0  ...           0            0             0                  0   \n",
       "1  ...           1            1             0                  0   \n",
       "2  ...           0            0             0                  0   \n",
       "3  ...           0            1             1                  0   \n",
       "4  ...           0            1             0                  0   \n",
       "\n",
       "   internet_None  internet_Other  forward_Yes  vote_Yes  bfast_Others  \\\n",
       "0              1               0            1         1             0   \n",
       "1              0               1            1         0             1   \n",
       "2              1               0            0         0             0   \n",
       "3              0               0            0         0             1   \n",
       "4              0               0            1         0             0   \n",
       "\n",
       "   news_Yes  \n",
       "0         0  \n",
       "1         1  \n",
       "2         1  \n",
       "3         1  \n",
       "4         0  \n",
       "\n",
       "[5 rows x 30 columns]"
      ]
     },
     "execution_count": 1263,
     "metadata": {},
     "output_type": "execute_result"
    }
   ],
   "source": [
    "df_d.head()"
   ]
  },
  {
   "cell_type": "code",
   "execution_count": null,
   "metadata": {},
   "outputs": [],
   "source": []
  },
  {
   "cell_type": "markdown",
   "metadata": {},
   "source": [
    "# SCALING THE NUMERIC DATATYPE VARIABLES"
   ]
  },
  {
   "cell_type": "code",
   "execution_count": 1264,
   "metadata": {},
   "outputs": [],
   "source": [
    "df_s = dfi.drop(columns = dfi.select_dtypes(include = \"object\").columns)"
   ]
  },
  {
   "cell_type": "code",
   "execution_count": 1265,
   "metadata": {},
   "outputs": [
    {
     "name": "stdout",
     "output_type": "stream",
     "text": [
      "<class 'pandas.core.frame.DataFrame'>\n",
      "RangeIndex: 4994 entries, 0 to 4993\n",
      "Data columns (total 17 columns):\n",
      " #   Column              Non-Null Count  Dtype  \n",
      "---  ------              --------------  -----  \n",
      " 0   carditems           4994 non-null   int64  \n",
      " 1   card2items          4994 non-null   int64  \n",
      " 2   inccat              4994 non-null   int64  \n",
      " 3   lncreddebt          4994 non-null   float64\n",
      " 4   carcatvalue         4994 non-null   int64  \n",
      " 5   lnothdebt           4994 non-null   float64\n",
      " 6   addresscat          4994 non-null   int64  \n",
      " 7   townsize            4994 non-null   float64\n",
      " 8   empcat              4994 non-null   int64  \n",
      " 9   jobsat              4994 non-null   int64  \n",
      " 10  spousedcat          4994 non-null   int64  \n",
      " 11  card2tenurecat      4994 non-null   int64  \n",
      " 12  pets_dogs           4994 non-null   int64  \n",
      " 13  cardspent           4994 non-null   float64\n",
      " 14  card2spent          4994 non-null   float64\n",
      " 15  total_cardspent     4994 non-null   float64\n",
      " 16  log_TotalCardspent  4994 non-null   float64\n",
      "dtypes: float64(7), int64(10)\n",
      "memory usage: 663.4 KB\n"
     ]
    }
   ],
   "source": [
    "df_s.info()"
   ]
  },
  {
   "cell_type": "code",
   "execution_count": 1266,
   "metadata": {},
   "outputs": [],
   "source": [
    "from sklearn.preprocessing import MinMaxScaler"
   ]
  },
  {
   "cell_type": "code",
   "execution_count": 1267,
   "metadata": {},
   "outputs": [],
   "source": [
    "scaler = MinMaxScaler()"
   ]
  },
  {
   "cell_type": "code",
   "execution_count": 1268,
   "metadata": {},
   "outputs": [],
   "source": [
    "names = df_s.columns"
   ]
  },
  {
   "cell_type": "code",
   "execution_count": 1269,
   "metadata": {},
   "outputs": [],
   "source": [
    "d = scaler.fit_transform(df_s)"
   ]
  },
  {
   "cell_type": "code",
   "execution_count": 1270,
   "metadata": {},
   "outputs": [],
   "source": [
    "df_sc = pd.DataFrame(d, columns=names)"
   ]
  },
  {
   "cell_type": "code",
   "execution_count": 1271,
   "metadata": {},
   "outputs": [
    {
     "data": {
      "text/html": [
       "<div>\n",
       "<style scoped>\n",
       "    .dataframe tbody tr th:only-of-type {\n",
       "        vertical-align: middle;\n",
       "    }\n",
       "\n",
       "    .dataframe tbody tr th {\n",
       "        vertical-align: top;\n",
       "    }\n",
       "\n",
       "    .dataframe thead th {\n",
       "        text-align: right;\n",
       "    }\n",
       "</style>\n",
       "<table border=\"1\" class=\"dataframe\">\n",
       "  <thead>\n",
       "    <tr style=\"text-align: right;\">\n",
       "      <th></th>\n",
       "      <th>carditems</th>\n",
       "      <th>card2items</th>\n",
       "      <th>inccat</th>\n",
       "      <th>lncreddebt</th>\n",
       "      <th>carcatvalue</th>\n",
       "      <th>lnothdebt</th>\n",
       "      <th>addresscat</th>\n",
       "      <th>townsize</th>\n",
       "      <th>empcat</th>\n",
       "      <th>jobsat</th>\n",
       "      <th>spousedcat</th>\n",
       "      <th>card2tenurecat</th>\n",
       "      <th>pets_dogs</th>\n",
       "      <th>cardspent</th>\n",
       "      <th>card2spent</th>\n",
       "      <th>total_cardspent</th>\n",
       "      <th>log_TotalCardspent</th>\n",
       "    </tr>\n",
       "  </thead>\n",
       "  <tbody>\n",
       "    <tr>\n",
       "      <th>0</th>\n",
       "      <td>0.263158</td>\n",
       "      <td>0.363636</td>\n",
       "      <td>0.25</td>\n",
       "      <td>0.733229</td>\n",
       "      <td>0.5</td>\n",
       "      <td>0.516602</td>\n",
       "      <td>0.00</td>\n",
       "      <td>0.25</td>\n",
       "      <td>0.0</td>\n",
       "      <td>0.00</td>\n",
       "      <td>0.000000</td>\n",
       "      <td>0.25</td>\n",
       "      <td>0.000000</td>\n",
       "      <td>0.020798</td>\n",
       "      <td>0.032765</td>\n",
       "      <td>0.036758</td>\n",
       "      <td>0.175900</td>\n",
       "    </tr>\n",
       "    <tr>\n",
       "      <th>1</th>\n",
       "      <td>0.263158</td>\n",
       "      <td>0.181818</td>\n",
       "      <td>0.00</td>\n",
       "      <td>0.735113</td>\n",
       "      <td>0.5</td>\n",
       "      <td>0.443949</td>\n",
       "      <td>0.00</td>\n",
       "      <td>1.00</td>\n",
       "      <td>0.0</td>\n",
       "      <td>0.00</td>\n",
       "      <td>0.000000</td>\n",
       "      <td>0.25</td>\n",
       "      <td>0.000000</td>\n",
       "      <td>0.010850</td>\n",
       "      <td>0.016885</td>\n",
       "      <td>0.000000</td>\n",
       "      <td>0.000000</td>\n",
       "    </tr>\n",
       "    <tr>\n",
       "      <th>2</th>\n",
       "      <td>0.473684</td>\n",
       "      <td>0.636364</td>\n",
       "      <td>0.25</td>\n",
       "      <td>0.705423</td>\n",
       "      <td>0.5</td>\n",
       "      <td>0.541902</td>\n",
       "      <td>1.00</td>\n",
       "      <td>0.75</td>\n",
       "      <td>1.0</td>\n",
       "      <td>0.75</td>\n",
       "      <td>0.500000</td>\n",
       "      <td>1.00</td>\n",
       "      <td>0.142857</td>\n",
       "      <td>0.046918</td>\n",
       "      <td>0.084934</td>\n",
       "      <td>0.162661</td>\n",
       "      <td>0.469065</td>\n",
       "    </tr>\n",
       "    <tr>\n",
       "      <th>3</th>\n",
       "      <td>0.894737</td>\n",
       "      <td>0.090909</td>\n",
       "      <td>0.00</td>\n",
       "      <td>0.304557</td>\n",
       "      <td>0.5</td>\n",
       "      <td>0.374914</td>\n",
       "      <td>0.25</td>\n",
       "      <td>0.50</td>\n",
       "      <td>0.0</td>\n",
       "      <td>0.25</td>\n",
       "      <td>0.833333</td>\n",
       "      <td>0.25</td>\n",
       "      <td>0.000000</td>\n",
       "      <td>0.086845</td>\n",
       "      <td>0.008902</td>\n",
       "      <td>0.162327</td>\n",
       "      <td>0.468545</td>\n",
       "    </tr>\n",
       "    <tr>\n",
       "      <th>4</th>\n",
       "      <td>0.421053</td>\n",
       "      <td>0.636364</td>\n",
       "      <td>0.00</td>\n",
       "      <td>0.547037</td>\n",
       "      <td>0.5</td>\n",
       "      <td>0.000000</td>\n",
       "      <td>0.25</td>\n",
       "      <td>0.25</td>\n",
       "      <td>0.0</td>\n",
       "      <td>0.00</td>\n",
       "      <td>0.500000</td>\n",
       "      <td>0.50</td>\n",
       "      <td>0.000000</td>\n",
       "      <td>0.064970</td>\n",
       "      <td>0.122136</td>\n",
       "      <td>0.251094</td>\n",
       "      <td>0.584079</td>\n",
       "    </tr>\n",
       "  </tbody>\n",
       "</table>\n",
       "</div>"
      ],
      "text/plain": [
       "   carditems  card2items  inccat  lncreddebt  carcatvalue  lnothdebt  \\\n",
       "0   0.263158    0.363636    0.25    0.733229          0.5   0.516602   \n",
       "1   0.263158    0.181818    0.00    0.735113          0.5   0.443949   \n",
       "2   0.473684    0.636364    0.25    0.705423          0.5   0.541902   \n",
       "3   0.894737    0.090909    0.00    0.304557          0.5   0.374914   \n",
       "4   0.421053    0.636364    0.00    0.547037          0.5   0.000000   \n",
       "\n",
       "   addresscat  townsize  empcat  jobsat  spousedcat  card2tenurecat  \\\n",
       "0        0.00      0.25     0.0    0.00    0.000000            0.25   \n",
       "1        0.00      1.00     0.0    0.00    0.000000            0.25   \n",
       "2        1.00      0.75     1.0    0.75    0.500000            1.00   \n",
       "3        0.25      0.50     0.0    0.25    0.833333            0.25   \n",
       "4        0.25      0.25     0.0    0.00    0.500000            0.50   \n",
       "\n",
       "   pets_dogs  cardspent  card2spent  total_cardspent  log_TotalCardspent  \n",
       "0   0.000000   0.020798    0.032765         0.036758            0.175900  \n",
       "1   0.000000   0.010850    0.016885         0.000000            0.000000  \n",
       "2   0.142857   0.046918    0.084934         0.162661            0.469065  \n",
       "3   0.000000   0.086845    0.008902         0.162327            0.468545  \n",
       "4   0.000000   0.064970    0.122136         0.251094            0.584079  "
      ]
     },
     "execution_count": 1271,
     "metadata": {},
     "output_type": "execute_result"
    }
   ],
   "source": [
    "df_sc.head()"
   ]
  },
  {
   "cell_type": "code",
   "execution_count": null,
   "metadata": {},
   "outputs": [],
   "source": []
  },
  {
   "cell_type": "markdown",
   "metadata": {},
   "source": [
    "# CONCATENATING THE DATAFRAMES TO FORM A SINGLE DATAFRAME FOR ANALYSIS"
   ]
  },
  {
   "cell_type": "code",
   "execution_count": 1272,
   "metadata": {},
   "outputs": [
    {
     "data": {
      "text/html": [
       "<div>\n",
       "<style scoped>\n",
       "    .dataframe tbody tr th:only-of-type {\n",
       "        vertical-align: middle;\n",
       "    }\n",
       "\n",
       "    .dataframe tbody tr th {\n",
       "        vertical-align: top;\n",
       "    }\n",
       "\n",
       "    .dataframe thead th {\n",
       "        text-align: right;\n",
       "    }\n",
       "</style>\n",
       "<table border=\"1\" class=\"dataframe\">\n",
       "  <thead>\n",
       "    <tr style=\"text-align: right;\">\n",
       "      <th></th>\n",
       "      <th>carditems</th>\n",
       "      <th>card2items</th>\n",
       "      <th>inccat</th>\n",
       "      <th>lncreddebt</th>\n",
       "      <th>carcatvalue</th>\n",
       "      <th>lnothdebt</th>\n",
       "      <th>addresscat</th>\n",
       "      <th>townsize</th>\n",
       "      <th>empcat</th>\n",
       "      <th>jobsat</th>\n",
       "      <th>spousedcat</th>\n",
       "      <th>card2tenurecat</th>\n",
       "      <th>pets_dogs</th>\n",
       "      <th>cardspent</th>\n",
       "      <th>card2spent</th>\n",
       "      <th>total_cardspent</th>\n",
       "      <th>log_TotalCardspent</th>\n",
       "    </tr>\n",
       "  </thead>\n",
       "  <tbody>\n",
       "    <tr>\n",
       "      <th>0</th>\n",
       "      <td>0.263158</td>\n",
       "      <td>0.363636</td>\n",
       "      <td>0.25</td>\n",
       "      <td>0.733229</td>\n",
       "      <td>0.5</td>\n",
       "      <td>0.516602</td>\n",
       "      <td>0.00</td>\n",
       "      <td>0.25</td>\n",
       "      <td>0.0</td>\n",
       "      <td>0.00</td>\n",
       "      <td>0.000000</td>\n",
       "      <td>0.25</td>\n",
       "      <td>0.000000</td>\n",
       "      <td>0.020798</td>\n",
       "      <td>0.032765</td>\n",
       "      <td>0.036758</td>\n",
       "      <td>0.175900</td>\n",
       "    </tr>\n",
       "    <tr>\n",
       "      <th>1</th>\n",
       "      <td>0.263158</td>\n",
       "      <td>0.181818</td>\n",
       "      <td>0.00</td>\n",
       "      <td>0.735113</td>\n",
       "      <td>0.5</td>\n",
       "      <td>0.443949</td>\n",
       "      <td>0.00</td>\n",
       "      <td>1.00</td>\n",
       "      <td>0.0</td>\n",
       "      <td>0.00</td>\n",
       "      <td>0.000000</td>\n",
       "      <td>0.25</td>\n",
       "      <td>0.000000</td>\n",
       "      <td>0.010850</td>\n",
       "      <td>0.016885</td>\n",
       "      <td>0.000000</td>\n",
       "      <td>0.000000</td>\n",
       "    </tr>\n",
       "    <tr>\n",
       "      <th>2</th>\n",
       "      <td>0.473684</td>\n",
       "      <td>0.636364</td>\n",
       "      <td>0.25</td>\n",
       "      <td>0.705423</td>\n",
       "      <td>0.5</td>\n",
       "      <td>0.541902</td>\n",
       "      <td>1.00</td>\n",
       "      <td>0.75</td>\n",
       "      <td>1.0</td>\n",
       "      <td>0.75</td>\n",
       "      <td>0.500000</td>\n",
       "      <td>1.00</td>\n",
       "      <td>0.142857</td>\n",
       "      <td>0.046918</td>\n",
       "      <td>0.084934</td>\n",
       "      <td>0.162661</td>\n",
       "      <td>0.469065</td>\n",
       "    </tr>\n",
       "    <tr>\n",
       "      <th>3</th>\n",
       "      <td>0.894737</td>\n",
       "      <td>0.090909</td>\n",
       "      <td>0.00</td>\n",
       "      <td>0.304557</td>\n",
       "      <td>0.5</td>\n",
       "      <td>0.374914</td>\n",
       "      <td>0.25</td>\n",
       "      <td>0.50</td>\n",
       "      <td>0.0</td>\n",
       "      <td>0.25</td>\n",
       "      <td>0.833333</td>\n",
       "      <td>0.25</td>\n",
       "      <td>0.000000</td>\n",
       "      <td>0.086845</td>\n",
       "      <td>0.008902</td>\n",
       "      <td>0.162327</td>\n",
       "      <td>0.468545</td>\n",
       "    </tr>\n",
       "    <tr>\n",
       "      <th>4</th>\n",
       "      <td>0.421053</td>\n",
       "      <td>0.636364</td>\n",
       "      <td>0.00</td>\n",
       "      <td>0.547037</td>\n",
       "      <td>0.5</td>\n",
       "      <td>0.000000</td>\n",
       "      <td>0.25</td>\n",
       "      <td>0.25</td>\n",
       "      <td>0.0</td>\n",
       "      <td>0.00</td>\n",
       "      <td>0.500000</td>\n",
       "      <td>0.50</td>\n",
       "      <td>0.000000</td>\n",
       "      <td>0.064970</td>\n",
       "      <td>0.122136</td>\n",
       "      <td>0.251094</td>\n",
       "      <td>0.584079</td>\n",
       "    </tr>\n",
       "  </tbody>\n",
       "</table>\n",
       "</div>"
      ],
      "text/plain": [
       "   carditems  card2items  inccat  lncreddebt  carcatvalue  lnothdebt  \\\n",
       "0   0.263158    0.363636    0.25    0.733229          0.5   0.516602   \n",
       "1   0.263158    0.181818    0.00    0.735113          0.5   0.443949   \n",
       "2   0.473684    0.636364    0.25    0.705423          0.5   0.541902   \n",
       "3   0.894737    0.090909    0.00    0.304557          0.5   0.374914   \n",
       "4   0.421053    0.636364    0.00    0.547037          0.5   0.000000   \n",
       "\n",
       "   addresscat  townsize  empcat  jobsat  spousedcat  card2tenurecat  \\\n",
       "0        0.00      0.25     0.0    0.00    0.000000            0.25   \n",
       "1        0.00      1.00     0.0    0.00    0.000000            0.25   \n",
       "2        1.00      0.75     1.0    0.75    0.500000            1.00   \n",
       "3        0.25      0.50     0.0    0.25    0.833333            0.25   \n",
       "4        0.25      0.25     0.0    0.00    0.500000            0.50   \n",
       "\n",
       "   pets_dogs  cardspent  card2spent  total_cardspent  log_TotalCardspent  \n",
       "0   0.000000   0.020798    0.032765         0.036758            0.175900  \n",
       "1   0.000000   0.010850    0.016885         0.000000            0.000000  \n",
       "2   0.142857   0.046918    0.084934         0.162661            0.469065  \n",
       "3   0.000000   0.086845    0.008902         0.162327            0.468545  \n",
       "4   0.000000   0.064970    0.122136         0.251094            0.584079  "
      ]
     },
     "execution_count": 1272,
     "metadata": {},
     "output_type": "execute_result"
    }
   ],
   "source": [
    "df_sc.head()"
   ]
  },
  {
   "cell_type": "code",
   "execution_count": 1273,
   "metadata": {},
   "outputs": [],
   "source": [
    "df_f = pd.concat([df_sc, df_d], axis = 1)"
   ]
  },
  {
   "cell_type": "code",
   "execution_count": 1274,
   "metadata": {},
   "outputs": [
    {
     "name": "stdout",
     "output_type": "stream",
     "text": [
      "<class 'pandas.core.frame.DataFrame'>\n",
      "RangeIndex: 4994 entries, 0 to 4993\n",
      "Data columns (total 47 columns):\n",
      " #   Column              Non-Null Count  Dtype  \n",
      "---  ------              --------------  -----  \n",
      " 0   carditems           4994 non-null   float64\n",
      " 1   card2items          4994 non-null   float64\n",
      " 2   inccat              4994 non-null   float64\n",
      " 3   lncreddebt          4994 non-null   float64\n",
      " 4   carcatvalue         4994 non-null   float64\n",
      " 5   lnothdebt           4994 non-null   float64\n",
      " 6   addresscat          4994 non-null   float64\n",
      " 7   townsize            4994 non-null   float64\n",
      " 8   empcat              4994 non-null   float64\n",
      " 9   jobsat              4994 non-null   float64\n",
      " 10  spousedcat          4994 non-null   float64\n",
      " 11  card2tenurecat      4994 non-null   float64\n",
      " 12  pets_dogs           4994 non-null   float64\n",
      " 13  cardspent           4994 non-null   float64\n",
      " 14  card2spent          4994 non-null   float64\n",
      " 15  total_cardspent     4994 non-null   float64\n",
      " 16  log_TotalCardspent  4994 non-null   float64\n",
      " 17  card_Discover       4994 non-null   uint8  \n",
      " 18  card_other          4994 non-null   uint8  \n",
      " 19  card2_Discover      4994 non-null   uint8  \n",
      " 20  card2_Mastercard    4994 non-null   uint8  \n",
      " 21  card2_Visa          4994 non-null   uint8  \n",
      " 22  card2_other         4994 non-null   uint8  \n",
      " 23  card2benefit_None   4994 non-null   uint8  \n",
      " 24  card2benefit_other  4994 non-null   uint8  \n",
      " 25  retire_Yes          4994 non-null   uint8  \n",
      " 26  ownvcr_Yes          4994 non-null   uint8  \n",
      " 27  owncd_Yes           4994 non-null   uint8  \n",
      " 28  owndvd_Yes          4994 non-null   uint8  \n",
      " 29  multline_Yes        4994 non-null   uint8  \n",
      " 30  carown_NA           4994 non-null   uint8  \n",
      " 31  carown_Own          4994 non-null   uint8  \n",
      " 32  wireless_Yes        4994 non-null   uint8  \n",
      " 33  reason_No response  4994 non-null   uint8  \n",
      " 34  reason_Other        4994 non-null   uint8  \n",
      " 35  reason_Prices       4994 non-null   uint8  \n",
      " 36  reason_Service      4994 non-null   uint8  \n",
      " 37  ownfax_Yes          4994 non-null   uint8  \n",
      " 38  gender_Male         4994 non-null   uint8  \n",
      " 39  internet_DSL        4994 non-null   uint8  \n",
      " 40  internet_Dial- up   4994 non-null   uint8  \n",
      " 41  internet_None       4994 non-null   uint8  \n",
      " 42  internet_Other      4994 non-null   uint8  \n",
      " 43  forward_Yes         4994 non-null   uint8  \n",
      " 44  vote_Yes            4994 non-null   uint8  \n",
      " 45  bfast_Others        4994 non-null   uint8  \n",
      " 46  news_Yes            4994 non-null   uint8  \n",
      "dtypes: float64(17), uint8(30)\n",
      "memory usage: 809.7 KB\n"
     ]
    }
   ],
   "source": [
    "df_f.info()"
   ]
  },
  {
   "cell_type": "code",
   "execution_count": null,
   "metadata": {},
   "outputs": [],
   "source": []
  },
  {
   "cell_type": "code",
   "execution_count": null,
   "metadata": {},
   "outputs": [],
   "source": []
  },
  {
   "cell_type": "code",
   "execution_count": null,
   "metadata": {},
   "outputs": [],
   "source": []
  },
  {
   "cell_type": "markdown",
   "metadata": {},
   "source": [
    "# MODEL CREATION"
   ]
  },
  {
   "cell_type": "code",
   "execution_count": 1275,
   "metadata": {},
   "outputs": [],
   "source": [
    "x = df_f.drop(columns = [\n",
    "    \"cardspent\",\n",
    "    \"card2spent\",\n",
    "    \"total_cardspent\",\n",
    "    \"log_TotalCardspent\",\n",
    "    \n",
    "    \"carcatvalue\",\n",
    "    \"lncreddebt\",\n",
    "    \"owncd_Yes\",\n",
    "    \"ownvcr_Yes\",\n",
    "    \"card2tenurecat\",\n",
    "    \"owndvd_Yes\",\n",
    "   \"reason_No response\",\n",
    "\n",
    "    \n",
    "    \n",
    " ])"
   ]
  },
  {
   "cell_type": "code",
   "execution_count": 1276,
   "metadata": {},
   "outputs": [],
   "source": [
    "y = df_f[\"log_TotalCardspent\"]"
   ]
  },
  {
   "cell_type": "code",
   "execution_count": 1277,
   "metadata": {},
   "outputs": [],
   "source": [
    "from sklearn.model_selection import train_test_split"
   ]
  },
  {
   "cell_type": "code",
   "execution_count": 1278,
   "metadata": {},
   "outputs": [],
   "source": [
    "xtrain, xtest, ytrain, ytest = train_test_split(x,y, test_size=0.25, random_state=25)"
   ]
  },
  {
   "cell_type": "code",
   "execution_count": null,
   "metadata": {},
   "outputs": [],
   "source": []
  },
  {
   "cell_type": "code",
   "execution_count": 1279,
   "metadata": {
    "scrolled": true
   },
   "outputs": [
    {
     "data": {
      "text/html": [
       "<div>\n",
       "<style scoped>\n",
       "    .dataframe tbody tr th:only-of-type {\n",
       "        vertical-align: middle;\n",
       "    }\n",
       "\n",
       "    .dataframe tbody tr th {\n",
       "        vertical-align: top;\n",
       "    }\n",
       "\n",
       "    .dataframe thead th {\n",
       "        text-align: right;\n",
       "    }\n",
       "</style>\n",
       "<table border=\"1\" class=\"dataframe\">\n",
       "  <thead>\n",
       "    <tr style=\"text-align: right;\">\n",
       "      <th></th>\n",
       "      <th>vif_value</th>\n",
       "      <th>features</th>\n",
       "    </tr>\n",
       "  </thead>\n",
       "  <tbody>\n",
       "    <tr>\n",
       "      <th>3</th>\n",
       "      <td>9.685691</td>\n",
       "      <td>lnothdebt</td>\n",
       "    </tr>\n",
       "    <tr>\n",
       "      <th>0</th>\n",
       "      <td>8.937898</td>\n",
       "      <td>carditems</td>\n",
       "    </tr>\n",
       "    <tr>\n",
       "      <th>4</th>\n",
       "      <td>8.137495</td>\n",
       "      <td>addresscat</td>\n",
       "    </tr>\n",
       "    <tr>\n",
       "      <th>6</th>\n",
       "      <td>7.513068</td>\n",
       "      <td>empcat</td>\n",
       "    </tr>\n",
       "    <tr>\n",
       "      <th>2</th>\n",
       "      <td>6.120075</td>\n",
       "      <td>inccat</td>\n",
       "    </tr>\n",
       "    <tr>\n",
       "      <th>21</th>\n",
       "      <td>6.114456</td>\n",
       "      <td>carown_Own</td>\n",
       "    </tr>\n",
       "    <tr>\n",
       "      <th>30</th>\n",
       "      <td>5.394413</td>\n",
       "      <td>internet_None</td>\n",
       "    </tr>\n",
       "    <tr>\n",
       "      <th>1</th>\n",
       "      <td>4.376919</td>\n",
       "      <td>card2items</td>\n",
       "    </tr>\n",
       "    <tr>\n",
       "      <th>7</th>\n",
       "      <td>4.130810</td>\n",
       "      <td>jobsat</td>\n",
       "    </tr>\n",
       "    <tr>\n",
       "      <th>11</th>\n",
       "      <td>3.761151</td>\n",
       "      <td>card_other</td>\n",
       "    </tr>\n",
       "    <tr>\n",
       "      <th>17</th>\n",
       "      <td>2.906110</td>\n",
       "      <td>card2benefit_other</td>\n",
       "    </tr>\n",
       "    <tr>\n",
       "      <th>34</th>\n",
       "      <td>2.695874</td>\n",
       "      <td>bfast_Others</td>\n",
       "    </tr>\n",
       "    <tr>\n",
       "      <th>10</th>\n",
       "      <td>2.668455</td>\n",
       "      <td>card_Discover</td>\n",
       "    </tr>\n",
       "    <tr>\n",
       "      <th>19</th>\n",
       "      <td>2.654723</td>\n",
       "      <td>multline_Yes</td>\n",
       "    </tr>\n",
       "    <tr>\n",
       "      <th>12</th>\n",
       "      <td>2.502667</td>\n",
       "      <td>card2_Discover</td>\n",
       "    </tr>\n",
       "    <tr>\n",
       "      <th>13</th>\n",
       "      <td>2.475455</td>\n",
       "      <td>card2_Mastercard</td>\n",
       "    </tr>\n",
       "    <tr>\n",
       "      <th>5</th>\n",
       "      <td>2.433298</td>\n",
       "      <td>townsize</td>\n",
       "    </tr>\n",
       "    <tr>\n",
       "      <th>32</th>\n",
       "      <td>2.418728</td>\n",
       "      <td>forward_Yes</td>\n",
       "    </tr>\n",
       "    <tr>\n",
       "      <th>35</th>\n",
       "      <td>2.413351</td>\n",
       "      <td>news_Yes</td>\n",
       "    </tr>\n",
       "    <tr>\n",
       "      <th>22</th>\n",
       "      <td>2.411976</td>\n",
       "      <td>wireless_Yes</td>\n",
       "    </tr>\n",
       "    <tr>\n",
       "      <th>14</th>\n",
       "      <td>2.385385</td>\n",
       "      <td>card2_Visa</td>\n",
       "    </tr>\n",
       "    <tr>\n",
       "      <th>18</th>\n",
       "      <td>2.369489</td>\n",
       "      <td>retire_Yes</td>\n",
       "    </tr>\n",
       "    <tr>\n",
       "      <th>29</th>\n",
       "      <td>2.191339</td>\n",
       "      <td>internet_Dial- up</td>\n",
       "    </tr>\n",
       "    <tr>\n",
       "      <th>33</th>\n",
       "      <td>2.104702</td>\n",
       "      <td>vote_Yes</td>\n",
       "    </tr>\n",
       "    <tr>\n",
       "      <th>31</th>\n",
       "      <td>1.999903</td>\n",
       "      <td>internet_Other</td>\n",
       "    </tr>\n",
       "    <tr>\n",
       "      <th>27</th>\n",
       "      <td>1.962519</td>\n",
       "      <td>gender_Male</td>\n",
       "    </tr>\n",
       "    <tr>\n",
       "      <th>16</th>\n",
       "      <td>1.900695</td>\n",
       "      <td>card2benefit_None</td>\n",
       "    </tr>\n",
       "    <tr>\n",
       "      <th>26</th>\n",
       "      <td>1.850475</td>\n",
       "      <td>ownfax_Yes</td>\n",
       "    </tr>\n",
       "    <tr>\n",
       "      <th>28</th>\n",
       "      <td>1.846466</td>\n",
       "      <td>internet_DSL</td>\n",
       "    </tr>\n",
       "    <tr>\n",
       "      <th>8</th>\n",
       "      <td>1.843400</td>\n",
       "      <td>spousedcat</td>\n",
       "    </tr>\n",
       "    <tr>\n",
       "      <th>20</th>\n",
       "      <td>1.663175</td>\n",
       "      <td>carown_NA</td>\n",
       "    </tr>\n",
       "    <tr>\n",
       "      <th>15</th>\n",
       "      <td>1.453427</td>\n",
       "      <td>card2_other</td>\n",
       "    </tr>\n",
       "    <tr>\n",
       "      <th>9</th>\n",
       "      <td>1.251760</td>\n",
       "      <td>pets_dogs</td>\n",
       "    </tr>\n",
       "    <tr>\n",
       "      <th>24</th>\n",
       "      <td>1.112118</td>\n",
       "      <td>reason_Prices</td>\n",
       "    </tr>\n",
       "    <tr>\n",
       "      <th>23</th>\n",
       "      <td>1.034513</td>\n",
       "      <td>reason_Other</td>\n",
       "    </tr>\n",
       "    <tr>\n",
       "      <th>25</th>\n",
       "      <td>1.022200</td>\n",
       "      <td>reason_Service</td>\n",
       "    </tr>\n",
       "  </tbody>\n",
       "</table>\n",
       "</div>"
      ],
      "text/plain": [
       "    vif_value            features\n",
       "3    9.685691           lnothdebt\n",
       "0    8.937898           carditems\n",
       "4    8.137495          addresscat\n",
       "6    7.513068              empcat\n",
       "2    6.120075              inccat\n",
       "21   6.114456          carown_Own\n",
       "30   5.394413       internet_None\n",
       "1    4.376919          card2items\n",
       "7    4.130810              jobsat\n",
       "11   3.761151          card_other\n",
       "17   2.906110  card2benefit_other\n",
       "34   2.695874        bfast_Others\n",
       "10   2.668455       card_Discover\n",
       "19   2.654723        multline_Yes\n",
       "12   2.502667      card2_Discover\n",
       "13   2.475455    card2_Mastercard\n",
       "5    2.433298            townsize\n",
       "32   2.418728         forward_Yes\n",
       "35   2.413351            news_Yes\n",
       "22   2.411976        wireless_Yes\n",
       "14   2.385385          card2_Visa\n",
       "18   2.369489          retire_Yes\n",
       "29   2.191339   internet_Dial- up\n",
       "33   2.104702            vote_Yes\n",
       "31   1.999903      internet_Other\n",
       "27   1.962519         gender_Male\n",
       "16   1.900695   card2benefit_None\n",
       "26   1.850475          ownfax_Yes\n",
       "28   1.846466        internet_DSL\n",
       "8    1.843400          spousedcat\n",
       "20   1.663175           carown_NA\n",
       "15   1.453427         card2_other\n",
       "9    1.251760           pets_dogs\n",
       "24   1.112118       reason_Prices\n",
       "23   1.034513        reason_Other\n",
       "25   1.022200      reason_Service"
      ]
     },
     "execution_count": 1279,
     "metadata": {},
     "output_type": "execute_result"
    }
   ],
   "source": [
    "from statsmodels.stats.outliers_influence import variance_inflation_factor\n",
    "# For each X, calculate VIF and save in dataframe\n",
    "vif = pd.DataFrame()\n",
    "vif['vif_value'] = [variance_inflation_factor(xtrain.values, i) for i in range(xtrain.shape[1])]\n",
    "vif[\"features\"] = xtrain.columns\n",
    "vif.sort_values('vif_value', ascending=False)"
   ]
  },
  {
   "cell_type": "code",
   "execution_count": null,
   "metadata": {},
   "outputs": [],
   "source": []
  },
  {
   "cell_type": "code",
   "execution_count": 1280,
   "metadata": {},
   "outputs": [],
   "source": [
    "from xgboost import XGBRegressor"
   ]
  },
  {
   "cell_type": "code",
   "execution_count": 1281,
   "metadata": {},
   "outputs": [],
   "source": [
    "xgbr = XGBRegressor(objective='reg:squarederror')"
   ]
  },
  {
   "cell_type": "code",
   "execution_count": 1282,
   "metadata": {},
   "outputs": [],
   "source": [
    "XGBRegressor?"
   ]
  },
  {
   "cell_type": "code",
   "execution_count": 1283,
   "metadata": {},
   "outputs": [],
   "source": [
    "from sklearn.model_selection import RandomizedSearchCV, GridSearchCV"
   ]
  },
  {
   "cell_type": "code",
   "execution_count": 1284,
   "metadata": {},
   "outputs": [],
   "source": [
    "'''\n",
    "params = {\"n_estimators\": np.arange(50, 400, 50),\n",
    "         \"max_depth\": np.arange(2,20,2),\n",
    "         \"learning_rate\": [0.01, 0.1, 0.2, 0.3, 0.4, 0.5, 0.6],\n",
    "         \"gamma\": [0.01, 0.1, 0.2, 0.3, 0.4, 0.5, 0.6, 1, 1.25, 1.50],\n",
    "         \"min_child_weight\":np.arange(2,20,2),\n",
    "         \"subsample\":[0.25, 0.5, 0.75, 0.6, 0.7, 0.8, 0.9],\n",
    "         \"colsample_bytree\":[0.25, 0.5, 0.75, 0.6, 0.7, 0.8, 0.9]}\n",
    "\n",
    "xgbr_rs = RandomizedSearchCV(xgbr, param_distributions=params, n_iter=20, n_jobs=-1, cv = 10, verbose = True, random_state=25)\n",
    "xgbr_rs.fit(xtrain, ytrain)\n",
    "\n",
    "----------------------------------------------------------------------------------------------\n",
    "# xgbr_rs.best_params_\n",
    "\n",
    "{'subsample': 0.6,\n",
    " 'n_estimators': 200,\n",
    " 'min_child_weight': 4,\n",
    " 'max_depth': 8,\n",
    " 'learning_rate': 0.1,\n",
    " 'gamma': 0.2,\n",
    " 'colsample_bytree': 0.75}\n",
    " \n",
    " ''';"
   ]
  },
  {
   "cell_type": "code",
   "execution_count": 1285,
   "metadata": {},
   "outputs": [],
   "source": [
    "'''\n",
    "params = {\"n_estimators\": np.arange(50, 400, 50),\n",
    "         \"max_depth\": np.arange(2,20,2),\n",
    "         \"learning_rate\": [0.01, 0.1, 0.2, 0.3, 0.4, 0.5, 0.6],\n",
    "         \"gamma\": [0.01, 0.1, 0.2, 0.3, 0.4, 0.5, 0.6, 1, 1.25, 1.50],\n",
    "          \"reg_lambda\":[1,2,3,4,5,1.25, 1.50],\n",
    "         \"min_child_weight\":np.arange(2,20,2),\n",
    "         \"subsample\":[0.25, 0.5, 0.75, 0.6, 0.7, 0.8, 0.9],\n",
    "         \"colsample_bytree\":[0.25, 0.5, 0.75, 0.6, 0.7, 0.8, 0.9]}\n",
    "\n",
    "xgbr_rs = RandomizedSearchCV(xgbr, param_distributions=params,n_iter=60, n_jobs=-1, cv = 10, verbose = True,random_state=25 )\n",
    "xgbr_rs.fit(xtrain, ytrain)\n",
    "\n",
    "-----------------------------------------------------------------------------------------\n",
    "xgbr_new =  XGBRegressor(subsample = 0.5, n_estimators = 300, min_child_weight = 16, max_depth = 12, learning_rate = 0.1, \n",
    "                        reg_lambda = 1.25, gamma = 0.2, colsample_bytree = 0.75)\n",
    "                        \n",
    "''';"
   ]
  },
  {
   "cell_type": "code",
   "execution_count": 1286,
   "metadata": {},
   "outputs": [],
   "source": [
    "'''\n",
    "# THIS IS THE ONE WE HAVE USED\n",
    "\n",
    "params1 = {\"n_estimators\": np.arange(50, 400, 50),\n",
    "         \"max_depth\": np.arange(2,20,2),\n",
    "         \"learning_rate\": [0.01, 0.1, 0.2, 0.3, 0.4, 0.5, 0.6],\n",
    "         \"gamma\": [0.01, 0.1, 0.2, 0.3, 0.4, 0.5, 0.6, 1, 1.25, 1.50],\n",
    "          \"reg_lambda\":[1,2,3,4,5,1.25, 1.50],\n",
    "         \"reg_alpha\":[1,2,3,4,5,1.25, 1.50],\n",
    "         \"min_child_weight\":np.arange(2,20,2),\n",
    "         \"subsample\":[0.25, 0.5, 0.75, 0.6, 0.7, 0.8, 0.9],\n",
    "         \"colsample_bytree\":[0.25, 0.5, 0.75, 0.6, 0.7, 0.8, 0.9]}\n",
    "\n",
    "xgbr_rs1 = RandomizedSearchCV(xgbr, param_distributions=params1,n_iter=60, n_jobs=-1, cv = 10, verbose = True,random_state=25 )\n",
    "xgbr_rs1.fit(xtrain, ytrain)\n",
    "\n",
    "-----------------------------------------------------------------------------------------------\n",
    "\n",
    "\n",
    "\n",
    "\n",
    "\n",
    "''';"
   ]
  },
  {
   "cell_type": "code",
   "execution_count": null,
   "metadata": {},
   "outputs": [],
   "source": []
  },
  {
   "cell_type": "code",
   "execution_count": 1287,
   "metadata": {},
   "outputs": [],
   "source": [
    "xgbr_new1 =  XGBRegressor(subsample = 0.5, n_estimators = 200, min_child_weight = 6, max_depth = 12, learning_rate = 0.2, \n",
    "                        reg_lambda = 2,reg_alpha= 1.25, gamma = 0.1, colsample_bytree = 0.75)"
   ]
  },
  {
   "cell_type": "code",
   "execution_count": 1288,
   "metadata": {},
   "outputs": [
    {
     "data": {
      "text/plain": [
       "XGBRegressor(base_score=0.5, booster='gbtree', colsample_bylevel=1,\n",
       "             colsample_bynode=1, colsample_bytree=0.75, gamma=0.1, gpu_id=-1,\n",
       "             importance_type='gain', interaction_constraints='',\n",
       "             learning_rate=0.2, max_delta_step=0, max_depth=12,\n",
       "             min_child_weight=6, missing=nan, monotone_constraints='()',\n",
       "             n_estimators=200, n_jobs=8, num_parallel_tree=1, random_state=0,\n",
       "             reg_alpha=1.25, reg_lambda=2, scale_pos_weight=1, subsample=0.5,\n",
       "             tree_method='exact', validate_parameters=1, verbosity=None)"
      ]
     },
     "execution_count": 1288,
     "metadata": {},
     "output_type": "execute_result"
    }
   ],
   "source": [
    "xgbr_new1.fit(xtrain, ytrain)"
   ]
  },
  {
   "cell_type": "code",
   "execution_count": 1289,
   "metadata": {},
   "outputs": [
    {
     "data": {
      "text/plain": [
       "0.7041745072379303"
      ]
     },
     "execution_count": 1289,
     "metadata": {},
     "output_type": "execute_result"
    }
   ],
   "source": [
    "xgbr_new1.score(xtrain, ytrain)"
   ]
  },
  {
   "cell_type": "code",
   "execution_count": 1290,
   "metadata": {},
   "outputs": [],
   "source": [
    "y_train_pred = np.expm1(xgbr_new1.predict(xtrain))\n",
    "ytrain_anti = np.expm1(ytrain)"
   ]
  },
  {
   "cell_type": "code",
   "execution_count": 1291,
   "metadata": {},
   "outputs": [
    {
     "name": "stdout",
     "output_type": "stream",
     "text": [
      "R Squared 0.6657063230480516 \n",
      " Adjusted R Squared 0.6624607533689064\n"
     ]
    }
   ],
   "source": [
    "SS_Residual = sum((ytrain_anti-y_train_pred)**2)\n",
    "SS_Total = sum((ytrain_anti-np.mean(ytrain_anti))**2)\n",
    "#r_squared = 1 - (float(SS_Residual))/SS_Total\n",
    "r_squared=(SS_Total-SS_Residual)/SS_Total\n",
    "adjusted_r_squared = 1 - (1-r_squared)*(len(ytrain_anti)-1)/(len(ytrain_anti)-xtrain.shape[1]-1)\n",
    "print (\"R Squared\", r_squared,\"\\n\", \"Adjusted R Squared\", adjusted_r_squared)"
   ]
  },
  {
   "cell_type": "code",
   "execution_count": 1292,
   "metadata": {},
   "outputs": [],
   "source": [
    "from sklearn import metrics"
   ]
  },
  {
   "cell_type": "code",
   "execution_count": 1293,
   "metadata": {},
   "outputs": [
    {
     "name": "stdout",
     "output_type": "stream",
     "text": [
      "Mean Absolute Error : 0.1565620408248255\n",
      "Mean Squared Error : 0.04254552331351023\n",
      "Root Mean Squared Error : 0.20626566198354546\n"
     ]
    }
   ],
   "source": [
    "print('Mean Absolute Error :', metrics.mean_absolute_error(ytrain_anti, y_train_pred))  \n",
    "print('Mean Squared Error :', metrics.mean_squared_error(ytrain_anti, y_train_pred))  \n",
    "print('Root Mean Squared Error :', np.sqrt(metrics.mean_squared_error(ytrain_anti, y_train_pred)))"
   ]
  },
  {
   "cell_type": "code",
   "execution_count": null,
   "metadata": {},
   "outputs": [],
   "source": []
  },
  {
   "cell_type": "markdown",
   "metadata": {},
   "source": [
    "# FOR TEST DATA"
   ]
  },
  {
   "cell_type": "code",
   "execution_count": 1294,
   "metadata": {},
   "outputs": [
    {
     "data": {
      "text/plain": [
       "0.6669451184202754"
      ]
     },
     "execution_count": 1294,
     "metadata": {},
     "output_type": "execute_result"
    }
   ],
   "source": [
    "xgbr_new1.score(xtest, ytest)"
   ]
  },
  {
   "cell_type": "code",
   "execution_count": 1295,
   "metadata": {},
   "outputs": [],
   "source": [
    "y_test_pred = np.expm1(xgbr_new1.predict(xtest))\n",
    "ytest_anti = np.expm1(ytest)"
   ]
  },
  {
   "cell_type": "code",
   "execution_count": 1296,
   "metadata": {},
   "outputs": [
    {
     "name": "stdout",
     "output_type": "stream",
     "text": [
      "R Squared 0.6240998839689557 \n",
      " Adjusted R Squared 0.6129345339878356\n"
     ]
    }
   ],
   "source": [
    "SS_Residual = sum((ytest_anti-y_test_pred)**2)\n",
    "SS_Total = sum((ytest_anti-np.mean(ytest_anti))**2)\n",
    "#r_squared = 1 - (float(SS_Residual))/SS_Total\n",
    "r_squared=(SS_Total-SS_Residual)/SS_Total\n",
    "adjusted_r_squared = 1 - (1-r_squared)*(len(ytest_anti)-1)/(len(ytest_anti)-xtest.shape[1]-1)\n",
    "print (\"R Squared\", r_squared,\"\\n\", \"Adjusted R Squared\", adjusted_r_squared)"
   ]
  },
  {
   "cell_type": "code",
   "execution_count": 1297,
   "metadata": {},
   "outputs": [
    {
     "name": "stdout",
     "output_type": "stream",
     "text": [
      "Mean Absolute Error : 0.16615920157001904\n",
      "Mean Squared Error : 0.047152974991519214\n",
      "Root Mean Squared Error : 0.2171473577815747\n"
     ]
    }
   ],
   "source": [
    "print('Mean Absolute Error :', metrics.mean_absolute_error(ytest_anti, y_test_pred))  \n",
    "print('Mean Squared Error :', metrics.mean_squared_error(ytest_anti, y_test_pred))  \n",
    "print('Root Mean Squared Error :', np.sqrt(metrics.mean_squared_error(ytest_anti, y_test_pred)))"
   ]
  },
  {
   "cell_type": "code",
   "execution_count": null,
   "metadata": {},
   "outputs": [],
   "source": []
  },
  {
   "cell_type": "code",
   "execution_count": null,
   "metadata": {},
   "outputs": [],
   "source": []
  },
  {
   "cell_type": "code",
   "execution_count": null,
   "metadata": {},
   "outputs": [],
   "source": []
  },
  {
   "cell_type": "code",
   "execution_count": null,
   "metadata": {},
   "outputs": [],
   "source": []
  },
  {
   "cell_type": "code",
   "execution_count": null,
   "metadata": {},
   "outputs": [],
   "source": []
  }
 ],
 "metadata": {
  "kernelspec": {
   "display_name": "Python 3",
   "language": "python",
   "name": "python3"
  },
  "language_info": {
   "codemirror_mode": {
    "name": "ipython",
    "version": 3
   },
   "file_extension": ".py",
   "mimetype": "text/x-python",
   "name": "python",
   "nbconvert_exporter": "python",
   "pygments_lexer": "ipython3",
   "version": "3.8.5"
  }
 },
 "nbformat": 4,
 "nbformat_minor": 2
}
